{
 "cells": [
  {
   "cell_type": "code",
   "execution_count": 1,
   "metadata": {},
   "outputs": [],
   "source": [
    "from typing import * \n",
    "from pathlib import Path\n",
    "\n",
    "import pandas as pd\n",
    "import numpy as np\n",
    "import anndata as ad\n",
    "import scanpy as sc\n",
    "from tqdm import tqdm \n",
    "import matplotlib.pyplot as plt\n",
    "\n",
    "from scrna_atlas import settings, utils"
   ]
  },
  {
   "cell_type": "code",
   "execution_count": 2,
   "metadata": {},
   "outputs": [],
   "source": [
    "adata = ad.read_h5ad('/efs/expression_atlas/scrna/cellxgene/old/b84def55-a776-4aa4-a9a6-7aab8b973086.h5ad', backed='r')\n",
    "# adata = ad.read_h5ad('/efs/expression_atlas/scrna/cellxgene/old/3310476e-ee9d-4179-9446-df5d073f38d8.h5ad', backed='r')"
   ]
  },
  {
   "cell_type": "code",
   "execution_count": 7,
   "metadata": {},
   "outputs": [
    {
     "name": "stdout",
     "output_type": "stream",
     "text": [
      "Lung - A single-cell transcriptomic atlas characterizes ageing tissues in the mouse - 10x\n",
      "Spatial transcriptomics in the healthy human kidney: Puck_200115_15\n",
      "Individual Single-Cell RNA-seq PBMC Data from Lee et al.\n",
      "Dissection: Thalamus (THM) - intralaminar nuclear complex (ILN) - posterior group of intralaminar nuclei (PILN) - centromedian and parafasicular nuclei - CM and Pf\n",
      "Spatiotemporal analysis of human intestinal development at single-cell resolution: Fetal A6\n",
      "An integrated transcriptomic and epigenomic atlas of mouse primary motor cortex cell types: 10X_nuclei_v3_Broad\n",
      "UMAP visualization of fibroblast subclusters\n",
      "Visium spatial - LV\n",
      "Tabula Sapiens - Epithelial\n",
      "Fovea - Cell Types of the Human Retina and Its Organoids at Single-Cell Resolution\n",
      "Spatial transcriptomics in mouse: Puck_191223_17\n",
      "white matter - oligodendroglia\n",
      "DCM/ACM heart cell atlas: Macrophages\n",
      "E9.5: 201112_05\n",
      "Mature kidney dataset: full\n",
      "Trophoblast_stemcells\n",
      "Single cell RNA-seq data from normal adult kidney tissue\n",
      "Kidney - A single-cell transcriptomic atlas characterizes ageing tissues in the mouse - 10x\n",
      "Dissection: Cerebral cortex (Cx) - Inferior temporal gyrus - ITG\n",
      "Dissection: Midbrain (M) - Periaqueductal gray and nearby nuclei - PAG\n",
      "E9.5: 201112_03\n",
      "Spatial transcriptomics in the healthy human kidney: Puck_200903_10\n",
      "Visium-RZ_BZ_P2-Spatial multi-omic map of human myocardial infarction\n",
      "A single-cell multi-omic atlas spanning the adult rhesus macaque brain (cell class \"vascular cells\" subset)\n",
      "Spatial transcriptomics in mouse: Puck_191204_24\n",
      "Trachea - A single-cell transcriptomic atlas characterizes ageing tissues in the mouse - Smart-seq2\n",
      "Supercluster: Cerebellar inhibitory\n",
      "Spatial transcriptomics in mouse: Puck_191109_09\n",
      "Spatial transcriptomics in mouse: Puck_191204_13\n",
      "Adipocytes — Cells of the adult human heart\n",
      "Activated PBMCs - Expanded cohort CITE-seq\n",
      "Supercluster: Hippocampal CA4\n",
      "Developmental single-cell atlas of the murine lung\n",
      "Spatial transcriptomics in the healthy human kidney: Puck_200104_19\n",
      "E9.5: 201112_04\n",
      "MSK SPECTRUM – All cells\n",
      "Spatial transcriptomics in mouse: Puck_191204_16\n",
      "scRNA-seq data - lymphatic cells\n",
      "Liver - A single-cell transcriptomic atlas characterizes ageing tissues in the mouse - Smart-seq2\n",
      "colon stromal\n",
      "B Cell/Plasmablast Sub_clusters of COVID-19 Immune Altas: Integration of 5 public COVID-19 PBMC single-cell datasets\n",
      "Supercluster: Eccentric medium spiny neuron\n",
      "Spatial transcriptomics in the healthy human kidney: Puck_200113_12\n",
      "Visium spatial - HCAHeartST11290662 (OCT)\n",
      "Adipose tissue — A single-cell transcriptomic atlas characterizes ageing tissues in the mouse\n",
      "Dissection: Cerebral cortex (Cx) - Long insular gyri (LIG) - Dysgranular insular cortex - Idg\n",
      "Human kidney cortex snATAC-seq data from donors with and without diabetic kidney disease\n",
      "Human OPC Cells 10x scRNA-seq\n",
      "Dissection: Cerebral cortex (Cx) - Precentral gyrus (PrCG) - Primary motor cortex - M1C\n",
      "Chimpanzee: Great apes study\n",
      "Skin of body - A single-cell transcriptomic atlas characterizes ageing tissues in the mouse - Smart-seq2\n",
      "Myeloid cells\n",
      "Spatial transcriptomics in mouse: Puck_191109_18\n",
      "Dissection: Cerebral cortex (Cx) - Perirhinal gyrus (PRG) - A35-A36\n",
      "Visium spatial - SAN\n",
      "E9.5: 201104_36\n",
      "An integrated transcriptomic and epigenomic atlas of mouse primary motor cortex cell types: DNA Methylation (CGN)\n",
      "Central Cornea\n",
      "snRNA-seq data - Heart SAN atrial cardiomyocytes\n",
      "L5/6 NP - DLPFC: Seattle Alzheimer's Disease Atlas (SEA-AD)\n",
      "E8.5_rep2: Puck_220815_09\n",
      "Spatial transcriptomics in the healthy human kidney: Puck_200104_20\n",
      "74 years old female - Fresh PBMCs (3 days post-intubation)\n",
      "Dissection: Paleocortex (PalCx) - Anterior Olfactory Nucleus - AON\n",
      "Retinal ganglion cells of human eye\n",
      "Visium-FZ_P20-Spatial multi-omic map of human myocardial infarction\n",
      "Olah et al (2020) Single-cell Human Microglia\n",
      "Airway\n",
      "E9.0: Puck_220718_29\n",
      "Dissection: Cerebral cortex (Cx) - Rostral gyrus (RoG) - Dorsal division of MFC - A32\n",
      "E8.5_rep2: Puck_220815_34\n",
      "UMAP of Fibroblasts cells\n",
      "Single-cell gene expression profiling of SARS-CoV-2 infected human cell lines - H1299\n",
      "Molecular, spatial and projection diversity of neurons in primary motor cortex revealed by in situ single-cell transcriptomics\n",
      "Human Multiple Cortical Areas SMART-seq\n",
      "TI epithelial\n",
      "Tongue - A single-cell transcriptomic atlas characterizes ageing tissues in the mouse - 10x\n",
      "Visium spatial - HCAHeartST13233999 (OCT)\n",
      "Individual Single-Cell RNA-seq PBMC Data from Wilk et al.\n",
      "E8.5_rep1: 201104_22\n",
      "Pregnant Uterus (All)\n",
      "L6 CT - DLPFC: Seattle Alzheimer's Disease Atlas (SEA-AD)\n",
      "Spatial transcriptomics in the healthy human kidney: Puck_200104_17\n",
      "UMAP visualization of all 12 datasets\n",
      "Spatial transcriptomics in the healthy human kidney: Puck_200121_03\n",
      "Spatiotemporal analysis of human intestinal development at single-cell resolution: Fibroblasts\n",
      "e18.5 thalamic nuclei\n",
      "mature\n",
      "74 years old female - Airway Wash (8 days post-intubation)\n",
      "Dissection: Cerebral cortex (Cx) - Inferior frontal gyrus (IFG) - Ventrolateral prefrontal cortex - A44-A45\n",
      "Single-nucleus cross-tissue molecular reference maps to decipher disease gene function\n",
      "HBCA - immune\n",
      "All - A single-cell transcriptomic atlas characterizes ageing tissues in the mouse\n",
      "Mesenteric fat pad — A single-cell transcriptomic atlas characterizes ageing tissues in the mouse\n",
      "Molecular characterization of selectively vulnerable neurons in Alzheimer’s Disease: EC microglia\n",
      "Fetal kidney dataset: nephron\n",
      "HBCA - epithelial\n",
      "Dissection: Cerebral cortex (Cx) - Supraparietal lobule (SPL) - Posterosuperior (dorsal) parietal cortex - A5-A7\n",
      "Immunophenotyping of COVID-19 and influenza highlights the role of type I interferons in development of severe COVID-19\n",
      "Spatial transcriptomics in mouse: Puck_191223_05\n",
      "Spatiotemporal analysis of human intestinal development at single-cell resolution: Pericytes\n",
      "Molecular characterization of selectively vulnerable neurons in Alzheimer’s Disease: Entorhinal Cortex\n",
      "E8.5_rep1: 201104_08\n",
      "Spatial transcriptomics in mouse: Puck_200210_04\n",
      "Fetal Bone Marrow (10x)\n",
      "A single-cell multi-omic atlas spanning the adult rhesus macaque brain (cell class \"microglia\" subset)\n",
      "E8.5_rep2: Puck_220815_08\n",
      "Esophagus Epithelium\n",
      "Visium-GT_IZ_P9_rep2-Spatial multi-omic map of human myocardial infarction\n",
      "E8.5_rep2: Puck_220815_14\n",
      "Dissection: Cerebral cortex (Cx) - Parietal operculum (PaO) - Gustatory cortex - A43\n",
      "Spatial transcriptomics in the healthy human kidney: Puck_200115_01\n",
      "Spatiotemporal analysis of human intestinal development at single-cell resolution: Neural\n",
      "Type I interferon autoantibodies are associated with systemic immune alterations in patients with COVID-19\n",
      "HBCA - global\n",
      "Visium spatial - HCAHeartST9383356 (OCT)\n",
      "pig pancreatic islet cells\n",
      "E9.5: 201104_32\n",
      "Spatiotemporal analysis of human intestinal development at single-cell resolution: All cells\n",
      "Chandelier - MTG: Seattle Alzheimer's Disease Atlas (SEA-AD)\n",
      "AT2 cells\n",
      "visium spatial - sample v10\n",
      "Pvalb - MTG: Seattle Alzheimer's Disease Atlas (SEA-AD)\n",
      "Massively multiplex chemical transcriptomics at single-cell resolution - A549\n",
      "Urethral luminal epithelia are castration-insensitive cells of the proximal prostate - Mouse Fibromuscular Stromal Cells\n",
      "Visium spatial - HCAHeartST9341983 (OCT)\n",
      "Single-cell gene expression profiling of SARS-CoV-2 infected human cell lines - Calu-3\n",
      "Cone cells of human eye\n",
      "COVID-19 Immune Altas: Integration of 5 public COVID-19 PBMC single-cell datasets\n",
      "Human cortical expansion involves diversification and specialization of supragranular intratelencephalic-projecting neurons\n",
      "Human tonsil B cells scRNA\n",
      "Visium spatial - HCAHeartST9383358 (OCT)\n",
      "Spatial transcriptomics in mouse: Puck_200127_10\n",
      "A single-cell multi-omic atlas spanning the adult rhesus macaque brain (cell class \"astrocytes\" subset)\n",
      "MSK SPECTRUM - Malignant and non-malignant epithelial cells\n",
      "Dissection: Extended amygdala (EXA) - Bed nucleus of stria terminalis and nearby - BNST\n",
      "e14.5 glutamatergic lineage\n",
      "Single cell atlas of CD19 CAR T-cells (CD4+)\n",
      "E9.5: 201104_33\n",
      "Tongue - A single-cell transcriptomic atlas characterizes ageing tissues in the mouse - Smart-seq2\n",
      "CGE-derived interneurons integrated with 10X sequencing MOp data\n",
      "Fallopian tube RNA\n",
      "Dissection: Cerebral cortex (Cx) - Cuneus, caudal part - Peristriate Cortex - V2\n",
      "E8.5_rep2: Puck_220815_11\n",
      "Sncg - DLPFC: Seattle Alzheimer's Disease Atlas (SEA-AD)\n",
      "Spatial transcriptomics in mouse: Puck_200210_03\n",
      "Spatial transcriptomics in mouse: Puck_191112_07\n",
      "Individual Single-Cell RNA-seq PBMC Data from Guo et al.\n",
      "Tabula Sapiens - Immune\n",
      "E9.0: Puck_220718_38\n",
      "Amacrine cells of human eye\n",
      "74 years old female - Airway Wash (7 days post-intubation)\n",
      "TI stromal\n",
      "An integrated transcriptomic and epigenomic atlas of mouse primary motor cortex cell types: SMARTer_cells_MOp\n",
      "Dissection: Thalamus (THM) - Anterior nuclear complex - ANC\n",
      "Spatiotemporal analysis of human intestinal development at single-cell resolution: Fetal A4\n",
      "Spatial transcriptomics in mouse: Puck_191223_01\n",
      "donor_p13_trophoblasts\n",
      "E9.0: Puck_220718_34\n",
      "Visium spatial - HCAHeartST10659160 (OCT)\n",
      "Spatial transcriptomics in the healthy human kidney: Puck_200131_26\n",
      "Single-cell multi-omics analysis of the immune response in COVID-19\n",
      "Evolution of cellular diversity in primary motor cortex of human, marmoset monkey, and mouse 3-species integration inhibitory neurons\n",
      "E8.5_rep2: Puck_220815_06\n",
      "Dissection: Hypothalamus (HTH) - supraoptic region of HTH - HTHso\n",
      "Spatial transcriptomics in the healthy human kidney: Merged\n",
      "L5 ET - DLPFC: Seattle Alzheimer's Disease Atlas (SEA-AD)\n",
      "Dissection: Primary auditory cortex(A1)\n",
      "Molecular characterization of selectively vulnerable neurons in Alzheimer’s Disease: EC excitatory neurons\n",
      "Spatial transcriptomics in mouse: Puck_191206_04\n",
      "Fallopian tube ATAC\n",
      "E8.5_rep1: 201104_23\n",
      "Supercluster: Astrocyte\n",
      "Renal cell carcinoma, post aPD1, lung metastasis Puck_200727_10\n",
      "Global dataset of infant KMT2Ar B-ALL\n",
      "CD45 negative cells from human liver dataset\n",
      "Spatial transcriptomics in mouse: Puck_200104_02\n",
      "DCM/ACM heart cell atlas: Endothelial cells\n",
      "BrainAgingSpatialAtlas_MERFISH\n",
      "Single-cell atlas of peripheral immune response to SARS-CoV-2 infection\n",
      "Dissection: Cerebral cortex (Cx) - Superior Temporal Gyrus - STG\n",
      "Renal cell carcinoma, pre aPD1, kidney Puck_200727_13\n",
      "Visium spatial - HCAHeartST8795934 (OCT)\n",
      "E9.5: 201104_37\n",
      "chRCC - Single-cell analyses of renal cell cancers reveal insights into tumor microenvironment, cell of origin, and therapy response\n",
      "Single cell transcriptional and chromatin accessibility profiling redefine cellular heterogeneity in the adult human kidney - ATACseq\n",
      "Core GBmap\n",
      "SCLC RU1215 epithelial cells\n",
      "An integrated transcriptomic and epigenomic atlas of mouse primary motor cortex cell types: 10X_nuclei_v3_AIBS\n",
      "Lung Parenchyma\n",
      "Spatial transcriptomics in mouse: Puck_191223_02\n",
      "A single-cell multi-omic atlas spanning the adult rhesus macaque brain (cell class \"glutamatergic neurons\" subset)\n",
      "49 years old male - Fresh PBMCs (1 day post-intubation)\n",
      "49 years old male - Airway Wash (2 days post-intubation)\n",
      "Validation (Val) set of human colorectal tumor: Epithelial\n",
      "Visium spatial - HCAHeartST11702009 (FFPE)\n",
      "Spatial transcriptomics in mouse: Puck_200210_01\n",
      "wilms\n",
      "E9.5: 201104_34\n",
      "Visium spatial - HCAHeartST8795936 (OCT)\n",
      "E8.5_rep1: 201104_28\n",
      "Visium spatial - HCAHeartST10238251 (OCT)\n",
      "Supercluster: Deep-layer intratelencephalic\n",
      "Skin of body - A single-cell transcriptomic atlas characterizes ageing tissues in the mouse - 10x\n",
      "M cells -- CV19 infection, vaccination and HC\n",
      "E8.5_rep1: 201104_07\n",
      "Dissection: Cerebral cortex (Cx) - Lingual gyrus (LiG) - Primary Visual Cortex - V1C\n",
      "mouse_trunkTbx6WT_KO\n",
      "Mouse Germ Cells\n",
      "E9.0: Puck_220615_38\n",
      "Human tonsil T cells scRNA\n",
      "Visium spatial - HCAHeartST11702008 (FFPE)\n",
      "A Cellular Anatomy of the Normal Adult Human Prostate and Prostatic Urethra - Human Fibromuscular Stromal Cells\n",
      "colon immune\n",
      "Spatial transcriptomics in the healthy human kidney: Puck_200121_01\n",
      "Visium-FZ_GT_P19-Spatial multi-omic map of human myocardial infarction\n",
      "Dissection: Primary visual cortex(V1)\n",
      "Dissection: Cerebral cortex (Cx) - Postcentral gyrus (PoCG) - Primary somatosensory cortex - S1C\n",
      "scRNA-seq analysis of non-ciliated epithelial cells of healthy human fallopian tubes\n",
      "VLMC - MTG: Seattle Alzheimer's Disease Atlas (SEA-AD)\n",
      "Spatial transcriptomics in the healthy human kidney: Puck_200115_10\n",
      "Spatial transcriptomics in mouse: Puck_191109_14\n",
      "Spatiotemporal analysis of human intestinal development at single-cell resolution: Endothelium\n",
      "Dissection: Dorsolateral prefrontal cortex (DFC)\n",
      "E9.0: Puck_220718_39\n",
      "DNA methylation of brain cells -- non-CG methylation of Non-neuronal Cells (snmC-seq)\n",
      "scRNA-seq data analysis of HUVECs treated with high glucose and TNFα\n",
      "CD34+ Fetal Bone Marrow, Fetal Liver, Cord Blood (CITE-seq)\n",
      "Molecular characterization of selectively vulnerable neurons in Alzheimer’s Disease: SFG excitatory neurons\n",
      "Human kidney cortex snRNA-seq data from donors with and without diabetic kidney disease\n",
      "Spatial transcriptomics in mouse: Puck_200127_08\n",
      "Dissection: Cerebral cortex (Cx) - Cuneus, rostral part - Area Prostriata - Pro\n",
      "fetal\n",
      "Mammary gland - A single-cell transcriptomic atlas characterizes ageing tissues in the mouse - Smart-seq2\n",
      "49 years old male - Fresh PBMCs (3 days post-intubation)\n",
      "Single cell transcriptional and chromatin accessibility profiling redefine cellular heterogeneity in the adult human kidney - RNAseq\n",
      "Dissection: Basal nuclei (BN) - Globus pallidus (GP) - External segment of globus pallidus - GPe\n",
      "PBMC\n",
      "Spatial transcriptomics in the healthy human kidney: Puck_200205_13\n",
      "66 years old female - Fresh PBMCs (4 days post-intubation)\n",
      "Photoreceptor cells of the human fovea and peripheral retina\n",
      "Dissection: Midbrain (RN) - Red Nucleus - RN\n",
      "scRNA-seq data - all cells\n",
      "Dissection: Anterior cingulate cortex (ACC)\n",
      "Visium spatial - RA\n",
      "Airway\n",
      "E8.5_rep2: Puck_220815_33\n",
      "E9.0: Puck_220718_37\n",
      "Sst Chodl - MTG: Seattle Alzheimer's Disease Atlas (SEA-AD)\n",
      "Dissection: Primary somatosensory cortex (S1)\n",
      "Human DA Neurons 10x scRNA-seq\n",
      "Spatial transcriptomics in mouse: Puck_191112_05\n",
      "Combined single cell and single nuclei RNA-Seq data - Heart Global\n",
      "Healthy human liver: B cells\n",
      "fetal and neonatal human small intestine cells\n",
      "UMAP of all data\n",
      "L5 ET - MTG: Seattle Alzheimer's Disease Atlas (SEA-AD)\n",
      "white matter - astrocytes\n",
      "Lamp5 Lhx6 - DLPFC: Seattle Alzheimer's Disease Atlas (SEA-AD)\n",
      "An integrated cell atlas of the human lung in health and disease (full)\n",
      "Human Non-DA Neurons 10x scRNA-seq\n",
      "Human Germ Cells\n",
      "normal - Single-cell analyses of renal cell cancers reveal insights into tumor microenvironment, cell of origin, and therapy response\n",
      "Visium spatial - AX\n",
      "An integrated transcriptomic and epigenomic atlas of mouse primary motor cortex cell types: chromatin accessibility\n",
      "Spatial transcriptomics in mouse: Puck_191204_17\n",
      "white matter - neurons\n",
      "Periphery - Cell Types of the Human Retina and Its Organoids at Single-Cell Resolution\n",
      "scRNA-seq data - B cells\n",
      "Cutaneous melanoma, lymph node metastasis Puck_220215_13\n",
      "Vip - DLPFC: Seattle Alzheimer's Disease Atlas (SEA-AD)\n",
      "brainstem.all\n",
      "Dissection: Thalamus (THM) - lateral nuclear complex of thalamus (LNC) - Pulvinar of thalamus - Pul\n",
      "Cilium\n",
      "L2/3 IT - MTG: Seattle Alzheimer's Disease Atlas (SEA-AD)\n",
      "Bipolar cells of the human fovea and peripheral retina\n",
      "Spatiotemporal analysis of human intestinal development at single-cell resolution: Myofibroblasts and Mesothelium\n",
      "Lymphoid cells\n",
      "Krasnow Lab Human Lung Cell Atlas, 10X\n",
      "Human Human Microglia 10x scRNA-seq\n",
      "Spatial transcriptomics in mouse: Puck_191223_10\n",
      "E9.5: 201104_40\n",
      "Brown adipose tissue — A single-cell transcriptomic atlas characterizes ageing tissues in the mouse\n",
      "Dissection: Cerebral cortex (Cx) - Short insular gyri - Granular insular cortex - Ig\n",
      "Supercluster: Amygdala excitatory\n",
      "Fibroblast and smooth muscle\n",
      "Spatial transcriptomics in mouse: Puck_191109_08\n",
      "Non-neuronal cells of human eye\n",
      "thalamus.NEURONS\n",
      "visium spatial - sample v01\n",
      "E8.5_rep1: 201104_16\n",
      "All cells with electrophysiological and morphological recordings\n",
      "Molecular characterization of selectively vulnerable neurons in Alzheimer’s Disease: EC inhibitory neurons\n",
      "Dissection: Thalamus (THM) - posterior nuclear complex of thalamus (PoN) - medial geniculate nuclei (MG)\n",
      "Circulating Immune cells -- CV19 infection, vaccination and HC\n",
      "Dissection: Basal nuclei (BN) - Globus pallidus (GP) - Internal segment of globus pallidus - GPi\n",
      "Single-cell transcriptomic datasets of Renal cell carcinoma patients\n",
      "Dissection: Amygdaloid complex (AMY) - Corticomedial nuclear group (CMN) - anterior cortical nucleus - CoA\n",
      "visium spatial - sample v08\n",
      "E9.0: Puck_220718_11\n",
      "Supercluster: Choroid plexus\n",
      "Spatial transcriptomics in the healthy human kidney: Puck_200113_07\n",
      "Supercluster: Fibroblast\n",
      "Spatial transcriptomics in the healthy human kidney: Puck_200115_06\n",
      "Supercluster: MGE interneuron\n",
      "cortex.GLUT.all\n",
      "Shared and distinct transcriptomic cell types across neocortical areas\n",
      "Supercluster: Upper-layer intratelencephalic\n",
      "DNA methylation of brain cells -- non-CG methylation of Non-neuronal Cells (snm3C-seq)\n",
      "E8.5_rep2: Puck_220815_15\n",
      "pfc.a25.GLUT\n",
      "Spatial transcriptomics in mouse: Puck_191206_02\n",
      "An integrated transcriptomic and epigenomic atlas of mouse primary motor cortex cell types: 10X_cells_v3_AIBS\n",
      "HBCA - stroma\n",
      "Immune cells\n",
      "An integrated transcriptomic and epigenomic atlas of mouse primary motor cortex cell types: SMARTer_nuclei_MOp\n",
      "Tabula Sapiens - Lymph_Node\n",
      "In vitro derived T cells, from Artificial Thymic Organoid protocol\n",
      "Endothelial - DLPFC: Seattle Alzheimer's Disease Atlas (SEA-AD)\n",
      "Cerebellum\n",
      "Spatial transcriptomics in mouse: Puck_191112_02\n",
      "Sst Chodl - DLPFC: Seattle Alzheimer's Disease Atlas (SEA-AD)\n",
      "Tabula Sapiens - Bladder\n",
      "Normal Lymph Node Puck_201014_06\n",
      "Single cell analysis of mouse and human prostate reveals novel fibroblasts with specialized distribution and microenvironment interactions - All Mouse Cells\n",
      "DCM/ACM heart cell atlas: Fibroblasts\n",
      "Tabula Sapiens - Spleen\n",
      "E9.0: Puck_220718_12\n",
      "Large intestine - A single-cell transcriptomic atlas characterizes ageing tissues in the mouse - 10x\n",
      "E9.0: Puck_220718_28\n",
      "Human Female\n",
      "Survey of human embryonic development\n",
      "visium spatial - sample v02\n",
      "striatum.GAD\n",
      "Pax6 - MTG: Seattle Alzheimer's Disease Atlas (SEA-AD)\n",
      "Supercluster: Non-neuronal cells\n",
      "Spatial transcriptomics in mouse: Puck_191223_21\n",
      "Pancreas - A single-cell transcriptomic atlas characterizes ageing tissues in the mouse - Smart-seq2\n",
      "Dissection: Thalamus (THM) - Lateral nuclear complex (LNC) - ventral anterior nucleus of thalamus - VA\n",
      "Spatial transcriptomics in mouse: Puck_191204_03\n",
      "Spatial transcriptomics in mouse: Puck_191204_20\n",
      "Pla_Camb9518737\n",
      "Pla_HDBR9518710\n",
      "DNA methylation of brain cells -- non-CG methylation of Excitatory Neurons (snm3C-seq)\n",
      "Liver - A single-cell transcriptomic atlas characterizes ageing tissues in the mouse - 10x\n",
      "Dissection: Cerebellum (CB) - Cerebellar Vermis - CBV\n",
      "Dissection: Head of hippocampus (HiH) - Uncal DG-CA4\n",
      "scRNA-seq analysis of healthy human fallopian tubes\n",
      "Renal cell carcinoma, post aPD1, lung metastasis Puck_220408_13\n",
      "Cutaneous melanoma, lymph node metastasis Puck_220215_14\n",
      "Dissection: Cerebral cortex (Cx) - Posterior parahippocampal gyrus (PPH) - TH-TL\n",
      "Trachea - A single-cell transcriptomic atlas characterizes ageing tissues in the mouse - 10x\n",
      "WS_PLA_S9101766\n",
      "A Single-Cell Transcriptional Roadmap of the Mouse and Human Lymph Node Lymphatic Vasculature - mouse\n",
      "all.ENDOTHELIA.nocbm\n",
      "DCM/ACM heart cell atlas: All cells\n",
      "Spatial transcriptomics in mouse: Puck_200104_03\n",
      "Human Oligodendrocytes 10x scRNA-seq\n",
      "immune cells\n",
      "Spatial transcriptomics in mouse: Puck_191223_12\n",
      "Lamp5 - DLPFC: Seattle Alzheimer's Disease Atlas (SEA-AD)\n",
      "WS_PLA_S9101770\n",
      "E9.0: Puck_220718_02\n",
      "Spatial transcriptomics in mouse: Puck_191204_04\n",
      "Dissection: Middle temporal gyrus (MTG)\n",
      "Single-cell multiomic profiling of human lungs across age groups\n",
      "Visium spatial - AVN\n",
      "Bone marrow - A single-cell transcriptomic atlas characterizes ageing tissues in the mouse - Smart-seq2\n",
      "Visium-IZ_BZ_P2-Spatial multi-omic map of human myocardial infarction\n",
      "Renal cell carcinoma, post aPD1, lung metastasis Puck_220408_15\n",
      "visium spatial - sample v09\n",
      "Atlas of the developing mouse thalamus\n",
      "pfc.a25.GAD\n",
      "Mammary gland - A single-cell transcriptomic atlas characterizes ageing tissues in the mouse - 10x\n",
      "Vip - MTG: Seattle Alzheimer's Disease Atlas (SEA-AD)\n",
      "Spatial transcriptomics in the healthy human kidney: Puck_200115_14\n",
      "Molecular characterization of selectively vulnerable neurons in Alzheimer’s Disease: SFG inhibitory neurons\n",
      "e12.5 glutamatergic lineage\n",
      "cbm.all\n",
      "scRNA-seq analysis of ciliated cells of healthy human fallopian tubes\n",
      "Molecular characterization of selectively vulnerable neurons in Alzheimer’s Disease: Superior frontal gyrus\n",
      "Dissection: Thalamus (THM) - lateral nuclear complex of thalamus (LNC) - lateral posterior nucleus of thalamus + ventral posterior lateral nucleus - LP + VPL\n",
      "E8.5_rep1: 201104_29\n",
      "Dissection: Thalamus (THM) - Subthalamic nucleus and nearby - STH\n",
      "Integrated Single-nucleus and Single-cell RNA-seq of the Adult Human Kidney\n",
      "Spatial transcriptomics in the healthy human kidney: Puck_200205_16\n",
      "Retinal ganglion cells of the human fovea and peripheral retina\n",
      "Visium spatial - HCAHeartST9383354 (OCT)\n",
      "VAL and DIS datasets: Non-Epithelial\n",
      "Spatial transcriptomics in mouse: Puck_191223_18\n",
      "Tabula Sapiens - Pancreas\n",
      "Horizontal cells of human eye\n",
      "WS_PLA_S9101767\n",
      "E8.5_rep2: Puck_220815_29\n",
      "Dissection: Cerebral cortex (Cx) - Anterior parahippocampal gyrus, posterior part (APH) - Medial entorhinal cortex - MEC\n",
      "Visium-IZ_P15-Spatial multi-omic map of human myocardial infarction\n",
      "Visium spatial - HCAHeartST8795940 (OCT)\n",
      "Spatial transcriptomics in mouse: Puck_200102_09\n",
      "49 years old male - Airway Wash (1 day post-intubation)\n",
      "Dissection: Hypothalamus (HTH) - preoptic region of HTH - HTHpo (medial preoptic nucleus, MPN) - supraoptic region of HTH - HTHso (paraventricular nucleus, PV)\n",
      "Differentiating brown preadipocytes (cell culture)\n",
      "E9.0: Puck_220718_16\n",
      "Endothelium\n",
      "DNA methylation of brain cells -- CG methylation of Non-neuronal Cells (snm3C-seq)\n",
      "Supercluster: MGE-derived interneurons\n",
      "A Cellular Anatomy of the Normal Adult Human Prostate and Prostatic Urethra - Human Epithelial Cells\n",
      "Retina\n",
      "Spatial transcriptomics in the healthy human kidney: Puck_200115_11\n",
      "E8.5_rep2: Puck_220815_04\n",
      "Dissection: Hypothalamus (HTH) - preoptic region of HTH - HTHpo\n",
      "Organoid - Cell Types of the Human Retina and Its Organoids at Single-Cell Resolution\n",
      "innate T cells -- CV19 infection, vaccination and HC\n",
      "E8.5_rep1: 201104_17\n",
      "Spatial transcriptomics in mouse: Puck_191204_09\n",
      "UMAP of T-Cells cells\n",
      "Colon\n",
      "A Cellular Anatomy of the Normal Adult Human Prostate and Prostatic Urethra - All Human Cells\n",
      "Visium spatial - HCAHeartST13233997 (OCT)\n",
      "non-immune cells\n",
      "Spatial transcriptomics in mouse: Puck_191223_03\n",
      "Spatial transcriptomics in mouse: Puck_191204_15\n",
      "WS_PLA_S9101764\n",
      "Glutamatergic neurons — An Atlas of Gene Regulatory Elements in Adult Mouse Cerebrum.\n",
      "Single cell atlas of CD19 CAR T-cells (CD8+)\n",
      "Dissection: Basal nuclei (BN) - Body of the Caudate - CaB\n",
      "The single-cell lung cancer atlas (LuCA) -- core atlas\n",
      "Visium spatial - HCAHeartST9383355 (OCT)\n",
      "Renal cell carcinoma, pre aPD1, kidney Puck_200727_12\n",
      "Human Nurr-Negative Nuclei 10x scRNA-seq\n",
      "All cell types of human eye\n",
      "Dissection: Thalamus (THM) - Lateral nuclear complex of thalamus (LNC) - ventral group of lateral nucleus - VLN\n",
      "Fetal Human Gut (6-11 PCW)\n",
      "Mature kidney dataset: non PT parenchyma\n",
      "Spatial transcriptomics in mouse: Puck_200131_23\n",
      "Visium spatial - HCAHeartST9341984 (OCT)\n",
      "Dissection: Cerebellum (CB) - Cerebellar deep nuclei - CbDN\n",
      "B cells\n",
      "VLMC - DLPFC: Seattle Alzheimer's Disease Atlas (SEA-AD)\n",
      "Kidney - A single-cell transcriptomic atlas characterizes ageing tissues in the mouse - Smart-seq2\n",
      "Brain non-myeloid cells - A single-cell transcriptomic atlas characterizes ageing tissues in the mouse\n",
      "Dissection: Cerebral cortex (Cx) - Cingulate gyrus, retrosplenial (CgGrs) - A29-A30\n",
      "Dissection: Body of hippocampus (HiB) - Rostral DG-CA4\n",
      "Supercluster: CGE interneuron\n",
      "Dissection: Cerebral cortex (Cx) - Posterior intermediate orbital gyrus (POrG) - Caudal division of OFCi - A13\n",
      "82 years old female - Airway Wash (1 day post-intubation)\n",
      "snRNA-seq of human anterior and posterior hippocampus\n",
      "Normal immune cells landscape of infant KMT2Ar B-ALL\n",
      "L6 IT Car3 - MTG: Seattle Alzheimer's Disease Atlas (SEA-AD)\n",
      "Dissection: Pons (Pn) - afferent nuclei of cranial nerves in pons - PnAN\n",
      "An integrated cell atlas of the human lung in health and disease (core)\n",
      "Supercluster: LAMP5-LHX6 and Chandelier\n",
      "HSC/immune cells (all hematopoietic-derived cells)\n",
      "primary_trophoblast_organoid\n",
      "Non-neuronal cells in human retina\n",
      "amygdala.GLUT\n",
      "Spatial transcriptomics in the healthy human kidney: Puck_200115_05\n",
      "Visium spatial - HCAHeartST12992074 (OCT)\n",
      "Myeloid SCLC samples only\n",
      "Visium-FZ_P18-Spatial multi-omic map of human myocardial infarction\n",
      "Inflammatory blockade in premature Rhesus macaques exposed to intra-uterine inflammation\n",
      "Cutaneous melanoma, lymph node metastasis Puck_220408_12\n",
      "Spatial transcriptomics in mouse: Puck_191112_08\n",
      "Dissection: Angular gyrus (AnG)\n",
      "Retina\n",
      "Healthy human liver: liver sinusoidal endothelial cells\n",
      "Spatial transcriptomics in mouse: Puck_191109_10\n",
      "Skin\n",
      "Visium-FZ_P14-Spatial multi-omic map of human myocardial infarction\n",
      "Spatial transcriptomics in the healthy human kidney: Puck_200115_12\n",
      "Dissection: Cerebellum (CB) - Lateral hemisphere of cerebellum - CBL\n",
      "The single-cell lung cancer atlas (LuCA) -- extended atlas\n",
      "Visium-GT_IZ_P15-Spatial multi-omic map of human myocardial infarction\n",
      "Brain myeloid cells - A single-cell transcriptomic atlas characterizes ageing tissues in the mouse - Smart-seq2\n",
      "Nasopharynx\n",
      "Tabula Sapiens - Heart\n",
      "Bipolar cells in human retina\n",
      "Human Endothelial cells 10x scRNA-seq\n",
      "Spatial transcriptomics in the healthy human kidney: Puck_200115_16\n",
      "Dissection: Thalamus (THM) - intralaminar nuclear complex (ILN) - posterior group of intralaminar nuclei (PILN) - centromedian nucleus of thalamus - CM\n",
      "Single-soma transcriptomics of tangle-bearing neurons in Alzheimer’s disease - Excitatory\n",
      "74 years old female - Airway Wash (3 days post-intubation)\n",
      "E9.0: Puck_220615_36\n",
      "Dissection: Pons (Pn) - Pontine reticular formation - PnRF\n",
      "T Cell and NK Cell Subtypes of COVID-19 Immune Altas: Integration of 5 public COVID-19 PBMC single-cell datasets\n",
      "Sst - MTG: Seattle Alzheimer's Disease Atlas (SEA-AD)\n",
      "Visium-RZ_BZ_P12-Spatial multi-omic map of human myocardial infarction\n",
      "Autoimmunity PBMCs\n",
      "E8.5_rep1: 201104_26\n",
      "Spatial transcriptomics in mouse: Puck_191112_13\n",
      "82 years old female - Fresh PBMCs (1 day post-intubation)\n",
      "Multiomics single-cell analysis of human pancreatic islets reveals novel cellular states in health and type 1 diabetes\n",
      "Spatiotemporal analysis of human intestinal development at single-cell resolution: Immune\n",
      "Tabula Sapiens - Lung\n",
      "Tabula Sapiens - Endothelial\n",
      "L4 IT - DLPFC: Seattle Alzheimer's Disease Atlas (SEA-AD)\n",
      "Trabecular Meshwork and Corneal Scleral wedge\n",
      "Spatial transcriptomics in mouse: Puck_200104_06\n",
      "Supercluster: Hippocampal dentate gyrus\n",
      "E9.0: Puck_220615_39\n",
      "Mesenchymal cells\n",
      "Tabula Sapiens - Bone_Marrow\n",
      "Oligodendrocyte - DLPFC: Seattle Alzheimer's Disease Atlas (SEA-AD)\n",
      "Supercluster: IT-projecting excitatory neurons\n",
      "Spatiotemporal analysis of human intestinal development at single-cell resolution: Fetal A8\n",
      "E8.5_rep1: 201104_09\n",
      "Mature kidney dataset: immune\n",
      "Microglia-PVM - MTG: Seattle Alzheimer's Disease Atlas (SEA-AD)\n",
      "Dissection: Cerebral cortex (Cx) - Cingulate gyrus, rostral (CgGr) - Ventral division of MFC - A24\n",
      "Human Fetal Bone Marrow (CITE-seq)\n",
      "Time-resolved Systems Immunology Reveals a Late Juncture Linked to Fatal COVID-19: Innate Cells\n",
      "Dissection: Amygdaloid complex (AMY) - basolateral nuclear group (BLN) - basolateral nucleus (basal nucleus) - BL\n",
      "Cutaneous melanoma, lymph node metastasis Puck_220215_11\n",
      "Visium-control_P1-Spatial multi-omic map of human myocardial infarction\n",
      "E9.0: Puck_220718_17\n",
      "Dissection: Hypothalamus (HTH) - mammillary region of HTH (HTHma) - tuberal region of HTH - HTHtub\n",
      "Visium spatial - HCAHeartST8795939 (OCT)\n",
      "E9.5: 201112_02\n",
      "Visium spatial - HCAHeartST12992075 (OCT)\n",
      "Dissection: Basal nuclei (BN) - Putamen - Pu\n",
      "Visium spatial - HCAHeartST10550730 (OCT)\n",
      "Spatial transcriptomics in mouse: Puck_200131_13\n",
      "E9.0: Puck_220615_37\n",
      "Diaphragm — A single-cell transcriptomic atlas characterizes ageing tissues in the mouse\n",
      "scRNA-seq data - myeloid cells\n",
      "Visium-IZ_P3-Spatial multi-omic map of human myocardial infarction\n",
      "Spatial transcriptomics in mouse: Puck_200104_07\n",
      "scRNA-seq analysis of stromal cells of healthy human fallopian tubes\n",
      "Single-nucleus RNA-seq of the Adult Human Kidney (Version 1.0)\n",
      "BrainAgingSpatialAtlas_MERFISH_LPS\n",
      "DNA methylation of brain cells -- non-CG methylation of Inhibitory and Subcortical Neurons (snmC-seq)\n",
      "Dissection: Thalamus (THM) - lateral nuclear complex of thalamus (LNC) - ventral posterior lateral nucleus - VPL\n",
      "A single-cell multi-omic atlas spanning the adult rhesus macaque brain (cell class \"ependymal cells\" subset)\n",
      "Pax6 - DLPFC: Seattle Alzheimer's Disease Atlas (SEA-AD)\n",
      "Survey of human embryonic development (1 million cells subset)\n",
      "Platelet sub_clusters of COVID-19 Immune Altas: Integration of 5 public COVID-19 PBMC single-cell datasets\n",
      "Lymphoid cells from human liver dataset\n",
      "E8.5_rep2: Puck_220815_21\n",
      "E9.0: Puck_220718_10\n",
      "Dissection: Hypothalamus (HTH) - mammillary region of HTH (HTHma)\n",
      "Iris\n",
      "Visium spatial - HCAHeartST8795935 (OCT)\n",
      "Urethral luminal epithelia are castration-insensitive cells of the proximal prostate - All Human Cells\n",
      "Dissection: Cerebral cortex (Cx) - Gyrus rectus (ReG) - Medial orbitofrontal cortex - A14\n",
      "Astrocyte - MTG: Seattle Alzheimer's Disease Atlas (SEA-AD)\n",
      "DNA methylation of brain cells -- CG methylation of Non-neuronal Cells (snmC-seq)\n",
      "DCM/ACM heart cell atlas: Neuronal cells\n",
      "Visium spatial - HCAHeartST8795933 (OCT)\n",
      "UMAP of Myeloid cells\n",
      "Intra- and Inter-cellular Rewiring of the Human Colon during Ulcerative Colitis\n",
      "Visium-RZ_P3-Spatial multi-omic map of human myocardial infarction\n",
      "all.MICROGLIA_MACROPHAGE.comp\n",
      "L5 IT - DLPFC: Seattle Alzheimer's Disease Atlas (SEA-AD)\n",
      "Oligodendrocyte - MTG: Seattle Alzheimer's Disease Atlas (SEA-AD)\n",
      "Spatial transcriptomics in mouse: Puck_200127_01\n",
      "E8.5_rep1: 201104_12\n",
      "Cross species map of pancreatic beta cells\n",
      "Tabula Sapiens - Trachea\n",
      "An Integrated Single Cell Meta-atlas of Human Periodontitis\n",
      "A single-cell multi-omic atlas spanning the adult rhesus macaque brain (cell class \"dopaminergic neurons\" subset)\n",
      "Human T cells - A cell atlas of human thymic development defines T cell repertoire formation\n",
      "Spatial transcriptomics in the healthy human kidney: Puck_200115_07\n",
      "Evolution of cellular diversity in primary motor cortex of human, marmoset monkey, and mouse 3-species integration non-nuerons\n",
      "Spatial transcriptomics in the healthy human kidney: Puck_200205_17\n",
      "Spatial transcriptomics in mouse: Puck_200131_20\n",
      "Fetal kidney dataset: stroma\n",
      "visium UMAP - all samples\n",
      "Tabula Sapiens - All Cells\n",
      "Spatial transcriptomics in mouse: Puck_191223_11\n",
      "Human tonsil memory B cells scRNA\n",
      "Full dataset of single-cell RNA-seq profiles from 9 developmental tissues across gestation (4-17 pcw)\n",
      "PBMCs\n",
      "Dissection: Basal forebrain (BF) - septal nuclei - SEP\n",
      "Urethral luminal epithelia are castration-insensitive cells of the proximal prostate - Mouse Epithelial Cells\n",
      "Visium spatial - HCAHeartST13228105 (OCT)\n",
      "Human Thymic Epithelial Cells - A cell atlas of human thymic development defines T cell repertoire formation\n",
      "Supercluster: Bergmann glia\n",
      "A single-cell atlas of the healthy breast tissues reveals clinically relevant clusters of breast epithelial cells\n",
      "Dissection: Myelencephalon (medulla oblongata) (Mo) - medullary reticular formation (MoRF) & efferent nuclei of cranial nerves in the medulla oblongata (MoEN) - MoRF-MoEN\n",
      "Total - Cells of the human intestinal tract mapped across space and time\n",
      "A single-cell multi-omic atlas spanning the adult rhesus macaque brain (cell class \"serotonergic neurons\" subset)\n",
      "Tabula Sapiens - Kidney\n",
      "UMAP of Plasma and B-Cells cells\n",
      "Spatial transcriptomics in mouse: Puck_191206_01\n",
      "Spatial transcriptomics in mouse: Puck_191204_05\n",
      "white matter - vascular cells\n",
      "Supercluster: Ependymal\n",
      "Supercluster: Deep layer (non-IT) excitatory neurons\n",
      "Visium spatial - HCAHeartST11702010 (FFPE)\n",
      "Spatiotemporal analysis of human intestinal development at single-cell resolution: Epithelium\n",
      "Spatial transcriptomics in the healthy human kidney: Puck_200115_03\n",
      "Spatial transcriptomics in the healthy human kidney: Puck_200115_17\n",
      "E9.0: Puck_220615_34\n",
      "DNA methylation of brain cells -- CG methylation of Inhibitory and Subcortical Neurons (snm3C-seq)\n",
      "Spatiotemporal analysis of human intestinal development at single-cell resolution: Adult A2\n",
      "Healthy human liver: hepatic stellate cells\n",
      "Dissection: Amygdaloid complex (AMY) - Basolateral nuclear group (BLN) - lateral nucleus - La\n",
      "All cells from human liver dataset\n",
      "Spatial transcriptomics in the healthy human kidney: Puck_200115_18\n",
      "74 years old female - Fresh PBMCs (4 days post-intubation)\n",
      "Single-cell RNA-seq for all cortical & hippocampal regions (SMART-Seq v4)\n",
      "healthy young bone marrow donor\n",
      "Neuronal — Cells of the adult human heart\n",
      "Bladder lumen - A single-cell transcriptomic atlas characterizes ageing tissues in the mouse - 10x\n",
      "T & innate lymphoid cells\n",
      "NK/T cells\n",
      "Evolution of cellular diversity in primary motor cortex of human, marmoset monkey, and mouse 4-species integration excitory neurons\n",
      "Dissection: Midbrain (M) - Substantia Nigra, Red Nucleus, and nearby nuclei - SN-RN\n",
      "Spleen - A single-cell transcriptomic atlas characterizes ageing tissues in the mouse - Smart-seq2\n",
      "Supercluster: Hippocampal CA1-3\n",
      "Supercluster: Oligodendrocyte\n",
      "Visium spatial - RV\n",
      "Global\n",
      "Visium spatial - HCAHeartST10238252 (OCT)\n",
      "scRNA-seq data - T cells\n",
      "all.EPENDYMA.comp\n",
      "Supercluster: CGE-derived interneurons\n",
      "TI immune\n",
      "E9.5: 201104_39\n",
      "E8.5_rep2: Puck_220815_12\n",
      "snRNA-seq data - all cells\n",
      "L6b - MTG: Seattle Alzheimer's Disease Atlas (SEA-AD)\n",
      "E9.0: Puck_220718_03\n",
      "visium spatial - sample v04\n",
      "Dissection: Pons (Pn) - other nuclei in pontine tegmentum (XPnTg) - dorsal tegmental nucleus - DTg\n",
      "Dissection: Cerebral cortex (Cx) - Occipitotemporal (fusiform) gyrus, temporal part (FuGt) - Temporal area TF\n",
      "Supercluster: Upper rhombic lip\n",
      "Spatiotemporal analysis of human intestinal development at single-cell resolution: Fetal A3\n",
      "E8.5_rep1: 201104_13\n",
      "Integrated data\n",
      "Single cell analysis of mouse and human prostate reveals novel fibroblasts with specialized distribution and microenvironment interactions - Mouse Epithelial Cells\n",
      "Spatial transcriptomics in mouse: Puck_191204_22\n",
      "Lamp5 - MTG: Seattle Alzheimer's Disease Atlas (SEA-AD)\n",
      "Renal cell carcinoma, post aPD1, lung metastasis Puck_200727_08\n",
      "OPC - DLPFC: Seattle Alzheimer's Disease Atlas (SEA-AD)\n",
      "49 years old male - Airway Wash (3 days post-intubation)\n",
      "Spatiotemporal analysis of human intestinal development at single-cell resolution: Fetal A9\n",
      "3-prime FGID data\n",
      "Visium spatial - HCAHeartST13233996 (OCT)\n",
      "amygdala.GAD\n",
      "Dissection: Pons (Pn) - Pontine Nucleus - PN\n",
      "Spatial transcriptomics in the healthy human kidney: Puck_200104_16\n",
      "Spatial transcriptomics in the healthy human kidney: Puck_200104_23\n",
      "An integrated transcriptomic and epigenomic atlas of mouse primary motor cortex cell types\n",
      "Dissection: Amygdaloid complex (AMY) - Central nuclear group - CEN\n",
      "Single-cell transcriptomes of the human skin reveal age-related loss of fibroblast priming\n",
      "Visium spatial - HCAHeartST13233998 (OCT)\n",
      "Dissection: Hypothalamus (HTH) - supraoptic region of HTH - HTHso (anterior hypothalamic nucleus, AHN) - tuberal region of HTH - HTHtub (ventromedial and dorsomedial hypothalamic nucleic nuclei, VMH, DMH)\n",
      "visium spatial - sample v05\n",
      "Steady-state B cells - scRNA-seq\n",
      "Single-soma transcriptomics of tangle-bearing neurons in Alzheimer’s disease - Inhibitory\n",
      "E8.5_rep2: Puck_220815_13\n",
      "Spatial transcriptomics in mouse: Puck_191223_09\n",
      "All - A single-cell transcriptomic atlas characterizes ageing tissues in the mouse - 10x\n",
      "Dissection: Body of hippocampus (HiB) - Rostral CA1-CA3\n",
      "colon epithelial\n",
      "An integrated transcriptomic and epigenomic atlas of mouse primary motor cortex cell types: 10X_cells_v2_AIBS\n",
      "66 years old female - Airway Wash (2 days post-intubation)\n",
      "hippocampus.GLUT\n",
      "Supercluster: Oligodendrocyte precursor\n",
      "Tabula Sapiens - Tongue\n",
      "Spatial transcriptomics in the healthy human kidney: Puck_200104_21\n",
      "74 years old female - Airway Wash (6 days post-intubation)\n",
      "Single-cell longitudinal analysis of SARS-CoV-2 infection in human bronchial epithelial cells\n",
      "BrainAgingSpatialAtlas_snRNAseq\n",
      "74 years old female - Airway Wash (1 day post-intubation)\n",
      "Dissection: Tail of Hippocampus (HiT) - Caudal Hippocampus - CA1-CA3\n",
      "Spatial transcriptomics in the healthy human kidney: Puck_200113_11\n",
      "Dissection: Primary motor cortex (M1)\n",
      "Non-pregnant Uterus (Endometrium - Organoid)\n",
      "Sst - DLPFC: Seattle Alzheimer's Disease Atlas (SEA-AD)\n",
      "Human Somatic Cell Lineage\n",
      "Single cell atlas of CD19 CAR T-cells\n",
      "Spatial transcriptomics in the healthy human kidney: Puck_200104_15\n",
      "Macaque: Great apes study\n",
      "A single-cell multi-omic atlas spanning the adult rhesus macaque brain\n",
      "Myeloid\n",
      "Ileum\n",
      "A single-cell multi-omic atlas spanning the adult rhesus macaque brain (cell class \"GABAergic neurons\" subset)\n",
      "Spatial transcriptomics in mouse: Puck_200127_07\n",
      "Spatial transcriptomics in mouse: Puck_200131_22\n",
      "DNA methylation of brain cells -- CG methylation of Excitatory Neurons (snm3C-seq)\n",
      "An integrated transcriptomic and epigenomic atlas of mouse primary motor cortex cell types: DNA Methylation (CHN)\n",
      "white matter - all cells\n",
      "Spatial transcriptomics in mouse: Puck_200127_06\n",
      "Microglia-PVM - DLPFC: Seattle Alzheimer's Disease Atlas (SEA-AD)\n",
      "Spatial transcriptomics in mouse: Puck_191109_19\n",
      "visium spatial - sample v07\n",
      "Dissection: Thalamus (THM) - lateral nuclear complex of thalamus (LNC) - lateral posterior nucleus of thalamus - LP\n",
      "Pancreas - A single-cell transcriptomic atlas characterizes ageing tissues in the mouse - 10x\n",
      "Dissection: Cerebral cortex (Cx) - Temporal pole (TP) - Temporopolar area - A38\n",
      "Dissection: Body of hippocampus (HiB) - Rostral DG-CA4\n",
      "Dissection: Cerebral cortex (Cx) - Transverse temporal gyrus (TTG) - Primary auditory cortex - A1C\n",
      "Retinal ganglion cells in human retina\n",
      "E8.5_rep2: Puck_220815_23\n",
      "UMAP visualization of keratinocyte subclusters\n",
      "Visium spatial - HCAHeartST9341982 (OCT)\n",
      "Myeloid cells\n",
      "OPC - MTG: Seattle Alzheimer's Disease Atlas (SEA-AD)\n",
      "Human Nurr-Positive Nuclei 10x scRNA-seq\n",
      "Spatial transcriptomics in the healthy human kidney: Puck_200113_10\n",
      "Single-cell of aged oligodendrocytes\n",
      "Single-cell eQTL mapping identifies cell type specific genetic control of autoimmune disease\n",
      "Infant human neocortex cells\n",
      "Single cell analysis of mouse and human prostate reveals novel fibroblasts with specialized distribution and microenvironment interactions - Human Epithelial Cells\n",
      "striatum.SPN\n",
      "74 years old female - Airway Wash (5 days post-intubation)\n",
      "visium spatial - sample v06\n",
      "Single-cell transcriptomics of human T cells reveals tissue and activation signatures in health and disease\n",
      "E8.5_rep1: 201104_27\n",
      "Thymus - A single-cell transcriptomic atlas characterizes ageing tissues in the mouse - 10x\n",
      "Molecular characterization of selectively vulnerable neurons in Alzheimer’s Disease: EC oligodendrocyte\n",
      "Retinal pigment epithelial cells of human eye\n",
      "e18.5 glutamatergic lineage\n",
      "Visium spatial - LA\n",
      "66 years old female - Airway Wash (7 days post-intubation)\n",
      "Activated PBMCs - Twins scRNA-seq\n",
      "Subcutaneous adipose tissue — A single-cell transcriptomic atlas characterizes ageing tissues in the mouse\n",
      "All cells with electrophysiological recordings\n",
      "Cross species map of pancreatic alpha cells\n",
      "Direct Exposure to SARS-CoV-2 and Cigarette Smoke Increases Infection Severity and Alters the Stem Cell-Derived Airway Repair Response\n",
      "Spatial transcriptomics in mouse: Puck_191223_19\n",
      "Single cell analysis of mouse and human prostate reveals novel fibroblasts with specialized distribution and microenvironment interactions - Human Leukocyte Cells\n",
      "Dissection: Head of hippocampus (HiH) - CA1\n",
      "Developing Human Atlas\n",
      "Adult duodenum\n",
      "Tabula Sapiens - Stromal\n",
      "Spatial transcriptomics in mouse: Puck_191223_07\n",
      "Mouse Somatic Cell Lineage\n",
      "Lens\n",
      "Supercluster: Mammillary body\n",
      "Molecular characterization of selectively vulnerable neurons in Alzheimer’s Disease: SFG microglia\n",
      "Spatial transcriptomics in mouse: Puck_191223_22\n",
      "49 years old male - Fresh PBMCs (2 days post-intubation)\n",
      "Visium-FZ_GT_P4-Spatial multi-omic map of human myocardial infarction\n",
      "Tabula Sapiens - Liver\n",
      "Limb muscle - A single-cell transcriptomic atlas characterizes ageing tissues in the mouse - 10x\n",
      "Visium spatial - HCAHeartST8795938 (OCT)\n",
      "E9.0: Puck_220718_32\n",
      "All — Cells of the adult human heart\n",
      "Dissection: Cerebral cortex (Cx) - Subcallosal Gyrus (SCG) - Subgenual (subcallosal) division of MFC - A25\n",
      "Spatial transcriptomics in the healthy human kidney: Puck_200113_09\n",
      "All-snRNA-Spatial multi-omic map of human myocardial infarction\n",
      "Supercluster: Microglia\n",
      "Time-resolved Systems Immunology Reveals a Late Juncture Linked to Fatal COVID-19: Adaptive Cells\n",
      "Single-Cell Transcriptome Profiling of Immature Human Thymocytes\n",
      "E9.0: Puck_220718_19\n",
      "Bladder lumen - A single-cell transcriptomic atlas characterizes ageing tissues in the mouse - Smart-seq2\n",
      "Dissection: Midbrain (M) - Inferior colliculus and nearby nuclei - IC\n",
      "Molecular characterization of selectively vulnerable neurons in Alzheimer’s Disease: SFG astrocytes\n",
      "All cells\n",
      "Single-cell reconstruction of follicular remodeling in the human adult ovary\n",
      "10X Visium spatial transcriptomics on tumor core tissue sections\n",
      "Discovery (DIS) set of human colorectal tumor: Epithelial\n",
      "Visium-control_P8-Spatial multi-omic map of human myocardial infarction\n",
      "Healthy human liver: macrophages\n",
      "Evolution of cellular diversity in primary motor cortex of human, marmoset monkey, and mouse 3-species integration excitory neurons\n",
      "Bipolar cells of human eye\n",
      "Midgestational human neocortex cells\n",
      "Fetal kidney dataset: immune\n",
      "Dissection: Hypothalamus (HTH) - mammillary region of HTH (HTHma) - mammillary nucleus - MN\n",
      "DCM/ACM heart cell atlas: Lymphoids\n",
      "Single cell RNA sequencing of CD19 CAR T-cell infusion products\n",
      "Amacrine cells of the human fovea and peripheral retina\n",
      "74 years old female - Airway Wash (4 days post-intubation)\n",
      "ccRCC - Single-cell analyses of renal cell cancers reveal insights into tumor microenvironment, cell of origin, and therapy response\n",
      "Spatial transcriptomics in mouse: Puck_191223_15\n",
      "Healthy mouse kidney atlas\n",
      "Infiltrating Neoplastic Cells Human Glioblastoma\n",
      "Human: Great apes study\n",
      "A molecular single-cell lung atlas of lethal COVID-19\n",
      "DNA methylation of brain cells -- non-CG methylation of Excitatory Neurons (snmC-seq)\n",
      "HypoMap – a unified single cell gene expression atlas of the murine hypothalamus\n",
      "Tabula Sapiens - Muscle\n",
      "Tabula Sapiens - Uterus\n",
      "scRNA-seq data - fibroblasts\n",
      "Supercluster: Miscellaneous\n",
      "Chandelier - DLPFC: Seattle Alzheimer's Disease Atlas (SEA-AD)\n",
      "Spatiotemporal analysis of human intestinal development at single-cell resolution: Fetal A7\n",
      "L6b - DLPFC: Seattle Alzheimer's Disease Atlas (SEA-AD)\n",
      "Epithelium (no cilium)\n",
      "Microglia - 24 months old wild-type and Rag1-KO\n",
      "A Single-Cell Transcriptional Roadmap of the Mouse and Human Lymph Node Lymphatic Vasculature - human\n",
      "L2/3 IT - DLPFC: Seattle Alzheimer's Disease Atlas (SEA-AD)\n",
      "Retina\n",
      "Non-pregnant Uterus (Endometrium - Epithelial)\n",
      "Spatiotemporal analysis of human intestinal development at single-cell resolution: Muscularis\n",
      "Integrated adult and foetal hearts\n",
      "Tabula Sapiens - Salivary_Gland\n",
      "Dissection: Head of hippocampus (HiH) - CA2-3\n",
      "E8.5_rep2: Puck_220815_02\n",
      "e16.5 glutamatergic lineage\n",
      "E8.5_rep1: 201104_14\n",
      "Spatial transcriptomics in mouse: Puck_191223_08\n",
      "Lamp5 Lhx6 - MTG: Seattle Alzheimer's Disease Atlas (SEA-AD)\n",
      "Spatial transcriptomics in mouse: Puck_191204_07\n",
      "Supercluster: Medium spiny neuron\n",
      "Lung\n",
      "Spatial transcriptomics in the healthy human kidney: Puck_200903_12\n",
      "Dissection: Claustrum - Cla\n",
      "DNA Methylation (CHN) Atlas of the Mouse Brain at Single-Cell Resolution\n",
      "Human Stem Cells (LIV and TH) - A cell atlas of human thymic development defines T cell repertoire formation\n",
      "cortex.OLIGO\n",
      "Dissection: Myelencephalon (medulla oblongata) (Mo) - sensory relay nuclei in medulla oblongata - MoSR\n",
      "T cells\n",
      "Mouse Female\n",
      "Single-cell RNA-seq of the Adult Human Kidney (Version 1.0)\n",
      "Organoid\n",
      "DNA methylation of brain cells -- non-CG methylation of Inhibitory and Subcortical Neurons (snm3C-seq)\n",
      "Whole Taxonomy - DLPFC: Seattle Alzheimer's Disease Atlas (SEA-AD)\n",
      "scRNA-seq data analysis of endothelium-enriched mesenteric arterial tissues from human donors\n",
      "All non-neuronal cells\n",
      "66 years old female - Fresh PBMCs (7 days post-intubation)\n",
      "Dissection: Thalamus (THM) - posterior nuclear complex of thalamus (PoN) - lateral geniculate nucleus (LG)\n",
      "Supercluster: Splatter\n",
      "Spatial transcriptomics in mouse: Puck_191223_14\n",
      "Horizontal cells in human retina\n",
      "hippocampus.GAD\n",
      "Dissection: Myelencephalon (medulla oblongata) (Mo) - precerebellar nuclei (PrCbN) - inferior olive - IO\n",
      "Krasnow Lab Human Lung Cell Atlas, Smart-seq2\n",
      "A scRNA-seq atlas of immune cells at the CNS borders\n",
      "Spatial transcriptomics in the healthy human kidney: Puck_200131_25\n",
      "Photoreceptor cells in human retina (rod cells downsampled)\n",
      "L6 CT - MTG: Seattle Alzheimer's Disease Atlas (SEA-AD)\n",
      "Classical Monocyte sub_clusters of COVID-19 Immune Altas: Integration of 5 public COVID-19 PBMC single-cell datasets\n",
      "66 years old female - Airway Wash (4 days post-intubation)\n",
      "Visium-RZ_BZ_P3-Spatial multi-omic map of human myocardial infarction\n",
      "Bone marrow - A single-cell transcriptomic atlas characterizes ageing tissues in the mouse - 10x\n",
      "Spatial transcriptomics in mouse: Puck_200104_10\n",
      "Non-neuronal cells — An Atlas of Gene Regulatory Elements in Adult Mouse Cerebrum.\n",
      "Vascular — Cells of the adult human heart\n",
      "Spatial transcriptomics in mouse: Puck_191223_04\n",
      "Single cell analysis of mouse and human prostate reveals novel fibroblasts with specialized distribution and microenvironment interactions - Human Fibromuscular Stromal Cells\n",
      "Urethral luminal epithelia are castration-insensitive cells of the proximal prostate - Human Fibromuscular Stromal Cells\n",
      "MSK SPECTRUM - Dendritic cells\n",
      "Visium-RZ_P9-Spatial multi-omic map of human myocardial infarction\n",
      "Cutaneous melanoma, lymph node metastasis Puck_220408_08\n",
      "Liver\n",
      "Adult mouse cortical cell taxonomy revealed by single cell transcriptomics\n",
      "Supercluster: Midbrain-derived inhibitory\n",
      "GABAergic neurons — An Atlas of Gene Regulatory Elements in Adult Mouse Cerebrum.\n",
      "Dissection: Cerebral cortex (Cx) - Superior occipital gyrus (SOG) - Areas 19 and MT - A19\n",
      "Supercluster: Committed oligodendrocyte precursor\n",
      "Dissection: Head of hippocampus (HiH) - Uncal CA1-CA3\n",
      "Tabula Sapiens - Fat\n",
      "Ventricular cardiomyocytes — Cells of the adult human heart\n",
      "L5 IT - MTG: Seattle Alzheimer's Disease Atlas (SEA-AD)\n",
      "A single-cell multi-omic atlas spanning the adult rhesus macaque brain (1.5 million cell subset)\n",
      "Ileum\n",
      "Large intestine - A single-cell transcriptomic atlas characterizes ageing tissues in the mouse - Smart-seq2\n",
      "L5/6 NP - MTG: Seattle Alzheimer's Disease Atlas (SEA-AD)\n",
      "Spatial transcriptomics in mouse: Puck_191223_13\n",
      "PNS\n",
      "Visium-control_P7-Spatial multi-omic map of human myocardial infarction\n",
      "All neurons\n",
      "Visium spatial - HCAHeartST13228103 (OCT)\n",
      "A Single-Cell Transcriptome Atlas of the Human Pancreas\n",
      "Cutaneous melanoma, lymph node metastasis Puck_220408_07\n",
      "Spatial transcriptomics in mouse: Puck_200210_02\n",
      "Endo - MTG: Seattle Alzheimer's Disease Atlas (SEA-AD)\n",
      "Human Astrocytes 10x scRNA-seq\n",
      "scRNA-seq data - epithelial cells\n",
      "Spleen\n",
      "Normal Spleen OT1 Puck_200727_02\n",
      "Visium spatial - HCAHeartST9383352 (OCT)\n",
      "Spatial transcriptomics in the healthy human kidney: Puck_200205_18\n",
      "Single-cell sequencing links multiregional immune landscapes and tissue-resident T cells in ccRCC to tumor topology and therapy efficacy\n",
      "T, NK and ILC\n",
      "E9.5: 201104_31\n",
      "bf.NEURONS\n",
      "E8.5_rep1: 201104_19\n",
      "B cells -- CV19 infection, vaccination and HC\n",
      "Myeloid compartment\n",
      "DCM/ACM heart cell atlas: Cardiomyocytes\n",
      "Spatial transcriptomics in mouse: Puck_200104_04\n",
      "hypothalamus.NEURONS\n",
      "Single-Cell RNA Sequencing of Breast Tissues: Cell Subtypes and Cancer Risk Factors\n",
      "MSK SPECTRUM - CD4+ T cells, CD8+ T cells, ILCs and NK cells\n",
      "Spatial transcriptomics in mouse: Puck_200104_05\n",
      "Spleen - A single-cell transcriptomic atlas characterizes ageing tissues in the mouse - 10x\n",
      "Visium-IZ_P10-Spatial multi-omic map of human myocardial infarction\n",
      "E8.5_rep2: Puck_220815_30\n",
      "Renal cell carcinoma, post aPD1, lung metastasis Puck_220408_20\n",
      "Visium spatial - HCAHeartST10238253 (OCT)\n",
      "Renal cell carcinoma, post aPD1, lung metastasis Puck_200727_09\n",
      "Single cell analysis of mouse and human prostate reveals novel fibroblasts with specialized distribution and microenvironment interactions - Mouse Fibromuscular Stromal Cells\n",
      "Single cell RNA sequencing of follicular lymphoma\n",
      "Spatial transcriptomics in mouse: Puck_191109_07\n",
      "15 leukemic bone marrow donors\n",
      "Extended GBmap\n",
      "Tabula Sapiens - Prostate\n",
      "Single-cell RNA-seq for all cortical & hippocampal regions (10x)\n",
      "Combined samples\n",
      "cortex.ASTROCYTES\n",
      "MGE-derived interneurons integrated with 10X sequencing MOp data\n",
      "Spatial transcriptomics in mouse: Puck_200127_05\n",
      "Dissection: Midbrain (M) - Periaqueductal gray and Dorsal raphe nucleus - PAG-DR\n",
      "Excitatory neurons integrated with 10X sequencing MOp data\n",
      "Limb muscle - A single-cell transcriptomic atlas characterizes ageing tissues in the mouse - Smart-seq2\n",
      "Human tonsil nonlymphoid cells scRNA\n",
      "Aorta — A single-cell transcriptomic atlas characterizes ageing tissues in the mouse\n",
      "E9.0: Puck_220718_14\n",
      "Spatial transcriptomics in mouse: Puck_191204_18\n",
      "Tabula Sapiens - Eye\n",
      "Spatial transcriptomics in mouse: Puck_191223_24\n",
      "E8.5_rep1: 201104_18\n",
      "Visium spatial - HCAHeartST9383353 (OCT)\n",
      "Heart - A single-cell transcriptomic atlas characterizes ageing tissues in the mouse - 10x\n",
      "L6 IT - MTG: Seattle Alzheimer's Disease Atlas (SEA-AD)\n",
      "22 integrated samples\n",
      "Transcriptional connectivity of regulatory T cells in the tumor microenvironment informs novel combination cancer therapy strategies\n",
      "Spatial transcriptomics in mouse: Puck_191206_03\n",
      "Spatial transcriptomics in mouse: Puck_200131_21\n",
      "A single-cell multi-omic atlas spanning the adult rhesus macaque brain (cell class \"oligodendrocytes\" subset)\n",
      "scRNA-seq data - vascular cells\n",
      "Atrial cardiomyocytes — Cells of the adult human heart\n",
      "Dissection: Hypothalamus (HTH) - tuberal region of hypothalamus - HTHtub\n",
      "WS_PLA_S9101765\n",
      "cortex.GAD.all\n",
      "Heart - A single-cell transcriptomic atlas characterizes ageing tissues in the mouse - Smart-seq2\n",
      "Renal cell carcinoma, post aPD1, lung metastasis Puck_220408_14\n",
      "Spatial transcriptomics in mouse: Puck_191204_23\n",
      "Supercluster: Vascular\n",
      "Spatial transcriptomics in mouse: Puck_200104_14\n",
      "Differentiating white preadipocytes (cell culture)\n",
      "Spatial transcriptomics in mouse: Puck_191223_20\n",
      "Visium-RZ_P6-Spatial multi-omic map of human myocardial infarction\n",
      "Tabula Sapiens - Vasculature\n",
      "Large-scale single-cell analysis reveals critical immune characteristics of COVID-19 patients\n",
      "Mouse pancreatic islet scRNA-seq atlas across sexes, ages, and stress conditions including diabetes\n",
      "Fibroblasts — Cells of the adult human heart\n",
      "Astrocyte - DLPFC: Seattle Alzheimer's Disease Atlas (SEA-AD)\n",
      "66 years old female - Fresh PBMCs (2 days post-intubation)\n",
      "Dissection: Head of hippocampus (HiH) - Tail of Hippocampus (HiT) - Subicular cortex - Sub\n",
      "74 years old female - Fresh PBMCs (8 days post-intubation)\n",
      "Human tonsil complete integrated cell set scRNA\n",
      "Visium spatial - HCAHeartST11290659 (OCT)\n",
      "Visium spatial - FFPE-SAN\n",
      "Tabula Sapiens - Small_Intestine\n",
      "HSC/progenitor cells\n",
      "Dissection: Epithalamus - ETH\n",
      "WS_PLA_S9101769\n",
      "Myeloid cells from human liver dataset\n",
      "Spatial transcriptomics in mouse: Puck_191204_12\n",
      "Molecular characterization of selectively vulnerable neurons in Alzheimer’s Disease: EC astrocytes\n",
      "Individual Single-Cell RNA-seq PBMC Data from Schulte-Schrepping et al.\n",
      "E9.0: Puck_220718_36\n",
      "snRNA-seq data - Heart AVN atrial cardiomyocytes\n",
      "e12.5 thalamic progenitors\n",
      "Dissection: Amygdaloid complex (AMY) - basolateral nuclear group (BLN) - basomedial nucleus (accessory basal nucleus) - BM\n",
      "Dissection: Thalamus (THM) - medial nuclear complex of thalamus (MNC) - mediodorsal nucleus of thalamus - MD\n",
      "Spatial transcriptomics in the healthy human kidney: Puck_200115_02\n",
      "Figure 1 - A cell atlas of human thymic development defines T cell repertoire formation\n",
      "Dissection: Myelencephalon (medulla oblongata) (Mo) - afferent nuclei of cranial nerves in medulla oblongata - MoAN\n",
      "T cells -- CV19 infection, vaccination and HC\n",
      "Construction of a human cell landscape at single-cell level\n",
      "scRNA-seq analysis of human fallopian tubes in healthy Vs. hydrosalphinx states\n",
      "L6 IT Car3 - DLPFC: Seattle Alzheimer's Disease Atlas (SEA-AD)\n",
      "Spatial transcriptomics in mouse: Puck_191223_23\n",
      "Spatial transcriptomics in the healthy human kidney: Puck_200113_08\n",
      "UMAP of Endothelial cells\n",
      "B cell compartment\n",
      "Epithelial cells\n",
      "66 years old female - Fresh PBMCs (3 days post-intubation)\n",
      "10x scRNA-seq from human cortex\n",
      "all.ASTROCYTES.comp\n",
      "Dissection: Paleocortex (PalCx) - Piriform cortex - Pir\n",
      "Thymus - A single-cell transcriptomic atlas characterizes ageing tissues in the mouse - Smart-seq2\n",
      "E9.0: Puck_220718_13\n",
      "E8.5_rep2: Puck_220815_27\n",
      "74 years old female - Fresh PBMCs (7 days post-intubation)\n",
      "Ovary ATAC\n",
      "multiplexed scRNA-seq of 1.2 million PBMCs from adult lupus samples\n",
      "Marmoset: Great apes study\n",
      "Lung - A single-cell transcriptomic atlas characterizes ageing tissues in the mouse - Smart-seq2\n",
      "All - A single-cell transcriptomic atlas characterizes ageing tissues in the mouse - Smart-seq2\n",
      "Supercluster: Thalamic excitatory\n",
      "Amacrine cells in human retina\n",
      "Sncg - MTG: Seattle Alzheimer's Disease Atlas (SEA-AD)\n",
      "Tabula Sapiens - Blood\n",
      "A single-cell multi-omic atlas spanning the adult rhesus macaque brain (cell class \"cerebellar neurons\" subset)\n",
      "UMAP of Columnar cells\n",
      "DCM/ACM heart cell atlas: Adipocytes\n",
      "Gonadal fat pad — A single-cell transcriptomic atlas characterizes ageing tissues in the mouse\n",
      "Spatial transcriptomics in mouse: Puck_200104_01\n",
      "Visium-GT_IZ_P13-Spatial multi-omic map of human myocardial infarction\n",
      "Massively multiplex chemical transcriptomics at single-cell resolution - K562\n",
      "Dissection: Tail of Hippocampus (HiT) - Caudal Hippocampus - CA4-DGC\n",
      "All cells with morphological recordings\n",
      "Supercluster: Deep-layer near-projecting\n",
      "All cells\n",
      "Second Trimester Human Developing Brain Regions and Cortical Areas\n",
      "L4 IT - MTG: Seattle Alzheimer's Disease Atlas (SEA-AD)\n",
      "Dissection: Cerebral cortex (Cx) - Caudal cingulate gyrus (CgGC) - A23\n",
      "Urethral luminal epithelia are castration-insensitive cells of the proximal prostate - All Mouse Cells\n",
      "Human - Lung v2 (HLCA)\n",
      "scRNA-seq data - perivascular cells\n",
      "MSK SPECTRUM - Macrophages\n",
      "Tabula Sapiens - Skin\n",
      "Dissection: Cerebral cortex (Cx) - Middle frontal gyrus (MFG) - A46\n",
      "Spatial transcriptomics in mouse: Puck_200127_09\n",
      "DNA methylation of brain cells -- CG methylation of Excitatory Neurons (snmC-seq)\n",
      "Ovary RNA\n",
      "DNA methylation of brain cells -- CG methylation of Inhibitory and Subcortical Neurons (snmC-seq)\n",
      "Molecular characterization of selectively vulnerable neurons in Alzheimer’s Disease: SFG oligodendrocyte\n",
      "A single-cell multi-omic atlas spanning the adult rhesus macaque brain (cell class \"medium spiny neurons\" subset)\n",
      "SCLC epithelial cells\n",
      "Ischemia-snRNA-Spatial multi-omic map of human myocardial infarction\n",
      "Dissection: Cerebral cortex (Cx) - Frontal agranular insular cortex - FI\n",
      "DNA Methylation (CGN) Atlas of the Mouse Brain at Single-Cell Resolution\n",
      "All integrated\n",
      "Single cell analysis of mouse and human prostate reveals novel fibroblasts with specialized distribution and microenvironment interactions - All Human Cells\n",
      "Spatial transcriptomics in the healthy human kidney: Puck_200205_19\n",
      "Ciliary Body\n",
      "Dissection: Body of hippocampus (HiB) - Rostral CA1-2\n",
      "nygc multimodal pbmc\n",
      "NSCLC epithelial cells\n",
      "Healthy human liver: cholangiocytes\n",
      "A single-cell multi-omic atlas spanning the adult rhesus macaque brain (cell class \"basket cells\" subset)\n",
      "Non-neuronal cells of the human fovea and peripheral retina\n",
      "Dissection: Cerebral cortex (Cx) - Anterior parahippocampal gyrus (AG) - Lateral entorhinal cortex - LEC\n",
      "All donors all cell states (in vivo)\n",
      "white matter - microglia\n",
      "Urethral luminal epithelia are castration-insensitive cells of the proximal prostate - Human Epithelial Cells\n",
      "Healthy human liver: lymphocytes\n",
      "Myeloid cells of human eye\n",
      "Visium-GT_IZ_P9-Spatial multi-omic map of human myocardial infarction\n",
      "10x scATAC-seq from human cortex\n",
      "Visium spatial - HCAHeartST13228106 (OCT)\n",
      "Supercluster: Lower rhombic lip\n",
      "Gorilla: Great apes study\n",
      "Spatiotemporal analysis of human intestinal development at single-cell resolution: Adult A1\n",
      "Intratumoral heterogeneity in recurrent pediatric pilocytic astrocytomas\n",
      "Spatial transcriptomics in mouse: Puck_200104_09\n",
      "10X Visium spatial transcriptomics on tumor-normal interface tissue sections\n",
      "A single-cell multi-omic atlas spanning the adult rhesus macaque brain (cell class \"oligodendrocyte precursor cells\" subset)\n",
      "Modeling Hepatoblastoma: Identification of Distinct Tumor Cell Populations and Key Genetic Mechanisms through Single Cell Sequencing\n",
      "Spatial transcriptomics in the healthy human kidney: Puck_200115_09\n",
      "Stromal cells (all non-immune cells)\n",
      "Human Male\n",
      "DCM/ACM heart cell atlas: Mural cells\n",
      "Dissection: Thalamus (THM) - medial nuclear complex of thalamus (MNC) - mediodorsal nucleus of thalamus + reuniens nucleus (medioventral nucleus) of thalamus - MD + Re\n",
      "Horizontal cells of the human fovea and peripheral retina\n",
      "SCLC immune cells\n",
      "Human pancreatic islet cells\n",
      "Cutaneous melanoma, lymph node metastasis Puck_220408_09\n",
      "Tabula Sapiens - Thymus\n",
      "Fetal Bone Marrow (10x) - Down Syndrome\n",
      "Megakaryocyte/erythroid cells\n",
      "Paediatric Human Gut (4-14y)\n",
      "Spatial transcriptomics in the healthy human kidney: Puck_200104_18\n",
      "A proximal-to-distal survey of healthy adult human small intestine and colon epithelium by single-cell transcriptomics\n",
      "Visium spatial - HCAHeartST11350375 (OCT)\n",
      "Spatial transcriptomics in mouse: Puck_191109_20\n",
      "Visium spatial - SP\n",
      "Dissection: Perirhinal cortex (area 35) (A35) - rostral subdivision of area 35 - A35r\n",
      "Visium spatial - HCAHeartST11290658 (OCT)\n",
      "Pvalb - DLPFC: Seattle Alzheimer's Disease Atlas (SEA-AD)\n",
      "Single cell transcriptome analysis of human pancreas reveals transcriptional signatures of aging and somatic mutation patterns\n",
      "AIDA Phase 1: Chinese, Indian, Japanese, Korean, and Malay donors in Japan, Singapore, and South Korea\n",
      "visium spatial - sample v03\n",
      "Mouse Male\n",
      "Normal Tonsil Puck_210119_22\n",
      "Individual Single-Cell RNA-seq PBMC Data from Arunachalam et al.\n",
      "Massively multiplex chemical transcriptomics at single-cell resolution - MCF7\n",
      "Visium-IZ_P16-Spatial multi-omic map of human myocardial infarction\n",
      "Spatial transcriptomics in the healthy human kidney: Puck_200903_11\n",
      "all.OLIGO_OPC.comp\n",
      "Healthy human liver: hepatocytes\n",
      "Joint scRNA-seq and scATAC-seq atlas of the adult human retina\n",
      "Rectum\n",
      "All-snATAC-Spatial multi-omic map of human myocardial infarction\n",
      "Immune — Cells of the adult human heart\n",
      "Tabula Sapiens - Large_Intestine\n",
      "Dissection: Basal nuclei (BN) - Nucleus Accumbens - NAC\n",
      "Dissection: Midbrain (M) - Pretectal region - PTR\n",
      "Visium spatial - HCAHeartST8795937 (OCT)\n",
      "UMAP of Cancer Data integration\n",
      "blood and bone marrow from a healthy young donor\n",
      "mouse pancreatic islet cells\n",
      "Visium spatial - HCAHeartST12992072 (OCT)\n",
      "A transcriptomic atlas of the mouse cerebellum\n",
      "Non-pregnant Uterus (Endometrium - All)\n",
      "E9.0: Puck_220718_27\n",
      "E9.0: Puck_220718_33\n",
      "Dissection: Midbrain (M) - Substantia Nigra - SN\n",
      "Fetal kidney dataset: full\n",
      "Visium spatial - HCAHeartST11290657 (OCT)\n",
      "Visium spatial - HCAHeartST10550732 (OCT)\n",
      "3 healthy young and 3 healthy old bone marrow donors (Reference sample)\n",
      "Visium spatial - HCAHeartST11350377 (OCT)\n",
      "Dissection: Basal forebrain (BF) - substantia innominata and nearby nuclei - SI\n",
      "Visium-control_P17-Spatial multi-omic map of human myocardial infarction\n",
      "Visium-RZ_GT_P2-Spatial multi-omic map of human myocardial infarction\n",
      "Whole Taxonomy - MTG: Seattle Alzheimer's Disease Atlas (SEA-AD)\n",
      "Dissection: Cerebral cortex (Cx) - Supramarginal gyrus (SMG) - A40\n",
      "Spatial transcriptomics in the healthy human kidney: Puck_200903_13\n",
      "E9.0: Puck_220718_18\n",
      "Human Immune Cell Lineage\n",
      "All major cell types in adult human retina\n",
      "E9.5: 201112_08\n",
      "E8.5_rep1: 201104_24\n",
      "Single-cell analysis of prenatal and postnatal human cortical development\n",
      "Dissection: Cerebral cortex (Cx) - Middle Temporal Gyrus - MTG\n",
      "Dissection: Spinal cord - SpC\n",
      "Rod cells of human eye\n",
      "COMBAT project: single cell gene expression data from COVID-19, sepsis and flu patient PBMCs\n",
      "66 years old female - Airway Wash (3 days post-intubation)\n",
      "Spatial transcriptomics in mouse: Puck_191204_14\n",
      "Dissection: Midbrain (M) - Superior colliculus and nearby nuclei - SC\n",
      "All donors trophoblasts\n",
      "Supercluster: Deep-layer corticothalamic and 6b\n",
      "L6 IT - DLPFC: Seattle Alzheimer's Disease Atlas (SEA-AD)\n",
      "Dissection: Pons (Pn) - Pontine reticular formation (PnRF) - parabrachial nuclei - PB\n",
      "Dissection: Amygdaloid complex (AMY) - corticomedial nuclear group - CMN\n",
      "Spatial transcriptomics in the healthy human kidney: Puck_200115_04\n",
      "Visium-RZ_P11-Spatial multi-omic map of human myocardial infarction\n",
      "Single cell RNA sequencing of bone marrow mononuclear cells from healthy donors and B-cell lymphoma patients following CD19 CAR T-cell therapy\n",
      "Spatial transcriptomics in the healthy human kidney: Puck_200131_24\n",
      "BrainAgingSpatialAtlas_Imputed\n",
      "Tabula Sapiens - Mammary\n",
      "Spatial transcriptomics in mouse: Puck_191204_08\n",
      "Visium-RZ_FZ_P5-Spatial multi-omic map of human myocardial infarction\n",
      "Spatial transcriptomics in mouse: Puck_191112_04\n",
      "Dissection: Body of hippocampus (HiB) - Rostral CA3\n",
      "Dissection: Pons (Pn) - efferent nuclei of cranial nerves in pons - PnEN\n",
      "Colon\n",
      "Healthy human liver: integrated\n"
     ]
    }
   ],
   "source": [
    "# Subset all of the tabula muris files. \n",
    "\n",
    "tabula_muris_files = []\n",
    "tabula_sapiens_files = []\n",
    "for fh in list(Path('/efs/expression_atlas/scrna/cellxgene/2023-12-15/h5ads/').glob('*.h5ad')):\n",
    "    adata = ad.read_h5ad(fh, backed='r')\n",
    "    print(adata.uns['title'])\n",
    "    if 'A single-cell transcriptomic atlas characterizes ageing tissues in the mouse' in adata.uns['title']:\n",
    "        tabula_muris_files.append(fh)\n",
    "    if 'Tabula Sapiens' in adata.uns['title']:\n",
    "        tabula_sapiens_files.append(fh)"
   ]
  },
  {
   "cell_type": "code",
   "execution_count": 8,
   "metadata": {},
   "outputs": [
    {
     "data": {
      "text/plain": [
       "[PosixPath('/efs/expression_atlas/scrna/cellxgene/2023-12-15/h5ads/97a17473-e2b1-4f31-a544-44a60773e2dd.h5ad'),\n",
       " PosixPath('/efs/expression_atlas/scrna/cellxgene/2023-12-15/h5ads/c5d88abe-f23a-45fa-a534-788985e93dad.h5ad'),\n",
       " PosixPath('/efs/expression_atlas/scrna/cellxgene/2023-12-15/h5ads/18eb630b-a754-4111-8cd4-c24ec80aa5ec.h5ad'),\n",
       " PosixPath('/efs/expression_atlas/scrna/cellxgene/2023-12-15/h5ads/e5c63d94-593c-4338-a489-e1048599e751.h5ad'),\n",
       " PosixPath('/efs/expression_atlas/scrna/cellxgene/2023-12-15/h5ads/cee11228-9f0b-4e57-afe2-cfe15ee56312.h5ad'),\n",
       " PosixPath('/efs/expression_atlas/scrna/cellxgene/2023-12-15/h5ads/ff45e623-7f5f-46e3-b47d-56be0341f66b.h5ad'),\n",
       " PosixPath('/efs/expression_atlas/scrna/cellxgene/2023-12-15/h5ads/e6a11140-2545-46bc-929e-da243eed2cae.h5ad'),\n",
       " PosixPath('/efs/expression_atlas/scrna/cellxgene/2023-12-15/h5ads/0d2ee4ac-05ee-40b2-afb6-ebb584caa867.h5ad'),\n",
       " PosixPath('/efs/expression_atlas/scrna/cellxgene/2023-12-15/h5ads/5a11f879-d1ef-458a-910c-9b0bdfca5ebf.h5ad'),\n",
       " PosixPath('/efs/expression_atlas/scrna/cellxgene/2023-12-15/h5ads/4f1555bc-4664-46c3-a606-78d34dd10d92.h5ad'),\n",
       " PosixPath('/efs/expression_atlas/scrna/cellxgene/2023-12-15/h5ads/d8732da6-8d1d-42d9-b625-f2416c30054b.h5ad'),\n",
       " PosixPath('/efs/expression_atlas/scrna/cellxgene/2023-12-15/h5ads/53d208b0-2cfd-4366-9866-c3c6114081bc.h5ad'),\n",
       " PosixPath('/efs/expression_atlas/scrna/cellxgene/2023-12-15/h5ads/2423ce2c-3149-4cca-a2ff-cf682ea29b5f.h5ad'),\n",
       " PosixPath('/efs/expression_atlas/scrna/cellxgene/2023-12-15/h5ads/55cf0ea3-9d2b-4294-871e-bb4b49a79fc7.h5ad'),\n",
       " PosixPath('/efs/expression_atlas/scrna/cellxgene/2023-12-15/h5ads/a68b64d8-aee3-4947-81b7-36b8fe5a44d2.h5ad'),\n",
       " PosixPath('/efs/expression_atlas/scrna/cellxgene/2023-12-15/h5ads/6d41668c-168c-4500-b06a-4674ccf3e19d.h5ad'),\n",
       " PosixPath('/efs/expression_atlas/scrna/cellxgene/2023-12-15/h5ads/1c9eb291-6d31-47e1-96b2-129b5e1ae64f.h5ad'),\n",
       " PosixPath('/efs/expression_atlas/scrna/cellxgene/2023-12-15/h5ads/6ec405bb-4727-4c6d-ab4e-01fe489af7ea.h5ad'),\n",
       " PosixPath('/efs/expression_atlas/scrna/cellxgene/2023-12-15/h5ads/f01bdd17-4902-40f5-86e3-240d66dd2587.h5ad'),\n",
       " PosixPath('/efs/expression_atlas/scrna/cellxgene/2023-12-15/h5ads/5e5e7a2f-8f1c-42ac-90dc-b4f80f38e84c.h5ad'),\n",
       " PosixPath('/efs/expression_atlas/scrna/cellxgene/2023-12-15/h5ads/d77ec7d6-ef2e-49d6-9e79-05b7f8881484.h5ad'),\n",
       " PosixPath('/efs/expression_atlas/scrna/cellxgene/2023-12-15/h5ads/a0754256-f44b-4c4a-962c-a552e47d3fdc.h5ad'),\n",
       " PosixPath('/efs/expression_atlas/scrna/cellxgene/2023-12-15/h5ads/a2d4d33e-4c62-4361-b80a-9be53d2e50e8.h5ad'),\n",
       " PosixPath('/efs/expression_atlas/scrna/cellxgene/2023-12-15/h5ads/a357414d-2042-4eb5-95f0-c58604a18bdd.h5ad'),\n",
       " PosixPath('/efs/expression_atlas/scrna/cellxgene/2023-12-15/h5ads/983d5ec9-40e8-4512-9e65-a572a9c486cb.h5ad'),\n",
       " PosixPath('/efs/expression_atlas/scrna/cellxgene/2023-12-15/h5ads/0041b9c3-6a49-4bf7-8514-9bc7190067a7.h5ad'),\n",
       " PosixPath('/efs/expression_atlas/scrna/cellxgene/2023-12-15/h5ads/0ced5e76-6040-47ff-8a72-93847965afc0.h5ad'),\n",
       " PosixPath('/efs/expression_atlas/scrna/cellxgene/2023-12-15/h5ads/7357cee7-9f7f-4ab0-8cec-90de8f047e38.h5ad'),\n",
       " PosixPath('/efs/expression_atlas/scrna/cellxgene/2023-12-15/h5ads/2ba40233-8576-4dec-a5f1-2adfa115e2dc.h5ad')]"
      ]
     },
     "execution_count": 8,
     "metadata": {},
     "output_type": "execute_result"
    }
   ],
   "source": [
    "tabula_sapiens_files"
   ]
  },
  {
   "cell_type": "code",
   "execution_count": 9,
   "metadata": {},
   "outputs": [
    {
     "data": {
      "text/plain": [
       "[PosixPath('/efs/expression_atlas/scrna/cellxgene/2023-12-15/h5ads/0fb7916e-7a68-4a4c-a441-3ab3989f29a7.h5ad'),\n",
       " PosixPath('/efs/expression_atlas/scrna/cellxgene/2023-12-15/h5ads/b8c618e5-4b3d-4566-8a3f-7e40047f5c54.h5ad'),\n",
       " PosixPath('/efs/expression_atlas/scrna/cellxgene/2023-12-15/h5ads/3f4fe86f-aced-4d10-b174-ee35b9f46b9d.h5ad'),\n",
       " PosixPath('/efs/expression_atlas/scrna/cellxgene/2023-12-15/h5ads/4546e757-34d0-4d17-be06-538318925fcd.h5ad'),\n",
       " PosixPath('/efs/expression_atlas/scrna/cellxgene/2023-12-15/h5ads/76544818-bc5b-4a0d-87d4-40dde89545cb.h5ad'),\n",
       " PosixPath('/efs/expression_atlas/scrna/cellxgene/2023-12-15/h5ads/1d29fd10-c8b3-4611-b0ac-3c578125adbf.h5ad'),\n",
       " PosixPath('/efs/expression_atlas/scrna/cellxgene/2023-12-15/h5ads/98ad5247-68f8-42f8-b8e5-7938cb373a91.h5ad'),\n",
       " PosixPath('/efs/expression_atlas/scrna/cellxgene/2023-12-15/h5ads/f16a8f4d-bc97-43c5-a2f6-bbda952e4c5c.h5ad'),\n",
       " PosixPath('/efs/expression_atlas/scrna/cellxgene/2023-12-15/h5ads/821c79aa-044e-40cf-b331-0fe3edd48019.h5ad'),\n",
       " PosixPath('/efs/expression_atlas/scrna/cellxgene/2023-12-15/h5ads/c9096ac4-ea44-4cf9-82f4-af05cb83eb24.h5ad'),\n",
       " PosixPath('/efs/expression_atlas/scrna/cellxgene/2023-12-15/h5ads/4fa55ee5-8da4-4d42-9525-1c52d4ce50bf.h5ad'),\n",
       " PosixPath('/efs/expression_atlas/scrna/cellxgene/2023-12-15/h5ads/bc7466d7-ff13-4ff2-9c3d-7a1d208bd492.h5ad'),\n",
       " PosixPath('/efs/expression_atlas/scrna/cellxgene/2023-12-15/h5ads/8f1bc86b-7976-4826-8602-f5266160ad86.h5ad'),\n",
       " PosixPath('/efs/expression_atlas/scrna/cellxgene/2023-12-15/h5ads/2491629a-bde0-46ad-a073-e34fcb516857.h5ad'),\n",
       " PosixPath('/efs/expression_atlas/scrna/cellxgene/2023-12-15/h5ads/e3b8c485-7811-407e-99ed-c7d574be9d7c.h5ad'),\n",
       " PosixPath('/efs/expression_atlas/scrna/cellxgene/2023-12-15/h5ads/6202a243-b713-4e12-9ced-c387f8483dea.h5ad'),\n",
       " PosixPath('/efs/expression_atlas/scrna/cellxgene/2023-12-15/h5ads/1a0610d8-1339-479b-b261-7fb586c3dab9.h5ad'),\n",
       " PosixPath('/efs/expression_atlas/scrna/cellxgene/2023-12-15/h5ads/db55b719-6102-493a-9251-404bc501d0de.h5ad'),\n",
       " PosixPath('/efs/expression_atlas/scrna/cellxgene/2023-12-15/h5ads/7c6091da-4606-44c7-a2c4-ef896de09e28.h5ad'),\n",
       " PosixPath('/efs/expression_atlas/scrna/cellxgene/2023-12-15/h5ads/524179b0-b406-4723-9c46-293ffa77ca81.h5ad'),\n",
       " PosixPath('/efs/expression_atlas/scrna/cellxgene/2023-12-15/h5ads/66ff82b4-9380-469c-bc4b-cfa08eacd325.h5ad'),\n",
       " PosixPath('/efs/expression_atlas/scrna/cellxgene/2023-12-15/h5ads/c08f8441-4a10-4748-872a-e70c0bcccdba.h5ad'),\n",
       " PosixPath('/efs/expression_atlas/scrna/cellxgene/2023-12-15/h5ads/cbd62079-bed8-4aa1-9659-670f9cb51f9d.h5ad'),\n",
       " PosixPath('/efs/expression_atlas/scrna/cellxgene/2023-12-15/h5ads/93966790-bbfa-420f-aa85-bc5ca51d9c96.h5ad'),\n",
       " PosixPath('/efs/expression_atlas/scrna/cellxgene/2023-12-15/h5ads/e80d4e1c-672f-496a-8f32-37eab34f727d.h5ad'),\n",
       " PosixPath('/efs/expression_atlas/scrna/cellxgene/2023-12-15/h5ads/48b37086-25f7-4ecd-be66-f5bb378e3aea.h5ad'),\n",
       " PosixPath('/efs/expression_atlas/scrna/cellxgene/2023-12-15/h5ads/ef47280b-3e68-4188-a49a-7b8374c8a6f2.h5ad'),\n",
       " PosixPath('/efs/expression_atlas/scrna/cellxgene/2023-12-15/h5ads/6e4f871d-fd7c-4909-8c14-e4c9957c2e8f.h5ad'),\n",
       " PosixPath('/efs/expression_atlas/scrna/cellxgene/2023-12-15/h5ads/c2878000-d3f0-4d30-9a8a-2139a13c72f8.h5ad'),\n",
       " PosixPath('/efs/expression_atlas/scrna/cellxgene/2023-12-15/h5ads/a7ace090-1ba1-47f2-8def-6e11298b7816.h5ad'),\n",
       " PosixPath('/efs/expression_atlas/scrna/cellxgene/2023-12-15/h5ads/bf12f9c6-4211-4c91-9c71-22019f29f516.h5ad'),\n",
       " PosixPath('/efs/expression_atlas/scrna/cellxgene/2023-12-15/h5ads/0bd1a1de-3aee-40e0-b2ec-86c7a30c7149.h5ad'),\n",
       " PosixPath('/efs/expression_atlas/scrna/cellxgene/2023-12-15/h5ads/de4e7a0c-91b2-44e4-b382-87da74c9efb6.h5ad'),\n",
       " PosixPath('/efs/expression_atlas/scrna/cellxgene/2023-12-15/h5ads/e2b469d4-b5c3-4a35-9d19-ee71ce61cae0.h5ad'),\n",
       " PosixPath('/efs/expression_atlas/scrna/cellxgene/2023-12-15/h5ads/ec6c52b8-3368-4f72-a416-1ade0dab97bf.h5ad'),\n",
       " PosixPath('/efs/expression_atlas/scrna/cellxgene/2023-12-15/h5ads/0380ddce-c31b-422a-88fe-34a1945bd949.h5ad'),\n",
       " PosixPath('/efs/expression_atlas/scrna/cellxgene/2023-12-15/h5ads/1fe63353-9e75-4824-aa30-ed8d84be748c.h5ad'),\n",
       " PosixPath('/efs/expression_atlas/scrna/cellxgene/2023-12-15/h5ads/1efd4700-87dd-4b45-8762-11ba3fea7a65.h5ad'),\n",
       " PosixPath('/efs/expression_atlas/scrna/cellxgene/2023-12-15/h5ads/170ce19f-7a2f-4926-a1cc-adcad99e7474.h5ad'),\n",
       " PosixPath('/efs/expression_atlas/scrna/cellxgene/2023-12-15/h5ads/05e6f6e3-0473-4b85-9f94-bcc5f1b5e04b.h5ad'),\n",
       " PosixPath('/efs/expression_atlas/scrna/cellxgene/2023-12-15/h5ads/98e5ea9f-16d6-47ec-a529-686e76515e39.h5ad'),\n",
       " PosixPath('/efs/expression_atlas/scrna/cellxgene/2023-12-15/h5ads/a6626b73-a0de-4dee-99aa-2559ab05af11.h5ad')]"
      ]
     },
     "execution_count": 9,
     "metadata": {},
     "output_type": "execute_result"
    }
   ],
   "source": [
    "tabula_muris_files"
   ]
  },
  {
   "cell_type": "code",
   "execution_count": 3,
   "metadata": {},
   "outputs": [],
   "source": [
    "cellxgene_loc = Path('/efs/expression_atlas/scrna/cellxgene/2023-12-15/h5ads/')"
   ]
  },
  {
   "cell_type": "code",
   "execution_count": 4,
   "metadata": {},
   "outputs": [],
   "source": [
    "(settings.DATA_LOC / 'tabula_muris' / '10X').mkdir(exist_ok=True)\n",
    "(settings.DATA_LOC / 'tabula_muris' / 'smart-seq').mkdir(exist_ok=True)"
   ]
  },
  {
   "cell_type": "code",
   "execution_count": 25,
   "metadata": {},
   "outputs": [
    {
     "name": "stdout",
     "output_type": "stream",
     "text": [
      "0fb7916e-7a68-4a4c-a441-3ab3989f29a7_pseuodobulk\n",
      "Lung - A single-cell transcriptomic atlas characterizes ageing tissues in the mouse - 10x\n",
      "(17985, 9)\n",
      "(17985, 10)\n"
     ]
    },
    {
     "name": "stderr",
     "output_type": "stream",
     "text": [
      "100%|██████████| 114/114 [00:12<00:00,  9.08it/s]\n",
      "100%|██████████| 64/64 [00:58<00:00,  1.09it/s]\n",
      "... storing 'tissue_cell_type' as categorical\n"
     ]
    },
    {
     "name": "stdout",
     "output_type": "stream",
     "text": [
      "3f4fe86f-aced-4d10-b174-ee35b9f46b9d_pseuodobulk\n",
      "Trachea - A single-cell transcriptomic atlas characterizes ageing tissues in the mouse - Smart-seq2\n",
      "(21069, 9)\n",
      "(21069, 10)\n"
     ]
    },
    {
     "name": "stderr",
     "output_type": "stream",
     "text": [
      "100%|██████████| 49/49 [00:02<00:00, 19.90it/s]\n",
      "100%|██████████| 34/34 [00:09<00:00,  3.58it/s]\n",
      "... storing 'tissue_cell_type' as categorical\n"
     ]
    },
    {
     "name": "stdout",
     "output_type": "stream",
     "text": [
      "4546e757-34d0-4d17-be06-538318925fcd_pseuodobulk\n",
      "Liver - A single-cell transcriptomic atlas characterizes ageing tissues in the mouse - Smart-seq2\n",
      "(21069, 9)\n",
      "(21069, 10)\n"
     ]
    },
    {
     "name": "stderr",
     "output_type": "stream",
     "text": [
      "100%|██████████| 38/38 [00:01<00:00, 19.86it/s]\n",
      "100%|██████████| 25/25 [00:07<00:00,  3.54it/s]\n",
      "... storing 'tissue_cell_type' as categorical\n"
     ]
    },
    {
     "name": "stdout",
     "output_type": "stream",
     "text": [
      "1d29fd10-c8b3-4611-b0ac-3c578125adbf_pseuodobulk\n",
      "Skin of body - A single-cell transcriptomic atlas characterizes ageing tissues in the mouse - Smart-seq2\n",
      "(21069, 9)\n",
      "(21069, 10)\n"
     ]
    },
    {
     "name": "stderr",
     "output_type": "stream",
     "text": [
      "100%|██████████| 41/41 [00:03<00:00, 10.97it/s]\n",
      "100%|██████████| 29/29 [00:11<00:00,  2.42it/s]\n",
      "... storing 'tissue_cell_type' as categorical\n"
     ]
    },
    {
     "name": "stdout",
     "output_type": "stream",
     "text": [
      "4fa55ee5-8da4-4d42-9525-1c52d4ce50bf_pseuodobulk\n",
      "Skin of body - A single-cell transcriptomic atlas characterizes ageing tissues in the mouse - 10x\n",
      "(17985, 9)\n",
      "(17985, 10)\n"
     ]
    },
    {
     "name": "stderr",
     "output_type": "stream",
     "text": [
      "100%|██████████| 41/41 [00:03<00:00, 10.91it/s]\n",
      "100%|██████████| 32/32 [00:12<00:00,  2.48it/s]\n",
      "... storing 'tissue_cell_type' as categorical\n"
     ]
    },
    {
     "name": "stdout",
     "output_type": "stream",
     "text": [
      "2491629a-bde0-46ad-a073-e34fcb516857_pseuodobulk\n",
      "Large intestine - A single-cell transcriptomic atlas characterizes ageing tissues in the mouse - 10x\n",
      "(21069, 9)\n",
      "(21069, 10)\n"
     ]
    },
    {
     "name": "stderr",
     "output_type": "stream",
     "text": [
      "100%|██████████| 65/65 [00:07<00:00,  8.47it/s]\n",
      "100%|██████████| 37/37 [00:25<00:00,  1.47it/s]\n",
      "... storing 'tissue_cell_type' as categorical\n"
     ]
    },
    {
     "name": "stdout",
     "output_type": "stream",
     "text": [
      "1a0610d8-1339-479b-b261-7fb586c3dab9_pseuodobulk\n",
      "Trachea - A single-cell transcriptomic atlas characterizes ageing tissues in the mouse - 10x\n",
      "(17985, 9)\n",
      "(17985, 10)\n"
     ]
    },
    {
     "name": "stderr",
     "output_type": "stream",
     "text": [
      "100%|██████████| 91/91 [00:05<00:00, 18.13it/s]\n",
      "100%|██████████| 45/45 [00:19<00:00,  2.30it/s]\n",
      "... storing 'tissue_cell_type' as categorical\n"
     ]
    },
    {
     "name": "stdout",
     "output_type": "stream",
     "text": [
      "48b37086-25f7-4ecd-be66-f5bb378e3aea_pseuodobulk\n",
      "All - A single-cell transcriptomic atlas characterizes ageing tissues in the mouse - 10x\n",
      "(17985, 9)\n",
      "(17985, 10)\n"
     ]
    },
    {
     "name": "stderr",
     "output_type": "stream",
     "text": [
      "100%|██████████| 1007/1007 [03:27<00:00,  4.84it/s]\n",
      " 13%|█▎        | 67/535 [01:16<29:56,  3.84s/it]2024-06-24 16:10:20.644 WARNING root: Singular matrix. Likely caused by all points lying in an N-1 space.\n",
      "2024-06-24 16:10:21.531 WARNING root: Singular matrix. Likely caused by all points lying in an N-1 space.\n",
      " 26%|██▌       | 137/535 [04:05<10:02,  1.51s/it]2024-06-24 16:12:58.049 WARNING root: Singular matrix. Likely caused by all points lying in an N-1 space.\n",
      " 33%|███▎      | 179/535 [05:10<07:18,  1.23s/it]2024-06-24 16:14:04.544 WARNING root: Singular matrix. Likely caused by all points lying in an N-1 space.\n",
      " 64%|██████▎   | 341/535 [09:15<07:13,  2.24s/it]2024-06-24 16:18:07.885 WARNING root: Singular matrix. Likely caused by all points lying in an N-1 space.\n",
      " 78%|███████▊  | 419/535 [11:04<04:50,  2.50s/it]2024-06-24 16:20:04.327 WARNING root: Singular matrix. Likely caused by all points lying in an N-1 space.\n",
      "100%|██████████| 535/535 [14:26<00:00,  1.62s/it]\n",
      "... storing 'tissue_cell_type' as categorical\n"
     ]
    },
    {
     "name": "stdout",
     "output_type": "stream",
     "text": [
      "0bd1a1de-3aee-40e0-b2ec-86c7a30c7149_pseuodobulk\n",
      "Bone marrow - A single-cell transcriptomic atlas characterizes ageing tissues in the mouse - 10x\n",
      "(17985, 9)\n",
      "(17985, 10)\n"
     ]
    },
    {
     "name": "stderr",
     "output_type": "stream",
     "text": [
      "100%|██████████| 154/154 [00:29<00:00,  5.15it/s]\n",
      "100%|██████████| 74/74 [01:58<00:00,  1.61s/it]\n",
      "... storing 'tissue_cell_type' as categorical\n"
     ]
    },
    {
     "name": "stdout",
     "output_type": "stream",
     "text": [
      "0380ddce-c31b-422a-88fe-34a1945bd949_pseuodobulk\n",
      "Aorta — A single-cell transcriptomic atlas characterizes ageing tissues in the mouse\n",
      "(21069, 9)\n",
      "(21069, 10)\n"
     ]
    },
    {
     "name": "stderr",
     "output_type": "stream",
     "text": [
      "100%|██████████| 34/34 [00:00<00:00, 75.56it/s]\n",
      "100%|██████████| 22/22 [00:01<00:00, 13.97it/s]\n",
      "... storing 'tissue_cell_type' as categorical\n"
     ]
    },
    {
     "name": "stdout",
     "output_type": "stream",
     "text": [
      "1fe63353-9e75-4824-aa30-ed8d84be748c_pseuodobulk\n",
      "Heart - A single-cell transcriptomic atlas characterizes ageing tissues in the mouse - 10x\n",
      "(17985, 9)\n",
      "(17985, 10)\n"
     ]
    },
    {
     "name": "stderr",
     "output_type": "stream",
     "text": [
      "100%|██████████| 51/51 [00:05<00:00,  8.72it/s]\n",
      "100%|██████████| 34/34 [00:23<00:00,  1.47it/s]\n",
      "... storing 'tissue_cell_type' as categorical\n"
     ]
    },
    {
     "name": "stdout",
     "output_type": "stream",
     "text": [
      "1efd4700-87dd-4b45-8762-11ba3fea7a65_pseuodobulk\n",
      "Heart - A single-cell transcriptomic atlas characterizes ageing tissues in the mouse - Smart-seq2\n",
      "(21069, 9)\n",
      "(21069, 10)\n"
     ]
    },
    {
     "name": "stderr",
     "output_type": "stream",
     "text": [
      "100%|██████████| 74/74 [00:07<00:00,  9.57it/s]\n",
      "100%|██████████| 47/47 [00:30<00:00,  1.55it/s]\n",
      "... storing 'tissue_cell_type' as categorical\n"
     ]
    },
    {
     "name": "stdout",
     "output_type": "stream",
     "text": [
      "170ce19f-7a2f-4926-a1cc-adcad99e7474_pseuodobulk\n",
      "Thymus - A single-cell transcriptomic atlas characterizes ageing tissues in the mouse - Smart-seq2\n",
      "(21069, 9)\n",
      "(21069, 10)\n"
     ]
    },
    {
     "name": "stderr",
     "output_type": "stream",
     "text": [
      "100%|██████████| 40/40 [00:02<00:00, 19.50it/s]\n",
      "100%|██████████| 29/29 [00:08<00:00,  3.30it/s]\n",
      "... storing 'tissue_cell_type' as categorical\n"
     ]
    },
    {
     "name": "stdout",
     "output_type": "stream",
     "text": [
      "05e6f6e3-0473-4b85-9f94-bcc5f1b5e04b_pseuodobulk\n",
      "Lung - A single-cell transcriptomic atlas characterizes ageing tissues in the mouse - Smart-seq2\n",
      "(21069, 9)\n",
      "(21069, 10)\n"
     ]
    },
    {
     "name": "stderr",
     "output_type": "stream",
     "text": [
      "100%|██████████| 102/102 [00:03<00:00, 29.20it/s]\n",
      "100%|██████████| 45/45 [00:11<00:00,  3.92it/s]\n",
      "... storing 'tissue_cell_type' as categorical\n"
     ]
    },
    {
     "name": "stdout",
     "output_type": "stream",
     "text": [
      "b8c618e5-4b3d-4566-8a3f-7e40047f5c54_pseuodobulk\n",
      "Kidney - A single-cell transcriptomic atlas characterizes ageing tissues in the mouse - 10x\n",
      "(17985, 9)\n",
      "(17985, 10)\n"
     ]
    },
    {
     "name": "stderr",
     "output_type": "stream",
     "text": [
      "100%|██████████| 136/136 [00:16<00:00,  8.43it/s]\n",
      "100%|██████████| 79/79 [01:01<00:00,  1.29it/s]\n",
      "... storing 'tissue_cell_type' as categorical\n"
     ]
    },
    {
     "name": "stdout",
     "output_type": "stream",
     "text": [
      "76544818-bc5b-4a0d-87d4-40dde89545cb_pseuodobulk\n",
      "Adipose tissue — A single-cell transcriptomic atlas characterizes ageing tissues in the mouse\n",
      "(17985, 9)\n",
      "(17985, 10)\n"
     ]
    },
    {
     "name": "stderr",
     "output_type": "stream",
     "text": [
      "100%|██████████| 55/55 [00:04<00:00, 12.09it/s]\n",
      "100%|██████████| 37/37 [00:17<00:00,  2.10it/s]\n",
      "... storing 'tissue_cell_type' as categorical\n"
     ]
    },
    {
     "name": "stdout",
     "output_type": "stream",
     "text": [
      "98ad5247-68f8-42f8-b8e5-7938cb373a91_pseuodobulk\n",
      "Tongue - A single-cell transcriptomic atlas characterizes ageing tissues in the mouse - 10x\n",
      "(17985, 9)\n",
      "(17985, 10)\n"
     ]
    },
    {
     "name": "stderr",
     "output_type": "stream",
     "text": [
      "100%|██████████| 39/39 [00:21<00:00,  1.83it/s]\n",
      "100%|██████████| 36/36 [01:24<00:00,  2.35s/it]\n",
      "... storing 'tissue_cell_type' as categorical\n"
     ]
    },
    {
     "name": "stdout",
     "output_type": "stream",
     "text": [
      "821c79aa-044e-40cf-b331-0fe3edd48019_pseuodobulk\n",
      "Mesenteric fat pad — A single-cell transcriptomic atlas characterizes ageing tissues in the mouse\n",
      "(21069, 9)\n",
      "(21069, 10)\n"
     ]
    },
    {
     "name": "stderr",
     "output_type": "stream",
     "text": [
      "100%|██████████| 37/37 [00:01<00:00, 18.85it/s]\n",
      "100%|██████████| 26/26 [00:07<00:00,  3.41it/s]\n",
      "... storing 'tissue_cell_type' as categorical\n"
     ]
    },
    {
     "name": "stdout",
     "output_type": "stream",
     "text": [
      "c9096ac4-ea44-4cf9-82f4-af05cb83eb24_pseuodobulk\n",
      "Tongue - A single-cell transcriptomic atlas characterizes ageing tissues in the mouse - Smart-seq2\n",
      "(21069, 9)\n",
      "(21069, 10)\n"
     ]
    },
    {
     "name": "stderr",
     "output_type": "stream",
     "text": [
      "100%|██████████| 22/22 [00:02<00:00,  7.41it/s]\n",
      "100%|██████████| 16/16 [00:10<00:00,  1.49it/s]\n",
      "... storing 'tissue_cell_type' as categorical\n"
     ]
    },
    {
     "name": "stdout",
     "output_type": "stream",
     "text": [
      "bc7466d7-ff13-4ff2-9c3d-7a1d208bd492_pseuodobulk\n",
      "Mammary gland - A single-cell transcriptomic atlas characterizes ageing tissues in the mouse - Smart-seq2\n",
      "(21069, 9)\n",
      "(21069, 10)\n"
     ]
    },
    {
     "name": "stderr",
     "output_type": "stream",
     "text": [
      "100%|██████████| 22/22 [00:01<00:00, 12.61it/s]\n",
      "100%|██████████| 17/17 [00:07<00:00,  2.28it/s]\n",
      "... storing 'tissue_cell_type' as categorical\n"
     ]
    },
    {
     "name": "stdout",
     "output_type": "stream",
     "text": [
      "8f1bc86b-7976-4826-8602-f5266160ad86_pseuodobulk\n",
      "Brown adipose tissue — A single-cell transcriptomic atlas characterizes ageing tissues in the mouse\n",
      "(21069, 9)\n",
      "(21069, 10)\n"
     ]
    },
    {
     "name": "stderr",
     "output_type": "stream",
     "text": [
      "100%|██████████| 27/27 [00:00<00:00, 35.01it/s]\n",
      "100%|██████████| 18/18 [00:03<00:00,  5.63it/s]\n",
      "... storing 'tissue_cell_type' as categorical\n"
     ]
    },
    {
     "name": "stdout",
     "output_type": "stream",
     "text": [
      "e3b8c485-7811-407e-99ed-c7d574be9d7c_pseuodobulk\n",
      "Pancreas - A single-cell transcriptomic atlas characterizes ageing tissues in the mouse - Smart-seq2\n",
      "(21069, 9)\n",
      "(21069, 10)\n"
     ]
    },
    {
     "name": "stderr",
     "output_type": "stream",
     "text": [
      "100%|██████████| 44/44 [00:03<00:00, 14.08it/s]\n",
      "100%|██████████| 24/24 [00:09<00:00,  2.61it/s]\n",
      "... storing 'tissue_cell_type' as categorical\n"
     ]
    },
    {
     "name": "stdout",
     "output_type": "stream",
     "text": [
      "6202a243-b713-4e12-9ced-c387f8483dea_pseuodobulk\n",
      "Liver - A single-cell transcriptomic atlas characterizes ageing tissues in the mouse - 10x\n",
      "(17985, 9)\n",
      "(17985, 10)\n"
     ]
    },
    {
     "name": "stderr",
     "output_type": "stream",
     "text": [
      "100%|██████████| 58/58 [00:03<00:00, 14.59it/s]\n",
      "100%|██████████| 38/38 [00:14<00:00,  2.70it/s]\n",
      "... storing 'tissue_cell_type' as categorical\n"
     ]
    },
    {
     "name": "stdout",
     "output_type": "stream",
     "text": [
      "db55b719-6102-493a-9251-404bc501d0de_pseuodobulk\n",
      "Bone marrow - A single-cell transcriptomic atlas characterizes ageing tissues in the mouse - Smart-seq2\n",
      "(21069, 9)\n",
      "(21069, 10)\n"
     ]
    },
    {
     "name": "stderr",
     "output_type": "stream",
     "text": [
      "100%|██████████| 111/111 [00:11<00:00,  9.52it/s]\n",
      "100%|██████████| 60/60 [00:44<00:00,  1.35it/s]\n",
      "... storing 'tissue_cell_type' as categorical\n"
     ]
    },
    {
     "name": "stdout",
     "output_type": "stream",
     "text": [
      "7c6091da-4606-44c7-a2c4-ef896de09e28_pseuodobulk\n",
      "Mammary gland - A single-cell transcriptomic atlas characterizes ageing tissues in the mouse - 10x\n",
      "(17985, 9)\n",
      "(17985, 10)\n"
     ]
    },
    {
     "name": "stderr",
     "output_type": "stream",
     "text": [
      "100%|██████████| 63/63 [00:08<00:00,  7.30it/s]\n",
      "100%|██████████| 32/32 [00:37<00:00,  1.18s/it]\n",
      "... storing 'tissue_cell_type' as categorical\n"
     ]
    },
    {
     "name": "stdout",
     "output_type": "stream",
     "text": [
      "524179b0-b406-4723-9c46-293ffa77ca81_pseuodobulk\n",
      "Kidney - A single-cell transcriptomic atlas characterizes ageing tissues in the mouse - Smart-seq2\n",
      "(21069, 9)\n",
      "(21069, 10)\n"
     ]
    },
    {
     "name": "stderr",
     "output_type": "stream",
     "text": [
      "100%|██████████| 32/32 [00:01<00:00, 30.87it/s]\n",
      "100%|██████████| 21/21 [00:03<00:00,  5.62it/s]\n",
      "... storing 'tissue_cell_type' as categorical\n"
     ]
    },
    {
     "name": "stdout",
     "output_type": "stream",
     "text": [
      "66ff82b4-9380-469c-bc4b-cfa08eacd325_pseuodobulk\n",
      "Brain non-myeloid cells - A single-cell transcriptomic atlas characterizes ageing tissues in the mouse\n",
      "(21069, 9)\n",
      "(21069, 10)\n"
     ]
    },
    {
     "name": "stderr",
     "output_type": "stream",
     "text": [
      "100%|██████████| 68/68 [00:05<00:00, 11.42it/s]\n",
      "100%|██████████| 39/39 [00:20<00:00,  1.88it/s]\n",
      "... storing 'tissue_cell_type' as categorical\n"
     ]
    },
    {
     "name": "stdout",
     "output_type": "stream",
     "text": [
      "c08f8441-4a10-4748-872a-e70c0bcccdba_pseuodobulk\n",
      "Brain myeloid cells - A single-cell transcriptomic atlas characterizes ageing tissues in the mouse - Smart-seq2\n",
      "(21069, 9)\n",
      "(21069, 10)\n"
     ]
    },
    {
     "name": "stderr",
     "output_type": "stream",
     "text": [
      "100%|██████████| 21/21 [00:06<00:00,  3.25it/s]\n",
      "100%|██████████| 20/20 [00:29<00:00,  1.46s/it]\n",
      "... storing 'tissue_cell_type' as categorical\n"
     ]
    },
    {
     "name": "stdout",
     "output_type": "stream",
     "text": [
      "cbd62079-bed8-4aa1-9659-670f9cb51f9d_pseuodobulk\n",
      "Diaphragm — A single-cell transcriptomic atlas characterizes ageing tissues in the mouse\n",
      "(21069, 9)\n",
      "(21069, 10)\n"
     ]
    },
    {
     "name": "stderr",
     "output_type": "stream",
     "text": [
      "100%|██████████| 27/27 [00:00<00:00, 34.24it/s]\n",
      "100%|██████████| 16/16 [00:02<00:00,  7.02it/s]\n",
      "... storing 'tissue_cell_type' as categorical\n"
     ]
    },
    {
     "name": "stdout",
     "output_type": "stream",
     "text": [
      "93966790-bbfa-420f-aa85-bc5ca51d9c96_pseuodobulk\n",
      "Bladder lumen - A single-cell transcriptomic atlas characterizes ageing tissues in the mouse - 10x\n",
      "(17985, 9)\n",
      "(17985, 10)\n"
     ]
    },
    {
     "name": "stderr",
     "output_type": "stream",
     "text": [
      "100%|██████████| 25/25 [00:05<00:00,  4.26it/s]\n",
      "100%|██████████| 20/20 [00:24<00:00,  1.22s/it]\n",
      "... storing 'tissue_cell_type' as categorical\n"
     ]
    },
    {
     "name": "stdout",
     "output_type": "stream",
     "text": [
      "e80d4e1c-672f-496a-8f32-37eab34f727d_pseuodobulk\n",
      "Spleen - A single-cell transcriptomic atlas characterizes ageing tissues in the mouse - Smart-seq2\n",
      "(21069, 9)\n",
      "(21069, 10)\n"
     ]
    },
    {
     "name": "stderr",
     "output_type": "stream",
     "text": [
      "100%|██████████| 28/28 [00:01<00:00, 15.37it/s]\n",
      "100%|██████████| 21/21 [00:08<00:00,  2.56it/s]\n",
      "... storing 'tissue_cell_type' as categorical\n"
     ]
    },
    {
     "name": "stdout",
     "output_type": "stream",
     "text": [
      "ef47280b-3e68-4188-a49a-7b8374c8a6f2_pseuodobulk\n",
      "Pancreas - A single-cell transcriptomic atlas characterizes ageing tissues in the mouse - 10x\n",
      "(17985, 9)\n",
      "(17985, 10)\n"
     ]
    },
    {
     "name": "stderr",
     "output_type": "stream",
     "text": [
      "100%|██████████| 33/33 [00:02<00:00, 16.08it/s]\n",
      "100%|██████████| 22/22 [00:09<00:00,  2.30it/s]\n",
      "... storing 'tissue_cell_type' as categorical\n"
     ]
    },
    {
     "name": "stdout",
     "output_type": "stream",
     "text": [
      "6e4f871d-fd7c-4909-8c14-e4c9957c2e8f_pseuodobulk\n",
      "Thymus - A single-cell transcriptomic atlas characterizes ageing tissues in the mouse - 10x\n",
      "(17985, 9)\n",
      "(17985, 10)\n"
     ]
    },
    {
     "name": "stderr",
     "output_type": "stream",
     "text": [
      "100%|██████████| 47/47 [00:05<00:00,  9.00it/s]\n",
      "100%|██████████| 28/28 [00:20<00:00,  1.34it/s]\n",
      "... storing 'tissue_cell_type' as categorical\n"
     ]
    },
    {
     "name": "stdout",
     "output_type": "stream",
     "text": [
      "c2878000-d3f0-4d30-9a8a-2139a13c72f8_pseuodobulk\n",
      "Subcutaneous adipose tissue — A single-cell transcriptomic atlas characterizes ageing tissues in the mouse\n",
      "(21069, 9)\n",
      "(21069, 10)\n"
     ]
    },
    {
     "name": "stderr",
     "output_type": "stream",
     "text": [
      "100%|██████████| 53/53 [00:02<00:00, 20.74it/s]\n",
      "100%|██████████| 38/38 [00:08<00:00,  4.54it/s]\n",
      "... storing 'tissue_cell_type' as categorical\n"
     ]
    },
    {
     "name": "stdout",
     "output_type": "stream",
     "text": [
      "a7ace090-1ba1-47f2-8def-6e11298b7816_pseuodobulk\n",
      "Limb muscle - A single-cell transcriptomic atlas characterizes ageing tissues in the mouse - 10x\n",
      "(17985, 9)\n",
      "(17985, 10)\n"
     ]
    },
    {
     "name": "stderr",
     "output_type": "stream",
     "text": [
      "100%|██████████| 84/84 [00:21<00:00,  3.88it/s]\n",
      "100%|██████████| 35/35 [01:29<00:00,  2.57s/it]\n",
      "... storing 'tissue_cell_type' as categorical\n"
     ]
    },
    {
     "name": "stdout",
     "output_type": "stream",
     "text": [
      "bf12f9c6-4211-4c91-9c71-22019f29f516_pseuodobulk\n",
      "Bladder lumen - A single-cell transcriptomic atlas characterizes ageing tissues in the mouse - Smart-seq2\n",
      "(21069, 9)\n",
      "(21069, 10)\n"
     ]
    },
    {
     "name": "stderr",
     "output_type": "stream",
     "text": [
      "100%|██████████| 14/14 [00:01<00:00,  7.58it/s]\n",
      "100%|██████████| 12/12 [00:05<00:00,  2.03it/s]\n",
      "... storing 'tissue_cell_type' as categorical\n"
     ]
    },
    {
     "name": "stdout",
     "output_type": "stream",
     "text": [
      "de4e7a0c-91b2-44e4-b382-87da74c9efb6_pseuodobulk\n",
      "Large intestine - A single-cell transcriptomic atlas characterizes ageing tissues in the mouse - Smart-seq2\n",
      "(17985, 9)\n",
      "(17985, 10)\n"
     ]
    },
    {
     "name": "stderr",
     "output_type": "stream",
     "text": [
      "100%|██████████| 32/32 [00:01<00:00, 28.27it/s]\n",
      "100%|██████████| 20/20 [00:04<00:00,  4.87it/s]\n",
      "... storing 'tissue_cell_type' as categorical\n"
     ]
    },
    {
     "name": "stdout",
     "output_type": "stream",
     "text": [
      "e2b469d4-b5c3-4a35-9d19-ee71ce61cae0_pseuodobulk\n",
      "Spleen - A single-cell transcriptomic atlas characterizes ageing tissues in the mouse - 10x\n",
      "(17985, 9)\n",
      "(17985, 10)\n"
     ]
    },
    {
     "name": "stderr",
     "output_type": "stream",
     "text": [
      "100%|██████████| 103/103 [00:20<00:00,  4.98it/s]\n",
      "100%|██████████| 48/48 [01:34<00:00,  1.98s/it]\n",
      "... storing 'tissue_cell_type' as categorical\n"
     ]
    },
    {
     "name": "stdout",
     "output_type": "stream",
     "text": [
      "ec6c52b8-3368-4f72-a416-1ade0dab97bf_pseuodobulk\n",
      "Limb muscle - A single-cell transcriptomic atlas characterizes ageing tissues in the mouse - Smart-seq2\n",
      "(21069, 9)\n",
      "(21069, 10)\n"
     ]
    },
    {
     "name": "stderr",
     "output_type": "stream",
     "text": [
      "100%|██████████| 46/46 [00:01<00:00, 28.96it/s]\n",
      "100%|██████████| 27/27 [00:05<00:00,  4.52it/s]\n",
      "... storing 'tissue_cell_type' as categorical\n"
     ]
    },
    {
     "name": "stdout",
     "output_type": "stream",
     "text": [
      "98e5ea9f-16d6-47ec-a529-686e76515e39_pseuodobulk\n",
      "All - A single-cell transcriptomic atlas characterizes ageing tissues in the mouse - Smart-seq2\n",
      "(21069, 9)\n",
      "(21069, 10)\n"
     ]
    },
    {
     "name": "stderr",
     "output_type": "stream",
     "text": [
      "100%|██████████| 1055/1055 [02:32<00:00,  6.90it/s]\n",
      " 23%|██▎       | 122/532 [02:57<23:09,  3.39s/it]2024-06-24 16:56:05.099 WARNING root: Singular matrix. Likely caused by all points lying in an N-1 space.\n",
      "100%|██████████| 532/532 [09:42<00:00,  1.10s/it]\n",
      "... storing 'tissue_cell_type' as categorical\n"
     ]
    },
    {
     "name": "stdout",
     "output_type": "stream",
     "text": [
      "a6626b73-a0de-4dee-99aa-2559ab05af11_pseuodobulk\n",
      "Gonadal fat pad — A single-cell transcriptomic atlas characterizes ageing tissues in the mouse\n",
      "(21069, 9)\n",
      "(21069, 10)\n"
     ]
    },
    {
     "name": "stderr",
     "output_type": "stream",
     "text": [
      "100%|██████████| 51/51 [00:01<00:00, 25.59it/s]\n",
      "100%|██████████| 31/31 [00:06<00:00,  4.43it/s]\n",
      "... storing 'tissue_cell_type' as categorical\n"
     ]
    },
    {
     "name": "stdout",
     "output_type": "stream",
     "text": [
      "f16a8f4d-bc97-43c5-a2f6-bbda952e4c5c_pseuodobulk\n",
      "All - A single-cell transcriptomic atlas characterizes ageing tissues in the mouse\n",
      "Skipping f16a8f4d-bc97-43c5-a2f6-bbda952e4c5c_pseuodobulk...\n"
     ]
    }
   ],
   "source": [
    "# for fh in tabula_muris_files:\n",
    "for fh in (settings.DATA_LOC / 'tabula_muris').glob('*.h5ad'):\n",
    "    print(fh.stem)\n",
    "    _adata = ad.read_h5ad(cellxgene_loc / f'{fh.stem.split(\"_\")[0]}.h5ad', backed='r')\n",
    "    print(_adata.uns['title'])\n",
    "    if '10x' in _adata.uns['title']:\n",
    "        process_cellxgene_atlas_adatas(\n",
    "            ad.read_h5ad(cellxgene_loc / f'{fh.stem.split(\"_\")[0]}.h5ad', backed='r'),\n",
    "            fh.stem.split('_')[0],\n",
    "            out_loc=settings.DATA_LOC / 'tabula_muris' / '10X',\n",
    "            use_rep='X_pca',\n",
    "            umap_key='X_umap',\n",
    "            feature_lengths_df=adata.var[['feature_length']].copy(),\n",
    "        )\n",
    "    elif 'Smart-seq2' in _adata.uns['title']:\n",
    "        process_cellxgene_atlas_adatas(\n",
    "            ad.read_h5ad(cellxgene_loc / f'{fh.stem.split(\"_\")[0]}.h5ad', backed='r'),\n",
    "            fh.stem.split('_')[0],\n",
    "            out_loc=settings.DATA_LOC / 'tabula_muris' / 'smart-seq',\n",
    "            use_rep='X_pca',\n",
    "            umap_key='X_umap',\n",
    "            feature_lengths_df=adata.var[['feature_length']].copy(),\n",
    "            normalize_length=True,\n",
    "        )\n",
    "    elif _adata.obs['assay'].nunique() == 1 and '10X' in _adata.obs['assay'].values[0].upper():\n",
    "        process_cellxgene_atlas_adatas(\n",
    "            ad.read_h5ad(cellxgene_loc / f'{fh.stem.split(\"_\")[0]}.h5ad', backed='r'),\n",
    "            fh.stem.split('_')[0],\n",
    "            out_loc=settings.DATA_LOC / 'tabula_muris' / '10X',\n",
    "            use_rep='X_pca',\n",
    "            umap_key='X_umap',\n",
    "            feature_lengths_df=adata.var[['feature_length']].copy(),\n",
    "        )\n",
    "    elif _adata.obs['assay'].nunique() == 1 and 'SMART' in _adata.obs['assay'].values[0].upper():\n",
    "        process_cellxgene_atlas_adatas(\n",
    "            ad.read_h5ad(cellxgene_loc / f'{fh.stem.split(\"_\")[0]}.h5ad', backed='r'),\n",
    "            fh.stem.split('_')[0],\n",
    "            out_loc=settings.DATA_LOC / 'tabula_muris' / 'smart-seq',\n",
    "            use_rep='X_pca',\n",
    "            umap_key='X_umap',\n",
    "            feature_lengths_df=adata.var[['feature_length']].copy(),\n",
    "            normalize_length=True,\n",
    "        )\n",
    "    else:\n",
    "        print(f'Skipping {fh.stem}...')"
   ]
  },
  {
   "cell_type": "code",
   "execution_count": 5,
   "metadata": {},
   "outputs": [],
   "source": [
    "(settings.DATA_LOC / 'tabula_sapiens' / '10X').mkdir(exist_ok=True)\n",
    "(settings.DATA_LOC / 'tabula_sapiens' / 'smart-seq').mkdir(exist_ok=True)"
   ]
  },
  {
   "cell_type": "code",
   "execution_count": 7,
   "metadata": {},
   "outputs": [
    {
     "name": "stdout",
     "output_type": "stream",
     "text": [
      "18eb630b-a754-4111-8cd4-c24ec80aa5ec_pseuodobulk\n"
     ]
    },
    {
     "name": "stderr",
     "output_type": "stream",
     "text": [
      "/home/ec2-user/anaconda/envs/singlecell/lib/python3.9/site-packages/umap/distances.py:1063: NumbaDeprecationWarning: The 'nopython' keyword argument was not supplied to the 'numba.jit' decorator. The implicit default value for this argument is currently False, but it will be changed to True in Numba 0.59.0. See https://numba.readthedocs.io/en/stable/reference/deprecation.html#deprecation-of-object-mode-fall-back-behaviour-when-using-jit for details.\n",
      "  @numba.jit()\n",
      "/home/ec2-user/anaconda/envs/singlecell/lib/python3.9/site-packages/umap/distances.py:1071: NumbaDeprecationWarning: The 'nopython' keyword argument was not supplied to the 'numba.jit' decorator. The implicit default value for this argument is currently False, but it will be changed to True in Numba 0.59.0. See https://numba.readthedocs.io/en/stable/reference/deprecation.html#deprecation-of-object-mode-fall-back-behaviour-when-using-jit for details.\n",
      "  @numba.jit()\n",
      "/home/ec2-user/anaconda/envs/singlecell/lib/python3.9/site-packages/umap/distances.py:1086: NumbaDeprecationWarning: The 'nopython' keyword argument was not supplied to the 'numba.jit' decorator. The implicit default value for this argument is currently False, but it will be changed to True in Numba 0.59.0. See https://numba.readthedocs.io/en/stable/reference/deprecation.html#deprecation-of-object-mode-fall-back-behaviour-when-using-jit for details.\n",
      "  @numba.jit()\n",
      "/home/ec2-user/anaconda/envs/singlecell/lib/python3.9/site-packages/umap/umap_.py:660: NumbaDeprecationWarning: The 'nopython' keyword argument was not supplied to the 'numba.jit' decorator. The implicit default value for this argument is currently False, but it will be changed to True in Numba 0.59.0. See https://numba.readthedocs.io/en/stable/reference/deprecation.html#deprecation-of-object-mode-fall-back-behaviour-when-using-jit for details.\n",
      "  @numba.jit()\n"
     ]
    },
    {
     "name": "stdout",
     "output_type": "stream",
     "text": [
      "(58604, 12)\n",
      "(58604, 13)\n"
     ]
    },
    {
     "name": "stderr",
     "output_type": "stream",
     "text": [
      "100%|██████████| 194/194 [00:00<00:00, 384.57it/s]\n",
      " 61%|██████    | 83/136 [00:32<00:12,  4.40it/s]2024-06-25 00:35:38.010 WARNING root: Singular matrix. Likely caused by all points lying in an N-1 space.\n",
      "100%|██████████| 136/136 [00:44<00:00,  3.08it/s]\n",
      "... storing 'tissue_cell_type' as categorical\n"
     ]
    },
    {
     "name": "stdout",
     "output_type": "stream",
     "text": [
      "(58604, 12)\n",
      "(58604, 13)\n"
     ]
    },
    {
     "name": "stderr",
     "output_type": "stream",
     "text": [
      "100%|██████████| 102/102 [00:00<00:00, 1169.27it/s]\n",
      "100%|██████████| 54/54 [00:01<00:00, 42.73it/s]\n",
      "... storing 'tissue_cell_type' as categorical\n"
     ]
    },
    {
     "name": "stdout",
     "output_type": "stream",
     "text": [
      "0d2ee4ac-05ee-40b2-afb6-ebb584caa867_pseuodobulk\n",
      "(58604, 12)\n",
      "(58604, 13)\n"
     ]
    },
    {
     "name": "stderr",
     "output_type": "stream",
     "text": [
      "100%|██████████| 224/224 [00:00<00:00, 400.29it/s]\n",
      "100%|██████████| 96/96 [00:30<00:00,  3.11it/s]\n",
      "... storing 'tissue_cell_type' as categorical\n"
     ]
    },
    {
     "name": "stdout",
     "output_type": "stream",
     "text": [
      "(58604, 12)\n",
      "(58604, 13)\n"
     ]
    },
    {
     "name": "stderr",
     "output_type": "stream",
     "text": [
      "100%|██████████| 86/86 [00:00<00:00, 1086.06it/s]\n",
      "100%|██████████| 34/34 [00:00<00:00, 37.18it/s]\n",
      "... storing 'tissue_cell_type' as categorical\n"
     ]
    },
    {
     "name": "stdout",
     "output_type": "stream",
     "text": [
      "4f1555bc-4664-46c3-a606-78d34dd10d92_pseuodobulk\n",
      "(58604, 12)\n",
      "(58604, 13)\n"
     ]
    },
    {
     "name": "stderr",
     "output_type": "stream",
     "text": [
      "100%|██████████| 47/47 [00:00<00:00, 411.59it/s]\n",
      "100%|██████████| 40/40 [00:07<00:00,  5.10it/s]\n",
      "... storing 'tissue_cell_type' as categorical\n"
     ]
    },
    {
     "name": "stdout",
     "output_type": "stream",
     "text": [
      "(58604, 12)\n",
      "(58604, 13)\n"
     ]
    },
    {
     "name": "stderr",
     "output_type": "stream",
     "text": [
      "100%|██████████| 37/37 [00:00<00:00, 885.04it/s]\n",
      "100%|██████████| 25/25 [00:01<00:00, 20.36it/s]\n",
      "... storing 'tissue_cell_type' as categorical\n"
     ]
    },
    {
     "name": "stdout",
     "output_type": "stream",
     "text": [
      "2423ce2c-3149-4cca-a2ff-cf682ea29b5f_pseuodobulk\n",
      "(58604, 12)\n",
      "(58604, 13)\n"
     ]
    },
    {
     "name": "stderr",
     "output_type": "stream",
     "text": [
      "100%|██████████| 30/30 [00:00<00:00, 287.74it/s]\n",
      "100%|██████████| 22/22 [00:07<00:00,  2.79it/s]\n",
      "... storing 'tissue_cell_type' as categorical\n"
     ]
    },
    {
     "name": "stdout",
     "output_type": "stream",
     "text": [
      "(58604, 12)\n",
      "(58604, 13)\n"
     ]
    },
    {
     "name": "stderr",
     "output_type": "stream",
     "text": [
      "100%|██████████| 15/15 [00:00<00:00, 988.24it/s]\n",
      "100%|██████████| 7/7 [00:00<00:00, 46.73it/s]\n",
      "... storing 'tissue_cell_type' as categorical\n"
     ]
    },
    {
     "name": "stdout",
     "output_type": "stream",
     "text": [
      "1c9eb291-6d31-47e1-96b2-129b5e1ae64f_pseuodobulk\n",
      "(58604, 12)\n",
      "(58604, 13)\n"
     ]
    },
    {
     "name": "stderr",
     "output_type": "stream",
     "text": [
      "100%|██████████| 72/72 [00:00<00:00, 255.22it/s]\n",
      "100%|██████████| 45/45 [00:22<00:00,  1.96it/s]\n",
      "... storing 'tissue_cell_type' as categorical\n"
     ]
    },
    {
     "name": "stdout",
     "output_type": "stream",
     "text": [
      "(58604, 12)\n",
      "(58604, 13)\n"
     ]
    },
    {
     "name": "stderr",
     "output_type": "stream",
     "text": [
      "100%|██████████| 82/82 [00:00<00:00, 924.78it/s]\n",
      "100%|██████████| 43/43 [00:03<00:00, 13.22it/s]\n",
      "... storing 'tissue_cell_type' as categorical\n"
     ]
    },
    {
     "name": "stdout",
     "output_type": "stream",
     "text": [
      "0041b9c3-6a49-4bf7-8514-9bc7190067a7_pseuodobulk\n",
      "(58604, 12)\n",
      "(58604, 13)\n"
     ]
    },
    {
     "name": "stderr",
     "output_type": "stream",
     "text": [
      "100%|██████████| 70/70 [00:00<00:00, 630.35it/s]\n",
      "100%|██████████| 49/49 [00:06<00:00,  7.64it/s]\n",
      "... storing 'tissue_cell_type' as categorical\n"
     ]
    },
    {
     "name": "stdout",
     "output_type": "stream",
     "text": [
      "(58604, 12)\n",
      "(58604, 13)\n"
     ]
    },
    {
     "name": "stderr",
     "output_type": "stream",
     "text": [
      "100%|██████████| 41/41 [00:00<00:00, 1113.17it/s]\n",
      "100%|██████████| 21/21 [00:00<00:00, 52.67it/s]\n",
      "... storing 'tissue_cell_type' as categorical\n"
     ]
    },
    {
     "name": "stdout",
     "output_type": "stream",
     "text": [
      "0ced5e76-6040-47ff-8a72-93847965afc0_pseuodobulk\n",
      "(58604, 12)\n",
      "(58604, 13)\n"
     ]
    },
    {
     "name": "stderr",
     "output_type": "stream",
     "text": [
      "100%|██████████| 148/148 [00:00<00:00, 412.76it/s]\n",
      "100%|██████████| 88/88 [00:28<00:00,  3.04it/s]\n",
      "... storing 'tissue_cell_type' as categorical\n"
     ]
    },
    {
     "name": "stdout",
     "output_type": "stream",
     "text": [
      "(58604, 12)\n",
      "(58604, 13)\n"
     ]
    },
    {
     "name": "stderr",
     "output_type": "stream",
     "text": [
      "100%|██████████| 31/31 [00:00<00:00, 1123.34it/s]\n",
      "100%|██████████| 15/15 [00:00<00:00, 54.28it/s]\n",
      "... storing 'tissue_cell_type' as categorical\n"
     ]
    },
    {
     "name": "stdout",
     "output_type": "stream",
     "text": [
      "2ba40233-8576-4dec-a5f1-2adfa115e2dc_pseuodobulk\n",
      "(58604, 12)\n",
      "(58604, 13)\n"
     ]
    },
    {
     "name": "stderr",
     "output_type": "stream",
     "text": [
      "100%|██████████| 42/42 [00:00<00:00, 345.18it/s]\n",
      "100%|██████████| 24/24 [00:09<00:00,  2.49it/s]\n",
      "... storing 'tissue_cell_type' as categorical\n"
     ]
    },
    {
     "name": "stdout",
     "output_type": "stream",
     "text": [
      "(58604, 12)\n",
      "(58604, 13)\n"
     ]
    },
    {
     "name": "stderr",
     "output_type": "stream",
     "text": [
      "100%|██████████| 34/34 [00:00<00:00, 1120.91it/s]\n",
      "100%|██████████| 17/17 [00:00<00:00, 62.75it/s]\n",
      "... storing 'tissue_cell_type' as categorical\n"
     ]
    },
    {
     "name": "stdout",
     "output_type": "stream",
     "text": [
      "97a17473-e2b1-4f31-a544-44a60773e2dd_pseuodobulk\n",
      "(58604, 11)\n",
      "(58604, 12)\n"
     ]
    },
    {
     "name": "stderr",
     "output_type": "stream",
     "text": [
      "100%|██████████| 555/555 [00:01<00:00, 369.85it/s]\n",
      " 60%|██████    | 150/250 [01:02<00:33,  2.97it/s]2024-06-25 00:46:06.604 WARNING root: Singular matrix. Likely caused by all points lying in an N-1 space.\n",
      "100%|██████████| 250/250 [01:30<00:00,  2.76it/s]\n",
      "... storing 'tissue_cell_type' as categorical\n"
     ]
    },
    {
     "name": "stdout",
     "output_type": "stream",
     "text": [
      "(58604, 11)\n",
      "(58604, 12)\n"
     ]
    },
    {
     "name": "stderr",
     "output_type": "stream",
     "text": [
      "100%|██████████| 224/224 [00:00<00:00, 1152.93it/s]\n",
      "100%|██████████| 85/85 [00:03<00:00, 27.88it/s]\n",
      "... storing 'tissue_cell_type' as categorical\n"
     ]
    },
    {
     "name": "stdout",
     "output_type": "stream",
     "text": [
      "c5d88abe-f23a-45fa-a534-788985e93dad_pseuodobulk\n",
      "(58604, 11)\n",
      "(58604, 12)\n"
     ]
    },
    {
     "name": "stderr",
     "output_type": "stream",
     "text": [
      "100%|██████████| 1846/1846 [00:03<00:00, 604.03it/s]\n",
      " 11%|█▏        | 107/945 [00:21<01:30,  9.27it/s]2024-06-25 00:55:20.284 WARNING root: Singular matrix. Likely caused by all points lying in an N-1 space.\n",
      " 14%|█▎        | 128/945 [00:40<04:58,  2.73it/s]2024-06-25 00:55:40.278 WARNING root: Singular matrix. Likely caused by all points lying in an N-1 space.\n",
      " 37%|███▋      | 349/945 [01:26<00:40, 14.73it/s]2024-06-25 00:56:20.467 WARNING root: Singular matrix. Likely caused by all points lying in an N-1 space.\n",
      " 78%|███████▊  | 740/945 [02:55<01:53,  1.81it/s]2024-06-25 00:57:49.648 WARNING root: Singular matrix. Likely caused by all points lying in an N-1 space.\n",
      " 84%|████████▍ | 798/945 [03:11<00:47,  3.09it/s]2024-06-25 00:58:06.494 WARNING root: Singular matrix. Likely caused by all points lying in an N-1 space.\n",
      " 85%|████████▍ | 801/945 [03:14<01:08,  2.10it/s]2024-06-25 00:58:07.514 WARNING root: Singular matrix. Likely caused by all points lying in an N-1 space.\n",
      "100%|██████████| 945/945 [03:42<00:00,  4.25it/s]\n",
      "... storing 'tissue_cell_type' as categorical\n"
     ]
    },
    {
     "name": "stdout",
     "output_type": "stream",
     "text": [
      "(58604, 11)\n",
      "(58604, 12)\n"
     ]
    },
    {
     "name": "stderr",
     "output_type": "stream",
     "text": [
      "100%|██████████| 931/931 [00:00<00:00, 1276.04it/s]\n",
      "100%|██████████| 347/347 [00:07<00:00, 44.04it/s]\n",
      "... storing 'tissue_cell_type' as categorical\n"
     ]
    },
    {
     "name": "stdout",
     "output_type": "stream",
     "text": [
      "e5c63d94-593c-4338-a489-e1048599e751_pseuodobulk\n",
      "(58604, 12)\n",
      "(58604, 13)\n"
     ]
    },
    {
     "name": "stderr",
     "output_type": "stream",
     "text": [
      "100%|██████████| 116/116 [00:00<00:00, 408.33it/s]\n",
      "100%|██████████| 59/59 [00:20<00:00,  2.91it/s]\n",
      "... storing 'tissue_cell_type' as categorical\n"
     ]
    },
    {
     "name": "stdout",
     "output_type": "stream",
     "text": [
      "(58604, 12)\n",
      "(58604, 13)\n"
     ]
    },
    {
     "name": "stderr",
     "output_type": "stream",
     "text": [
      "100%|██████████| 46/46 [00:00<00:00, 1043.86it/s]\n",
      "100%|██████████| 20/20 [00:00<00:00, 36.40it/s]\n",
      "... storing 'tissue_cell_type' as categorical\n"
     ]
    },
    {
     "name": "stdout",
     "output_type": "stream",
     "text": [
      "cee11228-9f0b-4e57-afe2-cfe15ee56312_pseuodobulk\n",
      "(58604, 12)\n",
      "(58604, 13)\n"
     ]
    },
    {
     "name": "stderr",
     "output_type": "stream",
     "text": [
      "100%|██████████| 185/185 [00:00<00:00, 490.08it/s]\n",
      "100%|██████████| 97/97 [00:26<00:00,  3.71it/s]\n",
      "... storing 'tissue_cell_type' as categorical\n"
     ]
    },
    {
     "name": "stdout",
     "output_type": "stream",
     "text": [
      "(58604, 12)\n",
      "(58604, 13)\n"
     ]
    },
    {
     "name": "stderr",
     "output_type": "stream",
     "text": [
      "100%|██████████| 71/71 [00:00<00:00, 1122.41it/s]\n",
      "100%|██████████| 31/31 [00:00<00:00, 31.48it/s]\n",
      "... storing 'tissue_cell_type' as categorical\n"
     ]
    },
    {
     "name": "stdout",
     "output_type": "stream",
     "text": [
      "ff45e623-7f5f-46e3-b47d-56be0341f66b_pseuodobulk\n",
      "(58604, 12)\n",
      "(58604, 13)\n"
     ]
    },
    {
     "name": "stderr",
     "output_type": "stream",
     "text": [
      "100%|██████████| 58/58 [00:00<00:00, 346.08it/s]\n",
      "100%|██████████| 29/29 [00:10<00:00,  2.90it/s]\n",
      "... storing 'tissue_cell_type' as categorical\n"
     ]
    },
    {
     "name": "stdout",
     "output_type": "stream",
     "text": [
      "(58604, 12)\n",
      "(58604, 13)\n"
     ]
    },
    {
     "name": "stderr",
     "output_type": "stream",
     "text": [
      "100%|██████████| 35/35 [00:00<00:00, 998.70it/s]\n",
      "100%|██████████| 20/20 [00:00<00:00, 43.17it/s]\n",
      "... storing 'tissue_cell_type' as categorical\n"
     ]
    },
    {
     "name": "stdout",
     "output_type": "stream",
     "text": [
      "e6a11140-2545-46bc-929e-da243eed2cae_pseuodobulk\n",
      "(58604, 12)\n",
      "(58604, 13)\n"
     ]
    },
    {
     "name": "stderr",
     "output_type": "stream",
     "text": [
      "100%|██████████| 62/62 [00:00<00:00, 339.85it/s]\n",
      "100%|██████████| 46/46 [00:08<00:00,  5.62it/s]\n",
      "... storing 'tissue_cell_type' as categorical\n"
     ]
    },
    {
     "name": "stdout",
     "output_type": "stream",
     "text": [
      "(58604, 12)\n",
      "(58604, 13)\n"
     ]
    },
    {
     "name": "stderr",
     "output_type": "stream",
     "text": [
      "100%|██████████| 27/27 [00:00<00:00, 1166.42it/s]\n",
      "100%|██████████| 15/15 [00:00<00:00, 116.90it/s]\n",
      "... storing 'tissue_cell_type' as categorical\n"
     ]
    },
    {
     "name": "stdout",
     "output_type": "stream",
     "text": [
      "5a11f879-d1ef-458a-910c-9b0bdfca5ebf_pseuodobulk\n",
      "(58604, 11)\n",
      "(58604, 12)\n"
     ]
    },
    {
     "name": "stderr",
     "output_type": "stream",
     "text": [
      "100%|██████████| 619/619 [00:00<00:00, 884.35it/s]\n",
      "100%|██████████| 286/286 [00:21<00:00, 13.27it/s]\n",
      "... storing 'tissue_cell_type' as categorical\n"
     ]
    },
    {
     "name": "stdout",
     "output_type": "stream",
     "text": [
      "(58604, 11)\n",
      "(58604, 12)\n"
     ]
    },
    {
     "name": "stderr",
     "output_type": "stream",
     "text": [
      "100%|██████████| 221/221 [00:00<00:00, 1281.10it/s]\n",
      "100%|██████████| 79/79 [00:01<00:00, 53.94it/s]\n",
      "... storing 'tissue_cell_type' as categorical\n"
     ]
    },
    {
     "name": "stdout",
     "output_type": "stream",
     "text": [
      "d8732da6-8d1d-42d9-b625-f2416c30054b_pseuodobulk\n",
      "(58604, 12)\n",
      "(58604, 13)\n"
     ]
    },
    {
     "name": "stderr",
     "output_type": "stream",
     "text": [
      "100%|██████████| 70/70 [00:00<00:00, 520.22it/s]\n",
      "100%|██████████| 44/44 [00:07<00:00,  6.25it/s]\n",
      "... storing 'tissue_cell_type' as categorical\n"
     ]
    },
    {
     "name": "stdout",
     "output_type": "stream",
     "text": [
      "(58604, 12)\n",
      "(58604, 13)\n"
     ]
    },
    {
     "name": "stderr",
     "output_type": "stream",
     "text": [
      "100%|██████████| 33/33 [00:00<00:00, 1064.81it/s]\n",
      "100%|██████████| 19/19 [00:00<00:00, 80.04it/s]\n",
      "... storing 'tissue_cell_type' as categorical\n"
     ]
    },
    {
     "name": "stdout",
     "output_type": "stream",
     "text": [
      "53d208b0-2cfd-4366-9866-c3c6114081bc_pseuodobulk\n",
      "(58604, 11)\n",
      "(58604, 12)\n"
     ]
    },
    {
     "name": "stderr",
     "output_type": "stream",
     "text": [
      "100%|██████████| 2858/2858 [00:05<00:00, 491.11it/s]\n",
      "  2%|▏         | 23/1366 [00:08<03:02,  7.37it/s]2024-06-25 01:21:38.434 WARNING root: Singular matrix. Likely caused by all points lying in an N-1 space.\n",
      "  2%|▏         | 25/1366 [00:10<08:47,  2.54it/s]2024-06-25 01:21:38.747 WARNING root: Singular matrix. Likely caused by all points lying in an N-1 space.\n",
      "2024-06-25 01:21:38.754 WARNING root: Singular matrix. Likely caused by all points lying in an N-1 space.\n",
      "  3%|▎         | 45/1366 [00:14<03:28,  6.34it/s]2024-06-25 01:21:44.771 WARNING root: Singular matrix. Likely caused by all points lying in an N-1 space.\n",
      "  6%|▋         | 87/1366 [00:32<08:01,  2.66it/s]2024-06-25 01:22:04.070 WARNING root: Singular matrix. Likely caused by all points lying in an N-1 space.\n",
      " 11%|█         | 150/1366 [00:53<20:00,  1.01it/s]2024-06-25 01:22:29.043 WARNING root: Singular matrix. Likely caused by all points lying in an N-1 space.\n",
      "2024-06-25 01:22:29.180 WARNING root: Singular matrix. Likely caused by all points lying in an N-1 space.\n",
      " 16%|█▋        | 225/1366 [01:33<10:57,  1.74it/s]2024-06-25 01:23:04.400 WARNING root: Singular matrix. Likely caused by all points lying in an N-1 space.\n",
      " 23%|██▎       | 319/1366 [01:53<01:18, 13.28it/s]2024-06-25 01:23:23.226 WARNING root: Singular matrix. Likely caused by all points lying in an N-1 space.\n",
      " 36%|███▌      | 486/1366 [02:38<02:12,  6.65it/s]2024-06-25 01:24:06.491 WARNING root: Singular matrix. Likely caused by all points lying in an N-1 space.\n",
      "2024-06-25 01:24:06.497 WARNING root: Singular matrix. Likely caused by all points lying in an N-1 space.\n",
      "2024-06-25 01:24:06.516 WARNING root: Singular matrix. Likely caused by all points lying in an N-1 space.\n",
      "2024-06-25 01:24:06.516 WARNING root: Singular matrix. Likely caused by all points lying in an N-1 space.\n",
      "2024-06-25 01:24:06.531 WARNING root: Singular matrix. Likely caused by all points lying in an N-1 space.\n",
      "2024-06-25 01:24:06.534 WARNING root: Singular matrix. Likely caused by all points lying in an N-1 space.\n",
      "2024-06-25 01:24:06.536 WARNING root: Singular matrix. Likely caused by all points lying in an N-1 space.\n",
      "2024-06-25 01:24:06.542 WARNING root: Singular matrix. Likely caused by all points lying in an N-1 space.\n",
      "2024-06-25 01:24:06.544 WARNING root: Singular matrix. Likely caused by all points lying in an N-1 space.\n",
      "2024-06-25 01:24:06.546 WARNING root: Singular matrix. Likely caused by all points lying in an N-1 space.\n",
      "2024-06-25 01:24:06.559 WARNING root: Singular matrix. Likely caused by all points lying in an N-1 space.\n",
      "2024-06-25 01:24:06.566 WARNING root: Singular matrix. Likely caused by all points lying in an N-1 space.\n",
      "2024-06-25 01:24:06.568 WARNING root: Singular matrix. Likely caused by all points lying in an N-1 space.\n",
      "2024-06-25 01:24:06.571 WARNING root: Singular matrix. Likely caused by all points lying in an N-1 space.\n",
      "2024-06-25 01:24:06.577 WARNING root: Singular matrix. Likely caused by all points lying in an N-1 space.\n",
      "2024-06-25 01:24:06.579 WARNING root: Singular matrix. Likely caused by all points lying in an N-1 space.\n",
      "2024-06-25 01:24:06.582 WARNING root: Singular matrix. Likely caused by all points lying in an N-1 space.\n",
      "2024-06-25 01:24:06.584 WARNING root: Singular matrix. Likely caused by all points lying in an N-1 space.\n",
      "2024-06-25 01:24:06.587 WARNING root: Singular matrix. Likely caused by all points lying in an N-1 space.\n",
      "2024-06-25 01:24:06.589 WARNING root: Singular matrix. Likely caused by all points lying in an N-1 space.\n",
      "2024-06-25 01:24:06.594 WARNING root: Singular matrix. Likely caused by all points lying in an N-1 space.\n",
      "2024-06-25 01:24:06.596 WARNING root: Singular matrix. Likely caused by all points lying in an N-1 space.\n",
      "2024-06-25 01:24:06.596 WARNING root: Singular matrix. Likely caused by all points lying in an N-1 space.\n",
      "2024-06-25 01:24:06.597 WARNING root: Singular matrix. Likely caused by all points lying in an N-1 space.\n",
      " 38%|███▊      | 516/1366 [02:41<01:13, 11.49it/s]2024-06-25 01:24:11.351 WARNING root: Singular matrix. Likely caused by all points lying in an N-1 space.\n",
      "2024-06-25 01:24:11.441 WARNING root: Singular matrix. Likely caused by all points lying in an N-1 space.\n",
      " 41%|████      | 555/1366 [02:49<01:45,  7.72it/s]2024-06-25 01:24:26.244 WARNING root: Singular matrix. Likely caused by all points lying in an N-1 space.\n",
      " 52%|█████▏    | 717/1366 [03:55<02:27,  4.41it/s]2024-06-25 01:25:24.924 WARNING root: Singular matrix. Likely caused by all points lying in an N-1 space.\n",
      " 82%|████████▏ | 1119/1366 [05:33<03:36,  1.14it/s]2024-06-25 01:27:02.418 WARNING root: Singular matrix. Likely caused by all points lying in an N-1 space.\n",
      " 86%|████████▌ | 1169/1366 [05:46<00:30,  6.40it/s]2024-06-25 01:27:16.440 WARNING root: Singular matrix. Likely caused by all points lying in an N-1 space.\n",
      " 86%|████████▋ | 1179/1366 [05:52<01:12,  2.60it/s]2024-06-25 01:27:20.097 WARNING root: Singular matrix. Likely caused by all points lying in an N-1 space.\n",
      " 89%|████████▊ | 1209/1366 [06:01<00:33,  4.65it/s]2024-06-25 01:27:31.401 WARNING root: Singular matrix. Likely caused by all points lying in an N-1 space.\n",
      " 95%|█████████▌| 1298/1366 [06:30<00:20,  3.35it/s]2024-06-25 01:27:59.148 WARNING root: Singular matrix. Likely caused by all points lying in an N-1 space.\n",
      "100%|██████████| 1366/1366 [06:44<00:00,  3.38it/s]\n",
      "... storing 'tissue_cell_type' as categorical\n"
     ]
    },
    {
     "name": "stdout",
     "output_type": "stream",
     "text": [
      "(58604, 11)\n",
      "(58604, 12)\n"
     ]
    },
    {
     "name": "stderr",
     "output_type": "stream",
     "text": [
      "100%|██████████| 1309/1309 [00:01<00:00, 1199.20it/s]\n",
      "100%|██████████| 501/501 [00:16<00:00, 31.28it/s]\n",
      "... storing 'tissue_cell_type' as categorical\n"
     ]
    },
    {
     "name": "stdout",
     "output_type": "stream",
     "text": [
      "55cf0ea3-9d2b-4294-871e-bb4b49a79fc7_pseuodobulk\n",
      "(58604, 12)\n",
      "(58604, 13)\n"
     ]
    },
    {
     "name": "stderr",
     "output_type": "stream",
     "text": [
      "100%|██████████| 37/37 [00:00<00:00, 199.41it/s]\n",
      "100%|██████████| 26/26 [00:13<00:00,  1.92it/s]\n",
      "... storing 'tissue_cell_type' as categorical\n"
     ]
    },
    {
     "name": "stdout",
     "output_type": "stream",
     "text": [
      "(58604, 12)\n",
      "(58604, 13)\n"
     ]
    },
    {
     "name": "stderr",
     "output_type": "stream",
     "text": [
      "100%|██████████| 38/38 [00:00<00:00, 1005.38it/s]\n",
      "100%|██████████| 18/18 [00:00<00:00, 28.13it/s]\n",
      "... storing 'tissue_cell_type' as categorical\n"
     ]
    },
    {
     "name": "stdout",
     "output_type": "stream",
     "text": [
      "a68b64d8-aee3-4947-81b7-36b8fe5a44d2_pseuodobulk\n",
      "(58604, 11)\n",
      "(58604, 12)\n"
     ]
    },
    {
     "name": "stderr",
     "output_type": "stream",
     "text": [
      "100%|██████████| 703/703 [00:01<00:00, 523.99it/s]\n",
      " 77%|███████▋  | 270/350 [00:52<00:08,  9.61it/s]2024-06-25 01:32:50.787 WARNING root: Singular matrix. Likely caused by all points lying in an N-1 space.\n",
      "100%|██████████| 350/350 [01:08<00:00,  5.11it/s]\n",
      "... storing 'tissue_cell_type' as categorical\n"
     ]
    },
    {
     "name": "stdout",
     "output_type": "stream",
     "text": [
      "(58604, 11)\n",
      "(58604, 12)\n"
     ]
    },
    {
     "name": "stderr",
     "output_type": "stream",
     "text": [
      "100%|██████████| 309/309 [00:00<00:00, 1028.56it/s]\n",
      "100%|██████████| 119/119 [00:02<00:00, 42.23it/s]\n",
      "... storing 'tissue_cell_type' as categorical\n"
     ]
    },
    {
     "name": "stdout",
     "output_type": "stream",
     "text": [
      "6d41668c-168c-4500-b06a-4674ccf3e19d_pseuodobulk\n",
      "(58604, 12)\n",
      "(58604, 13)\n"
     ]
    },
    {
     "name": "stderr",
     "output_type": "stream",
     "text": [
      "100%|██████████| 46/46 [00:00<00:00, 627.21it/s]\n",
      "100%|██████████| 30/30 [00:04<00:00,  7.33it/s]\n",
      "... storing 'tissue_cell_type' as categorical\n"
     ]
    },
    {
     "name": "stdout",
     "output_type": "stream",
     "text": [
      "(58604, 12)\n",
      "(58604, 13)\n"
     ]
    },
    {
     "name": "stderr",
     "output_type": "stream",
     "text": [
      "100%|██████████| 20/20 [00:00<00:00, 955.48it/s]\n",
      "100%|██████████| 10/10 [00:00<00:00, 97.48it/s]\n",
      "... storing 'tissue_cell_type' as categorical\n"
     ]
    },
    {
     "name": "stdout",
     "output_type": "stream",
     "text": [
      "6ec405bb-4727-4c6d-ab4e-01fe489af7ea_pseuodobulk\n",
      "(58604, 12)\n",
      "(58604, 13)\n"
     ]
    },
    {
     "name": "stderr",
     "output_type": "stream",
     "text": [
      "100%|██████████| 46/46 [00:00<00:00, 447.59it/s]\n",
      "100%|██████████| 32/32 [00:05<00:00,  5.39it/s]\n",
      "... storing 'tissue_cell_type' as categorical\n"
     ]
    },
    {
     "name": "stdout",
     "output_type": "stream",
     "text": [
      "(58604, 12)\n",
      "(58604, 13)\n"
     ]
    },
    {
     "name": "stderr",
     "output_type": "stream",
     "text": [
      "100%|██████████| 18/18 [00:00<00:00, 836.32it/s]\n",
      "100%|██████████| 9/9 [00:00<00:00, 70.50it/s]\n",
      "... storing 'tissue_cell_type' as categorical\n"
     ]
    },
    {
     "name": "stdout",
     "output_type": "stream",
     "text": [
      "f01bdd17-4902-40f5-86e3-240d66dd2587_pseuodobulk\n",
      "(58604, 12)\n",
      "(58604, 13)\n"
     ]
    },
    {
     "name": "stderr",
     "output_type": "stream",
     "text": [
      "100%|██████████| 175/175 [00:00<00:00, 521.26it/s]\n",
      "100%|██████████| 77/77 [00:24<00:00,  3.18it/s]\n",
      "... storing 'tissue_cell_type' as categorical\n"
     ]
    },
    {
     "name": "stdout",
     "output_type": "stream",
     "text": [
      "(58604, 12)\n",
      "(58604, 13)\n"
     ]
    },
    {
     "name": "stderr",
     "output_type": "stream",
     "text": [
      "100%|██████████| 27/27 [00:00<00:00, 1069.90it/s]\n",
      "100%|██████████| 16/16 [00:00<00:00, 43.74it/s]\n",
      "... storing 'tissue_cell_type' as categorical\n"
     ]
    },
    {
     "name": "stdout",
     "output_type": "stream",
     "text": [
      "5e5e7a2f-8f1c-42ac-90dc-b4f80f38e84c_pseuodobulk\n",
      "(58604, 12)\n",
      "(58604, 13)\n"
     ]
    },
    {
     "name": "stderr",
     "output_type": "stream",
     "text": [
      "100%|██████████| 34/34 [00:00<00:00, 143.11it/s]\n",
      "100%|██████████| 27/27 [00:17<00:00,  1.52it/s]\n",
      "... storing 'tissue_cell_type' as categorical\n"
     ]
    },
    {
     "name": "stdout",
     "output_type": "stream",
     "text": [
      "(58604, 12)\n",
      "(58604, 13)\n"
     ]
    },
    {
     "name": "stderr",
     "output_type": "stream",
     "text": [
      "100%|██████████| 33/33 [00:00<00:00, 1149.40it/s]\n",
      "100%|██████████| 15/15 [00:00<00:00, 52.42it/s]\n",
      "... storing 'tissue_cell_type' as categorical\n"
     ]
    },
    {
     "name": "stdout",
     "output_type": "stream",
     "text": [
      "d77ec7d6-ef2e-49d6-9e79-05b7f8881484_pseuodobulk\n",
      "(58604, 12)\n",
      "(58604, 13)\n"
     ]
    },
    {
     "name": "stderr",
     "output_type": "stream",
     "text": [
      "100%|██████████| 95/95 [00:00<00:00, 478.59it/s]\n",
      "100%|██████████| 52/52 [00:13<00:00,  3.85it/s]\n",
      "... storing 'tissue_cell_type' as categorical\n"
     ]
    },
    {
     "name": "stdout",
     "output_type": "stream",
     "text": [
      "(58604, 12)\n",
      "(58604, 13)\n"
     ]
    },
    {
     "name": "stderr",
     "output_type": "stream",
     "text": [
      "100%|██████████| 15/15 [00:00<00:00, 823.06it/s]\n",
      "100%|██████████| 11/11 [00:00<00:00, 37.64it/s]\n",
      "... storing 'tissue_cell_type' as categorical\n"
     ]
    },
    {
     "name": "stdout",
     "output_type": "stream",
     "text": [
      "a0754256-f44b-4c4a-962c-a552e47d3fdc_pseuodobulk\n",
      "(58604, 12)\n",
      "(58604, 13)\n"
     ]
    },
    {
     "name": "stderr",
     "output_type": "stream",
     "text": [
      "100%|██████████| 108/108 [00:00<00:00, 578.95it/s]\n",
      "100%|██████████| 59/59 [00:10<00:00,  5.86it/s]\n",
      "... storing 'tissue_cell_type' as categorical\n"
     ]
    },
    {
     "name": "stdout",
     "output_type": "stream",
     "text": [
      "(58604, 12)\n",
      "(58604, 13)\n"
     ]
    },
    {
     "name": "stderr",
     "output_type": "stream",
     "text": [
      "100%|██████████| 45/45 [00:00<00:00, 1211.44it/s]\n",
      "100%|██████████| 14/14 [00:00<00:00, 71.88it/s]\n",
      "... storing 'tissue_cell_type' as categorical\n"
     ]
    },
    {
     "name": "stdout",
     "output_type": "stream",
     "text": [
      "a2d4d33e-4c62-4361-b80a-9be53d2e50e8_pseuodobulk\n",
      "(58604, 12)\n",
      "(58604, 13)\n"
     ]
    },
    {
     "name": "stderr",
     "output_type": "stream",
     "text": [
      "100%|██████████| 56/56 [00:00<00:00, 244.01it/s]\n",
      " 38%|███▊      | 12/32 [00:04<00:09,  2.22it/s]2024-06-25 01:37:34.862 WARNING root: Singular matrix. Likely caused by all points lying in an N-1 space.\n",
      "100%|██████████| 32/32 [00:14<00:00,  2.26it/s]\n",
      "... storing 'tissue_cell_type' as categorical\n"
     ]
    },
    {
     "name": "stdout",
     "output_type": "stream",
     "text": [
      "(58604, 12)\n",
      "(58604, 13)\n"
     ]
    },
    {
     "name": "stderr",
     "output_type": "stream",
     "text": [
      "100%|██████████| 16/16 [00:00<00:00, 849.90it/s]\n",
      "100%|██████████| 12/12 [00:00<00:00, 30.04it/s]\n",
      "... storing 'tissue_cell_type' as categorical\n"
     ]
    },
    {
     "name": "stdout",
     "output_type": "stream",
     "text": [
      "a357414d-2042-4eb5-95f0-c58604a18bdd_pseuodobulk\n",
      "(58604, 12)\n",
      "(58604, 13)\n"
     ]
    },
    {
     "name": "stderr",
     "output_type": "stream",
     "text": [
      "100%|██████████| 83/83 [00:00<00:00, 602.01it/s]\n",
      "100%|██████████| 48/48 [00:09<00:00,  4.94it/s]\n",
      "... storing 'tissue_cell_type' as categorical\n"
     ]
    },
    {
     "name": "stdout",
     "output_type": "stream",
     "text": [
      "(58604, 12)\n",
      "(58604, 13)\n"
     ]
    },
    {
     "name": "stderr",
     "output_type": "stream",
     "text": [
      "100%|██████████| 28/28 [00:00<00:00, 1042.73it/s]\n",
      "100%|██████████| 17/17 [00:00<00:00, 61.63it/s]\n",
      "... storing 'tissue_cell_type' as categorical\n"
     ]
    },
    {
     "name": "stdout",
     "output_type": "stream",
     "text": [
      "983d5ec9-40e8-4512-9e65-a572a9c486cb_pseuodobulk\n",
      "(58604, 12)\n",
      "(58604, 13)\n"
     ]
    },
    {
     "name": "stderr",
     "output_type": "stream",
     "text": [
      "100%|██████████| 129/129 [00:00<00:00, 330.37it/s]\n",
      "100%|██████████| 78/78 [00:42<00:00,  1.84it/s]\n",
      "... storing 'tissue_cell_type' as categorical\n"
     ]
    },
    {
     "name": "stdout",
     "output_type": "stream",
     "text": [
      "(58604, 12)\n",
      "(58604, 13)\n"
     ]
    },
    {
     "name": "stderr",
     "output_type": "stream",
     "text": [
      "100%|██████████| 54/54 [00:00<00:00, 1074.35it/s]\n",
      "100%|██████████| 33/33 [00:00<00:00, 34.84it/s]\n",
      "... storing 'tissue_cell_type' as categorical\n"
     ]
    },
    {
     "name": "stdout",
     "output_type": "stream",
     "text": [
      "7357cee7-9f7f-4ab0-8cec-90de8f047e38_pseuodobulk\n",
      "(58604, 12)\n",
      "(58604, 13)\n"
     ]
    },
    {
     "name": "stderr",
     "output_type": "stream",
     "text": [
      "100%|██████████| 74/74 [00:00<00:00, 536.60it/s]\n",
      "100%|██████████| 44/44 [00:11<00:00,  3.94it/s]\n",
      "... storing 'tissue_cell_type' as categorical\n"
     ]
    },
    {
     "name": "stdout",
     "output_type": "stream",
     "text": [
      "(58604, 12)\n",
      "(58604, 13)\n"
     ]
    },
    {
     "name": "stderr",
     "output_type": "stream",
     "text": [
      "100%|██████████| 27/27 [00:00<00:00, 1119.30it/s]\n",
      "100%|██████████| 15/15 [00:00<00:00, 73.51it/s]\n",
      "... storing 'tissue_cell_type' as categorical\n"
     ]
    }
   ],
   "source": [
    "# for fh in tabula_sapiens_files:\n",
    "for fh in (settings.DATA_LOC / 'tabula_sapiens').glob('*.h5ad'):\n",
    "    print(fh.stem)\n",
    "    _adata = ad.read_h5ad(cellxgene_loc / f'{fh.stem.split(\"_\")[0]}.h5ad')\n",
    "    _adata_10X = _adata[_adata.obs['assay'].str.upper().str.contains('10X')]\n",
    "    _adata_smartseq = _adata[_adata.obs['assay'].str.upper().str.contains('SMART')]\n",
    "    if _adata_10X.shape[0] > 0:\n",
    "        process_cellxgene_atlas_adatas(\n",
    "            # ad.read_h5ad(cellxgene_loc / f'{fh.stem.split(\"_\")[0]}.h5ad', backed='r'),\n",
    "            _adata_10X,\n",
    "            fh.stem.split('_')[0],\n",
    "            out_loc=settings.DATA_LOC / 'tabula_sapiens' / '10X',\n",
    "            use_rep='X_scvi',\n",
    "            # umap_key='X_scvi_umap',\n",
    "            umap_key='X_umap',\n",
    "            feature_lengths_df=adata.var[['feature_length']].copy(),\n",
    "            normalize_length=False,\n",
    "        )\n",
    "    if _adata_smartseq.shape[0] > 0:\n",
    "        process_cellxgene_atlas_adatas(\n",
    "            # ad.read_h5ad(cellxgene_loc / f'{fh.stem.split(\"_\")[0]}.h5ad', backed='r'),\n",
    "            _adata_smartseq,\n",
    "            fh.stem.split('_')[0],\n",
    "            out_loc=settings.DATA_LOC / 'tabula_sapiens' / 'smart-seq',\n",
    "            use_rep='X_scvi',\n",
    "            # umap_key='X_scvi_umap',\n",
    "            umap_key='X_umap',\n",
    "            feature_lengths_df=adata.var[['feature_length']].copy(),\n",
    "            normalize_length=True,\n",
    "        )\n"
   ]
  },
  {
   "cell_type": "code",
   "execution_count": 5,
   "metadata": {},
   "outputs": [],
   "source": [
    "atlas_adata_muris = ad.read_h5ad(cellxgene_loc / '48b37086-25f7-4ecd-be66-f5bb378e3aea.h5ad', backed='r')"
   ]
  },
  {
   "cell_type": "code",
   "execution_count": 6,
   "metadata": {},
   "outputs": [],
   "source": [
    "padata = ad.read_h5ad(settings.DATA_LOC / 'tabula_muris' / '10X' / '48b37086-25f7-4ecd-be66-f5bb378e3aea_pseuodobulk.h5ad')"
   ]
  },
  {
   "cell_type": "code",
   "execution_count": 8,
   "metadata": {},
   "outputs": [
    {
     "name": "stderr",
     "output_type": "stream",
     "text": [
      "100%|██████████| 16/16 [00:30<00:00,  1.92s/it]\n",
      " 69%|██████▉   | 11/16 [02:22<00:53, 10.71s/it]2024-06-24 22:31:30.575 WARNING root: Singular matrix. Likely caused by all points lying in an N-1 space.\n",
      " 94%|█████████▍| 15/16 [03:23<00:15, 15.15s/it]2024-06-24 22:32:32.562 WARNING root: Singular matrix. Likely caused by all points lying in an N-1 space.\n",
      "100%|██████████| 16/16 [03:29<00:00, 13.11s/it]\n"
     ]
    }
   ],
   "source": [
    "padata_muris_tissue = utils.pseudobulk_adata(\n",
    "    atlas_adata_muris,\n",
    "    'tissue',\n",
    "    'tissue',\n",
    "    min_cells=5,\n",
    "    min_counts=200,\n",
    "    umap_key='X_umap',\n",
    "    calc_tpm=True,\n",
    "    normalize_length=False,\n",
    ")"
   ]
  },
  {
   "cell_type": "code",
   "execution_count": 9,
   "metadata": {},
   "outputs": [
    {
     "name": "stderr",
     "output_type": "stream",
     "text": [
      "100%|██████████| 122/122 [02:09<00:00,  1.06s/it]\n",
      "  0%|          | 0/119 [00:00<?, ?it/s]2024-06-24 22:35:22.985 WARNING root: Singular matrix. Likely caused by all points lying in an N-1 space.\n",
      "  9%|▉         | 11/119 [01:39<14:11,  7.88s/it] 2024-06-24 22:36:42.014 WARNING root: Singular matrix. Likely caused by all points lying in an N-1 space.\n",
      "100%|██████████| 119/119 [10:26<00:00,  5.26s/it]\n"
     ]
    }
   ],
   "source": [
    "padata_muris_celltype = utils.pseudobulk_adata(\n",
    "    atlas_adata_muris,\n",
    "    'cell_type',\n",
    "    'cell_type',\n",
    "    min_cells=5,\n",
    "    min_counts=200,\n",
    "    umap_key='X_umap',\n",
    "    calc_tpm=True,\n",
    "    normalize_length=False,\n",
    ")"
   ]
  },
  {
   "cell_type": "code",
   "execution_count": 10,
   "metadata": {},
   "outputs": [
    {
     "name": "stderr",
     "output_type": "stream",
     "text": [
      "100%|██████████| 58/58 [02:19<00:00,  2.41s/it]\n",
      "  0%|          | 0/58 [00:00<?, ?it/s]2024-06-24 22:48:03.264 WARNING root: Singular matrix. Likely caused by all points lying in an N-1 space.\n",
      "  3%|▎         | 2/58 [00:51<22:50, 24.47s/it]2024-06-24 22:48:31.126 WARNING root: Singular matrix. Likely caused by all points lying in an N-1 space.\n",
      " 57%|█████▋    | 33/58 [07:08<03:45,  9.01s/it]2024-06-24 22:55:06.848 WARNING root: Singular matrix. Likely caused by all points lying in an N-1 space.\n",
      "100%|██████████| 58/58 [11:04<00:00, 11.45s/it]\n"
     ]
    }
   ],
   "source": [
    "padata_muris_louvain = utils.pseudobulk_adata(\n",
    "    atlas_adata_muris,\n",
    "    'louvain',\n",
    "    'louvain',\n",
    "    min_cells=5,\n",
    "    min_counts=200,\n",
    "    umap_key='X_umap',\n",
    "    calc_tpm=True,\n",
    "    normalize_length=False,\n",
    ")"
   ]
  },
  {
   "cell_type": "code",
   "execution_count": 11,
   "metadata": {},
   "outputs": [],
   "source": [
    "atlas_adata_muris.obs['tissue_cell_type'] = atlas_adata_muris.obs.apply(lambda x: f'{x.tissue}__{x.cell_type}', axis=1)"
   ]
  },
  {
   "cell_type": "code",
   "execution_count": 12,
   "metadata": {},
   "outputs": [
    {
     "name": "stderr",
     "output_type": "stream",
     "text": [
      "100%|██████████| 169/169 [02:09<00:00,  1.30it/s]\n",
      "100%|██████████| 166/166 [10:24<00:00,  3.76s/it]\n"
     ]
    }
   ],
   "source": [
    "padata_muris_tissuecelltype = utils.pseudobulk_adata(\n",
    "    atlas_adata_muris,\n",
    "    'tissue_cell_type',\n",
    "    'tissue_cell_type',\n",
    "    min_cells=5,\n",
    "    min_counts=200,\n",
    "    umap_key='X_umap',\n",
    "    calc_tpm=True,\n",
    "    normalize_length=False,\n",
    ")"
   ]
  },
  {
   "cell_type": "code",
   "execution_count": 13,
   "metadata": {},
   "outputs": [
    {
     "name": "stderr",
     "output_type": "stream",
     "text": [
      "/tmp/ipykernel_4609/1313015571.py:14: RuntimeWarning: invalid value encountered in divide\n",
      "  xi = l / l.max(axis=0)\n",
      "/tmp/ipykernel_4609/1313015571.py:14: RuntimeWarning: invalid value encountered in divide\n",
      "  xi = l / l.max(axis=0)\n",
      "/tmp/ipykernel_4609/1313015571.py:14: RuntimeWarning: invalid value encountered in divide\n",
      "  xi = l / l.max(axis=0)\n",
      "/tmp/ipykernel_4609/1313015571.py:14: RuntimeWarning: invalid value encountered in divide\n",
      "  xi = l / l.max(axis=0)\n",
      "/tmp/ipykernel_4609/1313015571.py:14: RuntimeWarning: invalid value encountered in divide\n",
      "  xi = l / l.max(axis=0)\n"
     ]
    }
   ],
   "source": [
    "padata.var['tau__tissue'] = calc_adata_tau(padata_muris_tissue, return_tau=True)\n",
    "padata.var['tau__cell_type'] = calc_adata_tau(padata_muris_celltype, return_tau=True)\n",
    "padata.var['tau__louvain'] = calc_adata_tau(padata_muris_louvain, return_tau=True)\n",
    "padata.var['tau__tissue_cell_type'] = calc_adata_tau(padata_muris_tissuecelltype, return_tau=True)\n",
    "padata.var['tau__pseudobulk'] = calc_adata_tau(padata, return_tau=True)"
   ]
  },
  {
   "cell_type": "code",
   "execution_count": 19,
   "metadata": {},
   "outputs": [],
   "source": [
    "s_tissue = utils.label_expression_similarity(\n",
    "    padata_muris_tissue.layers['ntpm'],\n",
    "    padata_muris_tissue.obs,\n",
    "    padata_muris_tissue.var,\n",
    "    specificity_column = 'tissue',\n",
    ")\n",
    "s_celltype = utils.label_expression_similarity(\n",
    "    padata_muris_celltype.layers['ntpm'],\n",
    "    padata_muris_celltype.obs,\n",
    "    padata_muris_celltype.var,\n",
    "    specificity_column = 'cell_type',\n",
    ")\n",
    "s_tissuecelltype = utils.label_expression_similarity(\n",
    "    padata_muris_tissuecelltype.layers['ntpm'],\n",
    "    padata_muris_tissuecelltype.obs,\n",
    "    padata_muris_tissuecelltype.var,\n",
    "    specificity_column = 'tissue_cell_type',\n",
    ")\n",
    "s_louvain = utils.label_expression_similarity(\n",
    "    padata_muris_louvain.layers['ntpm'],\n",
    "    padata_muris_louvain.obs,\n",
    "    padata_muris_louvain.var,\n",
    "    specificity_column = 'louvain',\n",
    ")\n",
    "s_pseudobulk = utils.label_expression_similarity(\n",
    "    padata.layers['ntpm'],\n",
    "    padata.obs,\n",
    "    padata.var,\n",
    ")\n",
    "padata.uns['specificity'] = {}\n",
    "padata.uns['specificity']['tissue'] = s_tissue\n",
    "padata.uns['specificity']['cell_type'] = s_celltype\n",
    "padata.uns['specificity']['tissue_cell_type'] = s_tissuecelltype\n",
    "padata.uns['specificity']['louvain'] = s_louvain\n",
    "padata.uns['specificity']['pseudobulk'] = s_pseudobulk"
   ]
  },
  {
   "cell_type": "code",
   "execution_count": 22,
   "metadata": {},
   "outputs": [],
   "source": [
    "(settings.DATA_LOC / 'tabula_muris' / '10X' / 'tmp').mkdir(exist_ok=True)\n",
    "padata.write_h5ad(settings.DATA_LOC / 'tabula_muris' / '10X' / 'tmp' / '48b37086-25f7-4ecd-be66-f5bb378e3aea_pseuodobulk.h5ad')"
   ]
  },
  {
   "cell_type": "code",
   "execution_count": 8,
   "metadata": {},
   "outputs": [],
   "source": [
    "atlas_adata_sapiens = ad.read_h5ad(cellxgene_loc / '53d208b0-2cfd-4366-9866-c3c6114081bc.h5ad')"
   ]
  },
  {
   "cell_type": "code",
   "execution_count": 9,
   "metadata": {},
   "outputs": [],
   "source": [
    "padata = ad.read_h5ad(settings.DATA_LOC / 'tabula_sapiens' / '10X' / '53d208b0-2cfd-4366-9866-c3c6114081bc_pseuodobulk.h5ad')"
   ]
  },
  {
   "cell_type": "code",
   "execution_count": 10,
   "metadata": {},
   "outputs": [
    {
     "name": "stderr",
     "output_type": "stream",
     "text": [
      "100%|██████████| 45/45 [00:06<00:00,  6.61it/s]\n",
      "  2%|▏         | 1/45 [00:11<08:32, 11.65s/it]2024-06-25 04:26:43.450 WARNING root: Singular matrix. Likely caused by all points lying in an N-1 space.\n",
      "2024-06-25 04:26:43.525 WARNING root: Singular matrix. Likely caused by all points lying in an N-1 space.\n",
      "2024-06-25 04:26:43.611 WARNING root: Singular matrix. Likely caused by all points lying in an N-1 space.\n",
      "2024-06-25 04:26:43.614 WARNING root: Singular matrix. Likely caused by all points lying in an N-1 space.\n",
      "2024-06-25 04:26:43.615 WARNING root: Singular matrix. Likely caused by all points lying in an N-1 space.\n",
      "2024-06-25 04:26:43.620 WARNING root: Singular matrix. Likely caused by all points lying in an N-1 space.\n",
      "  7%|▋         | 3/45 [00:24<05:29,  7.84s/it]2024-06-25 04:27:20.192 WARNING root: Singular matrix. Likely caused by all points lying in an N-1 space.\n",
      "2024-06-25 04:27:20.451 WARNING root: Singular matrix. Likely caused by all points lying in an N-1 space.\n",
      "2024-06-25 04:27:22.381 WARNING root: Singular matrix. Likely caused by all points lying in an N-1 space.\n",
      "  9%|▉         | 4/45 [00:57<12:02, 17.62s/it]2024-06-25 04:28:14.302 WARNING root: Singular matrix. Likely caused by all points lying in an N-1 space.\n",
      " 13%|█▎        | 6/45 [02:08<16:40, 25.66s/it]2024-06-25 04:28:42.662 WARNING root: Singular matrix. Likely caused by all points lying in an N-1 space.\n",
      " 18%|█▊        | 8/45 [02:19<08:57, 14.53s/it]2024-06-25 04:28:49.050 WARNING root: Singular matrix. Likely caused by all points lying in an N-1 space.\n",
      "2024-06-25 04:28:49.115 WARNING root: Singular matrix. Likely caused by all points lying in an N-1 space.\n",
      " 20%|██        | 9/45 [02:21<06:21, 10.60s/it]2024-06-25 04:28:52.413 WARNING root: Singular matrix. Likely caused by all points lying in an N-1 space.\n",
      "2024-06-25 04:28:52.454 WARNING root: Singular matrix. Likely caused by all points lying in an N-1 space.\n",
      " 27%|██▋       | 12/45 [02:31<03:01,  5.50s/it]2024-06-25 04:29:01.675 WARNING root: Singular matrix. Likely caused by all points lying in an N-1 space.\n",
      "2024-06-25 04:29:01.844 WARNING root: Singular matrix. Likely caused by all points lying in an N-1 space.\n",
      " 31%|███       | 14/45 [02:46<03:31,  6.82s/it]2024-06-25 04:29:15.730 WARNING root: Singular matrix. Likely caused by all points lying in an N-1 space.\n",
      "2024-06-25 04:29:16.076 WARNING root: Singular matrix. Likely caused by all points lying in an N-1 space.\n",
      "2024-06-25 04:29:16.076 WARNING root: Singular matrix. Likely caused by all points lying in an N-1 space.\n",
      " 40%|████      | 18/45 [03:06<02:15,  5.02s/it]2024-06-25 04:29:44.984 WARNING root: Singular matrix. Likely caused by all points lying in an N-1 space.\n",
      " 44%|████▍     | 20/45 [03:23<02:41,  6.47s/it]2024-06-25 04:30:21.493 WARNING root: Singular matrix. Likely caused by all points lying in an N-1 space.\n",
      "2024-06-25 04:30:22.847 WARNING root: Singular matrix. Likely caused by all points lying in an N-1 space.\n",
      "2024-06-25 04:30:23.420 WARNING root: Singular matrix. Likely caused by all points lying in an N-1 space.\n",
      "2024-06-25 04:30:23.769 WARNING root: Singular matrix. Likely caused by all points lying in an N-1 space.\n",
      " 47%|████▋     | 21/45 [03:58<06:06, 15.26s/it]2024-06-25 04:31:08.036 WARNING root: Singular matrix. Likely caused by all points lying in an N-1 space.\n",
      " 49%|████▉     | 22/45 [04:43<09:15, 24.14s/it]2024-06-25 04:31:20.420 WARNING root: Singular matrix. Likely caused by all points lying in an N-1 space.\n",
      "2024-06-25 04:31:20.652 WARNING root: Singular matrix. Likely caused by all points lying in an N-1 space.\n",
      " 60%|██████    | 27/45 [05:14<02:29,  8.29s/it]2024-06-25 04:31:58.246 WARNING root: Singular matrix. Likely caused by all points lying in an N-1 space.\n",
      "2024-06-25 04:31:58.658 WARNING root: Singular matrix. Likely caused by all points lying in an N-1 space.\n",
      "2024-06-25 04:31:59.066 WARNING root: Singular matrix. Likely caused by all points lying in an N-1 space.\n",
      "2024-06-25 04:31:59.168 WARNING root: Singular matrix. Likely caused by all points lying in an N-1 space.\n",
      "2024-06-25 04:31:59.230 WARNING root: Singular matrix. Likely caused by all points lying in an N-1 space.\n",
      "2024-06-25 04:31:59.445 WARNING root: Singular matrix. Likely caused by all points lying in an N-1 space.\n",
      "2024-06-25 04:31:59.977 WARNING root: Singular matrix. Likely caused by all points lying in an N-1 space.\n",
      " 62%|██████▏   | 28/45 [05:33<03:16, 11.57s/it]2024-06-25 04:32:09.090 WARNING root: Singular matrix. Likely caused by all points lying in an N-1 space.\n",
      "2024-06-25 04:32:09.546 WARNING root: Singular matrix. Likely caused by all points lying in an N-1 space.\n",
      "2024-06-25 04:32:09.724 WARNING root: Singular matrix. Likely caused by all points lying in an N-1 space.\n",
      " 64%|██████▍   | 29/45 [05:43<02:53, 10.85s/it]2024-06-25 04:32:22.639 WARNING root: Singular matrix. Likely caused by all points lying in an N-1 space.\n",
      "2024-06-25 04:32:24.203 WARNING root: Singular matrix. Likely caused by all points lying in an N-1 space.\n",
      " 67%|██████▋   | 30/45 [05:58<03:01, 12.13s/it]2024-06-25 04:32:35.672 WARNING root: Singular matrix. Likely caused by all points lying in an N-1 space.\n",
      " 78%|███████▊  | 35/45 [06:17<00:48,  4.89s/it]2024-06-25 04:32:47.231 WARNING root: Singular matrix. Likely caused by all points lying in an N-1 space.\n",
      " 82%|████████▏ | 37/45 [06:31<00:50,  6.35s/it]2024-06-25 04:33:22.822 WARNING root: Singular matrix. Likely caused by all points lying in an N-1 space.\n",
      "2024-06-25 04:33:22.910 WARNING root: Singular matrix. Likely caused by all points lying in an N-1 space.\n",
      "2024-06-25 04:33:22.911 WARNING root: Singular matrix. Likely caused by all points lying in an N-1 space.\n",
      "2024-06-25 04:33:22.912 WARNING root: Singular matrix. Likely caused by all points lying in an N-1 space.\n",
      "2024-06-25 04:33:23.368 WARNING root: Singular matrix. Likely caused by all points lying in an N-1 space.\n",
      "2024-06-25 04:33:23.667 WARNING root: Singular matrix. Likely caused by all points lying in an N-1 space.\n",
      " 84%|████████▍ | 38/45 [07:03<01:37, 13.95s/it]2024-06-25 04:33:38.658 WARNING root: Singular matrix. Likely caused by all points lying in an N-1 space.\n",
      "2024-06-25 04:33:39.141 WARNING root: Singular matrix. Likely caused by all points lying in an N-1 space.\n",
      " 87%|████████▋ | 39/45 [07:12<01:15, 12.57s/it]2024-06-25 04:33:45.174 WARNING root: Singular matrix. Likely caused by all points lying in an N-1 space.\n",
      " 89%|████████▉ | 40/45 [07:18<00:52, 10.59s/it]2024-06-25 04:34:10.908 WARNING root: Singular matrix. Likely caused by all points lying in an N-1 space.\n",
      "2024-06-25 04:34:10.909 WARNING root: Singular matrix. Likely caused by all points lying in an N-1 space.\n",
      "2024-06-25 04:34:14.201 WARNING root: Singular matrix. Likely caused by all points lying in an N-1 space.\n",
      "100%|██████████| 45/45 [08:02<00:00, 10.72s/it]\n"
     ]
    }
   ],
   "source": [
    "padata_sapiens_tissue = utils.pseudobulk_adata(\n",
    "    atlas_adata_sapiens,\n",
    "    'tissue',\n",
    "    'tissue',\n",
    "    min_cells=5,\n",
    "    min_counts=200,\n",
    "    umap_key='X_umap',\n",
    "    calc_tpm=True,\n",
    "    normalize_length=False,\n",
    ")"
   ]
  },
  {
   "cell_type": "code",
   "execution_count": 11,
   "metadata": {},
   "outputs": [
    {
     "name": "stderr",
     "output_type": "stream",
     "text": [
      "100%|██████████| 161/161 [00:04<00:00, 33.37it/s]\n",
      " 11%|█▏        | 18/160 [01:20<06:46,  2.86s/it]2024-06-25 04:36:07.421 WARNING root: Singular matrix. Likely caused by all points lying in an N-1 space.\n",
      "2024-06-25 04:36:08.250 WARNING root: Singular matrix. Likely caused by all points lying in an N-1 space.\n",
      "2024-06-25 04:36:08.336 WARNING root: Singular matrix. Likely caused by all points lying in an N-1 space.\n",
      "2024-06-25 04:36:08.386 WARNING root: Singular matrix. Likely caused by all points lying in an N-1 space.\n",
      "2024-06-25 04:36:08.597 WARNING root: Singular matrix. Likely caused by all points lying in an N-1 space.\n",
      " 12%|█▎        | 20/160 [01:30<08:18,  3.56s/it]2024-06-25 04:36:12.864 WARNING root: Singular matrix. Likely caused by all points lying in an N-1 space.\n",
      " 13%|█▎        | 21/160 [01:34<08:00,  3.46s/it]2024-06-25 04:36:24.765 WARNING root: Singular matrix. Likely caused by all points lying in an N-1 space.\n",
      "2024-06-25 04:36:25.044 WARNING root: Singular matrix. Likely caused by all points lying in an N-1 space.\n",
      "2024-06-25 04:36:25.299 WARNING root: Singular matrix. Likely caused by all points lying in an N-1 space.\n",
      "2024-06-25 04:36:25.634 WARNING root: Singular matrix. Likely caused by all points lying in an N-1 space.\n",
      " 14%|█▍        | 23/160 [01:48<10:45,  4.71s/it]2024-06-25 04:36:30.828 WARNING root: Singular matrix. Likely caused by all points lying in an N-1 space.\n",
      "2024-06-25 04:36:31.264 WARNING root: Singular matrix. Likely caused by all points lying in an N-1 space.\n",
      " 21%|██        | 33/160 [02:20<08:14,  3.90s/it]2024-06-25 04:37:01.158 WARNING root: Singular matrix. Likely caused by all points lying in an N-1 space.\n",
      "2024-06-25 04:37:01.238 WARNING root: Singular matrix. Likely caused by all points lying in an N-1 space.\n",
      " 22%|██▏       | 35/160 [02:22<05:44,  2.76s/it]2024-06-25 04:37:05.526 WARNING root: Singular matrix. Likely caused by all points lying in an N-1 space.\n",
      "2024-06-25 04:37:05.828 WARNING root: Singular matrix. Likely caused by all points lying in an N-1 space.\n",
      "2024-06-25 04:37:05.829 WARNING root: Singular matrix. Likely caused by all points lying in an N-1 space.\n",
      "2024-06-25 04:37:05.877 WARNING root: Singular matrix. Likely caused by all points lying in an N-1 space.\n",
      " 23%|██▎       | 37/160 [02:27<04:57,  2.42s/it]2024-06-25 04:37:07.779 WARNING root: Singular matrix. Likely caused by all points lying in an N-1 space.\n",
      " 29%|██▉       | 47/160 [02:45<03:13,  1.72s/it]2024-06-25 04:37:28.174 WARNING root: Singular matrix. Likely caused by all points lying in an N-1 space.\n",
      " 32%|███▏      | 51/160 [03:05<06:11,  3.41s/it]2024-06-25 04:37:46.780 WARNING root: Singular matrix. Likely caused by all points lying in an N-1 space.\n",
      " 34%|███▍      | 54/160 [03:08<03:03,  1.73s/it]2024-06-25 04:37:53.900 WARNING root: Singular matrix. Likely caused by all points lying in an N-1 space.\n",
      "2024-06-25 04:37:53.933 WARNING root: Singular matrix. Likely caused by all points lying in an N-1 space.\n",
      "2024-06-25 04:37:54.007 WARNING root: Singular matrix. Likely caused by all points lying in an N-1 space.\n",
      "2024-06-25 04:37:54.121 WARNING root: Singular matrix. Likely caused by all points lying in an N-1 space.\n",
      "2024-06-25 04:37:54.308 WARNING root: Singular matrix. Likely caused by all points lying in an N-1 space.\n",
      " 38%|███▊      | 60/160 [03:28<03:20,  2.01s/it]2024-06-25 04:38:09.307 WARNING root: Singular matrix. Likely caused by all points lying in an N-1 space.\n",
      " 39%|███▉      | 63/160 [03:30<02:06,  1.30s/it]2024-06-25 04:38:33.795 WARNING root: Singular matrix. Likely caused by all points lying in an N-1 space.\n",
      "2024-06-25 04:38:34.094 WARNING root: Singular matrix. Likely caused by all points lying in an N-1 space.\n",
      "2024-06-25 04:38:35.210 WARNING root: Singular matrix. Likely caused by all points lying in an N-1 space.\n",
      "2024-06-25 04:38:35.554 WARNING root: Singular matrix. Likely caused by all points lying in an N-1 space.\n",
      "2024-06-25 04:38:38.518 WARNING root: Singular matrix. Likely caused by all points lying in an N-1 space.\n",
      " 49%|████▉     | 79/160 [04:11<00:34,  2.32it/s]2024-06-25 04:38:54.025 WARNING root: Singular matrix. Likely caused by all points lying in an N-1 space.\n",
      " 52%|█████▏    | 83/160 [04:24<02:48,  2.19s/it]2024-06-25 04:39:05.377 WARNING root: Singular matrix. Likely caused by all points lying in an N-1 space.\n",
      " 54%|█████▍    | 86/160 [04:27<01:49,  1.47s/it]2024-06-25 04:39:11.612 WARNING root: Singular matrix. Likely caused by all points lying in an N-1 space.\n",
      " 56%|█████▌    | 89/160 [04:33<01:49,  1.54s/it]2024-06-25 04:39:40.365 WARNING root: Singular matrix. Likely caused by all points lying in an N-1 space.\n",
      "2024-06-25 04:39:44.306 WARNING root: Singular matrix. Likely caused by all points lying in an N-1 space.\n",
      "2024-06-25 04:39:44.966 WARNING root: Singular matrix. Likely caused by all points lying in an N-1 space.\n",
      "2024-06-25 04:39:45.131 WARNING root: Singular matrix. Likely caused by all points lying in an N-1 space.\n",
      " 57%|█████▋    | 91/160 [05:10<09:25,  8.19s/it]2024-06-25 04:39:57.342 WARNING root: Singular matrix. Likely caused by all points lying in an N-1 space.\n",
      " 60%|██████    | 96/160 [05:34<06:53,  6.46s/it]2024-06-25 04:40:26.985 WARNING root: Singular matrix. Likely caused by all points lying in an N-1 space.\n",
      " 62%|██████▎   | 100/160 [06:01<06:33,  6.55s/it]2024-06-25 04:40:41.195 WARNING root: Singular matrix. Likely caused by all points lying in an N-1 space.\n",
      " 65%|██████▌   | 104/160 [06:04<02:34,  2.76s/it]2024-06-25 04:40:45.906 WARNING root: Singular matrix. Likely caused by all points lying in an N-1 space.\n",
      " 76%|███████▋  | 122/160 [06:50<01:24,  2.23s/it]2024-06-25 04:41:37.854 WARNING root: Singular matrix. Likely caused by all points lying in an N-1 space.\n",
      "2024-06-25 04:41:37.863 WARNING root: Singular matrix. Likely caused by all points lying in an N-1 space.\n",
      "2024-06-25 04:41:37.893 WARNING root: Singular matrix. Likely caused by all points lying in an N-1 space.\n",
      "2024-06-25 04:41:37.995 WARNING root: Singular matrix. Likely caused by all points lying in an N-1 space.\n",
      "2024-06-25 04:41:38.119 WARNING root: Singular matrix. Likely caused by all points lying in an N-1 space.\n",
      " 91%|█████████▏| 146/160 [07:14<00:13,  1.06it/s]2024-06-25 04:41:56.434 WARNING root: Singular matrix. Likely caused by all points lying in an N-1 space.\n",
      "2024-06-25 04:41:56.589 WARNING root: Singular matrix. Likely caused by all points lying in an N-1 space.\n",
      " 98%|█████████▊| 157/160 [07:24<00:03,  1.17s/it]2024-06-25 04:42:10.789 WARNING root: Singular matrix. Likely caused by all points lying in an N-1 space.\n",
      " 99%|█████████▉| 159/160 [07:35<00:03,  3.15s/it]2024-06-25 04:42:17.814 WARNING root: Singular matrix. Likely caused by all points lying in an N-1 space.\n",
      "2024-06-25 04:42:17.903 WARNING root: Singular matrix. Likely caused by all points lying in an N-1 space.\n",
      "2024-06-25 04:42:17.904 WARNING root: Singular matrix. Likely caused by all points lying in an N-1 space.\n",
      "100%|██████████| 160/160 [07:39<00:00,  2.87s/it]\n"
     ]
    }
   ],
   "source": [
    "padata_sapiens_celltype = utils.pseudobulk_adata(\n",
    "    atlas_adata_sapiens,\n",
    "    'cell_type',\n",
    "    'cell_type',\n",
    "    min_cells=5,\n",
    "    min_counts=200,\n",
    "    umap_key='X_umap',\n",
    "    calc_tpm=True,\n",
    "    normalize_length=False,\n",
    ")"
   ]
  },
  {
   "cell_type": "code",
   "execution_count": 18,
   "metadata": {},
   "outputs": [
    {
     "data": {
      "text/html": [
       "<div>\n",
       "<style scoped>\n",
       "    .dataframe tbody tr th:only-of-type {\n",
       "        vertical-align: middle;\n",
       "    }\n",
       "\n",
       "    .dataframe tbody tr th {\n",
       "        vertical-align: top;\n",
       "    }\n",
       "\n",
       "    .dataframe thead th {\n",
       "        text-align: right;\n",
       "    }\n",
       "</style>\n",
       "<table border=\"1\" class=\"dataframe\">\n",
       "  <thead>\n",
       "    <tr style=\"text-align: right;\">\n",
       "      <th></th>\n",
       "      <th>tissue_in_publication</th>\n",
       "      <th>assay_ontology_term_id</th>\n",
       "      <th>donor_id</th>\n",
       "      <th>anatomical_information</th>\n",
       "      <th>n_counts_UMIs</th>\n",
       "      <th>n_genes</th>\n",
       "      <th>cell_ontology_class</th>\n",
       "      <th>free_annotation</th>\n",
       "      <th>manually_annotated</th>\n",
       "      <th>compartment</th>\n",
       "      <th>...</th>\n",
       "      <th>cell_type</th>\n",
       "      <th>assay</th>\n",
       "      <th>disease</th>\n",
       "      <th>organism</th>\n",
       "      <th>sex</th>\n",
       "      <th>tissue</th>\n",
       "      <th>self_reported_ethnicity</th>\n",
       "      <th>development_stage</th>\n",
       "      <th>_sample_key</th>\n",
       "      <th>_cell_index</th>\n",
       "    </tr>\n",
       "  </thead>\n",
       "  <tbody>\n",
       "    <tr>\n",
       "      <th>AAACCCACACTCCTGT_TSP6_Liver_NA_10X_1_1</th>\n",
       "      <td>Liver</td>\n",
       "      <td>EFO:0009922</td>\n",
       "      <td>TSP6</td>\n",
       "      <td>nan</td>\n",
       "      <td>7633.0</td>\n",
       "      <td>2259</td>\n",
       "      <td>macrophage</td>\n",
       "      <td>Monocyte/Macrophage</td>\n",
       "      <td>True</td>\n",
       "      <td>immune</td>\n",
       "      <td>...</td>\n",
       "      <td>macrophage</td>\n",
       "      <td>10x 3' v3</td>\n",
       "      <td>normal</td>\n",
       "      <td>Homo sapiens</td>\n",
       "      <td>male</td>\n",
       "      <td>liver</td>\n",
       "      <td>European</td>\n",
       "      <td>67-year-old human stage</td>\n",
       "      <td>macrophage__macrophage</td>\n",
       "      <td>0</td>\n",
       "    </tr>\n",
       "    <tr>\n",
       "      <th>AAACGAAGTACCAGAG_TSP6_Liver_NA_10X_1_1</th>\n",
       "      <td>Liver</td>\n",
       "      <td>EFO:0009922</td>\n",
       "      <td>TSP6</td>\n",
       "      <td>nan</td>\n",
       "      <td>2858.0</td>\n",
       "      <td>1152</td>\n",
       "      <td>monocyte</td>\n",
       "      <td>Monocyte</td>\n",
       "      <td>True</td>\n",
       "      <td>immune</td>\n",
       "      <td>...</td>\n",
       "      <td>monocyte</td>\n",
       "      <td>10x 3' v3</td>\n",
       "      <td>normal</td>\n",
       "      <td>Homo sapiens</td>\n",
       "      <td>male</td>\n",
       "      <td>liver</td>\n",
       "      <td>European</td>\n",
       "      <td>67-year-old human stage</td>\n",
       "      <td>monocyte__monocyte</td>\n",
       "      <td>1</td>\n",
       "    </tr>\n",
       "    <tr>\n",
       "      <th>AAACGCTCAACGGCTC_TSP6_Liver_NA_10X_1_1</th>\n",
       "      <td>Liver</td>\n",
       "      <td>EFO:0009922</td>\n",
       "      <td>TSP6</td>\n",
       "      <td>nan</td>\n",
       "      <td>7787.0</td>\n",
       "      <td>2983</td>\n",
       "      <td>endothelial cell of hepatic sinusoid</td>\n",
       "      <td>Endothelial</td>\n",
       "      <td>True</td>\n",
       "      <td>endothelial</td>\n",
       "      <td>...</td>\n",
       "      <td>endothelial cell of hepatic sinusoid</td>\n",
       "      <td>10x 3' v3</td>\n",
       "      <td>normal</td>\n",
       "      <td>Homo sapiens</td>\n",
       "      <td>male</td>\n",
       "      <td>liver</td>\n",
       "      <td>European</td>\n",
       "      <td>67-year-old human stage</td>\n",
       "      <td>endothelial cell of hepatic sinusoid__endothel...</td>\n",
       "      <td>2</td>\n",
       "    </tr>\n",
       "    <tr>\n",
       "      <th>AAAGAACAGCCTCTTC_TSP6_Liver_NA_10X_1_1</th>\n",
       "      <td>Liver</td>\n",
       "      <td>EFO:0009922</td>\n",
       "      <td>TSP6</td>\n",
       "      <td>nan</td>\n",
       "      <td>10395.0</td>\n",
       "      <td>2598</td>\n",
       "      <td>macrophage</td>\n",
       "      <td>Monocyte/Macrophage</td>\n",
       "      <td>True</td>\n",
       "      <td>immune</td>\n",
       "      <td>...</td>\n",
       "      <td>macrophage</td>\n",
       "      <td>10x 3' v3</td>\n",
       "      <td>normal</td>\n",
       "      <td>Homo sapiens</td>\n",
       "      <td>male</td>\n",
       "      <td>liver</td>\n",
       "      <td>European</td>\n",
       "      <td>67-year-old human stage</td>\n",
       "      <td>macrophage__macrophage</td>\n",
       "      <td>3</td>\n",
       "    </tr>\n",
       "    <tr>\n",
       "      <th>AAAGAACGTAGCACAG_TSP6_Liver_NA_10X_1_1</th>\n",
       "      <td>Liver</td>\n",
       "      <td>EFO:0009922</td>\n",
       "      <td>TSP6</td>\n",
       "      <td>nan</td>\n",
       "      <td>6610.0</td>\n",
       "      <td>2125</td>\n",
       "      <td>liver dendritic cell</td>\n",
       "      <td>Dendritic cell</td>\n",
       "      <td>True</td>\n",
       "      <td>immune</td>\n",
       "      <td>...</td>\n",
       "      <td>liver dendritic cell</td>\n",
       "      <td>10x 3' v3</td>\n",
       "      <td>normal</td>\n",
       "      <td>Homo sapiens</td>\n",
       "      <td>male</td>\n",
       "      <td>liver</td>\n",
       "      <td>European</td>\n",
       "      <td>67-year-old human stage</td>\n",
       "      <td>liver dendritic cell__liver dendritic cell</td>\n",
       "      <td>4</td>\n",
       "    </tr>\n",
       "    <tr>\n",
       "      <th>...</th>\n",
       "      <td>...</td>\n",
       "      <td>...</td>\n",
       "      <td>...</td>\n",
       "      <td>...</td>\n",
       "      <td>...</td>\n",
       "      <td>...</td>\n",
       "      <td>...</td>\n",
       "      <td>...</td>\n",
       "      <td>...</td>\n",
       "      <td>...</td>\n",
       "      <td>...</td>\n",
       "      <td>...</td>\n",
       "      <td>...</td>\n",
       "      <td>...</td>\n",
       "      <td>...</td>\n",
       "      <td>...</td>\n",
       "      <td>...</td>\n",
       "      <td>...</td>\n",
       "      <td>...</td>\n",
       "      <td>...</td>\n",
       "      <td>...</td>\n",
       "    </tr>\n",
       "    <tr>\n",
       "      <th>TSP2_Vasculature_aorta_SS2_B114577_B133059_Endothelial_P4_S364</th>\n",
       "      <td>Vasculature</td>\n",
       "      <td>EFO:0008931</td>\n",
       "      <td>TSP2</td>\n",
       "      <td>aorta</td>\n",
       "      <td>13205.0</td>\n",
       "      <td>579</td>\n",
       "      <td>endothelial cell</td>\n",
       "      <td>endothelial cell</td>\n",
       "      <td>True</td>\n",
       "      <td>endothelial</td>\n",
       "      <td>...</td>\n",
       "      <td>endothelial cell</td>\n",
       "      <td>Smart-seq2</td>\n",
       "      <td>normal</td>\n",
       "      <td>Homo sapiens</td>\n",
       "      <td>female</td>\n",
       "      <td>aorta</td>\n",
       "      <td>African American or Afro-Caribbean</td>\n",
       "      <td>61-year-old human stage</td>\n",
       "      <td>endothelial cell__endothelial cell</td>\n",
       "      <td>483147</td>\n",
       "    </tr>\n",
       "    <tr>\n",
       "      <th>TSP2_Vasculature_aorta_SS2_B114577_B133059_Endothelial_P5_S365</th>\n",
       "      <td>Vasculature</td>\n",
       "      <td>EFO:0008931</td>\n",
       "      <td>TSP2</td>\n",
       "      <td>aorta</td>\n",
       "      <td>9565.0</td>\n",
       "      <td>529</td>\n",
       "      <td>endothelial cell</td>\n",
       "      <td>endothelial cell</td>\n",
       "      <td>True</td>\n",
       "      <td>endothelial</td>\n",
       "      <td>...</td>\n",
       "      <td>endothelial cell</td>\n",
       "      <td>Smart-seq2</td>\n",
       "      <td>normal</td>\n",
       "      <td>Homo sapiens</td>\n",
       "      <td>female</td>\n",
       "      <td>aorta</td>\n",
       "      <td>African American or Afro-Caribbean</td>\n",
       "      <td>61-year-old human stage</td>\n",
       "      <td>endothelial cell__endothelial cell</td>\n",
       "      <td>483148</td>\n",
       "    </tr>\n",
       "    <tr>\n",
       "      <th>TSP2_Vasculature_aorta_SS2_B114577_B133059_Endothelial_P7_S367</th>\n",
       "      <td>Vasculature</td>\n",
       "      <td>EFO:0008931</td>\n",
       "      <td>TSP2</td>\n",
       "      <td>aorta</td>\n",
       "      <td>195639.0</td>\n",
       "      <td>2753</td>\n",
       "      <td>endothelial cell</td>\n",
       "      <td>endothelial cell</td>\n",
       "      <td>True</td>\n",
       "      <td>endothelial</td>\n",
       "      <td>...</td>\n",
       "      <td>endothelial cell</td>\n",
       "      <td>Smart-seq2</td>\n",
       "      <td>normal</td>\n",
       "      <td>Homo sapiens</td>\n",
       "      <td>female</td>\n",
       "      <td>aorta</td>\n",
       "      <td>African American or Afro-Caribbean</td>\n",
       "      <td>61-year-old human stage</td>\n",
       "      <td>endothelial cell__endothelial cell</td>\n",
       "      <td>483149</td>\n",
       "    </tr>\n",
       "    <tr>\n",
       "      <th>TSP2_Vasculature_aorta_SS2_B114577_B133059_Endothelial_P8_S368</th>\n",
       "      <td>Vasculature</td>\n",
       "      <td>EFO:0008931</td>\n",
       "      <td>TSP2</td>\n",
       "      <td>aorta</td>\n",
       "      <td>37260.0</td>\n",
       "      <td>984</td>\n",
       "      <td>endothelial cell</td>\n",
       "      <td>endothelial cell</td>\n",
       "      <td>True</td>\n",
       "      <td>endothelial</td>\n",
       "      <td>...</td>\n",
       "      <td>endothelial cell</td>\n",
       "      <td>Smart-seq2</td>\n",
       "      <td>normal</td>\n",
       "      <td>Homo sapiens</td>\n",
       "      <td>female</td>\n",
       "      <td>aorta</td>\n",
       "      <td>African American or Afro-Caribbean</td>\n",
       "      <td>61-year-old human stage</td>\n",
       "      <td>endothelial cell__endothelial cell</td>\n",
       "      <td>483150</td>\n",
       "    </tr>\n",
       "    <tr>\n",
       "      <th>TSP2_Vasculature_aorta_SS2_B114577_B133059_Endothelial_P9_S369</th>\n",
       "      <td>Vasculature</td>\n",
       "      <td>EFO:0008931</td>\n",
       "      <td>TSP2</td>\n",
       "      <td>aorta</td>\n",
       "      <td>63837.0</td>\n",
       "      <td>1509</td>\n",
       "      <td>endothelial cell</td>\n",
       "      <td>endothelial cell</td>\n",
       "      <td>True</td>\n",
       "      <td>endothelial</td>\n",
       "      <td>...</td>\n",
       "      <td>endothelial cell</td>\n",
       "      <td>Smart-seq2</td>\n",
       "      <td>normal</td>\n",
       "      <td>Homo sapiens</td>\n",
       "      <td>female</td>\n",
       "      <td>aorta</td>\n",
       "      <td>African American or Afro-Caribbean</td>\n",
       "      <td>61-year-old human stage</td>\n",
       "      <td>endothelial cell__endothelial cell</td>\n",
       "      <td>483151</td>\n",
       "    </tr>\n",
       "  </tbody>\n",
       "</table>\n",
       "<p>483152 rows × 29 columns</p>\n",
       "</div>"
      ],
      "text/plain": [
       "                                                   tissue_in_publication  \\\n",
       "AAACCCACACTCCTGT_TSP6_Liver_NA_10X_1_1                             Liver   \n",
       "AAACGAAGTACCAGAG_TSP6_Liver_NA_10X_1_1                             Liver   \n",
       "AAACGCTCAACGGCTC_TSP6_Liver_NA_10X_1_1                             Liver   \n",
       "AAAGAACAGCCTCTTC_TSP6_Liver_NA_10X_1_1                             Liver   \n",
       "AAAGAACGTAGCACAG_TSP6_Liver_NA_10X_1_1                             Liver   \n",
       "...                                                                  ...   \n",
       "TSP2_Vasculature_aorta_SS2_B114577_B133059_Endo...           Vasculature   \n",
       "TSP2_Vasculature_aorta_SS2_B114577_B133059_Endo...           Vasculature   \n",
       "TSP2_Vasculature_aorta_SS2_B114577_B133059_Endo...           Vasculature   \n",
       "TSP2_Vasculature_aorta_SS2_B114577_B133059_Endo...           Vasculature   \n",
       "TSP2_Vasculature_aorta_SS2_B114577_B133059_Endo...           Vasculature   \n",
       "\n",
       "                                                   assay_ontology_term_id  \\\n",
       "AAACCCACACTCCTGT_TSP6_Liver_NA_10X_1_1                        EFO:0009922   \n",
       "AAACGAAGTACCAGAG_TSP6_Liver_NA_10X_1_1                        EFO:0009922   \n",
       "AAACGCTCAACGGCTC_TSP6_Liver_NA_10X_1_1                        EFO:0009922   \n",
       "AAAGAACAGCCTCTTC_TSP6_Liver_NA_10X_1_1                        EFO:0009922   \n",
       "AAAGAACGTAGCACAG_TSP6_Liver_NA_10X_1_1                        EFO:0009922   \n",
       "...                                                                   ...   \n",
       "TSP2_Vasculature_aorta_SS2_B114577_B133059_Endo...            EFO:0008931   \n",
       "TSP2_Vasculature_aorta_SS2_B114577_B133059_Endo...            EFO:0008931   \n",
       "TSP2_Vasculature_aorta_SS2_B114577_B133059_Endo...            EFO:0008931   \n",
       "TSP2_Vasculature_aorta_SS2_B114577_B133059_Endo...            EFO:0008931   \n",
       "TSP2_Vasculature_aorta_SS2_B114577_B133059_Endo...            EFO:0008931   \n",
       "\n",
       "                                                   donor_id  \\\n",
       "AAACCCACACTCCTGT_TSP6_Liver_NA_10X_1_1                 TSP6   \n",
       "AAACGAAGTACCAGAG_TSP6_Liver_NA_10X_1_1                 TSP6   \n",
       "AAACGCTCAACGGCTC_TSP6_Liver_NA_10X_1_1                 TSP6   \n",
       "AAAGAACAGCCTCTTC_TSP6_Liver_NA_10X_1_1                 TSP6   \n",
       "AAAGAACGTAGCACAG_TSP6_Liver_NA_10X_1_1                 TSP6   \n",
       "...                                                     ...   \n",
       "TSP2_Vasculature_aorta_SS2_B114577_B133059_Endo...     TSP2   \n",
       "TSP2_Vasculature_aorta_SS2_B114577_B133059_Endo...     TSP2   \n",
       "TSP2_Vasculature_aorta_SS2_B114577_B133059_Endo...     TSP2   \n",
       "TSP2_Vasculature_aorta_SS2_B114577_B133059_Endo...     TSP2   \n",
       "TSP2_Vasculature_aorta_SS2_B114577_B133059_Endo...     TSP2   \n",
       "\n",
       "                                                   anatomical_information  \\\n",
       "AAACCCACACTCCTGT_TSP6_Liver_NA_10X_1_1                                nan   \n",
       "AAACGAAGTACCAGAG_TSP6_Liver_NA_10X_1_1                                nan   \n",
       "AAACGCTCAACGGCTC_TSP6_Liver_NA_10X_1_1                                nan   \n",
       "AAAGAACAGCCTCTTC_TSP6_Liver_NA_10X_1_1                                nan   \n",
       "AAAGAACGTAGCACAG_TSP6_Liver_NA_10X_1_1                                nan   \n",
       "...                                                                   ...   \n",
       "TSP2_Vasculature_aorta_SS2_B114577_B133059_Endo...                  aorta   \n",
       "TSP2_Vasculature_aorta_SS2_B114577_B133059_Endo...                  aorta   \n",
       "TSP2_Vasculature_aorta_SS2_B114577_B133059_Endo...                  aorta   \n",
       "TSP2_Vasculature_aorta_SS2_B114577_B133059_Endo...                  aorta   \n",
       "TSP2_Vasculature_aorta_SS2_B114577_B133059_Endo...                  aorta   \n",
       "\n",
       "                                                    n_counts_UMIs  n_genes  \\\n",
       "AAACCCACACTCCTGT_TSP6_Liver_NA_10X_1_1                     7633.0     2259   \n",
       "AAACGAAGTACCAGAG_TSP6_Liver_NA_10X_1_1                     2858.0     1152   \n",
       "AAACGCTCAACGGCTC_TSP6_Liver_NA_10X_1_1                     7787.0     2983   \n",
       "AAAGAACAGCCTCTTC_TSP6_Liver_NA_10X_1_1                    10395.0     2598   \n",
       "AAAGAACGTAGCACAG_TSP6_Liver_NA_10X_1_1                     6610.0     2125   \n",
       "...                                                           ...      ...   \n",
       "TSP2_Vasculature_aorta_SS2_B114577_B133059_Endo...        13205.0      579   \n",
       "TSP2_Vasculature_aorta_SS2_B114577_B133059_Endo...         9565.0      529   \n",
       "TSP2_Vasculature_aorta_SS2_B114577_B133059_Endo...       195639.0     2753   \n",
       "TSP2_Vasculature_aorta_SS2_B114577_B133059_Endo...        37260.0      984   \n",
       "TSP2_Vasculature_aorta_SS2_B114577_B133059_Endo...        63837.0     1509   \n",
       "\n",
       "                                                                     cell_ontology_class  \\\n",
       "AAACCCACACTCCTGT_TSP6_Liver_NA_10X_1_1                                        macrophage   \n",
       "AAACGAAGTACCAGAG_TSP6_Liver_NA_10X_1_1                                          monocyte   \n",
       "AAACGCTCAACGGCTC_TSP6_Liver_NA_10X_1_1              endothelial cell of hepatic sinusoid   \n",
       "AAAGAACAGCCTCTTC_TSP6_Liver_NA_10X_1_1                                        macrophage   \n",
       "AAAGAACGTAGCACAG_TSP6_Liver_NA_10X_1_1                              liver dendritic cell   \n",
       "...                                                                                  ...   \n",
       "TSP2_Vasculature_aorta_SS2_B114577_B133059_Endo...                      endothelial cell   \n",
       "TSP2_Vasculature_aorta_SS2_B114577_B133059_Endo...                      endothelial cell   \n",
       "TSP2_Vasculature_aorta_SS2_B114577_B133059_Endo...                      endothelial cell   \n",
       "TSP2_Vasculature_aorta_SS2_B114577_B133059_Endo...                      endothelial cell   \n",
       "TSP2_Vasculature_aorta_SS2_B114577_B133059_Endo...                      endothelial cell   \n",
       "\n",
       "                                                        free_annotation  \\\n",
       "AAACCCACACTCCTGT_TSP6_Liver_NA_10X_1_1              Monocyte/Macrophage   \n",
       "AAACGAAGTACCAGAG_TSP6_Liver_NA_10X_1_1                         Monocyte   \n",
       "AAACGCTCAACGGCTC_TSP6_Liver_NA_10X_1_1                      Endothelial   \n",
       "AAAGAACAGCCTCTTC_TSP6_Liver_NA_10X_1_1              Monocyte/Macrophage   \n",
       "AAAGAACGTAGCACAG_TSP6_Liver_NA_10X_1_1                   Dendritic cell   \n",
       "...                                                                 ...   \n",
       "TSP2_Vasculature_aorta_SS2_B114577_B133059_Endo...     endothelial cell   \n",
       "TSP2_Vasculature_aorta_SS2_B114577_B133059_Endo...     endothelial cell   \n",
       "TSP2_Vasculature_aorta_SS2_B114577_B133059_Endo...     endothelial cell   \n",
       "TSP2_Vasculature_aorta_SS2_B114577_B133059_Endo...     endothelial cell   \n",
       "TSP2_Vasculature_aorta_SS2_B114577_B133059_Endo...     endothelial cell   \n",
       "\n",
       "                                                    manually_annotated  \\\n",
       "AAACCCACACTCCTGT_TSP6_Liver_NA_10X_1_1                            True   \n",
       "AAACGAAGTACCAGAG_TSP6_Liver_NA_10X_1_1                            True   \n",
       "AAACGCTCAACGGCTC_TSP6_Liver_NA_10X_1_1                            True   \n",
       "AAAGAACAGCCTCTTC_TSP6_Liver_NA_10X_1_1                            True   \n",
       "AAAGAACGTAGCACAG_TSP6_Liver_NA_10X_1_1                            True   \n",
       "...                                                                ...   \n",
       "TSP2_Vasculature_aorta_SS2_B114577_B133059_Endo...                True   \n",
       "TSP2_Vasculature_aorta_SS2_B114577_B133059_Endo...                True   \n",
       "TSP2_Vasculature_aorta_SS2_B114577_B133059_Endo...                True   \n",
       "TSP2_Vasculature_aorta_SS2_B114577_B133059_Endo...                True   \n",
       "TSP2_Vasculature_aorta_SS2_B114577_B133059_Endo...                True   \n",
       "\n",
       "                                                    compartment  ...  \\\n",
       "AAACCCACACTCCTGT_TSP6_Liver_NA_10X_1_1                   immune  ...   \n",
       "AAACGAAGTACCAGAG_TSP6_Liver_NA_10X_1_1                   immune  ...   \n",
       "AAACGCTCAACGGCTC_TSP6_Liver_NA_10X_1_1              endothelial  ...   \n",
       "AAAGAACAGCCTCTTC_TSP6_Liver_NA_10X_1_1                   immune  ...   \n",
       "AAAGAACGTAGCACAG_TSP6_Liver_NA_10X_1_1                   immune  ...   \n",
       "...                                                         ...  ...   \n",
       "TSP2_Vasculature_aorta_SS2_B114577_B133059_Endo...  endothelial  ...   \n",
       "TSP2_Vasculature_aorta_SS2_B114577_B133059_Endo...  endothelial  ...   \n",
       "TSP2_Vasculature_aorta_SS2_B114577_B133059_Endo...  endothelial  ...   \n",
       "TSP2_Vasculature_aorta_SS2_B114577_B133059_Endo...  endothelial  ...   \n",
       "TSP2_Vasculature_aorta_SS2_B114577_B133059_Endo...  endothelial  ...   \n",
       "\n",
       "                                                                               cell_type  \\\n",
       "AAACCCACACTCCTGT_TSP6_Liver_NA_10X_1_1                                        macrophage   \n",
       "AAACGAAGTACCAGAG_TSP6_Liver_NA_10X_1_1                                          monocyte   \n",
       "AAACGCTCAACGGCTC_TSP6_Liver_NA_10X_1_1              endothelial cell of hepatic sinusoid   \n",
       "AAAGAACAGCCTCTTC_TSP6_Liver_NA_10X_1_1                                        macrophage   \n",
       "AAAGAACGTAGCACAG_TSP6_Liver_NA_10X_1_1                              liver dendritic cell   \n",
       "...                                                                                  ...   \n",
       "TSP2_Vasculature_aorta_SS2_B114577_B133059_Endo...                      endothelial cell   \n",
       "TSP2_Vasculature_aorta_SS2_B114577_B133059_Endo...                      endothelial cell   \n",
       "TSP2_Vasculature_aorta_SS2_B114577_B133059_Endo...                      endothelial cell   \n",
       "TSP2_Vasculature_aorta_SS2_B114577_B133059_Endo...                      endothelial cell   \n",
       "TSP2_Vasculature_aorta_SS2_B114577_B133059_Endo...                      endothelial cell   \n",
       "\n",
       "                                                         assay  disease  \\\n",
       "AAACCCACACTCCTGT_TSP6_Liver_NA_10X_1_1               10x 3' v3   normal   \n",
       "AAACGAAGTACCAGAG_TSP6_Liver_NA_10X_1_1               10x 3' v3   normal   \n",
       "AAACGCTCAACGGCTC_TSP6_Liver_NA_10X_1_1               10x 3' v3   normal   \n",
       "AAAGAACAGCCTCTTC_TSP6_Liver_NA_10X_1_1               10x 3' v3   normal   \n",
       "AAAGAACGTAGCACAG_TSP6_Liver_NA_10X_1_1               10x 3' v3   normal   \n",
       "...                                                        ...      ...   \n",
       "TSP2_Vasculature_aorta_SS2_B114577_B133059_Endo...  Smart-seq2   normal   \n",
       "TSP2_Vasculature_aorta_SS2_B114577_B133059_Endo...  Smart-seq2   normal   \n",
       "TSP2_Vasculature_aorta_SS2_B114577_B133059_Endo...  Smart-seq2   normal   \n",
       "TSP2_Vasculature_aorta_SS2_B114577_B133059_Endo...  Smart-seq2   normal   \n",
       "TSP2_Vasculature_aorta_SS2_B114577_B133059_Endo...  Smart-seq2   normal   \n",
       "\n",
       "                                                        organism     sex  \\\n",
       "AAACCCACACTCCTGT_TSP6_Liver_NA_10X_1_1              Homo sapiens    male   \n",
       "AAACGAAGTACCAGAG_TSP6_Liver_NA_10X_1_1              Homo sapiens    male   \n",
       "AAACGCTCAACGGCTC_TSP6_Liver_NA_10X_1_1              Homo sapiens    male   \n",
       "AAAGAACAGCCTCTTC_TSP6_Liver_NA_10X_1_1              Homo sapiens    male   \n",
       "AAAGAACGTAGCACAG_TSP6_Liver_NA_10X_1_1              Homo sapiens    male   \n",
       "...                                                          ...     ...   \n",
       "TSP2_Vasculature_aorta_SS2_B114577_B133059_Endo...  Homo sapiens  female   \n",
       "TSP2_Vasculature_aorta_SS2_B114577_B133059_Endo...  Homo sapiens  female   \n",
       "TSP2_Vasculature_aorta_SS2_B114577_B133059_Endo...  Homo sapiens  female   \n",
       "TSP2_Vasculature_aorta_SS2_B114577_B133059_Endo...  Homo sapiens  female   \n",
       "TSP2_Vasculature_aorta_SS2_B114577_B133059_Endo...  Homo sapiens  female   \n",
       "\n",
       "                                                   tissue  \\\n",
       "AAACCCACACTCCTGT_TSP6_Liver_NA_10X_1_1              liver   \n",
       "AAACGAAGTACCAGAG_TSP6_Liver_NA_10X_1_1              liver   \n",
       "AAACGCTCAACGGCTC_TSP6_Liver_NA_10X_1_1              liver   \n",
       "AAAGAACAGCCTCTTC_TSP6_Liver_NA_10X_1_1              liver   \n",
       "AAAGAACGTAGCACAG_TSP6_Liver_NA_10X_1_1              liver   \n",
       "...                                                   ...   \n",
       "TSP2_Vasculature_aorta_SS2_B114577_B133059_Endo...  aorta   \n",
       "TSP2_Vasculature_aorta_SS2_B114577_B133059_Endo...  aorta   \n",
       "TSP2_Vasculature_aorta_SS2_B114577_B133059_Endo...  aorta   \n",
       "TSP2_Vasculature_aorta_SS2_B114577_B133059_Endo...  aorta   \n",
       "TSP2_Vasculature_aorta_SS2_B114577_B133059_Endo...  aorta   \n",
       "\n",
       "                                                               self_reported_ethnicity  \\\n",
       "AAACCCACACTCCTGT_TSP6_Liver_NA_10X_1_1                                        European   \n",
       "AAACGAAGTACCAGAG_TSP6_Liver_NA_10X_1_1                                        European   \n",
       "AAACGCTCAACGGCTC_TSP6_Liver_NA_10X_1_1                                        European   \n",
       "AAAGAACAGCCTCTTC_TSP6_Liver_NA_10X_1_1                                        European   \n",
       "AAAGAACGTAGCACAG_TSP6_Liver_NA_10X_1_1                                        European   \n",
       "...                                                                                ...   \n",
       "TSP2_Vasculature_aorta_SS2_B114577_B133059_Endo...  African American or Afro-Caribbean   \n",
       "TSP2_Vasculature_aorta_SS2_B114577_B133059_Endo...  African American or Afro-Caribbean   \n",
       "TSP2_Vasculature_aorta_SS2_B114577_B133059_Endo...  African American or Afro-Caribbean   \n",
       "TSP2_Vasculature_aorta_SS2_B114577_B133059_Endo...  African American or Afro-Caribbean   \n",
       "TSP2_Vasculature_aorta_SS2_B114577_B133059_Endo...  African American or Afro-Caribbean   \n",
       "\n",
       "                                                          development_stage  \\\n",
       "AAACCCACACTCCTGT_TSP6_Liver_NA_10X_1_1              67-year-old human stage   \n",
       "AAACGAAGTACCAGAG_TSP6_Liver_NA_10X_1_1              67-year-old human stage   \n",
       "AAACGCTCAACGGCTC_TSP6_Liver_NA_10X_1_1              67-year-old human stage   \n",
       "AAAGAACAGCCTCTTC_TSP6_Liver_NA_10X_1_1              67-year-old human stage   \n",
       "AAAGAACGTAGCACAG_TSP6_Liver_NA_10X_1_1              67-year-old human stage   \n",
       "...                                                                     ...   \n",
       "TSP2_Vasculature_aorta_SS2_B114577_B133059_Endo...  61-year-old human stage   \n",
       "TSP2_Vasculature_aorta_SS2_B114577_B133059_Endo...  61-year-old human stage   \n",
       "TSP2_Vasculature_aorta_SS2_B114577_B133059_Endo...  61-year-old human stage   \n",
       "TSP2_Vasculature_aorta_SS2_B114577_B133059_Endo...  61-year-old human stage   \n",
       "TSP2_Vasculature_aorta_SS2_B114577_B133059_Endo...  61-year-old human stage   \n",
       "\n",
       "                                                                                          _sample_key  \\\n",
       "AAACCCACACTCCTGT_TSP6_Liver_NA_10X_1_1                                         macrophage__macrophage   \n",
       "AAACGAAGTACCAGAG_TSP6_Liver_NA_10X_1_1                                             monocyte__monocyte   \n",
       "AAACGCTCAACGGCTC_TSP6_Liver_NA_10X_1_1              endothelial cell of hepatic sinusoid__endothel...   \n",
       "AAAGAACAGCCTCTTC_TSP6_Liver_NA_10X_1_1                                         macrophage__macrophage   \n",
       "AAAGAACGTAGCACAG_TSP6_Liver_NA_10X_1_1                     liver dendritic cell__liver dendritic cell   \n",
       "...                                                                                               ...   \n",
       "TSP2_Vasculature_aorta_SS2_B114577_B133059_Endo...                 endothelial cell__endothelial cell   \n",
       "TSP2_Vasculature_aorta_SS2_B114577_B133059_Endo...                 endothelial cell__endothelial cell   \n",
       "TSP2_Vasculature_aorta_SS2_B114577_B133059_Endo...                 endothelial cell__endothelial cell   \n",
       "TSP2_Vasculature_aorta_SS2_B114577_B133059_Endo...                 endothelial cell__endothelial cell   \n",
       "TSP2_Vasculature_aorta_SS2_B114577_B133059_Endo...                 endothelial cell__endothelial cell   \n",
       "\n",
       "                                                   _cell_index  \n",
       "AAACCCACACTCCTGT_TSP6_Liver_NA_10X_1_1                       0  \n",
       "AAACGAAGTACCAGAG_TSP6_Liver_NA_10X_1_1                       1  \n",
       "AAACGCTCAACGGCTC_TSP6_Liver_NA_10X_1_1                       2  \n",
       "AAAGAACAGCCTCTTC_TSP6_Liver_NA_10X_1_1                       3  \n",
       "AAAGAACGTAGCACAG_TSP6_Liver_NA_10X_1_1                       4  \n",
       "...                                                        ...  \n",
       "TSP2_Vasculature_aorta_SS2_B114577_B133059_Endo...      483147  \n",
       "TSP2_Vasculature_aorta_SS2_B114577_B133059_Endo...      483148  \n",
       "TSP2_Vasculature_aorta_SS2_B114577_B133059_Endo...      483149  \n",
       "TSP2_Vasculature_aorta_SS2_B114577_B133059_Endo...      483150  \n",
       "TSP2_Vasculature_aorta_SS2_B114577_B133059_Endo...      483151  \n",
       "\n",
       "[483152 rows x 29 columns]"
      ]
     },
     "execution_count": 18,
     "metadata": {},
     "output_type": "execute_result"
    }
   ],
   "source": [
    "atlas_adata_sapiens.obs"
   ]
  },
  {
   "cell_type": "code",
   "execution_count": 19,
   "metadata": {},
   "outputs": [],
   "source": [
    "sc.pp.neighbors(\n",
    "    atlas_adata_sapiens,\n",
    "    n_neighbors=15,\n",
    "    n_pcs=50,\n",
    "    use_rep='X_scvi',\n",
    ")\n",
    "\n",
    "sc.tl.louvain(\n",
    "    atlas_adata_sapiens,\n",
    "    resolution=1.0,\n",
    ")"
   ]
  },
  {
   "cell_type": "code",
   "execution_count": 20,
   "metadata": {},
   "outputs": [
    {
     "name": "stderr",
     "output_type": "stream",
     "text": [
      "100%|██████████| 78/78 [00:04<00:00, 16.49it/s]\n",
      "  0%|          | 0/78 [00:00<?, ?it/s]2024-06-25 04:55:58.428 WARNING root: Singular matrix. Likely caused by all points lying in an N-1 space.\n",
      "2024-06-25 04:55:58.678 WARNING root: Singular matrix. Likely caused by all points lying in an N-1 space.\n",
      "  1%|▏         | 1/78 [00:28<36:41, 28.59s/it]2024-06-25 04:56:13.019 WARNING root: Singular matrix. Likely caused by all points lying in an N-1 space.\n",
      "  3%|▎         | 2/78 [00:39<22:45, 17.96s/it]2024-06-25 04:56:24.322 WARNING root: Singular matrix. Likely caused by all points lying in an N-1 space.\n",
      "2024-06-25 04:56:24.638 WARNING root: Singular matrix. Likely caused by all points lying in an N-1 space.\n",
      "2024-06-25 04:56:24.638 WARNING root: Singular matrix. Likely caused by all points lying in an N-1 space.\n",
      "2024-06-25 04:56:24.941 WARNING root: Singular matrix. Likely caused by all points lying in an N-1 space.\n",
      "2024-06-25 04:56:25.093 WARNING root: Singular matrix. Likely caused by all points lying in an N-1 space.\n",
      " 10%|█         | 8/78 [01:40<12:25, 10.64s/it]2024-06-25 04:57:24.052 WARNING root: Singular matrix. Likely caused by all points lying in an N-1 space.\n",
      " 12%|█▏        | 9/78 [01:50<11:52, 10.33s/it]2024-06-25 04:57:32.982 WARNING root: Singular matrix. Likely caused by all points lying in an N-1 space.\n",
      "2024-06-25 04:57:33.373 WARNING root: Singular matrix. Likely caused by all points lying in an N-1 space.\n",
      "2024-06-25 04:57:33.968 WARNING root: Singular matrix. Likely caused by all points lying in an N-1 space.\n",
      " 13%|█▎        | 10/78 [01:59<11:15,  9.93s/it]2024-06-25 04:57:41.244 WARNING root: Singular matrix. Likely caused by all points lying in an N-1 space.\n",
      "2024-06-25 04:57:41.530 WARNING root: Singular matrix. Likely caused by all points lying in an N-1 space.\n",
      "2024-06-25 04:57:42.414 WARNING root: Singular matrix. Likely caused by all points lying in an N-1 space.\n",
      "2024-06-25 04:57:42.543 WARNING root: Singular matrix. Likely caused by all points lying in an N-1 space.\n",
      " 14%|█▍        | 11/78 [02:08<10:36,  9.50s/it]2024-06-25 04:58:04.293 WARNING root: Singular matrix. Likely caused by all points lying in an N-1 space.\n",
      "2024-06-25 04:58:05.960 WARNING root: Singular matrix. Likely caused by all points lying in an N-1 space.\n",
      "2024-06-25 04:58:07.553 WARNING root: Singular matrix. Likely caused by all points lying in an N-1 space.\n",
      "2024-06-25 04:58:08.722 WARNING root: Singular matrix. Likely caused by all points lying in an N-1 space.\n",
      " 19%|█▉        | 15/78 [02:58<10:36, 10.10s/it]2024-06-25 04:58:39.150 WARNING root: Singular matrix. Likely caused by all points lying in an N-1 space.\n",
      "2024-06-25 04:58:39.212 WARNING root: Singular matrix. Likely caused by all points lying in an N-1 space.\n",
      " 22%|██▏       | 17/78 [03:11<08:32,  8.40s/it]2024-06-25 04:58:53.172 WARNING root: Singular matrix. Likely caused by all points lying in an N-1 space.\n",
      " 26%|██▌       | 20/78 [03:29<06:21,  6.59s/it]2024-06-25 04:59:08.458 WARNING root: Singular matrix. Likely caused by all points lying in an N-1 space.\n",
      "2024-06-25 04:59:08.702 WARNING root: Singular matrix. Likely caused by all points lying in an N-1 space.\n",
      " 31%|███       | 24/78 [04:06<08:11,  9.10s/it]2024-06-25 04:59:45.896 WARNING root: Singular matrix. Likely caused by all points lying in an N-1 space.\n",
      "2024-06-25 04:59:46.007 WARNING root: Singular matrix. Likely caused by all points lying in an N-1 space.\n",
      "2024-06-25 04:59:46.187 WARNING root: Singular matrix. Likely caused by all points lying in an N-1 space.\n",
      " 32%|███▏      | 25/78 [04:11<06:49,  7.73s/it]2024-06-25 04:59:50.610 WARNING root: Singular matrix. Likely caused by all points lying in an N-1 space.\n",
      " 36%|███▌      | 28/78 [04:23<04:20,  5.21s/it]2024-06-25 05:00:01.520 WARNING root: Singular matrix. Likely caused by all points lying in an N-1 space.\n",
      " 38%|███▊      | 30/78 [04:30<03:26,  4.30s/it]2024-06-25 05:00:08.138 WARNING root: Singular matrix. Likely caused by all points lying in an N-1 space.\n",
      "2024-06-25 05:00:08.637 WARNING root: Singular matrix. Likely caused by all points lying in an N-1 space.\n",
      " 40%|███▉      | 31/78 [04:33<03:10,  4.06s/it]2024-06-25 05:00:12.321 WARNING root: Singular matrix. Likely caused by all points lying in an N-1 space.\n",
      " 42%|████▏     | 33/78 [04:40<02:47,  3.71s/it]2024-06-25 05:00:34.471 WARNING root: Singular matrix. Likely caused by all points lying in an N-1 space.\n",
      " 58%|█████▊    | 45/78 [05:50<04:35,  8.35s/it]2024-06-25 05:01:27.017 WARNING root: Singular matrix. Likely caused by all points lying in an N-1 space.\n",
      "2024-06-25 05:01:27.104 WARNING root: Singular matrix. Likely caused by all points lying in an N-1 space.\n",
      "2024-06-25 05:01:27.112 WARNING root: Singular matrix. Likely caused by all points lying in an N-1 space.\n",
      " 59%|█████▉    | 46/78 [05:51<03:24,  6.38s/it]2024-06-25 05:01:28.869 WARNING root: Singular matrix. Likely caused by all points lying in an N-1 space.\n",
      "2024-06-25 05:01:28.933 WARNING root: Singular matrix. Likely caused by all points lying in an N-1 space.\n",
      " 68%|██████▊   | 53/78 [06:02<00:45,  1.84s/it]2024-06-25 05:01:39.236 WARNING root: Singular matrix. Likely caused by all points lying in an N-1 space.\n",
      "2024-06-25 05:01:39.253 WARNING root: Singular matrix. Likely caused by all points lying in an N-1 space.\n",
      " 69%|██████▉   | 54/78 [06:03<00:39,  1.66s/it]2024-06-25 05:01:40.548 WARNING root: Singular matrix. Likely caused by all points lying in an N-1 space.\n",
      " 71%|███████   | 55/78 [06:05<00:35,  1.54s/it]2024-06-25 05:01:58.013 WARNING root: Singular matrix. Likely caused by all points lying in an N-1 space.\n",
      " 73%|███████▎  | 57/78 [06:25<01:49,  5.22s/it]2024-06-25 05:02:02.172 WARNING root: Singular matrix. Likely caused by all points lying in an N-1 space.\n",
      "2024-06-25 05:02:02.196 WARNING root: Singular matrix. Likely caused by all points lying in an N-1 space.\n",
      "2024-06-25 05:02:02.218 WARNING root: Singular matrix. Likely caused by all points lying in an N-1 space.\n",
      "2024-06-25 05:02:02.241 WARNING root: Singular matrix. Likely caused by all points lying in an N-1 space.\n",
      " 82%|████████▏ | 64/78 [06:31<00:16,  1.16s/it]2024-06-25 05:02:07.891 WARNING root: Singular matrix. Likely caused by all points lying in an N-1 space.\n",
      " 83%|████████▎ | 65/78 [06:32<00:13,  1.02s/it]2024-06-25 05:02:08.459 WARNING root: Singular matrix. Likely caused by all points lying in an N-1 space.\n",
      " 90%|████████▉ | 70/78 [06:54<00:20,  2.54s/it]2024-06-25 05:02:29.801 WARNING root: Singular matrix. Likely caused by all points lying in an N-1 space.\n",
      "2024-06-25 05:02:29.804 WARNING root: Singular matrix. Likely caused by all points lying in an N-1 space.\n",
      "2024-06-25 05:02:29.819 WARNING root: Singular matrix. Likely caused by all points lying in an N-1 space.\n",
      " 95%|█████████▍| 74/78 [06:54<00:03,  1.33it/s]2024-06-25 05:02:44.295 WARNING root: Singular matrix. Likely caused by all points lying in an N-1 space.\n",
      " 97%|█████████▋| 76/78 [07:11<00:08,  4.28s/it]2024-06-25 05:02:57.330 WARNING root: Singular matrix. Likely caused by all points lying in an N-1 space.\n",
      "2024-06-25 05:02:58.714 WARNING root: Singular matrix. Likely caused by all points lying in an N-1 space.\n",
      " 99%|█████████▊| 77/78 [07:24<00:06,  6.38s/it]2024-06-25 05:03:09.833 WARNING root: Singular matrix. Likely caused by all points lying in an N-1 space.\n",
      "100%|██████████| 78/78 [07:35<00:00,  5.84s/it]\n"
     ]
    }
   ],
   "source": [
    "padata_sapiens_louvain = utils.pseudobulk_adata(\n",
    "    atlas_adata_sapiens,\n",
    "    'louvain',\n",
    "    'louvain',\n",
    "    min_cells=5,\n",
    "    min_counts=200,\n",
    "    umap_key='X_umap',\n",
    "    calc_tpm=True,\n",
    "    normalize_length=False,\n",
    ")"
   ]
  },
  {
   "cell_type": "code",
   "execution_count": 21,
   "metadata": {},
   "outputs": [],
   "source": [
    "atlas_adata_sapiens.obs['tissue_cell_type'] = atlas_adata_sapiens.obs.apply(lambda x: f'{x.tissue}__{x.cell_type}', axis=1)"
   ]
  },
  {
   "cell_type": "code",
   "execution_count": 22,
   "metadata": {},
   "outputs": [
    {
     "name": "stderr",
     "output_type": "stream",
     "text": [
      "100%|██████████| 749/749 [00:04<00:00, 156.68it/s]\n",
      "  2%|▏         | 16/679 [00:10<03:11,  3.46it/s]2024-06-25 05:03:40.510 WARNING root: Singular matrix. Likely caused by all points lying in an N-1 space.\n",
      "2024-06-25 05:03:40.598 WARNING root: Singular matrix. Likely caused by all points lying in an N-1 space.\n",
      "2024-06-25 05:03:40.619 WARNING root: Singular matrix. Likely caused by all points lying in an N-1 space.\n",
      "2024-06-25 05:03:40.729 WARNING root: Singular matrix. Likely caused by all points lying in an N-1 space.\n",
      "2024-06-25 05:03:40.763 WARNING root: Singular matrix. Likely caused by all points lying in an N-1 space.\n",
      "  3%|▎         | 18/679 [00:12<06:02,  1.82it/s]2024-06-25 05:03:42.649 WARNING root: Singular matrix. Likely caused by all points lying in an N-1 space.\n",
      "  6%|▌         | 38/679 [00:26<11:00,  1.03s/it]2024-06-25 05:03:57.406 WARNING root: Singular matrix. Likely caused by all points lying in an N-1 space.\n",
      "2024-06-25 05:03:57.839 WARNING root: Singular matrix. Likely caused by all points lying in an N-1 space.\n",
      " 15%|█▍        | 99/679 [01:54<05:08,  1.88it/s]2024-06-25 05:05:24.209 WARNING root: Singular matrix. Likely caused by all points lying in an N-1 space.\n",
      "2024-06-25 05:05:24.215 WARNING root: Singular matrix. Likely caused by all points lying in an N-1 space.\n",
      " 15%|█▌        | 103/679 [01:57<06:46,  1.42it/s]2024-06-25 05:05:27.046 WARNING root: Singular matrix. Likely caused by all points lying in an N-1 space.\n",
      " 21%|██        | 144/679 [02:07<01:11,  7.48it/s]2024-06-25 05:05:37.310 WARNING root: Singular matrix. Likely caused by all points lying in an N-1 space.\n",
      "2024-06-25 05:05:37.325 WARNING root: Singular matrix. Likely caused by all points lying in an N-1 space.\n",
      "2024-06-25 05:05:37.332 WARNING root: Singular matrix. Likely caused by all points lying in an N-1 space.\n",
      " 23%|██▎       | 155/679 [02:12<03:20,  2.62it/s]2024-06-25 05:05:41.914 WARNING root: Singular matrix. Likely caused by all points lying in an N-1 space.\n",
      " 25%|██▍       | 167/679 [02:21<02:56,  2.90it/s]2024-06-25 05:05:50.690 WARNING root: Singular matrix. Likely caused by all points lying in an N-1 space.\n",
      "2024-06-25 05:05:50.703 WARNING root: Singular matrix. Likely caused by all points lying in an N-1 space.\n",
      " 33%|███▎      | 222/679 [02:49<10:45,  1.41s/it]2024-06-25 05:06:18.612 WARNING root: Singular matrix. Likely caused by all points lying in an N-1 space.\n",
      " 37%|███▋      | 254/679 [02:59<01:58,  3.60it/s]2024-06-25 05:06:29.817 WARNING root: Singular matrix. Likely caused by all points lying in an N-1 space.\n",
      " 38%|███▊      | 260/679 [03:05<06:02,  1.16it/s]2024-06-25 05:06:34.533 WARNING root: Singular matrix. Likely caused by all points lying in an N-1 space.\n",
      " 42%|████▏     | 284/679 [03:23<01:47,  3.68it/s]2024-06-25 05:06:58.241 WARNING root: Singular matrix. Likely caused by all points lying in an N-1 space.\n",
      " 44%|████▍     | 301/679 [03:59<07:11,  1.14s/it]2024-06-25 05:07:28.688 WARNING root: Singular matrix. Likely caused by all points lying in an N-1 space.\n",
      " 46%|████▋     | 315/679 [04:14<07:53,  1.30s/it]2024-06-25 05:07:44.314 WARNING root: Singular matrix. Likely caused by all points lying in an N-1 space.\n",
      " 47%|████▋     | 319/679 [04:16<04:48,  1.25it/s]2024-06-25 05:07:46.754 WARNING root: Singular matrix. Likely caused by all points lying in an N-1 space.\n",
      " 47%|████▋     | 321/679 [04:19<05:17,  1.13it/s]2024-06-25 05:07:51.689 WARNING root: Singular matrix. Likely caused by all points lying in an N-1 space.\n",
      " 58%|█████▊    | 391/679 [04:48<02:43,  1.76it/s]2024-06-25 05:08:23.025 WARNING root: Singular matrix. Likely caused by all points lying in an N-1 space.\n",
      "2024-06-25 05:08:23.136 WARNING root: Singular matrix. Likely caused by all points lying in an N-1 space.\n",
      "2024-06-25 05:08:23.400 WARNING root: Singular matrix. Likely caused by all points lying in an N-1 space.\n",
      "2024-06-25 05:08:23.545 WARNING root: Singular matrix. Likely caused by all points lying in an N-1 space.\n",
      " 58%|█████▊    | 397/679 [04:57<03:37,  1.29it/s]2024-06-25 05:08:26.718 WARNING root: Singular matrix. Likely caused by all points lying in an N-1 space.\n",
      "2024-06-25 05:08:26.775 WARNING root: Singular matrix. Likely caused by all points lying in an N-1 space.\n",
      " 60%|█████▉    | 407/679 [05:04<01:43,  2.63it/s]2024-06-25 05:08:36.839 WARNING root: Singular matrix. Likely caused by all points lying in an N-1 space.\n",
      " 62%|██████▏   | 419/679 [05:15<02:29,  1.74it/s]2024-06-25 05:08:46.039 WARNING root: Singular matrix. Likely caused by all points lying in an N-1 space.\n",
      " 65%|██████▍   | 441/679 [05:30<00:53,  4.42it/s]2024-06-25 05:08:58.968 WARNING root: Singular matrix. Likely caused by all points lying in an N-1 space.\n",
      " 85%|████████▍ | 574/679 [06:16<01:18,  1.34it/s]2024-06-25 05:09:45.956 WARNING root: Singular matrix. Likely caused by all points lying in an N-1 space.\n",
      " 85%|████████▌ | 580/679 [06:31<03:35,  2.18s/it]2024-06-25 05:10:01.628 WARNING root: Singular matrix. Likely caused by all points lying in an N-1 space.\n",
      "2024-06-25 05:10:01.746 WARNING root: Singular matrix. Likely caused by all points lying in an N-1 space.\n",
      "2024-06-25 05:10:01.934 WARNING root: Singular matrix. Likely caused by all points lying in an N-1 space.\n",
      " 90%|████████▉ | 609/679 [06:52<00:37,  1.88it/s]2024-06-25 05:10:27.233 WARNING root: Singular matrix. Likely caused by all points lying in an N-1 space.\n",
      " 94%|█████████▍| 637/679 [07:19<00:45,  1.09s/it]2024-06-25 05:10:49.400 WARNING root: Singular matrix. Likely caused by all points lying in an N-1 space.\n",
      "2024-06-25 05:10:49.411 WARNING root: Singular matrix. Likely caused by all points lying in an N-1 space.\n",
      "2024-06-25 05:10:49.496 WARNING root: Singular matrix. Likely caused by all points lying in an N-1 space.\n",
      "2024-06-25 05:10:49.614 WARNING root: Singular matrix. Likely caused by all points lying in an N-1 space.\n",
      " 95%|█████████▌| 646/679 [07:22<00:09,  3.49it/s]2024-06-25 05:10:54.496 WARNING root: Singular matrix. Likely caused by all points lying in an N-1 space.\n",
      "100%|██████████| 679/679 [07:33<00:00,  1.50it/s]\n"
     ]
    }
   ],
   "source": [
    "padata_sapiens_tissuecelltype = utils.pseudobulk_adata(\n",
    "    atlas_adata_sapiens,\n",
    "    'tissue_cell_type',\n",
    "    'tissue_cell_type',\n",
    "    min_cells=5,\n",
    "    min_counts=200,\n",
    "    umap_key='X_umap',\n",
    "    calc_tpm=True,\n",
    "    normalize_length=False,\n",
    ")"
   ]
  },
  {
   "cell_type": "code",
   "execution_count": 28,
   "metadata": {},
   "outputs": [
    {
     "name": "stderr",
     "output_type": "stream",
     "text": [
      "/tmp/ipykernel_23071/1313015571.py:14: RuntimeWarning: invalid value encountered in divide\n",
      "  xi = l / l.max(axis=0)\n",
      "/tmp/ipykernel_23071/1313015571.py:14: RuntimeWarning: invalid value encountered in divide\n",
      "  xi = l / l.max(axis=0)\n",
      "/tmp/ipykernel_23071/1313015571.py:14: RuntimeWarning: invalid value encountered in divide\n",
      "  xi = l / l.max(axis=0)\n",
      "/tmp/ipykernel_23071/1313015571.py:14: RuntimeWarning: invalid value encountered in divide\n",
      "  xi = l / l.max(axis=0)\n",
      "/tmp/ipykernel_23071/1313015571.py:14: RuntimeWarning: invalid value encountered in divide\n",
      "  xi = l / l.max(axis=0)\n"
     ]
    }
   ],
   "source": [
    "padata.var['tau__tissue'] = calc_adata_tau(padata_sapiens_tissue, return_tau=True)\n",
    "padata.var['tau__cell_type'] = calc_adata_tau(padata_sapiens_celltype, return_tau=True)\n",
    "padata.var['tau__louvain'] = calc_adata_tau(padata_sapiens_louvain, return_tau=True)\n",
    "padata.var['tau__tissue_cell_type'] = calc_adata_tau(padata_sapiens_tissuecelltype, return_tau=True)\n",
    "padata.var['tau__pseudobulk'] = calc_adata_tau(padata, return_tau=True)"
   ]
  },
  {
   "cell_type": "code",
   "execution_count": 29,
   "metadata": {},
   "outputs": [],
   "source": [
    "s_tissue = utils.label_expression_similarity(\n",
    "    padata_sapiens_tissue.layers['ntpm'],\n",
    "    padata_sapiens_tissue.obs,\n",
    "    padata_sapiens_tissue.var,\n",
    "    specificity_column = 'tissue',\n",
    ")\n",
    "s_celltype = utils.label_expression_similarity(\n",
    "    padata_sapiens_celltype.layers['ntpm'],\n",
    "    padata_sapiens_celltype.obs,\n",
    "    padata_sapiens_celltype.var,\n",
    "    specificity_column = 'cell_type',\n",
    ")\n",
    "s_tissuecelltype = utils.label_expression_similarity(\n",
    "    padata_sapiens_tissuecelltype.layers['ntpm'],\n",
    "    padata_sapiens_tissuecelltype.obs,\n",
    "    padata_sapiens_tissuecelltype.var,\n",
    "    specificity_column = 'tissue_cell_type',\n",
    ")\n",
    "s_louvain = utils.label_expression_similarity(\n",
    "    padata_sapiens_louvain.layers['ntpm'],\n",
    "    padata_sapiens_louvain.obs,\n",
    "    padata_sapiens_louvain.var,\n",
    "    specificity_column = 'louvain',\n",
    ")\n",
    "s_pseudobulk = utils.label_expression_similarity(\n",
    "    padata.layers['ntpm'],\n",
    "    padata.obs,\n",
    "    padata.var,\n",
    ")\n",
    "padata.uns['specificity'] = {}\n",
    "padata.uns['specificity']['tissue'] = s_tissue\n",
    "padata.uns['specificity']['cell_type'] = s_celltype\n",
    "padata.uns['specificity']['tissue_cell_type'] = s_tissuecelltype\n",
    "padata.uns['specificity']['louvain'] = s_louvain\n",
    "padata.uns['specificity']['pseudobulk'] = s_pseudobulk"
   ]
  }
 ],
 "metadata": {
  "kernelspec": {
   "display_name": "singlecell",
   "language": "python",
   "name": "python3"
  },
  "language_info": {
   "codemirror_mode": {
    "name": "ipython",
    "version": 3
   },
   "file_extension": ".py",
   "mimetype": "text/x-python",
   "name": "python",
   "nbconvert_exporter": "python",
   "pygments_lexer": "ipython3",
   "version": "3.9.7"
  }
 },
 "nbformat": 4,
 "nbformat_minor": 2
}
