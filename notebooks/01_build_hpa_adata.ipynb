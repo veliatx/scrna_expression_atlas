{
 "cells": [
  {
   "cell_type": "code",
   "execution_count": 1,
   "metadata": {},
   "outputs": [],
   "source": [
    "from pathlib import Path\n",
    "from typing import *\n",
    "import shutil\n",
    "\n",
    "import numpy as np\n",
    "import pandas as pd\n",
    "import anndata as ad\n",
    "import matplotlib.pyplot as plt\n",
    "from tqdm import tqdm \n",
    "from scipy import sparse\n",
    "import scanpy as sc \n",
    "\n",
    "from scrna_atlas import settings, utils"
   ]
  },
  {
   "cell_type": "code",
   "execution_count": 2,
   "metadata": {},
   "outputs": [
    {
     "data": {
      "text/html": [
       "<div>\n",
       "<style scoped>\n",
       "    .dataframe tbody tr th:only-of-type {\n",
       "        vertical-align: middle;\n",
       "    }\n",
       "\n",
       "    .dataframe tbody tr th {\n",
       "        vertical-align: top;\n",
       "    }\n",
       "\n",
       "    .dataframe thead th {\n",
       "        text-align: right;\n",
       "    }\n",
       "</style>\n",
       "<table border=\"1\" class=\"dataframe\">\n",
       "  <thead>\n",
       "    <tr style=\"text-align: right;\">\n",
       "      <th></th>\n",
       "      <th>Tissue</th>\n",
       "      <th>Cluster</th>\n",
       "      <th>Cell type</th>\n",
       "      <th>Cell type group</th>\n",
       "      <th>Cell count</th>\n",
       "    </tr>\n",
       "  </thead>\n",
       "  <tbody>\n",
       "    <tr>\n",
       "      <th>0</th>\n",
       "      <td>Adipose tissue</td>\n",
       "      <td>c-0</td>\n",
       "      <td>Fibroblasts</td>\n",
       "      <td>Mesenchymal cells</td>\n",
       "      <td>14945</td>\n",
       "    </tr>\n",
       "    <tr>\n",
       "      <th>1</th>\n",
       "      <td>Adipose tissue</td>\n",
       "      <td>c-1</td>\n",
       "      <td>T-cells</td>\n",
       "      <td>Blood &amp; immune cells</td>\n",
       "      <td>10011</td>\n",
       "    </tr>\n",
       "    <tr>\n",
       "      <th>2</th>\n",
       "      <td>Adipose tissue</td>\n",
       "      <td>c-2</td>\n",
       "      <td>T-cells</td>\n",
       "      <td>Blood &amp; immune cells</td>\n",
       "      <td>7279</td>\n",
       "    </tr>\n",
       "    <tr>\n",
       "      <th>3</th>\n",
       "      <td>Adipose tissue</td>\n",
       "      <td>c-3</td>\n",
       "      <td>T-cells</td>\n",
       "      <td>Blood &amp; immune cells</td>\n",
       "      <td>7200</td>\n",
       "    </tr>\n",
       "    <tr>\n",
       "      <th>4</th>\n",
       "      <td>Adipose tissue</td>\n",
       "      <td>c-4</td>\n",
       "      <td>Nk-cells</td>\n",
       "      <td>Blood &amp; immune cells</td>\n",
       "      <td>5823</td>\n",
       "    </tr>\n",
       "    <tr>\n",
       "      <th>...</th>\n",
       "      <td>...</td>\n",
       "      <td>...</td>\n",
       "      <td>...</td>\n",
       "      <td>...</td>\n",
       "      <td>...</td>\n",
       "    </tr>\n",
       "    <tr>\n",
       "      <th>552</th>\n",
       "      <td>Vascular</td>\n",
       "      <td>c-15</td>\n",
       "      <td>Endothelial cells</td>\n",
       "      <td>Endothelial cells</td>\n",
       "      <td>237</td>\n",
       "    </tr>\n",
       "    <tr>\n",
       "      <th>553</th>\n",
       "      <td>Vascular</td>\n",
       "      <td>c-16</td>\n",
       "      <td>Endothelial cells</td>\n",
       "      <td>Endothelial cells</td>\n",
       "      <td>204</td>\n",
       "    </tr>\n",
       "    <tr>\n",
       "      <th>554</th>\n",
       "      <td>Vascular</td>\n",
       "      <td>c-17</td>\n",
       "      <td>Smooth muscle cells</td>\n",
       "      <td>Muscle cells</td>\n",
       "      <td>192</td>\n",
       "    </tr>\n",
       "    <tr>\n",
       "      <th>555</th>\n",
       "      <td>Vascular</td>\n",
       "      <td>c-18</td>\n",
       "      <td>Schwann cells</td>\n",
       "      <td>Glial cells</td>\n",
       "      <td>175</td>\n",
       "    </tr>\n",
       "    <tr>\n",
       "      <th>556</th>\n",
       "      <td>Vascular</td>\n",
       "      <td>c-19</td>\n",
       "      <td>Endothelial cells</td>\n",
       "      <td>Endothelial cells</td>\n",
       "      <td>48</td>\n",
       "    </tr>\n",
       "  </tbody>\n",
       "</table>\n",
       "<p>557 rows × 5 columns</p>\n",
       "</div>"
      ],
      "text/plain": [
       "             Tissue Cluster            Cell type       Cell type group  \\\n",
       "0    Adipose tissue     c-0          Fibroblasts     Mesenchymal cells   \n",
       "1    Adipose tissue     c-1              T-cells  Blood & immune cells   \n",
       "2    Adipose tissue     c-2              T-cells  Blood & immune cells   \n",
       "3    Adipose tissue     c-3              T-cells  Blood & immune cells   \n",
       "4    Adipose tissue     c-4             Nk-cells  Blood & immune cells   \n",
       "..              ...     ...                  ...                   ...   \n",
       "552        Vascular    c-15    Endothelial cells     Endothelial cells   \n",
       "553        Vascular    c-16    Endothelial cells     Endothelial cells   \n",
       "554        Vascular    c-17  Smooth muscle cells          Muscle cells   \n",
       "555        Vascular    c-18        Schwann cells           Glial cells   \n",
       "556        Vascular    c-19    Endothelial cells     Endothelial cells   \n",
       "\n",
       "     Cell count  \n",
       "0         14945  \n",
       "1         10011  \n",
       "2          7279  \n",
       "3          7200  \n",
       "4          5823  \n",
       "..          ...  \n",
       "552         237  \n",
       "553         204  \n",
       "554         192  \n",
       "555         175  \n",
       "556          48  \n",
       "\n",
       "[557 rows x 5 columns]"
      ]
     },
     "execution_count": 2,
     "metadata": {},
     "output_type": "execute_result"
    }
   ],
   "source": [
    "cell_type_df = pd.read_csv(\n",
    "    settings.HPA_DATA_LOC / 'rna_single_cell_cluster_description.tsv',\n",
    "    sep='\\t',\n",
    ")\n",
    "cell_type_df"
   ]
  },
  {
   "cell_type": "code",
   "execution_count": 3,
   "metadata": {},
   "outputs": [
    {
     "data": {
      "text/html": [
       "<div>\n",
       "<style scoped>\n",
       "    .dataframe tbody tr th:only-of-type {\n",
       "        vertical-align: middle;\n",
       "    }\n",
       "\n",
       "    .dataframe tbody tr th {\n",
       "        vertical-align: top;\n",
       "    }\n",
       "\n",
       "    .dataframe thead th {\n",
       "        text-align: right;\n",
       "    }\n",
       "</style>\n",
       "<table border=\"1\" class=\"dataframe\">\n",
       "  <thead>\n",
       "    <tr style=\"text-align: right;\">\n",
       "      <th></th>\n",
       "      <th>Gene</th>\n",
       "      <th>Gene name</th>\n",
       "      <th>Tissue</th>\n",
       "      <th>Cluster</th>\n",
       "      <th>Cell type</th>\n",
       "      <th>Read count</th>\n",
       "      <th>nTPM</th>\n",
       "    </tr>\n",
       "  </thead>\n",
       "  <tbody>\n",
       "    <tr>\n",
       "      <th>0</th>\n",
       "      <td>ENSG00000000003</td>\n",
       "      <td>TSPAN6</td>\n",
       "      <td>testis</td>\n",
       "      <td>c-0</td>\n",
       "      <td>leydig cells</td>\n",
       "      <td>86</td>\n",
       "      <td>29.0</td>\n",
       "    </tr>\n",
       "    <tr>\n",
       "      <th>1</th>\n",
       "      <td>ENSG00000000003</td>\n",
       "      <td>TSPAN6</td>\n",
       "      <td>testis</td>\n",
       "      <td>c-1</td>\n",
       "      <td>spermatocytes</td>\n",
       "      <td>152</td>\n",
       "      <td>19.8</td>\n",
       "    </tr>\n",
       "    <tr>\n",
       "      <th>2</th>\n",
       "      <td>ENSG00000000003</td>\n",
       "      <td>TSPAN6</td>\n",
       "      <td>testis</td>\n",
       "      <td>c-2</td>\n",
       "      <td>late spermatids</td>\n",
       "      <td>1330</td>\n",
       "      <td>2089.7</td>\n",
       "    </tr>\n",
       "    <tr>\n",
       "      <th>3</th>\n",
       "      <td>ENSG00000000003</td>\n",
       "      <td>TSPAN6</td>\n",
       "      <td>testis</td>\n",
       "      <td>c-3</td>\n",
       "      <td>early spermatids</td>\n",
       "      <td>1898</td>\n",
       "      <td>368.5</td>\n",
       "    </tr>\n",
       "    <tr>\n",
       "      <th>4</th>\n",
       "      <td>ENSG00000000003</td>\n",
       "      <td>TSPAN6</td>\n",
       "      <td>testis</td>\n",
       "      <td>c-4</td>\n",
       "      <td>spermatogonia</td>\n",
       "      <td>285</td>\n",
       "      <td>30.5</td>\n",
       "    </tr>\n",
       "    <tr>\n",
       "      <th>...</th>\n",
       "      <td>...</td>\n",
       "      <td>...</td>\n",
       "      <td>...</td>\n",
       "      <td>...</td>\n",
       "      <td>...</td>\n",
       "      <td>...</td>\n",
       "      <td>...</td>\n",
       "    </tr>\n",
       "    <tr>\n",
       "      <th>11185669</th>\n",
       "      <td>ENSG00000288695</td>\n",
       "      <td>ENSG00000288695</td>\n",
       "      <td>ovary</td>\n",
       "      <td>c-12</td>\n",
       "      <td>ovarian stromal cells</td>\n",
       "      <td>0</td>\n",
       "      <td>0.0</td>\n",
       "    </tr>\n",
       "    <tr>\n",
       "      <th>11185670</th>\n",
       "      <td>ENSG00000288695</td>\n",
       "      <td>ENSG00000288695</td>\n",
       "      <td>ovary</td>\n",
       "      <td>c-13</td>\n",
       "      <td>granulosa cells</td>\n",
       "      <td>0</td>\n",
       "      <td>0.0</td>\n",
       "    </tr>\n",
       "    <tr>\n",
       "      <th>11185671</th>\n",
       "      <td>ENSG00000288695</td>\n",
       "      <td>ENSG00000288695</td>\n",
       "      <td>ovary</td>\n",
       "      <td>c-14</td>\n",
       "      <td>mixed immune cells</td>\n",
       "      <td>0</td>\n",
       "      <td>0.0</td>\n",
       "    </tr>\n",
       "    <tr>\n",
       "      <th>11185672</th>\n",
       "      <td>ENSG00000288695</td>\n",
       "      <td>ENSG00000288695</td>\n",
       "      <td>ovary</td>\n",
       "      <td>c-15</td>\n",
       "      <td>oocytes</td>\n",
       "      <td>0</td>\n",
       "      <td>0.0</td>\n",
       "    </tr>\n",
       "    <tr>\n",
       "      <th>11185673</th>\n",
       "      <td>ENSG00000288695</td>\n",
       "      <td>ENSG00000288695</td>\n",
       "      <td>ovary</td>\n",
       "      <td>c-16</td>\n",
       "      <td>lymphatic endothelial cells</td>\n",
       "      <td>0</td>\n",
       "      <td>0.0</td>\n",
       "    </tr>\n",
       "  </tbody>\n",
       "</table>\n",
       "<p>11185674 rows × 7 columns</p>\n",
       "</div>"
      ],
      "text/plain": [
       "                     Gene        Gene name  Tissue Cluster  \\\n",
       "0         ENSG00000000003           TSPAN6  testis     c-0   \n",
       "1         ENSG00000000003           TSPAN6  testis     c-1   \n",
       "2         ENSG00000000003           TSPAN6  testis     c-2   \n",
       "3         ENSG00000000003           TSPAN6  testis     c-3   \n",
       "4         ENSG00000000003           TSPAN6  testis     c-4   \n",
       "...                   ...              ...     ...     ...   \n",
       "11185669  ENSG00000288695  ENSG00000288695   ovary    c-12   \n",
       "11185670  ENSG00000288695  ENSG00000288695   ovary    c-13   \n",
       "11185671  ENSG00000288695  ENSG00000288695   ovary    c-14   \n",
       "11185672  ENSG00000288695  ENSG00000288695   ovary    c-15   \n",
       "11185673  ENSG00000288695  ENSG00000288695   ovary    c-16   \n",
       "\n",
       "                            Cell type  Read count    nTPM  \n",
       "0                        leydig cells          86    29.0  \n",
       "1                       spermatocytes         152    19.8  \n",
       "2                     late spermatids        1330  2089.7  \n",
       "3                    early spermatids        1898   368.5  \n",
       "4                       spermatogonia         285    30.5  \n",
       "...                               ...         ...     ...  \n",
       "11185669        ovarian stromal cells           0     0.0  \n",
       "11185670              granulosa cells           0     0.0  \n",
       "11185671           mixed immune cells           0     0.0  \n",
       "11185672                      oocytes           0     0.0  \n",
       "11185673  lymphatic endothelial cells           0     0.0  \n",
       "\n",
       "[11185674 rows x 7 columns]"
      ]
     },
     "execution_count": 3,
     "metadata": {},
     "output_type": "execute_result"
    }
   ],
   "source": [
    "cell_expression_df = pd.read_csv(\n",
    "    settings.HPA_DATA_LOC / 'rna_single_cell_type_tissue.tsv',\n",
    "    sep='\\t',\n",
    ")   \n",
    "cell_expression_df"
   ]
  },
  {
   "cell_type": "code",
   "execution_count": 4,
   "metadata": {},
   "outputs": [
    {
     "data": {
      "text/html": [
       "<div>\n",
       "<style scoped>\n",
       "    .dataframe tbody tr th:only-of-type {\n",
       "        vertical-align: middle;\n",
       "    }\n",
       "\n",
       "    .dataframe tbody tr th {\n",
       "        vertical-align: top;\n",
       "    }\n",
       "\n",
       "    .dataframe thead th {\n",
       "        text-align: right;\n",
       "    }\n",
       "</style>\n",
       "<table border=\"1\" class=\"dataframe\">\n",
       "  <thead>\n",
       "    <tr style=\"text-align: right;\">\n",
       "      <th></th>\n",
       "      <th>gene</th>\n",
       "      <th>gene_name</th>\n",
       "    </tr>\n",
       "  </thead>\n",
       "  <tbody>\n",
       "    <tr>\n",
       "      <th>0</th>\n",
       "      <td>ENSG00000000003</td>\n",
       "      <td>TSPAN6</td>\n",
       "    </tr>\n",
       "    <tr>\n",
       "      <th>557</th>\n",
       "      <td>ENSG00000000005</td>\n",
       "      <td>TNMD</td>\n",
       "    </tr>\n",
       "    <tr>\n",
       "      <th>1114</th>\n",
       "      <td>ENSG00000000419</td>\n",
       "      <td>DPM1</td>\n",
       "    </tr>\n",
       "    <tr>\n",
       "      <th>1671</th>\n",
       "      <td>ENSG00000000457</td>\n",
       "      <td>SCYL3</td>\n",
       "    </tr>\n",
       "    <tr>\n",
       "      <th>2228</th>\n",
       "      <td>ENSG00000000460</td>\n",
       "      <td>C1orf112</td>\n",
       "    </tr>\n",
       "    <tr>\n",
       "      <th>...</th>\n",
       "      <td>...</td>\n",
       "      <td>...</td>\n",
       "    </tr>\n",
       "    <tr>\n",
       "      <th>11182889</th>\n",
       "      <td>ENSG00000288677</td>\n",
       "      <td>HRURF</td>\n",
       "    </tr>\n",
       "    <tr>\n",
       "      <th>11183446</th>\n",
       "      <td>ENSG00000288678</td>\n",
       "      <td>ENSG00000288678</td>\n",
       "    </tr>\n",
       "    <tr>\n",
       "      <th>11184003</th>\n",
       "      <td>ENSG00000288681</td>\n",
       "      <td>ENSG00000288681</td>\n",
       "    </tr>\n",
       "    <tr>\n",
       "      <th>11184560</th>\n",
       "      <td>ENSG00000288684</td>\n",
       "      <td>ENSG00000288684</td>\n",
       "    </tr>\n",
       "    <tr>\n",
       "      <th>11185117</th>\n",
       "      <td>ENSG00000288695</td>\n",
       "      <td>ENSG00000288695</td>\n",
       "    </tr>\n",
       "  </tbody>\n",
       "</table>\n",
       "<p>20082 rows × 2 columns</p>\n",
       "</div>"
      ],
      "text/plain": [
       "                     gene        gene_name\n",
       "0         ENSG00000000003           TSPAN6\n",
       "557       ENSG00000000005             TNMD\n",
       "1114      ENSG00000000419             DPM1\n",
       "1671      ENSG00000000457            SCYL3\n",
       "2228      ENSG00000000460         C1orf112\n",
       "...                   ...              ...\n",
       "11182889  ENSG00000288677            HRURF\n",
       "11183446  ENSG00000288678  ENSG00000288678\n",
       "11184003  ENSG00000288681  ENSG00000288681\n",
       "11184560  ENSG00000288684  ENSG00000288684\n",
       "11185117  ENSG00000288695  ENSG00000288695\n",
       "\n",
       "[20082 rows x 2 columns]"
      ]
     },
     "execution_count": 4,
     "metadata": {},
     "output_type": "execute_result"
    }
   ],
   "source": [
    "gene_df = cell_expression_df.loc[:, \n",
    "    ['Gene', 'Gene name']\n",
    "].drop_duplicates().rename(\n",
    "    {'Gene name': 'gene_name', 'Gene': 'gene'},\n",
    "    axis=1,\n",
    ")\n",
    "gene_df"
   ]
  },
  {
   "cell_type": "code",
   "execution_count": 5,
   "metadata": {},
   "outputs": [
    {
     "data": {
      "text/html": [
       "<div>\n",
       "<style scoped>\n",
       "    .dataframe tbody tr th:only-of-type {\n",
       "        vertical-align: middle;\n",
       "    }\n",
       "\n",
       "    .dataframe tbody tr th {\n",
       "        vertical-align: top;\n",
       "    }\n",
       "\n",
       "    .dataframe thead th {\n",
       "        text-align: right;\n",
       "    }\n",
       "</style>\n",
       "<table border=\"1\" class=\"dataframe\">\n",
       "  <thead>\n",
       "    <tr style=\"text-align: right;\">\n",
       "      <th></th>\n",
       "      <th>tissue</th>\n",
       "      <th>cluster</th>\n",
       "      <th>cell_type</th>\n",
       "    </tr>\n",
       "  </thead>\n",
       "  <tbody>\n",
       "    <tr>\n",
       "      <th>0</th>\n",
       "      <td>testis</td>\n",
       "      <td>c-0</td>\n",
       "      <td>leydig_cells</td>\n",
       "    </tr>\n",
       "    <tr>\n",
       "      <th>1</th>\n",
       "      <td>testis</td>\n",
       "      <td>c-1</td>\n",
       "      <td>spermatocytes</td>\n",
       "    </tr>\n",
       "    <tr>\n",
       "      <th>2</th>\n",
       "      <td>testis</td>\n",
       "      <td>c-2</td>\n",
       "      <td>late_spermatids</td>\n",
       "    </tr>\n",
       "    <tr>\n",
       "      <th>3</th>\n",
       "      <td>testis</td>\n",
       "      <td>c-3</td>\n",
       "      <td>early_spermatids</td>\n",
       "    </tr>\n",
       "    <tr>\n",
       "      <th>4</th>\n",
       "      <td>testis</td>\n",
       "      <td>c-4</td>\n",
       "      <td>spermatogonia</td>\n",
       "    </tr>\n",
       "    <tr>\n",
       "      <th>...</th>\n",
       "      <td>...</td>\n",
       "      <td>...</td>\n",
       "      <td>...</td>\n",
       "    </tr>\n",
       "    <tr>\n",
       "      <th>552</th>\n",
       "      <td>ovary</td>\n",
       "      <td>c-12</td>\n",
       "      <td>ovarian_stromal_cells</td>\n",
       "    </tr>\n",
       "    <tr>\n",
       "      <th>553</th>\n",
       "      <td>ovary</td>\n",
       "      <td>c-13</td>\n",
       "      <td>granulosa_cells</td>\n",
       "    </tr>\n",
       "    <tr>\n",
       "      <th>554</th>\n",
       "      <td>ovary</td>\n",
       "      <td>c-14</td>\n",
       "      <td>mixed_immune_cells</td>\n",
       "    </tr>\n",
       "    <tr>\n",
       "      <th>555</th>\n",
       "      <td>ovary</td>\n",
       "      <td>c-15</td>\n",
       "      <td>oocytes</td>\n",
       "    </tr>\n",
       "    <tr>\n",
       "      <th>556</th>\n",
       "      <td>ovary</td>\n",
       "      <td>c-16</td>\n",
       "      <td>lymphatic_endothelial_cells</td>\n",
       "    </tr>\n",
       "  </tbody>\n",
       "</table>\n",
       "<p>557 rows × 3 columns</p>\n",
       "</div>"
      ],
      "text/plain": [
       "     tissue cluster                    cell_type\n",
       "0    testis     c-0                 leydig_cells\n",
       "1    testis     c-1                spermatocytes\n",
       "2    testis     c-2              late_spermatids\n",
       "3    testis     c-3             early_spermatids\n",
       "4    testis     c-4                spermatogonia\n",
       "..      ...     ...                          ...\n",
       "552   ovary    c-12        ovarian_stromal_cells\n",
       "553   ovary    c-13              granulosa_cells\n",
       "554   ovary    c-14           mixed_immune_cells\n",
       "555   ovary    c-15                      oocytes\n",
       "556   ovary    c-16  lymphatic_endothelial_cells\n",
       "\n",
       "[557 rows x 3 columns]"
      ]
     },
     "execution_count": 5,
     "metadata": {},
     "output_type": "execute_result"
    }
   ],
   "source": [
    "cluster_tissue_type_df = cell_expression_df.loc[:,\n",
    "    ['Tissue', 'Cluster', 'Cell type']\n",
    "].drop_duplicates().rename(\n",
    "    {'Tissue': 'tissue', 'Cluster': 'cluster', 'Cell type': 'cell_type'},\n",
    "    axis=1,\n",
    ")\n",
    "cluster_tissue_type_df['tissue'] = cluster_tissue_type_df['tissue'].map(lambda x: x.replace(' ', '_'))\n",
    "cluster_tissue_type_df['cell_type'] = cluster_tissue_type_df['cell_type'].map(lambda x: x.replace(' ', '_'))\n",
    "cluster_tissue_type_df"
   ]
  },
  {
   "cell_type": "code",
   "execution_count": 23,
   "metadata": {},
   "outputs": [
    {
     "name": "stderr",
     "output_type": "stream",
     "text": [
      "  0%|          | 0/31 [00:00<?, ?it/s]/tmp/ipykernel_505976/3286860472.py:15: SettingWithCopyWarning: \n",
      "A value is trying to be set on a copy of a slice from a DataFrame.\n",
      "Try using .loc[row_indexer,col_indexer] = value instead\n",
      "\n",
      "See the caveats in the documentation: https://pandas.pydata.org/pandas-docs/stable/user_guide/indexing.html#returning-a-view-versus-a-copy\n",
      "  obs['cluster'] = obs['cluster'].astype(str)\n"
     ]
    },
    {
     "name": "stdout",
     "output_type": "stream",
     "text": [
      "adipose_tissue\n",
      "reading counts...\n"
     ]
    },
    {
     "name": "stderr",
     "output_type": "stream",
     "text": [
      "20082it [04:42, 71.06it/s]\n"
     ]
    },
    {
     "name": "stdout",
     "output_type": "stream",
     "text": [
      "finished reading...\n",
      "converting to sparse...\n"
     ]
    },
    {
     "name": "stderr",
     "output_type": "stream",
     "text": [
      "/home/ec2-user/anaconda/envs/singlecell/lib/python3.9/site-packages/anndata/_core/anndata.py:121: ImplicitModificationWarning: Transforming to str index.\n",
      "  warnings.warn(\"Transforming to str index.\", ImplicitModificationWarning)\n",
      "  3%|▎         | 1/31 [05:05<2:32:45, 305.53s/it]/tmp/ipykernel_505976/3286860472.py:15: SettingWithCopyWarning: \n",
      "A value is trying to be set on a copy of a slice from a DataFrame.\n",
      "Try using .loc[row_indexer,col_indexer] = value instead\n",
      "\n",
      "See the caveats in the documentation: https://pandas.pydata.org/pandas-docs/stable/user_guide/indexing.html#returning-a-view-versus-a-copy\n",
      "  obs['cluster'] = obs['cluster'].astype(str)\n"
     ]
    },
    {
     "name": "stdout",
     "output_type": "stream",
     "text": [
      "bone_marrow\n",
      "reading counts...\n"
     ]
    },
    {
     "name": "stderr",
     "output_type": "stream",
     "text": [
      "20082it [00:11, 1783.73it/s]\n"
     ]
    },
    {
     "name": "stdout",
     "output_type": "stream",
     "text": [
      "finished reading...\n",
      "converting to sparse...\n"
     ]
    },
    {
     "name": "stderr",
     "output_type": "stream",
     "text": [
      "/home/ec2-user/anaconda/envs/singlecell/lib/python3.9/site-packages/anndata/_core/anndata.py:121: ImplicitModificationWarning: Transforming to str index.\n",
      "  warnings.warn(\"Transforming to str index.\", ImplicitModificationWarning)\n",
      "  6%|▋         | 2/31 [05:17<1:04:19, 133.09s/it]/tmp/ipykernel_505976/3286860472.py:15: SettingWithCopyWarning: \n",
      "A value is trying to be set on a copy of a slice from a DataFrame.\n",
      "Try using .loc[row_indexer,col_indexer] = value instead\n",
      "\n",
      "See the caveats in the documentation: https://pandas.pydata.org/pandas-docs/stable/user_guide/indexing.html#returning-a-view-versus-a-copy\n",
      "  obs['cluster'] = obs['cluster'].astype(str)\n"
     ]
    },
    {
     "name": "stdout",
     "output_type": "stream",
     "text": [
      "brain\n",
      "reading counts...\n"
     ]
    },
    {
     "name": "stderr",
     "output_type": "stream",
     "text": [
      "20082it [06:11, 54.01it/s]\n"
     ]
    },
    {
     "name": "stdout",
     "output_type": "stream",
     "text": [
      "finished reading...\n",
      "converting to sparse...\n"
     ]
    },
    {
     "name": "stderr",
     "output_type": "stream",
     "text": [
      "/home/ec2-user/anaconda/envs/singlecell/lib/python3.9/site-packages/anndata/_core/anndata.py:121: ImplicitModificationWarning: Transforming to str index.\n",
      "  warnings.warn(\"Transforming to str index.\", ImplicitModificationWarning)\n",
      " 10%|▉         | 3/31 [12:48<2:09:52, 278.29s/it]/tmp/ipykernel_505976/3286860472.py:15: SettingWithCopyWarning: \n",
      "A value is trying to be set on a copy of a slice from a DataFrame.\n",
      "Try using .loc[row_indexer,col_indexer] = value instead\n",
      "\n",
      "See the caveats in the documentation: https://pandas.pydata.org/pandas-docs/stable/user_guide/indexing.html#returning-a-view-versus-a-copy\n",
      "  obs['cluster'] = obs['cluster'].astype(str)\n"
     ]
    },
    {
     "name": "stdout",
     "output_type": "stream",
     "text": [
      "breast\n",
      "reading counts...\n"
     ]
    },
    {
     "name": "stderr",
     "output_type": "stream",
     "text": [
      "20082it [02:45, 121.26it/s]\n"
     ]
    },
    {
     "name": "stdout",
     "output_type": "stream",
     "text": [
      "finished reading...\n",
      "converting to sparse...\n"
     ]
    },
    {
     "name": "stderr",
     "output_type": "stream",
     "text": [
      "/home/ec2-user/anaconda/envs/singlecell/lib/python3.9/site-packages/anndata/_core/anndata.py:121: ImplicitModificationWarning: Transforming to str index.\n",
      "  warnings.warn(\"Transforming to str index.\", ImplicitModificationWarning)\n",
      " 13%|█▎        | 4/31 [15:47<1:47:34, 239.06s/it]/tmp/ipykernel_505976/3286860472.py:15: SettingWithCopyWarning: \n",
      "A value is trying to be set on a copy of a slice from a DataFrame.\n",
      "Try using .loc[row_indexer,col_indexer] = value instead\n",
      "\n",
      "See the caveats in the documentation: https://pandas.pydata.org/pandas-docs/stable/user_guide/indexing.html#returning-a-view-versus-a-copy\n",
      "  obs['cluster'] = obs['cluster'].astype(str)\n"
     ]
    },
    {
     "name": "stdout",
     "output_type": "stream",
     "text": [
      "bronchus\n",
      "reading counts...\n"
     ]
    },
    {
     "name": "stderr",
     "output_type": "stream",
     "text": [
      "20082it [01:29, 225.24it/s]\n"
     ]
    },
    {
     "name": "stdout",
     "output_type": "stream",
     "text": [
      "finished reading...\n",
      "converting to sparse...\n"
     ]
    },
    {
     "name": "stderr",
     "output_type": "stream",
     "text": [
      "/home/ec2-user/anaconda/envs/singlecell/lib/python3.9/site-packages/anndata/_core/anndata.py:121: ImplicitModificationWarning: Transforming to str index.\n",
      "  warnings.warn(\"Transforming to str index.\", ImplicitModificationWarning)\n",
      " 16%|█▌        | 5/31 [17:23<1:21:10, 187.32s/it]/tmp/ipykernel_505976/3286860472.py:15: SettingWithCopyWarning: \n",
      "A value is trying to be set on a copy of a slice from a DataFrame.\n",
      "Try using .loc[row_indexer,col_indexer] = value instead\n",
      "\n",
      "See the caveats in the documentation: https://pandas.pydata.org/pandas-docs/stable/user_guide/indexing.html#returning-a-view-versus-a-copy\n",
      "  obs['cluster'] = obs['cluster'].astype(str)\n"
     ]
    },
    {
     "name": "stdout",
     "output_type": "stream",
     "text": [
      "colon\n",
      "reading counts...\n"
     ]
    },
    {
     "name": "stderr",
     "output_type": "stream",
     "text": [
      "20082it [00:18, 1108.69it/s]\n"
     ]
    },
    {
     "name": "stdout",
     "output_type": "stream",
     "text": [
      "finished reading...\n",
      "converting to sparse...\n"
     ]
    },
    {
     "name": "stderr",
     "output_type": "stream",
     "text": [
      "/home/ec2-user/anaconda/envs/singlecell/lib/python3.9/site-packages/anndata/_core/anndata.py:121: ImplicitModificationWarning: Transforming to str index.\n",
      "  warnings.warn(\"Transforming to str index.\", ImplicitModificationWarning)\n",
      " 19%|█▉        | 6/31 [17:44<54:26, 130.67s/it]  /tmp/ipykernel_505976/3286860472.py:15: SettingWithCopyWarning: \n",
      "A value is trying to be set on a copy of a slice from a DataFrame.\n",
      "Try using .loc[row_indexer,col_indexer] = value instead\n",
      "\n",
      "See the caveats in the documentation: https://pandas.pydata.org/pandas-docs/stable/user_guide/indexing.html#returning-a-view-versus-a-copy\n",
      "  obs['cluster'] = obs['cluster'].astype(str)\n"
     ]
    },
    {
     "name": "stdout",
     "output_type": "stream",
     "text": [
      "endometrium\n",
      "reading counts...\n"
     ]
    },
    {
     "name": "stderr",
     "output_type": "stream",
     "text": [
      "20082it [03:17, 101.56it/s]\n"
     ]
    },
    {
     "name": "stdout",
     "output_type": "stream",
     "text": [
      "finished reading...\n",
      "converting to sparse...\n"
     ]
    },
    {
     "name": "stderr",
     "output_type": "stream",
     "text": [
      "/home/ec2-user/anaconda/envs/singlecell/lib/python3.9/site-packages/anndata/_core/anndata.py:121: ImplicitModificationWarning: Transforming to str index.\n",
      "  warnings.warn(\"Transforming to str index.\", ImplicitModificationWarning)\n",
      " 23%|██▎       | 7/31 [21:21<1:03:38, 159.10s/it]/tmp/ipykernel_505976/3286860472.py:15: SettingWithCopyWarning: \n",
      "A value is trying to be set on a copy of a slice from a DataFrame.\n",
      "Try using .loc[row_indexer,col_indexer] = value instead\n",
      "\n",
      "See the caveats in the documentation: https://pandas.pydata.org/pandas-docs/stable/user_guide/indexing.html#returning-a-view-versus-a-copy\n",
      "  obs['cluster'] = obs['cluster'].astype(str)\n"
     ]
    },
    {
     "name": "stdout",
     "output_type": "stream",
     "text": [
      "esophagus\n",
      "reading counts...\n"
     ]
    },
    {
     "name": "stderr",
     "output_type": "stream",
     "text": [
      "20082it [00:34, 581.83it/s]\n"
     ]
    },
    {
     "name": "stdout",
     "output_type": "stream",
     "text": [
      "finished reading...\n",
      "converting to sparse...\n"
     ]
    },
    {
     "name": "stderr",
     "output_type": "stream",
     "text": [
      "/home/ec2-user/anaconda/envs/singlecell/lib/python3.9/site-packages/anndata/_core/anndata.py:121: ImplicitModificationWarning: Transforming to str index.\n",
      "  warnings.warn(\"Transforming to str index.\", ImplicitModificationWarning)\n",
      " 26%|██▌       | 8/31 [21:59<46:07, 120.33s/it]  /tmp/ipykernel_505976/3286860472.py:15: SettingWithCopyWarning: \n",
      "A value is trying to be set on a copy of a slice from a DataFrame.\n",
      "Try using .loc[row_indexer,col_indexer] = value instead\n",
      "\n",
      "See the caveats in the documentation: https://pandas.pydata.org/pandas-docs/stable/user_guide/indexing.html#returning-a-view-versus-a-copy\n",
      "  obs['cluster'] = obs['cluster'].astype(str)\n"
     ]
    },
    {
     "name": "stdout",
     "output_type": "stream",
     "text": [
      "eye\n",
      "reading counts...\n"
     ]
    },
    {
     "name": "stderr",
     "output_type": "stream",
     "text": [
      "20082it [00:29, 672.71it/s]\n"
     ]
    },
    {
     "name": "stdout",
     "output_type": "stream",
     "text": [
      "finished reading...\n",
      "converting to sparse...\n"
     ]
    },
    {
     "name": "stderr",
     "output_type": "stream",
     "text": [
      "/home/ec2-user/anaconda/envs/singlecell/lib/python3.9/site-packages/anndata/_core/anndata.py:121: ImplicitModificationWarning: Transforming to str index.\n",
      "  warnings.warn(\"Transforming to str index.\", ImplicitModificationWarning)\n",
      " 29%|██▉       | 9/31 [22:30<33:57, 92.59s/it] /tmp/ipykernel_505976/3286860472.py:15: SettingWithCopyWarning: \n",
      "A value is trying to be set on a copy of a slice from a DataFrame.\n",
      "Try using .loc[row_indexer,col_indexer] = value instead\n",
      "\n",
      "See the caveats in the documentation: https://pandas.pydata.org/pandas-docs/stable/user_guide/indexing.html#returning-a-view-versus-a-copy\n",
      "  obs['cluster'] = obs['cluster'].astype(str)\n"
     ]
    },
    {
     "name": "stdout",
     "output_type": "stream",
     "text": [
      "fallopian_tube\n",
      "reading counts...\n"
     ]
    },
    {
     "name": "stderr",
     "output_type": "stream",
     "text": [
      "20082it [03:54, 85.52it/s] \n"
     ]
    },
    {
     "name": "stdout",
     "output_type": "stream",
     "text": [
      "finished reading...\n",
      "converting to sparse...\n"
     ]
    },
    {
     "name": "stderr",
     "output_type": "stream",
     "text": [
      "/home/ec2-user/anaconda/envs/singlecell/lib/python3.9/site-packages/anndata/_core/anndata.py:121: ImplicitModificationWarning: Transforming to str index.\n",
      "  warnings.warn(\"Transforming to str index.\", ImplicitModificationWarning)\n",
      " 32%|███▏      | 10/31 [26:50<50:25, 144.08s/it]/tmp/ipykernel_505976/3286860472.py:15: SettingWithCopyWarning: \n",
      "A value is trying to be set on a copy of a slice from a DataFrame.\n",
      "Try using .loc[row_indexer,col_indexer] = value instead\n",
      "\n",
      "See the caveats in the documentation: https://pandas.pydata.org/pandas-docs/stable/user_guide/indexing.html#returning-a-view-versus-a-copy\n",
      "  obs['cluster'] = obs['cluster'].astype(str)\n"
     ]
    },
    {
     "name": "stdout",
     "output_type": "stream",
     "text": [
      "heart_muscle\n",
      "reading counts...\n"
     ]
    },
    {
     "name": "stderr",
     "output_type": "stream",
     "text": [
      "20082it [00:19, 1033.82it/s]\n"
     ]
    },
    {
     "name": "stdout",
     "output_type": "stream",
     "text": [
      "finished reading...\n",
      "converting to sparse...\n"
     ]
    },
    {
     "name": "stderr",
     "output_type": "stream",
     "text": [
      "/home/ec2-user/anaconda/envs/singlecell/lib/python3.9/site-packages/anndata/_core/anndata.py:121: ImplicitModificationWarning: Transforming to str index.\n",
      "  warnings.warn(\"Transforming to str index.\", ImplicitModificationWarning)\n",
      " 35%|███▌      | 11/31 [27:11<35:28, 106.42s/it]/tmp/ipykernel_505976/3286860472.py:15: SettingWithCopyWarning: \n",
      "A value is trying to be set on a copy of a slice from a DataFrame.\n",
      "Try using .loc[row_indexer,col_indexer] = value instead\n",
      "\n",
      "See the caveats in the documentation: https://pandas.pydata.org/pandas-docs/stable/user_guide/indexing.html#returning-a-view-versus-a-copy\n",
      "  obs['cluster'] = obs['cluster'].astype(str)\n"
     ]
    },
    {
     "name": "stdout",
     "output_type": "stream",
     "text": [
      "kidney\n",
      "reading counts...\n"
     ]
    },
    {
     "name": "stderr",
     "output_type": "stream",
     "text": [
      "20082it [00:59, 339.13it/s]\n"
     ]
    },
    {
     "name": "stdout",
     "output_type": "stream",
     "text": [
      "finished reading...\n",
      "converting to sparse...\n"
     ]
    },
    {
     "name": "stderr",
     "output_type": "stream",
     "text": [
      "/home/ec2-user/anaconda/envs/singlecell/lib/python3.9/site-packages/anndata/_core/anndata.py:121: ImplicitModificationWarning: Transforming to str index.\n",
      "  warnings.warn(\"Transforming to str index.\", ImplicitModificationWarning)\n",
      " 39%|███▊      | 12/31 [28:13<29:27, 93.02s/it] /tmp/ipykernel_505976/3286860472.py:15: SettingWithCopyWarning: \n",
      "A value is trying to be set on a copy of a slice from a DataFrame.\n",
      "Try using .loc[row_indexer,col_indexer] = value instead\n",
      "\n",
      "See the caveats in the documentation: https://pandas.pydata.org/pandas-docs/stable/user_guide/indexing.html#returning-a-view-versus-a-copy\n",
      "  obs['cluster'] = obs['cluster'].astype(str)\n"
     ]
    },
    {
     "name": "stdout",
     "output_type": "stream",
     "text": [
      "liver\n",
      "reading counts...\n"
     ]
    },
    {
     "name": "stderr",
     "output_type": "stream",
     "text": [
      "20082it [00:35, 562.41it/s]\n"
     ]
    },
    {
     "name": "stdout",
     "output_type": "stream",
     "text": [
      "finished reading...\n",
      "converting to sparse...\n"
     ]
    },
    {
     "name": "stderr",
     "output_type": "stream",
     "text": [
      "/home/ec2-user/anaconda/envs/singlecell/lib/python3.9/site-packages/anndata/_core/anndata.py:121: ImplicitModificationWarning: Transforming to str index.\n",
      "  warnings.warn(\"Transforming to str index.\", ImplicitModificationWarning)\n",
      " 42%|████▏     | 13/31 [28:51<22:55, 76.44s/it]/tmp/ipykernel_505976/3286860472.py:15: SettingWithCopyWarning: \n",
      "A value is trying to be set on a copy of a slice from a DataFrame.\n",
      "Try using .loc[row_indexer,col_indexer] = value instead\n",
      "\n",
      "See the caveats in the documentation: https://pandas.pydata.org/pandas-docs/stable/user_guide/indexing.html#returning-a-view-versus-a-copy\n",
      "  obs['cluster'] = obs['cluster'].astype(str)\n"
     ]
    },
    {
     "name": "stdout",
     "output_type": "stream",
     "text": [
      "lung\n",
      "reading counts...\n"
     ]
    },
    {
     "name": "stderr",
     "output_type": "stream",
     "text": [
      "20082it [01:50, 181.74it/s]\n"
     ]
    },
    {
     "name": "stdout",
     "output_type": "stream",
     "text": [
      "finished reading...\n",
      "converting to sparse...\n"
     ]
    },
    {
     "name": "stderr",
     "output_type": "stream",
     "text": [
      "/home/ec2-user/anaconda/envs/singlecell/lib/python3.9/site-packages/anndata/_core/anndata.py:121: ImplicitModificationWarning: Transforming to str index.\n",
      "  warnings.warn(\"Transforming to str index.\", ImplicitModificationWarning)\n",
      " 45%|████▌     | 14/31 [30:56<25:49, 91.15s/it]/tmp/ipykernel_505976/3286860472.py:15: SettingWithCopyWarning: \n",
      "A value is trying to be set on a copy of a slice from a DataFrame.\n",
      "Try using .loc[row_indexer,col_indexer] = value instead\n",
      "\n",
      "See the caveats in the documentation: https://pandas.pydata.org/pandas-docs/stable/user_guide/indexing.html#returning-a-view-versus-a-copy\n",
      "  obs['cluster'] = obs['cluster'].astype(str)\n"
     ]
    },
    {
     "name": "stdout",
     "output_type": "stream",
     "text": [
      "lymph_node\n",
      "reading counts...\n"
     ]
    },
    {
     "name": "stderr",
     "output_type": "stream",
     "text": [
      "20082it [00:28, 698.62it/s]\n"
     ]
    },
    {
     "name": "stdout",
     "output_type": "stream",
     "text": [
      "finished reading...\n",
      "converting to sparse...\n"
     ]
    },
    {
     "name": "stderr",
     "output_type": "stream",
     "text": [
      "/home/ec2-user/anaconda/envs/singlecell/lib/python3.9/site-packages/anndata/_core/anndata.py:121: ImplicitModificationWarning: Transforming to str index.\n",
      "  warnings.warn(\"Transforming to str index.\", ImplicitModificationWarning)\n",
      " 48%|████▊     | 15/31 [31:27<19:25, 72.86s/it]/tmp/ipykernel_505976/3286860472.py:15: SettingWithCopyWarning: \n",
      "A value is trying to be set on a copy of a slice from a DataFrame.\n",
      "Try using .loc[row_indexer,col_indexer] = value instead\n",
      "\n",
      "See the caveats in the documentation: https://pandas.pydata.org/pandas-docs/stable/user_guide/indexing.html#returning-a-view-versus-a-copy\n",
      "  obs['cluster'] = obs['cluster'].astype(str)\n"
     ]
    },
    {
     "name": "stdout",
     "output_type": "stream",
     "text": [
      "ovary\n",
      "reading counts...\n"
     ]
    },
    {
     "name": "stderr",
     "output_type": "stream",
     "text": [
      "20082it [02:07, 157.88it/s]\n"
     ]
    },
    {
     "name": "stdout",
     "output_type": "stream",
     "text": [
      "finished reading...\n",
      "converting to sparse...\n"
     ]
    },
    {
     "name": "stderr",
     "output_type": "stream",
     "text": [
      "/home/ec2-user/anaconda/envs/singlecell/lib/python3.9/site-packages/anndata/_core/anndata.py:121: ImplicitModificationWarning: Transforming to str index.\n",
      "  warnings.warn(\"Transforming to str index.\", ImplicitModificationWarning)\n",
      " 52%|█████▏    | 16/31 [33:43<22:59, 91.97s/it]/tmp/ipykernel_505976/3286860472.py:15: SettingWithCopyWarning: \n",
      "A value is trying to be set on a copy of a slice from a DataFrame.\n",
      "Try using .loc[row_indexer,col_indexer] = value instead\n",
      "\n",
      "See the caveats in the documentation: https://pandas.pydata.org/pandas-docs/stable/user_guide/indexing.html#returning-a-view-versus-a-copy\n",
      "  obs['cluster'] = obs['cluster'].astype(str)\n"
     ]
    },
    {
     "name": "stdout",
     "output_type": "stream",
     "text": [
      "pancreas\n",
      "reading counts...\n"
     ]
    },
    {
     "name": "stderr",
     "output_type": "stream",
     "text": [
      "20082it [00:21, 947.47it/s] \n"
     ]
    },
    {
     "name": "stdout",
     "output_type": "stream",
     "text": [
      "finished reading...\n",
      "converting to sparse...\n"
     ]
    },
    {
     "name": "stderr",
     "output_type": "stream",
     "text": [
      "/home/ec2-user/anaconda/envs/singlecell/lib/python3.9/site-packages/anndata/_core/anndata.py:121: ImplicitModificationWarning: Transforming to str index.\n",
      "  warnings.warn(\"Transforming to str index.\", ImplicitModificationWarning)\n",
      " 55%|█████▍    | 17/31 [34:08<16:46, 71.89s/it]/tmp/ipykernel_505976/3286860472.py:15: SettingWithCopyWarning: \n",
      "A value is trying to be set on a copy of a slice from a DataFrame.\n",
      "Try using .loc[row_indexer,col_indexer] = value instead\n",
      "\n",
      "See the caveats in the documentation: https://pandas.pydata.org/pandas-docs/stable/user_guide/indexing.html#returning-a-view-versus-a-copy\n",
      "  obs['cluster'] = obs['cluster'].astype(str)\n"
     ]
    },
    {
     "name": "stdout",
     "output_type": "stream",
     "text": [
      "pbmc\n",
      "reading counts...\n"
     ]
    },
    {
     "name": "stderr",
     "output_type": "stream",
     "text": [
      "20082it [00:17, 1179.83it/s]\n"
     ]
    },
    {
     "name": "stdout",
     "output_type": "stream",
     "text": [
      "finished reading...\n",
      "converting to sparse...\n"
     ]
    },
    {
     "name": "stderr",
     "output_type": "stream",
     "text": [
      "/home/ec2-user/anaconda/envs/singlecell/lib/python3.9/site-packages/anndata/_core/anndata.py:121: ImplicitModificationWarning: Transforming to str index.\n",
      "  warnings.warn(\"Transforming to str index.\", ImplicitModificationWarning)\n",
      " 58%|█████▊    | 18/31 [34:27<12:06, 55.90s/it]/tmp/ipykernel_505976/3286860472.py:15: SettingWithCopyWarning: \n",
      "A value is trying to be set on a copy of a slice from a DataFrame.\n",
      "Try using .loc[row_indexer,col_indexer] = value instead\n",
      "\n",
      "See the caveats in the documentation: https://pandas.pydata.org/pandas-docs/stable/user_guide/indexing.html#returning-a-view-versus-a-copy\n",
      "  obs['cluster'] = obs['cluster'].astype(str)\n"
     ]
    },
    {
     "name": "stdout",
     "output_type": "stream",
     "text": [
      "placenta\n",
      "reading counts...\n"
     ]
    },
    {
     "name": "stderr",
     "output_type": "stream",
     "text": [
      "20082it [01:41, 197.59it/s]\n"
     ]
    },
    {
     "name": "stdout",
     "output_type": "stream",
     "text": [
      "finished reading...\n",
      "converting to sparse...\n"
     ]
    },
    {
     "name": "stderr",
     "output_type": "stream",
     "text": [
      "/home/ec2-user/anaconda/envs/singlecell/lib/python3.9/site-packages/anndata/_core/anndata.py:121: ImplicitModificationWarning: Transforming to str index.\n",
      "  warnings.warn(\"Transforming to str index.\", ImplicitModificationWarning)\n",
      " 61%|██████▏   | 19/31 [36:27<15:02, 75.20s/it]/tmp/ipykernel_505976/3286860472.py:15: SettingWithCopyWarning: \n",
      "A value is trying to be set on a copy of a slice from a DataFrame.\n",
      "Try using .loc[row_indexer,col_indexer] = value instead\n",
      "\n",
      "See the caveats in the documentation: https://pandas.pydata.org/pandas-docs/stable/user_guide/indexing.html#returning-a-view-versus-a-copy\n",
      "  obs['cluster'] = obs['cluster'].astype(str)\n"
     ]
    },
    {
     "name": "stdout",
     "output_type": "stream",
     "text": [
      "prostate\n",
      "reading counts...\n"
     ]
    },
    {
     "name": "stderr",
     "output_type": "stream",
     "text": [
      "20082it [01:06, 301.20it/s]\n"
     ]
    },
    {
     "name": "stdout",
     "output_type": "stream",
     "text": [
      "finished reading...\n",
      "converting to sparse...\n"
     ]
    },
    {
     "name": "stderr",
     "output_type": "stream",
     "text": [
      "/home/ec2-user/anaconda/envs/singlecell/lib/python3.9/site-packages/anndata/_core/anndata.py:121: ImplicitModificationWarning: Transforming to str index.\n",
      "  warnings.warn(\"Transforming to str index.\", ImplicitModificationWarning)\n",
      " 65%|██████▍   | 20/31 [37:40<13:38, 74.44s/it]/tmp/ipykernel_505976/3286860472.py:15: SettingWithCopyWarning: \n",
      "A value is trying to be set on a copy of a slice from a DataFrame.\n",
      "Try using .loc[row_indexer,col_indexer] = value instead\n",
      "\n",
      "See the caveats in the documentation: https://pandas.pydata.org/pandas-docs/stable/user_guide/indexing.html#returning-a-view-versus-a-copy\n",
      "  obs['cluster'] = obs['cluster'].astype(str)\n"
     ]
    },
    {
     "name": "stdout",
     "output_type": "stream",
     "text": [
      "rectum\n",
      "reading counts...\n"
     ]
    },
    {
     "name": "stderr",
     "output_type": "stream",
     "text": [
      "20082it [00:10, 2005.70it/s]\n"
     ]
    },
    {
     "name": "stdout",
     "output_type": "stream",
     "text": [
      "finished reading...\n",
      "converting to sparse...\n"
     ]
    },
    {
     "name": "stderr",
     "output_type": "stream",
     "text": [
      "/home/ec2-user/anaconda/envs/singlecell/lib/python3.9/site-packages/anndata/_core/anndata.py:121: ImplicitModificationWarning: Transforming to str index.\n",
      "  warnings.warn(\"Transforming to str index.\", ImplicitModificationWarning)\n",
      " 68%|██████▊   | 21/31 [37:52<09:17, 55.70s/it]/tmp/ipykernel_505976/3286860472.py:15: SettingWithCopyWarning: \n",
      "A value is trying to be set on a copy of a slice from a DataFrame.\n",
      "Try using .loc[row_indexer,col_indexer] = value instead\n",
      "\n",
      "See the caveats in the documentation: https://pandas.pydata.org/pandas-docs/stable/user_guide/indexing.html#returning-a-view-versus-a-copy\n",
      "  obs['cluster'] = obs['cluster'].astype(str)\n"
     ]
    },
    {
     "name": "stdout",
     "output_type": "stream",
     "text": [
      "salivary_gland\n",
      "reading counts...\n"
     ]
    },
    {
     "name": "stderr",
     "output_type": "stream",
     "text": [
      "20082it [01:43, 193.82it/s]\n"
     ]
    },
    {
     "name": "stdout",
     "output_type": "stream",
     "text": [
      "finished reading...\n",
      "converting to sparse...\n"
     ]
    },
    {
     "name": "stderr",
     "output_type": "stream",
     "text": [
      "/home/ec2-user/anaconda/envs/singlecell/lib/python3.9/site-packages/anndata/_core/anndata.py:121: ImplicitModificationWarning: Transforming to str index.\n",
      "  warnings.warn(\"Transforming to str index.\", ImplicitModificationWarning)\n",
      " 71%|███████   | 22/31 [39:47<11:01, 73.51s/it]/tmp/ipykernel_505976/3286860472.py:15: SettingWithCopyWarning: \n",
      "A value is trying to be set on a copy of a slice from a DataFrame.\n",
      "Try using .loc[row_indexer,col_indexer] = value instead\n",
      "\n",
      "See the caveats in the documentation: https://pandas.pydata.org/pandas-docs/stable/user_guide/indexing.html#returning-a-view-versus-a-copy\n",
      "  obs['cluster'] = obs['cluster'].astype(str)\n"
     ]
    },
    {
     "name": "stdout",
     "output_type": "stream",
     "text": [
      "skeletal_muscle\n",
      "reading counts...\n"
     ]
    },
    {
     "name": "stderr",
     "output_type": "stream",
     "text": [
      "20082it [01:23, 241.52it/s]\n"
     ]
    },
    {
     "name": "stdout",
     "output_type": "stream",
     "text": [
      "finished reading...\n",
      "converting to sparse...\n"
     ]
    },
    {
     "name": "stderr",
     "output_type": "stream",
     "text": [
      "/home/ec2-user/anaconda/envs/singlecell/lib/python3.9/site-packages/anndata/_core/anndata.py:121: ImplicitModificationWarning: Transforming to str index.\n",
      "  warnings.warn(\"Transforming to str index.\", ImplicitModificationWarning)\n",
      " 74%|███████▍  | 23/31 [41:16<10:25, 78.20s/it]/tmp/ipykernel_505976/3286860472.py:15: SettingWithCopyWarning: \n",
      "A value is trying to be set on a copy of a slice from a DataFrame.\n",
      "Try using .loc[row_indexer,col_indexer] = value instead\n",
      "\n",
      "See the caveats in the documentation: https://pandas.pydata.org/pandas-docs/stable/user_guide/indexing.html#returning-a-view-versus-a-copy\n",
      "  obs['cluster'] = obs['cluster'].astype(str)\n"
     ]
    },
    {
     "name": "stdout",
     "output_type": "stream",
     "text": [
      "skin\n",
      "reading counts...\n"
     ]
    },
    {
     "name": "stderr",
     "output_type": "stream",
     "text": [
      "20082it [01:13, 273.51it/s]\n"
     ]
    },
    {
     "name": "stdout",
     "output_type": "stream",
     "text": [
      "finished reading...\n",
      "converting to sparse...\n"
     ]
    },
    {
     "name": "stderr",
     "output_type": "stream",
     "text": [
      "/home/ec2-user/anaconda/envs/singlecell/lib/python3.9/site-packages/anndata/_core/anndata.py:121: ImplicitModificationWarning: Transforming to str index.\n",
      "  warnings.warn(\"Transforming to str index.\", ImplicitModificationWarning)\n",
      " 77%|███████▋  | 24/31 [42:34<09:06, 78.12s/it]/tmp/ipykernel_505976/3286860472.py:15: SettingWithCopyWarning: \n",
      "A value is trying to be set on a copy of a slice from a DataFrame.\n",
      "Try using .loc[row_indexer,col_indexer] = value instead\n",
      "\n",
      "See the caveats in the documentation: https://pandas.pydata.org/pandas-docs/stable/user_guide/indexing.html#returning-a-view-versus-a-copy\n",
      "  obs['cluster'] = obs['cluster'].astype(str)\n"
     ]
    },
    {
     "name": "stdout",
     "output_type": "stream",
     "text": [
      "small_intestine\n",
      "reading counts...\n"
     ]
    },
    {
     "name": "stderr",
     "output_type": "stream",
     "text": [
      "20082it [00:18, 1067.05it/s]\n"
     ]
    },
    {
     "name": "stdout",
     "output_type": "stream",
     "text": [
      "finished reading...\n",
      "converting to sparse...\n"
     ]
    },
    {
     "name": "stderr",
     "output_type": "stream",
     "text": [
      "/home/ec2-user/anaconda/envs/singlecell/lib/python3.9/site-packages/anndata/_core/anndata.py:121: ImplicitModificationWarning: Transforming to str index.\n",
      "  warnings.warn(\"Transforming to str index.\", ImplicitModificationWarning)\n",
      " 81%|████████  | 25/31 [42:55<06:06, 61.08s/it]/tmp/ipykernel_505976/3286860472.py:15: SettingWithCopyWarning: \n",
      "A value is trying to be set on a copy of a slice from a DataFrame.\n",
      "Try using .loc[row_indexer,col_indexer] = value instead\n",
      "\n",
      "See the caveats in the documentation: https://pandas.pydata.org/pandas-docs/stable/user_guide/indexing.html#returning-a-view-versus-a-copy\n",
      "  obs['cluster'] = obs['cluster'].astype(str)\n"
     ]
    },
    {
     "name": "stdout",
     "output_type": "stream",
     "text": [
      "spleen\n",
      "reading counts...\n"
     ]
    },
    {
     "name": "stderr",
     "output_type": "stream",
     "text": [
      "20082it [00:14, 1372.56it/s]\n"
     ]
    },
    {
     "name": "stdout",
     "output_type": "stream",
     "text": [
      "finished reading...\n",
      "converting to sparse...\n"
     ]
    },
    {
     "name": "stderr",
     "output_type": "stream",
     "text": [
      "/home/ec2-user/anaconda/envs/singlecell/lib/python3.9/site-packages/anndata/_core/anndata.py:121: ImplicitModificationWarning: Transforming to str index.\n",
      "  warnings.warn(\"Transforming to str index.\", ImplicitModificationWarning)\n",
      " 84%|████████▍ | 26/31 [43:12<03:58, 47.61s/it]/tmp/ipykernel_505976/3286860472.py:15: SettingWithCopyWarning: \n",
      "A value is trying to be set on a copy of a slice from a DataFrame.\n",
      "Try using .loc[row_indexer,col_indexer] = value instead\n",
      "\n",
      "See the caveats in the documentation: https://pandas.pydata.org/pandas-docs/stable/user_guide/indexing.html#returning-a-view-versus-a-copy\n",
      "  obs['cluster'] = obs['cluster'].astype(str)\n"
     ]
    },
    {
     "name": "stdout",
     "output_type": "stream",
     "text": [
      "stomach\n",
      "reading counts...\n"
     ]
    },
    {
     "name": "stderr",
     "output_type": "stream",
     "text": [
      "20082it [00:18, 1097.62it/s]\n"
     ]
    },
    {
     "name": "stdout",
     "output_type": "stream",
     "text": [
      "finished reading...\n",
      "converting to sparse...\n"
     ]
    },
    {
     "name": "stderr",
     "output_type": "stream",
     "text": [
      "/home/ec2-user/anaconda/envs/singlecell/lib/python3.9/site-packages/anndata/_core/anndata.py:121: ImplicitModificationWarning: Transforming to str index.\n",
      "  warnings.warn(\"Transforming to str index.\", ImplicitModificationWarning)\n",
      " 87%|████████▋ | 27/31 [43:32<02:37, 39.33s/it]/tmp/ipykernel_505976/3286860472.py:15: SettingWithCopyWarning: \n",
      "A value is trying to be set on a copy of a slice from a DataFrame.\n",
      "Try using .loc[row_indexer,col_indexer] = value instead\n",
      "\n",
      "See the caveats in the documentation: https://pandas.pydata.org/pandas-docs/stable/user_guide/indexing.html#returning-a-view-versus-a-copy\n",
      "  obs['cluster'] = obs['cluster'].astype(str)\n"
     ]
    },
    {
     "name": "stdout",
     "output_type": "stream",
     "text": [
      "testis\n",
      "reading counts...\n"
     ]
    },
    {
     "name": "stderr",
     "output_type": "stream",
     "text": [
      "20082it [00:24, 824.71it/s] \n"
     ]
    },
    {
     "name": "stdout",
     "output_type": "stream",
     "text": [
      "finished reading...\n",
      "converting to sparse...\n"
     ]
    },
    {
     "name": "stderr",
     "output_type": "stream",
     "text": [
      "/home/ec2-user/anaconda/envs/singlecell/lib/python3.9/site-packages/anndata/_core/anndata.py:121: ImplicitModificationWarning: Transforming to str index.\n",
      "  warnings.warn(\"Transforming to str index.\", ImplicitModificationWarning)\n",
      " 90%|█████████ | 28/31 [44:00<01:48, 36.05s/it]/tmp/ipykernel_505976/3286860472.py:15: SettingWithCopyWarning: \n",
      "A value is trying to be set on a copy of a slice from a DataFrame.\n",
      "Try using .loc[row_indexer,col_indexer] = value instead\n",
      "\n",
      "See the caveats in the documentation: https://pandas.pydata.org/pandas-docs/stable/user_guide/indexing.html#returning-a-view-versus-a-copy\n",
      "  obs['cluster'] = obs['cluster'].astype(str)\n"
     ]
    },
    {
     "name": "stdout",
     "output_type": "stream",
     "text": [
      "thymus\n",
      "reading counts...\n"
     ]
    },
    {
     "name": "stderr",
     "output_type": "stream",
     "text": [
      "20082it [01:28, 227.63it/s]\n"
     ]
    },
    {
     "name": "stdout",
     "output_type": "stream",
     "text": [
      "finished reading...\n",
      "converting to sparse...\n"
     ]
    },
    {
     "name": "stderr",
     "output_type": "stream",
     "text": [
      "/home/ec2-user/anaconda/envs/singlecell/lib/python3.9/site-packages/anndata/_core/anndata.py:121: ImplicitModificationWarning: Transforming to str index.\n",
      "  warnings.warn(\"Transforming to str index.\", ImplicitModificationWarning)\n",
      " 94%|█████████▎| 29/31 [45:41<01:50, 55.42s/it]/tmp/ipykernel_505976/3286860472.py:15: SettingWithCopyWarning: \n",
      "A value is trying to be set on a copy of a slice from a DataFrame.\n",
      "Try using .loc[row_indexer,col_indexer] = value instead\n",
      "\n",
      "See the caveats in the documentation: https://pandas.pydata.org/pandas-docs/stable/user_guide/indexing.html#returning-a-view-versus-a-copy\n",
      "  obs['cluster'] = obs['cluster'].astype(str)\n"
     ]
    },
    {
     "name": "stdout",
     "output_type": "stream",
     "text": [
      "tongue\n",
      "reading counts...\n"
     ]
    },
    {
     "name": "stderr",
     "output_type": "stream",
     "text": [
      "20082it [01:11, 280.22it/s]\n"
     ]
    },
    {
     "name": "stdout",
     "output_type": "stream",
     "text": [
      "finished reading...\n",
      "converting to sparse...\n"
     ]
    },
    {
     "name": "stderr",
     "output_type": "stream",
     "text": [
      "/home/ec2-user/anaconda/envs/singlecell/lib/python3.9/site-packages/anndata/_core/anndata.py:121: ImplicitModificationWarning: Transforming to str index.\n",
      "  warnings.warn(\"Transforming to str index.\", ImplicitModificationWarning)\n",
      " 97%|█████████▋| 30/31 [47:05<01:04, 64.07s/it]/tmp/ipykernel_505976/3286860472.py:15: SettingWithCopyWarning: \n",
      "A value is trying to be set on a copy of a slice from a DataFrame.\n",
      "Try using .loc[row_indexer,col_indexer] = value instead\n",
      "\n",
      "See the caveats in the documentation: https://pandas.pydata.org/pandas-docs/stable/user_guide/indexing.html#returning-a-view-versus-a-copy\n",
      "  obs['cluster'] = obs['cluster'].astype(str)\n"
     ]
    },
    {
     "name": "stdout",
     "output_type": "stream",
     "text": [
      "vascular\n",
      "reading counts...\n"
     ]
    },
    {
     "name": "stderr",
     "output_type": "stream",
     "text": [
      "20082it [00:39, 505.06it/s]\n"
     ]
    },
    {
     "name": "stdout",
     "output_type": "stream",
     "text": [
      "finished reading...\n",
      "converting to sparse...\n"
     ]
    },
    {
     "name": "stderr",
     "output_type": "stream",
     "text": [
      "/home/ec2-user/anaconda/envs/singlecell/lib/python3.9/site-packages/anndata/_core/anndata.py:121: ImplicitModificationWarning: Transforming to str index.\n",
      "  warnings.warn(\"Transforming to str index.\", ImplicitModificationWarning)\n",
      "100%|██████████| 31/31 [47:52<00:00, 92.65s/it]\n"
     ]
    }
   ],
   "source": [
    "adatas = {}\n",
    "\n",
    "tissues = [f for f in settings.HPA_DATA_LOC.iterdir() if f.is_dir()]\n",
    "for t in tqdm(tissues, total=len(tissues)):\n",
    "    print(t.stem)\n",
    "    (Path('/efs/expression_atlas/scrna') / t.stem).mkdir(exist_ok=True, parents=True)\n",
    "\n",
    "    adata = utils.build_hpa_tissue_adata(\n",
    "        t, \n",
    "        cluster_tissue_type_df,\n",
    "        gene_df,\n",
    "    )\n",
    "    adata.write_h5ad(\n",
    "        Path('/efs/expression_atlas/scrna') / 'hpa' / t.stem / 'adata.h5ad'\n",
    "    )"
   ]
  },
  {
   "cell_type": "code",
   "execution_count": 32,
   "metadata": {},
   "outputs": [
    {
     "data": {
      "text/plain": [
       "[PosixPath('/efs/expression_atlas/scrna/hpa/rectum/adata.h5ad'),\n",
       " PosixPath('/efs/expression_atlas/scrna/hpa/salivary_gland/adata.h5ad'),\n",
       " PosixPath('/efs/expression_atlas/scrna/hpa/placenta/adata.h5ad'),\n",
       " PosixPath('/efs/expression_atlas/scrna/hpa/kidney/adata.h5ad'),\n",
       " PosixPath('/efs/expression_atlas/scrna/hpa/bronchus/adata.h5ad'),\n",
       " PosixPath('/efs/expression_atlas/scrna/hpa/heart_muscle/adata.h5ad'),\n",
       " PosixPath('/efs/expression_atlas/scrna/hpa/brain/adata.h5ad'),\n",
       " PosixPath('/efs/expression_atlas/scrna/hpa/testis/adata.h5ad'),\n",
       " PosixPath('/efs/expression_atlas/scrna/hpa/prostate/adata.h5ad'),\n",
       " PosixPath('/efs/expression_atlas/scrna/hpa/tongue/adata.h5ad'),\n",
       " PosixPath('/efs/expression_atlas/scrna/hpa/liver/adata.h5ad'),\n",
       " PosixPath('/efs/expression_atlas/scrna/hpa/pbmc/adata.h5ad'),\n",
       " PosixPath('/efs/expression_atlas/scrna/hpa/thymus/adata.h5ad'),\n",
       " PosixPath('/efs/expression_atlas/scrna/hpa/lung/adata.h5ad'),\n",
       " PosixPath('/efs/expression_atlas/scrna/hpa/adipose_tissue/adata.h5ad'),\n",
       " PosixPath('/efs/expression_atlas/scrna/hpa/breast/adata.h5ad'),\n",
       " PosixPath('/efs/expression_atlas/scrna/hpa/vascular/adata.h5ad'),\n",
       " PosixPath('/efs/expression_atlas/scrna/hpa/ovary/adata.h5ad'),\n",
       " PosixPath('/efs/expression_atlas/scrna/hpa/endometrium/adata.h5ad'),\n",
       " PosixPath('/efs/expression_atlas/scrna/hpa/fallopian_tube/adata.h5ad'),\n",
       " PosixPath('/efs/expression_atlas/scrna/hpa/skin/adata.h5ad'),\n",
       " PosixPath('/efs/expression_atlas/scrna/hpa/skeletal_muscle/adata.h5ad'),\n",
       " PosixPath('/efs/expression_atlas/scrna/hpa/pancreas/adata.h5ad'),\n",
       " PosixPath('/efs/expression_atlas/scrna/hpa/eye/adata.h5ad'),\n",
       " PosixPath('/efs/expression_atlas/scrna/hpa/colon/adata.h5ad'),\n",
       " PosixPath('/efs/expression_atlas/scrna/hpa/small_intestine/adata.h5ad'),\n",
       " PosixPath('/efs/expression_atlas/scrna/hpa/bone_marrow/adata.h5ad'),\n",
       " PosixPath('/efs/expression_atlas/scrna/hpa/spleen/adata.h5ad'),\n",
       " PosixPath('/efs/expression_atlas/scrna/hpa/stomach/adata.h5ad'),\n",
       " PosixPath('/efs/expression_atlas/scrna/hpa/lymph_node/adata.h5ad'),\n",
       " PosixPath('/efs/expression_atlas/scrna/hpa/esophagus/adata.h5ad')]"
      ]
     },
     "execution_count": 32,
     "metadata": {},
     "output_type": "execute_result"
    }
   ],
   "source": [
    "list(Path('/efs/expression_atlas/scrna/hpa/').glob('*/*.h5ad'))"
   ]
  },
  {
   "cell_type": "code",
   "execution_count": 7,
   "metadata": {},
   "outputs": [
    {
     "name": "stdout",
     "output_type": "stream",
     "text": [
      "adata\n"
     ]
    },
    {
     "name": "stderr",
     "output_type": "stream",
     "text": [
      "/home/ec2-user/anaconda/envs/singlecell/lib/python3.9/site-packages/umap/distances.py:1063: NumbaDeprecationWarning: The 'nopython' keyword argument was not supplied to the 'numba.jit' decorator. The implicit default value for this argument is currently False, but it will be changed to True in Numba 0.59.0. See https://numba.readthedocs.io/en/stable/reference/deprecation.html#deprecation-of-object-mode-fall-back-behaviour-when-using-jit for details.\n",
      "  @numba.jit()\n",
      "/home/ec2-user/anaconda/envs/singlecell/lib/python3.9/site-packages/umap/distances.py:1071: NumbaDeprecationWarning: The 'nopython' keyword argument was not supplied to the 'numba.jit' decorator. The implicit default value for this argument is currently False, but it will be changed to True in Numba 0.59.0. See https://numba.readthedocs.io/en/stable/reference/deprecation.html#deprecation-of-object-mode-fall-back-behaviour-when-using-jit for details.\n",
      "  @numba.jit()\n",
      "/home/ec2-user/anaconda/envs/singlecell/lib/python3.9/site-packages/umap/distances.py:1086: NumbaDeprecationWarning: The 'nopython' keyword argument was not supplied to the 'numba.jit' decorator. The implicit default value for this argument is currently False, but it will be changed to True in Numba 0.59.0. See https://numba.readthedocs.io/en/stable/reference/deprecation.html#deprecation-of-object-mode-fall-back-behaviour-when-using-jit for details.\n",
      "  @numba.jit()\n",
      "/home/ec2-user/anaconda/envs/singlecell/lib/python3.9/site-packages/umap/umap_.py:660: NumbaDeprecationWarning: The 'nopython' keyword argument was not supplied to the 'numba.jit' decorator. The implicit default value for this argument is currently False, but it will be changed to True in Numba 0.59.0. See https://numba.readthedocs.io/en/stable/reference/deprecation.html#deprecation-of-object-mode-fall-back-behaviour-when-using-jit for details.\n",
      "  @numba.jit()\n",
      "100%|██████████| 50/50 [00:05<00:00,  8.82it/s]\n",
      "100%|██████████| 24/24 [00:11<00:00,  2.02it/s]\n"
     ]
    },
    {
     "name": "stdout",
     "output_type": "stream",
     "text": [
      "adata\n"
     ]
    },
    {
     "name": "stderr",
     "output_type": "stream",
     "text": [
      "100%|██████████| 142/142 [01:54<00:00,  1.24it/s]\n",
      "100%|██████████| 56/56 [03:17<00:00,  3.53s/it]\n"
     ]
    },
    {
     "name": "stdout",
     "output_type": "stream",
     "text": [
      "adata\n"
     ]
    },
    {
     "name": "stderr",
     "output_type": "stream",
     "text": [
      "100%|██████████| 119/119 [02:13<00:00,  1.12s/it]\n",
      "100%|██████████| 43/43 [03:31<00:00,  4.91s/it]\n"
     ]
    },
    {
     "name": "stdout",
     "output_type": "stream",
     "text": [
      "adata\n"
     ]
    },
    {
     "name": "stderr",
     "output_type": "stream",
     "text": [
      "100%|██████████| 62/62 [00:15<00:00,  4.12it/s]\n",
      "100%|██████████| 20/20 [00:29<00:00,  1.47s/it]\n"
     ]
    },
    {
     "name": "stdout",
     "output_type": "stream",
     "text": [
      "adata\n"
     ]
    },
    {
     "name": "stderr",
     "output_type": "stream",
     "text": [
      "100%|██████████| 81/81 [00:40<00:00,  1.99it/s]\n",
      "100%|██████████| 59/59 [02:13<00:00,  2.26s/it]\n"
     ]
    },
    {
     "name": "stdout",
     "output_type": "stream",
     "text": [
      "adata\n"
     ]
    },
    {
     "name": "stderr",
     "output_type": "stream",
     "text": [
      "100%|██████████| 61/61 [00:05<00:00, 11.80it/s]\n",
      "100%|██████████| 26/26 [00:11<00:00,  2.19it/s]\n"
     ]
    },
    {
     "name": "stdout",
     "output_type": "stream",
     "text": [
      "adata\n"
     ]
    },
    {
     "name": "stderr",
     "output_type": "stream",
     "text": [
      "100%|██████████| 56/56 [05:29<00:00,  5.89s/it]\n",
      "100%|██████████| 35/35 [14:53<00:00, 25.53s/it]\n"
     ]
    },
    {
     "name": "stdout",
     "output_type": "stream",
     "text": [
      "adata\n"
     ]
    },
    {
     "name": "stderr",
     "output_type": "stream",
     "text": [
      "100%|██████████| 69/69 [00:19<00:00,  3.56it/s]\n",
      "100%|██████████| 32/32 [00:40<00:00,  1.26s/it]\n"
     ]
    },
    {
     "name": "stdout",
     "output_type": "stream",
     "text": [
      "adata\n"
     ]
    },
    {
     "name": "stderr",
     "output_type": "stream",
     "text": [
      "100%|██████████| 135/135 [01:01<00:00,  2.19it/s]\n",
      "100%|██████████| 63/63 [02:06<00:00,  2.01s/it]\n"
     ]
    },
    {
     "name": "stdout",
     "output_type": "stream",
     "text": [
      "adata\n"
     ]
    },
    {
     "name": "stderr",
     "output_type": "stream",
     "text": [
      "100%|██████████| 117/117 [01:30<00:00,  1.29it/s]\n",
      "100%|██████████| 42/42 [02:22<00:00,  3.40s/it]\n"
     ]
    },
    {
     "name": "stdout",
     "output_type": "stream",
     "text": [
      "adata\n"
     ]
    },
    {
     "name": "stderr",
     "output_type": "stream",
     "text": [
      "100%|██████████| 120/120 [00:16<00:00,  7.49it/s]\n",
      "100%|██████████| 37/37 [00:25<00:00,  1.44it/s]\n"
     ]
    },
    {
     "name": "stdout",
     "output_type": "stream",
     "text": [
      "adata\n"
     ]
    },
    {
     "name": "stderr",
     "output_type": "stream",
     "text": [
      "100%|██████████| 49/49 [00:03<00:00, 12.76it/s]\n",
      "100%|██████████| 24/24 [00:10<00:00,  2.30it/s]\n"
     ]
    },
    {
     "name": "stdout",
     "output_type": "stream",
     "text": [
      "adata\n"
     ]
    },
    {
     "name": "stderr",
     "output_type": "stream",
     "text": [
      "100%|██████████| 136/136 [01:53<00:00,  1.20it/s]\n",
      "100%|██████████| 61/61 [03:39<00:00,  3.60s/it]\n"
     ]
    },
    {
     "name": "stdout",
     "output_type": "stream",
     "text": [
      "adata\n"
     ]
    },
    {
     "name": "stderr",
     "output_type": "stream",
     "text": [
      "100%|██████████| 110/110 [02:12<00:00,  1.21s/it]\n",
      "100%|██████████| 40/40 [03:32<00:00,  5.32s/it]\n"
     ]
    },
    {
     "name": "stdout",
     "output_type": "stream",
     "text": [
      "adata\n"
     ]
    },
    {
     "name": "stderr",
     "output_type": "stream",
     "text": [
      "100%|██████████| 98/98 [02:59<00:00,  1.83s/it]\n",
      "100%|██████████| 44/44 [06:12<00:00,  8.47s/it]\n"
     ]
    },
    {
     "name": "stdout",
     "output_type": "stream",
     "text": [
      "adata\n"
     ]
    },
    {
     "name": "stderr",
     "output_type": "stream",
     "text": [
      "100%|██████████| 175/175 [03:13<00:00,  1.10s/it]\n",
      "100%|██████████| 75/75 [06:00<00:00,  4.80s/it]\n"
     ]
    },
    {
     "name": "stdout",
     "output_type": "stream",
     "text": [
      "adata\n"
     ]
    },
    {
     "name": "stderr",
     "output_type": "stream",
     "text": [
      "100%|██████████| 67/67 [00:38<00:00,  1.72it/s]\n",
      "100%|██████████| 30/30 [01:16<00:00,  2.54s/it]\n"
     ]
    },
    {
     "name": "stdout",
     "output_type": "stream",
     "text": [
      "adata\n"
     ]
    },
    {
     "name": "stderr",
     "output_type": "stream",
     "text": [
      "100%|██████████| 91/91 [01:05<00:00,  1.38it/s]\n",
      "100%|██████████| 44/44 [02:28<00:00,  3.37s/it]\n"
     ]
    },
    {
     "name": "stdout",
     "output_type": "stream",
     "text": [
      "adata\n"
     ]
    },
    {
     "name": "stderr",
     "output_type": "stream",
     "text": [
      "100%|██████████| 130/130 [03:27<00:00,  1.60s/it]\n",
      "100%|██████████| 63/63 [07:12<00:00,  6.87s/it]\n"
     ]
    },
    {
     "name": "stdout",
     "output_type": "stream",
     "text": [
      "adata\n"
     ]
    },
    {
     "name": "stderr",
     "output_type": "stream",
     "text": [
      "100%|██████████| 177/177 [05:38<00:00,  1.91s/it]\n",
      "100%|██████████| 58/58 [08:07<00:00,  8.40s/it]\n"
     ]
    },
    {
     "name": "stdout",
     "output_type": "stream",
     "text": [
      "adata\n"
     ]
    },
    {
     "name": "stderr",
     "output_type": "stream",
     "text": [
      "100%|██████████| 131/131 [00:45<00:00,  2.90it/s]\n",
      "100%|██████████| 46/46 [01:16<00:00,  1.67s/it]\n"
     ]
    },
    {
     "name": "stdout",
     "output_type": "stream",
     "text": [
      "adata\n"
     ]
    },
    {
     "name": "stderr",
     "output_type": "stream",
     "text": [
      "100%|██████████| 107/107 [00:48<00:00,  2.22it/s]\n",
      "100%|██████████| 32/32 [01:12<00:00,  2.25s/it]\n"
     ]
    },
    {
     "name": "stdout",
     "output_type": "stream",
     "text": [
      "adata\n"
     ]
    },
    {
     "name": "stderr",
     "output_type": "stream",
     "text": [
      "100%|██████████| 64/64 [00:19<00:00,  3.35it/s]\n",
      "100%|██████████| 23/23 [00:30<00:00,  1.34s/it]\n"
     ]
    },
    {
     "name": "stdout",
     "output_type": "stream",
     "text": [
      "adata\n"
     ]
    },
    {
     "name": "stderr",
     "output_type": "stream",
     "text": [
      "100%|██████████| 58/58 [00:03<00:00, 15.60it/s]\n",
      "100%|██████████| 38/38 [00:14<00:00,  2.64it/s]\n"
     ]
    },
    {
     "name": "stdout",
     "output_type": "stream",
     "text": [
      "adata\n"
     ]
    },
    {
     "name": "stderr",
     "output_type": "stream",
     "text": [
      "100%|██████████| 67/67 [00:08<00:00,  7.61it/s]\n",
      "100%|██████████| 27/27 [00:16<00:00,  1.60it/s]\n"
     ]
    },
    {
     "name": "stdout",
     "output_type": "stream",
     "text": [
      "adata\n"
     ]
    },
    {
     "name": "stderr",
     "output_type": "stream",
     "text": [
      "100%|██████████| 44/44 [00:06<00:00,  7.16it/s]\n",
      "100%|██████████| 22/22 [00:15<00:00,  1.45it/s]\n"
     ]
    },
    {
     "name": "stdout",
     "output_type": "stream",
     "text": [
      "adata\n"
     ]
    },
    {
     "name": "stderr",
     "output_type": "stream",
     "text": [
      "100%|██████████| 42/42 [00:01<00:00, 23.87it/s]\n",
      "100%|██████████| 15/15 [00:04<00:00,  3.61it/s]\n"
     ]
    },
    {
     "name": "stdout",
     "output_type": "stream",
     "text": [
      "adata\n"
     ]
    },
    {
     "name": "stderr",
     "output_type": "stream",
     "text": [
      "100%|██████████| 63/63 [00:03<00:00, 18.56it/s]\n",
      "100%|██████████| 42/42 [00:10<00:00,  3.84it/s]\n"
     ]
    },
    {
     "name": "stdout",
     "output_type": "stream",
     "text": [
      "adata\n"
     ]
    },
    {
     "name": "stderr",
     "output_type": "stream",
     "text": [
      "100%|██████████| 88/88 [00:05<00:00, 15.91it/s]\n",
      "100%|██████████| 40/40 [00:12<00:00,  3.12it/s]\n"
     ]
    },
    {
     "name": "stdout",
     "output_type": "stream",
     "text": [
      "adata\n"
     ]
    },
    {
     "name": "stderr",
     "output_type": "stream",
     "text": [
      "100%|██████████| 29/29 [00:02<00:00, 13.49it/s]\n",
      "100%|██████████| 15/15 [00:09<00:00,  1.61it/s]\n"
     ]
    },
    {
     "name": "stdout",
     "output_type": "stream",
     "text": [
      "adata\n"
     ]
    },
    {
     "name": "stderr",
     "output_type": "stream",
     "text": [
      "100%|██████████| 63/63 [00:10<00:00,  5.96it/s]\n",
      "100%|██████████| 28/28 [00:24<00:00,  1.14it/s]\n"
     ]
    }
   ],
   "source": [
    "hpa_files = list(Path('/efs/expression_atlas/scrna/hpa/').glob('*/*.h5ad'))\n",
    "\n",
    "for fh in hpa_files:\n",
    "    print(fh.stem)\n",
    "    utils.process_hpa_atlas_adatas(\n",
    "        ad.read_h5ad(fh, backed='r'),\n",
    "        fh.stem,\n",
    "        out_loc=settings.DATA_LOC / 'hpa' / 'tmp' / fh.parts[-2],\n",
    "        use_rep='X_pca',\n",
    "        umap_key='X_umap',\n",
    "    )"
   ]
  },
  {
   "cell_type": "code",
   "execution_count": 2,
   "metadata": {},
   "outputs": [
    {
     "name": "stderr",
     "output_type": "stream",
     "text": [
      "100%|██████████| 31/31 [01:23<00:00,  2.69s/it]\n",
      "/home/ec2-user/anaconda/envs/singlecell/lib/python3.9/site-packages/anndata/_core/anndata.py:1838: UserWarning: Observation names are not unique. To make them unique, call `.obs_names_make_unique`.\n",
      "  utils.warn_names_duplicates(\"obs\")\n"
     ]
    }
   ],
   "source": [
    "hpa_files = list(Path('/efs/expression_atlas/scrna/hpa/').glob('*/*.h5ad'))\n",
    "adatas = []\n",
    "keys = []\n",
    "\n",
    "for fh in tqdm(hpa_files):\n",
    "    if fh.parts[-2] == 'all':\n",
    "        continue\n",
    "    keys.append(fh.parts[-2])\n",
    "    sub_adata = ad.read_h5ad(fh)\n",
    "    sub_adata.obs['cluster'] = sub_adata.obs['cluster'].map(lambda x: f'{fh.parts[-2]}_{x}')\n",
    "    if sub_adata.shape[0] > 5000:\n",
    "        sub_adata = sc.pp.subsample(sub_adata, n_obs=5000, random_state=42, copy=True)\n",
    "    adatas.append(sub_adata)\n",
    "\n",
    "atlas_adata = ad.concat(\n",
    "    adatas, \n",
    "    join='outer', \n",
    "    keys=keys,\n",
    "    fill_value=0.0,\n",
    ")\n"
   ]
  },
  {
   "cell_type": "code",
   "execution_count": 3,
   "metadata": {},
   "outputs": [],
   "source": [
    "atlas_adata.obsm['X_pca'] = sc.tl.pca(atlas_adata.X.astype(float))"
   ]
  },
  {
   "cell_type": "code",
   "execution_count": 4,
   "metadata": {},
   "outputs": [
    {
     "name": "stderr",
     "output_type": "stream",
     "text": [
      "/home/ec2-user/anaconda/envs/singlecell/lib/python3.9/site-packages/umap/distances.py:1063: NumbaDeprecationWarning: The 'nopython' keyword argument was not supplied to the 'numba.jit' decorator. The implicit default value for this argument is currently False, but it will be changed to True in Numba 0.59.0. See https://numba.readthedocs.io/en/stable/reference/deprecation.html#deprecation-of-object-mode-fall-back-behaviour-when-using-jit for details.\n",
      "  @numba.jit()\n",
      "/home/ec2-user/anaconda/envs/singlecell/lib/python3.9/site-packages/umap/distances.py:1071: NumbaDeprecationWarning: The 'nopython' keyword argument was not supplied to the 'numba.jit' decorator. The implicit default value for this argument is currently False, but it will be changed to True in Numba 0.59.0. See https://numba.readthedocs.io/en/stable/reference/deprecation.html#deprecation-of-object-mode-fall-back-behaviour-when-using-jit for details.\n",
      "  @numba.jit()\n",
      "/home/ec2-user/anaconda/envs/singlecell/lib/python3.9/site-packages/umap/distances.py:1086: NumbaDeprecationWarning: The 'nopython' keyword argument was not supplied to the 'numba.jit' decorator. The implicit default value for this argument is currently False, but it will be changed to True in Numba 0.59.0. See https://numba.readthedocs.io/en/stable/reference/deprecation.html#deprecation-of-object-mode-fall-back-behaviour-when-using-jit for details.\n",
      "  @numba.jit()\n",
      "/home/ec2-user/anaconda/envs/singlecell/lib/python3.9/site-packages/umap/umap_.py:660: NumbaDeprecationWarning: The 'nopython' keyword argument was not supplied to the 'numba.jit' decorator. The implicit default value for this argument is currently False, but it will be changed to True in Numba 0.59.0. See https://numba.readthedocs.io/en/stable/reference/deprecation.html#deprecation-of-object-mode-fall-back-behaviour-when-using-jit for details.\n",
      "  @numba.jit()\n"
     ]
    }
   ],
   "source": [
    "sc.pp.neighbors(\n",
    "    atlas_adata,\n",
    "    n_neighbors=15,\n",
    "    n_pcs=50,\n",
    "    use_rep='X_pca',\n",
    ")"
   ]
  },
  {
   "cell_type": "code",
   "execution_count": 5,
   "metadata": {},
   "outputs": [],
   "source": [
    "sc.tl.louvain(\n",
    "    atlas_adata,\n",
    "    resolution=1.0,\n",
    ")\n",
    "\n",
    "atlas_adata.obs['tissue_cell_type'] = atlas_adata.obs.apply(\n",
    "    lambda x: f'{x.tissue}__{x.cell_type}'.replace(' ', '_'),\n",
    "    axis=1,\n",
    ")"
   ]
  },
  {
   "cell_type": "code",
   "execution_count": 6,
   "metadata": {},
   "outputs": [],
   "source": [
    "sc.tl.umap(atlas_adata)"
   ]
  },
  {
   "cell_type": "code",
   "execution_count": 7,
   "metadata": {},
   "outputs": [],
   "source": [
    "\n",
    "if 'gene_name' not in atlas_adata.var.columns:\n",
    "    atlas_adata.var = atlas_adata.var.merge(\n",
    "        utils.pull_genes_gtf(settings.GTF_HUMAN_FH).loc[\n",
    "            :,['gene_type', 'gene_name'],\n",
    "        ],\n",
    "        how='left',\n",
    "        left_index=True,\n",
    "        right_index=True,\n",
    "    )"
   ]
  },
  {
   "cell_type": "code",
   "execution_count": 8,
   "metadata": {},
   "outputs": [
    {
     "name": "stderr",
     "output_type": "stream",
     "text": [
      "100%|██████████| 2741/2741 [00:02<00:00, 1061.76it/s]\n",
      "100%|██████████| 1360/1360 [01:49<00:00, 12.47it/s]\n",
      "... storing 'tissue_cell_type' as categorical\n",
      "... storing 'gene_type' as categorical\n",
      "... storing 'gene_name' as categorical\n"
     ]
    }
   ],
   "source": [
    "atlas_adata.uns['title'] = 'scRNA HPA - All'\n",
    "(settings.DATA_LOC / 'hpa' / 'tmp' / 'all').mkdir(exist_ok=True)\n",
    "padata = utils.pseudobulk_adata(\n",
    "    atlas_adata,\n",
    "    'louvain',\n",
    "    'tissue_cell_type',\n",
    "    min_cells=5,\n",
    "    min_counts=200,\n",
    "    umap_key='X_umap',\n",
    "    calc_tpm=True,\n",
    "    normalize_length=False,\n",
    ")\n",
    "\n",
    "padata.write_h5ad(\n",
    "    settings.DATA_LOC / 'hpa' / 'tmp' /'all' / f'adata_pseuodobulk.h5ad'\n",
    ")"
   ]
  },
  {
   "cell_type": "code",
   "execution_count": 10,
   "metadata": {},
   "outputs": [
    {
     "name": "stderr",
     "output_type": "stream",
     "text": [
      "100%|██████████| 31/31 [00:01<00:00, 29.26it/s]\n",
      " 13%|█▎        | 4/31 [00:21<02:31,  5.61s/it]2024-06-24 23:54:28.643 WARNING root: Singular matrix. Likely caused by all points lying in an N-1 space.\n",
      " 68%|██████▊   | 21/31 [01:16<00:27,  2.70s/it]2024-06-24 23:55:21.942 WARNING root: Singular matrix. Likely caused by all points lying in an N-1 space.\n",
      "100%|██████████| 31/31 [01:47<00:00,  3.48s/it]\n"
     ]
    }
   ],
   "source": [
    "padata_tissue = utils.pseudobulk_adata(\n",
    "    atlas_adata,\n",
    "    'tissue',\n",
    "    'tissue',\n",
    "    min_cells=5,\n",
    "    min_counts=200,\n",
    "    umap_key='X_umap',\n",
    "    calc_tpm=True,\n",
    "    normalize_length=False,\n",
    ")\n"
   ]
  },
  {
   "cell_type": "code",
   "execution_count": 11,
   "metadata": {},
   "outputs": [
    {
     "name": "stderr",
     "output_type": "stream",
     "text": [
      "100%|██████████| 85/85 [00:01<00:00, 74.70it/s]\n",
      " 18%|█▊        | 15/85 [00:15<00:54,  1.28it/s]2024-06-24 23:56:09.473 WARNING root: Singular matrix. Likely caused by all points lying in an N-1 space.\n",
      "100%|██████████| 85/85 [01:35<00:00,  1.12s/it]\n"
     ]
    }
   ],
   "source": [
    "padata_celltype = utils.pseudobulk_adata(\n",
    "    atlas_adata,\n",
    "    'cell_type',\n",
    "    'cell_type',\n",
    "    min_cells=5,\n",
    "    min_counts=200,\n",
    "    umap_key='X_umap',\n",
    "    calc_tpm=True,\n",
    "    normalize_length=False,\n",
    ")\n"
   ]
  },
  {
   "cell_type": "code",
   "execution_count": 12,
   "metadata": {},
   "outputs": [
    {
     "name": "stderr",
     "output_type": "stream",
     "text": [
      "100%|██████████| 557/557 [00:01<00:00, 435.20it/s]\n",
      "100%|██████████| 555/555 [01:31<00:00,  6.09it/s]\n"
     ]
    }
   ],
   "source": [
    "padata_cluster = utils.pseudobulk_adata(\n",
    "    atlas_adata,\n",
    "    'cluster',\n",
    "    'cluster',\n",
    "    min_cells=5,\n",
    "    min_counts=200,\n",
    "    umap_key='X_umap',\n",
    "    calc_tpm=True,\n",
    "    normalize_length=False,\n",
    ")"
   ]
  },
  {
   "cell_type": "code",
   "execution_count": 13,
   "metadata": {},
   "outputs": [
    {
     "name": "stderr",
     "output_type": "stream",
     "text": [
      "100%|██████████| 53/53 [00:01<00:00, 45.91it/s]\n",
      "  2%|▏         | 1/53 [00:04<04:17,  4.95s/it]2024-06-24 23:59:13.774 WARNING root: Singular matrix. Likely caused by all points lying in an N-1 space.\n",
      "100%|██████████| 53/53 [01:34<00:00,  1.79s/it]\n"
     ]
    }
   ],
   "source": [
    "padata_louvain = utils.pseudobulk_adata(\n",
    "    atlas_adata,\n",
    "    'louvain',\n",
    "    'louvain',\n",
    "    min_cells=5,\n",
    "    min_counts=200,\n",
    "    umap_key='X_umap',\n",
    "    calc_tpm=True,\n",
    "    normalize_length=False,\n",
    ")"
   ]
  },
  {
   "cell_type": "code",
   "execution_count": 14,
   "metadata": {},
   "outputs": [
    {
     "name": "stderr",
     "output_type": "stream",
     "text": [
      "100%|██████████| 229/229 [00:01<00:00, 196.72it/s]\n",
      "100%|██████████| 229/229 [01:34<00:00,  2.42it/s]\n"
     ]
    }
   ],
   "source": [
    "padata_tissuecelltype = utils.pseudobulk_adata(\n",
    "    atlas_adata,\n",
    "    'tissue_cell_type',\n",
    "    'tissue_cell_type',\n",
    "    min_cells=5,\n",
    "    min_counts=200,\n",
    "    umap_key='X_umap',\n",
    "    calc_tpm=True,\n",
    "    normalize_length=False,\n",
    ")"
   ]
  },
  {
   "cell_type": "code",
   "execution_count": 15,
   "metadata": {},
   "outputs": [
    {
     "name": "stderr",
     "output_type": "stream",
     "text": [
      "/tmp/ipykernel_6425/1313015571.py:14: RuntimeWarning: invalid value encountered in divide\n",
      "  xi = l / l.max(axis=0)\n",
      "/tmp/ipykernel_6425/1313015571.py:14: RuntimeWarning: invalid value encountered in divide\n",
      "  xi = l / l.max(axis=0)\n",
      "/tmp/ipykernel_6425/1313015571.py:14: RuntimeWarning: invalid value encountered in divide\n",
      "  xi = l / l.max(axis=0)\n",
      "/tmp/ipykernel_6425/1313015571.py:14: RuntimeWarning: invalid value encountered in divide\n",
      "  xi = l / l.max(axis=0)\n",
      "/tmp/ipykernel_6425/1313015571.py:14: RuntimeWarning: invalid value encountered in divide\n",
      "  xi = l / l.max(axis=0)\n",
      "/tmp/ipykernel_6425/1313015571.py:14: RuntimeWarning: invalid value encountered in divide\n",
      "  xi = l / l.max(axis=0)\n"
     ]
    }
   ],
   "source": [
    "padata.var['tau__tissue'] = calc_adata_tau(padata_tissue, return_tau=True)\n",
    "padata.var['tau__cell_type'] = calc_adata_tau(padata_celltype, return_tau=True)\n",
    "padata.var['tau__cluster'] = calc_adata_tau(padata_cluster, return_tau=True)\n",
    "padata.var['tau__louvain'] = calc_adata_tau(padata_louvain, return_tau=True)\n",
    "padata.var['tau__tissue_cell_type'] = calc_adata_tau(padata_tissuecelltype, return_tau=True)\n",
    "padata.var['tau__pseudobulk'] = calc_adata_tau(padata, return_tau=True)"
   ]
  },
  {
   "cell_type": "code",
   "execution_count": 16,
   "metadata": {},
   "outputs": [
    {
     "data": {
      "text/plain": [
       "(array([  12.,   51.,   80.,  121.,  159.,  279.,  313.,  448.,  474.,\n",
       "         587.,  654.,  791.,  761.,  795.,  800.,  868.,  841.,  881.,\n",
       "         792.,  794.,  840.,  937., 1107., 1728., 4485.]),\n",
       " array([0.16820392, 0.20147576, 0.23474761, 0.26801945, 0.30129129,\n",
       "        0.33456314, 0.36783498, 0.40110682, 0.43437867, 0.46765051,\n",
       "        0.50092235, 0.53419419, 0.56746604, 0.60073788, 0.63400972,\n",
       "        0.66728157, 0.70055341, 0.73382525, 0.7670971 , 0.80036894,\n",
       "        0.83364078, 0.86691263, 0.90018447, 0.93345631, 0.96672816,\n",
       "        1.        ]),\n",
       " <BarContainer object of 25 artists>)"
      ]
     },
     "execution_count": 16,
     "metadata": {},
     "output_type": "execute_result"
    },
    {
     "data": {
      "image/png": "[encoded data removed]",
      "text/plain": [
       "<Figure size 640x480 with 1 Axes>"
      ]
     },
     "metadata": {},
     "output_type": "display_data"
    }
   ],
   "source": [
    "plt.hist(\n",
    "    padata.var['tau__pseudobulk'],\n",
    "    bins=25,\n",
    ")"
   ]
  },
  {
   "cell_type": "code",
   "execution_count": 17,
   "metadata": {},
   "outputs": [
    {
     "data": {
      "text/html": [
       "<div>\n",
       "<style scoped>\n",
       "    .dataframe tbody tr th:only-of-type {\n",
       "        vertical-align: middle;\n",
       "    }\n",
       "\n",
       "    .dataframe tbody tr th {\n",
       "        vertical-align: top;\n",
       "    }\n",
       "\n",
       "    .dataframe thead th {\n",
       "        text-align: right;\n",
       "    }\n",
       "</style>\n",
       "<table border=\"1\" class=\"dataframe\">\n",
       "  <thead>\n",
       "    <tr style=\"text-align: right;\">\n",
       "      <th></th>\n",
       "      <th>gene_type</th>\n",
       "      <th>gene_name</th>\n",
       "      <th>tau__tissue</th>\n",
       "      <th>tau__cell_type</th>\n",
       "      <th>tau__cluster</th>\n",
       "      <th>tau__louvain</th>\n",
       "      <th>tau__tissue_cell_type</th>\n",
       "      <th>tau__pseudobulk</th>\n",
       "    </tr>\n",
       "    <tr>\n",
       "      <th>gene</th>\n",
       "      <th></th>\n",
       "      <th></th>\n",
       "      <th></th>\n",
       "      <th></th>\n",
       "      <th></th>\n",
       "      <th></th>\n",
       "      <th></th>\n",
       "      <th></th>\n",
       "    </tr>\n",
       "  </thead>\n",
       "  <tbody>\n",
       "    <tr>\n",
       "      <th>ENSG00000176219</th>\n",
       "      <td>protein_coding</td>\n",
       "      <td>OR11H6</td>\n",
       "      <td>1.0</td>\n",
       "      <td>1.0</td>\n",
       "      <td>1.000000</td>\n",
       "      <td>1.000000</td>\n",
       "      <td>1.0</td>\n",
       "      <td>1.0</td>\n",
       "    </tr>\n",
       "    <tr>\n",
       "      <th>ENSG00000184394</th>\n",
       "      <td>protein_coding</td>\n",
       "      <td>OR4N5</td>\n",
       "      <td>1.0</td>\n",
       "      <td>1.0</td>\n",
       "      <td>1.000000</td>\n",
       "      <td>1.000000</td>\n",
       "      <td>1.0</td>\n",
       "      <td>1.0</td>\n",
       "    </tr>\n",
       "    <tr>\n",
       "      <th>ENSG00000280778</th>\n",
       "      <td>protein_coding</td>\n",
       "      <td>CH17-270A2.2</td>\n",
       "      <td>1.0</td>\n",
       "      <td>1.0</td>\n",
       "      <td>1.000000</td>\n",
       "      <td>1.000000</td>\n",
       "      <td>1.0</td>\n",
       "      <td>1.0</td>\n",
       "    </tr>\n",
       "    <tr>\n",
       "      <th>ENSG00000177489</th>\n",
       "      <td>protein_coding</td>\n",
       "      <td>OR2G2</td>\n",
       "      <td>1.0</td>\n",
       "      <td>1.0</td>\n",
       "      <td>1.000000</td>\n",
       "      <td>1.000000</td>\n",
       "      <td>1.0</td>\n",
       "      <td>1.0</td>\n",
       "    </tr>\n",
       "    <tr>\n",
       "      <th>ENSG00000129965</th>\n",
       "      <td>protein_coding</td>\n",
       "      <td>INS-IGF2</td>\n",
       "      <td>1.0</td>\n",
       "      <td>1.0</td>\n",
       "      <td>1.000000</td>\n",
       "      <td>1.000000</td>\n",
       "      <td>1.0</td>\n",
       "      <td>1.0</td>\n",
       "    </tr>\n",
       "    <tr>\n",
       "      <th>ENSG00000187612</th>\n",
       "      <td>protein_coding</td>\n",
       "      <td>OR5W2</td>\n",
       "      <td>1.0</td>\n",
       "      <td>1.0</td>\n",
       "      <td>1.000000</td>\n",
       "      <td>1.000000</td>\n",
       "      <td>1.0</td>\n",
       "      <td>1.0</td>\n",
       "    </tr>\n",
       "    <tr>\n",
       "      <th>ENSG00000281887</th>\n",
       "      <td>protein_coding</td>\n",
       "      <td>GIMAP1-GIMAP5</td>\n",
       "      <td>1.0</td>\n",
       "      <td>1.0</td>\n",
       "      <td>0.996848</td>\n",
       "      <td>1.000000</td>\n",
       "      <td>1.0</td>\n",
       "      <td>1.0</td>\n",
       "    </tr>\n",
       "    <tr>\n",
       "      <th>ENSG00000223417</th>\n",
       "      <td>protein_coding</td>\n",
       "      <td>TRIM49D1</td>\n",
       "      <td>1.0</td>\n",
       "      <td>1.0</td>\n",
       "      <td>1.000000</td>\n",
       "      <td>1.000000</td>\n",
       "      <td>1.0</td>\n",
       "      <td>1.0</td>\n",
       "    </tr>\n",
       "    <tr>\n",
       "      <th>ENSG00000264668</th>\n",
       "      <td>protein_coding</td>\n",
       "      <td>RP13-582O9.6</td>\n",
       "      <td>1.0</td>\n",
       "      <td>1.0</td>\n",
       "      <td>1.000000</td>\n",
       "      <td>1.000000</td>\n",
       "      <td>1.0</td>\n",
       "      <td>1.0</td>\n",
       "    </tr>\n",
       "    <tr>\n",
       "      <th>ENSG00000237388</th>\n",
       "      <td>protein_coding</td>\n",
       "      <td>OR4A47</td>\n",
       "      <td>1.0</td>\n",
       "      <td>1.0</td>\n",
       "      <td>1.000000</td>\n",
       "      <td>1.000000</td>\n",
       "      <td>1.0</td>\n",
       "      <td>1.0</td>\n",
       "    </tr>\n",
       "    <tr>\n",
       "      <th>ENSG00000283039</th>\n",
       "      <td>protein_coding</td>\n",
       "      <td>KLF18</td>\n",
       "      <td>1.0</td>\n",
       "      <td>1.0</td>\n",
       "      <td>1.000000</td>\n",
       "      <td>1.000000</td>\n",
       "      <td>1.0</td>\n",
       "      <td>1.0</td>\n",
       "    </tr>\n",
       "    <tr>\n",
       "      <th>ENSG00000237378</th>\n",
       "      <td>protein_coding</td>\n",
       "      <td>RP11-473M10.3</td>\n",
       "      <td>1.0</td>\n",
       "      <td>1.0</td>\n",
       "      <td>1.000000</td>\n",
       "      <td>1.000000</td>\n",
       "      <td>1.0</td>\n",
       "      <td>1.0</td>\n",
       "    </tr>\n",
       "    <tr>\n",
       "      <th>ENSG00000130283</th>\n",
       "      <td>protein_coding</td>\n",
       "      <td>GDF1</td>\n",
       "      <td>1.0</td>\n",
       "      <td>1.0</td>\n",
       "      <td>1.000000</td>\n",
       "      <td>1.000000</td>\n",
       "      <td>1.0</td>\n",
       "      <td>1.0</td>\n",
       "    </tr>\n",
       "    <tr>\n",
       "      <th>ENSG00000161850</th>\n",
       "      <td>protein_coding</td>\n",
       "      <td>KRT82</td>\n",
       "      <td>1.0</td>\n",
       "      <td>1.0</td>\n",
       "      <td>1.000000</td>\n",
       "      <td>1.000000</td>\n",
       "      <td>1.0</td>\n",
       "      <td>1.0</td>\n",
       "    </tr>\n",
       "    <tr>\n",
       "      <th>ENSG00000262660</th>\n",
       "      <td>protein_coding</td>\n",
       "      <td>RP13-1032I1.10</td>\n",
       "      <td>1.0</td>\n",
       "      <td>1.0</td>\n",
       "      <td>1.000000</td>\n",
       "      <td>1.000000</td>\n",
       "      <td>1.0</td>\n",
       "      <td>1.0</td>\n",
       "    </tr>\n",
       "    <tr>\n",
       "      <th>ENSG00000172464</th>\n",
       "      <td>protein_coding</td>\n",
       "      <td>OR5AP2</td>\n",
       "      <td>1.0</td>\n",
       "      <td>1.0</td>\n",
       "      <td>1.000000</td>\n",
       "      <td>1.000000</td>\n",
       "      <td>1.0</td>\n",
       "      <td>1.0</td>\n",
       "    </tr>\n",
       "    <tr>\n",
       "      <th>ENSG00000186136</th>\n",
       "      <td>protein_coding</td>\n",
       "      <td>TAS2R42</td>\n",
       "      <td>1.0</td>\n",
       "      <td>1.0</td>\n",
       "      <td>1.000000</td>\n",
       "      <td>1.000000</td>\n",
       "      <td>1.0</td>\n",
       "      <td>1.0</td>\n",
       "    </tr>\n",
       "    <tr>\n",
       "      <th>ENSG00000262628</th>\n",
       "      <td>protein_coding</td>\n",
       "      <td>OR1D5</td>\n",
       "      <td>1.0</td>\n",
       "      <td>1.0</td>\n",
       "      <td>1.000000</td>\n",
       "      <td>1.000000</td>\n",
       "      <td>1.0</td>\n",
       "      <td>1.0</td>\n",
       "    </tr>\n",
       "    <tr>\n",
       "      <th>ENSG00000129873</th>\n",
       "      <td>protein_coding</td>\n",
       "      <td>CDY2B</td>\n",
       "      <td>1.0</td>\n",
       "      <td>1.0</td>\n",
       "      <td>1.000000</td>\n",
       "      <td>1.000000</td>\n",
       "      <td>1.0</td>\n",
       "      <td>1.0</td>\n",
       "    </tr>\n",
       "    <tr>\n",
       "      <th>ENSG00000211781</th>\n",
       "      <td>TR_V_gene</td>\n",
       "      <td>TRAV7</td>\n",
       "      <td>1.0</td>\n",
       "      <td>1.0</td>\n",
       "      <td>1.000000</td>\n",
       "      <td>1.000000</td>\n",
       "      <td>1.0</td>\n",
       "      <td>1.0</td>\n",
       "    </tr>\n",
       "    <tr>\n",
       "      <th>ENSG00000211783</th>\n",
       "      <td>TR_V_gene</td>\n",
       "      <td>TRAV9-1</td>\n",
       "      <td>1.0</td>\n",
       "      <td>1.0</td>\n",
       "      <td>1.000000</td>\n",
       "      <td>1.000000</td>\n",
       "      <td>1.0</td>\n",
       "      <td>1.0</td>\n",
       "    </tr>\n",
       "    <tr>\n",
       "      <th>ENSG00000222018</th>\n",
       "      <td>protein_coding</td>\n",
       "      <td>FAM243A</td>\n",
       "      <td>1.0</td>\n",
       "      <td>1.0</td>\n",
       "      <td>1.000000</td>\n",
       "      <td>1.000000</td>\n",
       "      <td>1.0</td>\n",
       "      <td>1.0</td>\n",
       "    </tr>\n",
       "    <tr>\n",
       "      <th>ENSG00000205497</th>\n",
       "      <td>protein_coding</td>\n",
       "      <td>OR51A4</td>\n",
       "      <td>1.0</td>\n",
       "      <td>1.0</td>\n",
       "      <td>1.000000</td>\n",
       "      <td>1.000000</td>\n",
       "      <td>1.0</td>\n",
       "      <td>1.0</td>\n",
       "    </tr>\n",
       "    <tr>\n",
       "      <th>ENSG00000177023</th>\n",
       "      <td>protein_coding</td>\n",
       "      <td>DEFB104B</td>\n",
       "      <td>1.0</td>\n",
       "      <td>1.0</td>\n",
       "      <td>1.000000</td>\n",
       "      <td>1.000000</td>\n",
       "      <td>1.0</td>\n",
       "      <td>1.0</td>\n",
       "    </tr>\n",
       "    <tr>\n",
       "      <th>ENSG00000221937</th>\n",
       "      <td>protein_coding</td>\n",
       "      <td>TAS2R40</td>\n",
       "      <td>1.0</td>\n",
       "      <td>1.0</td>\n",
       "      <td>1.000000</td>\n",
       "      <td>1.000000</td>\n",
       "      <td>1.0</td>\n",
       "      <td>1.0</td>\n",
       "    </tr>\n",
       "    <tr>\n",
       "      <th>ENSG00000177151</th>\n",
       "      <td>protein_coding</td>\n",
       "      <td>OR2T35</td>\n",
       "      <td>1.0</td>\n",
       "      <td>1.0</td>\n",
       "      <td>1.000000</td>\n",
       "      <td>1.000000</td>\n",
       "      <td>1.0</td>\n",
       "      <td>1.0</td>\n",
       "    </tr>\n",
       "    <tr>\n",
       "      <th>ENSG00000267335</th>\n",
       "      <td>protein_coding</td>\n",
       "      <td>CTB-60B18.6</td>\n",
       "      <td>1.0</td>\n",
       "      <td>1.0</td>\n",
       "      <td>1.000000</td>\n",
       "      <td>1.000000</td>\n",
       "      <td>1.0</td>\n",
       "      <td>1.0</td>\n",
       "    </tr>\n",
       "    <tr>\n",
       "      <th>ENSG00000267261</th>\n",
       "      <td>protein_coding</td>\n",
       "      <td>CTD-2132N18.3</td>\n",
       "      <td>1.0</td>\n",
       "      <td>1.0</td>\n",
       "      <td>1.000000</td>\n",
       "      <td>1.000000</td>\n",
       "      <td>1.0</td>\n",
       "      <td>1.0</td>\n",
       "    </tr>\n",
       "    <tr>\n",
       "      <th>ENSG00000181767</th>\n",
       "      <td>protein_coding</td>\n",
       "      <td>OR8H2</td>\n",
       "      <td>1.0</td>\n",
       "      <td>1.0</td>\n",
       "      <td>1.000000</td>\n",
       "      <td>1.000000</td>\n",
       "      <td>1.0</td>\n",
       "      <td>1.0</td>\n",
       "    </tr>\n",
       "    <tr>\n",
       "      <th>ENSG00000278889</th>\n",
       "      <td>protein_coding</td>\n",
       "      <td>OR2S2</td>\n",
       "      <td>1.0</td>\n",
       "      <td>1.0</td>\n",
       "      <td>1.000000</td>\n",
       "      <td>1.000000</td>\n",
       "      <td>1.0</td>\n",
       "      <td>1.0</td>\n",
       "    </tr>\n",
       "    <tr>\n",
       "      <th>ENSG00000144010</th>\n",
       "      <td>protein_coding</td>\n",
       "      <td>TRIM43B</td>\n",
       "      <td>1.0</td>\n",
       "      <td>1.0</td>\n",
       "      <td>1.000000</td>\n",
       "      <td>1.000000</td>\n",
       "      <td>1.0</td>\n",
       "      <td>1.0</td>\n",
       "    </tr>\n",
       "    <tr>\n",
       "      <th>ENSG00000181698</th>\n",
       "      <td>protein_coding</td>\n",
       "      <td>OR5T1</td>\n",
       "      <td>1.0</td>\n",
       "      <td>1.0</td>\n",
       "      <td>1.000000</td>\n",
       "      <td>0.987141</td>\n",
       "      <td>1.0</td>\n",
       "      <td>1.0</td>\n",
       "    </tr>\n",
       "    <tr>\n",
       "      <th>ENSG00000279804</th>\n",
       "      <td>protein_coding</td>\n",
       "      <td>PRAMEF18</td>\n",
       "      <td>1.0</td>\n",
       "      <td>1.0</td>\n",
       "      <td>1.000000</td>\n",
       "      <td>1.000000</td>\n",
       "      <td>1.0</td>\n",
       "      <td>1.0</td>\n",
       "    </tr>\n",
       "    <tr>\n",
       "      <th>ENSG00000280090</th>\n",
       "      <td>protein_coding</td>\n",
       "      <td>OR8B4</td>\n",
       "      <td>1.0</td>\n",
       "      <td>1.0</td>\n",
       "      <td>1.000000</td>\n",
       "      <td>1.000000</td>\n",
       "      <td>1.0</td>\n",
       "      <td>1.0</td>\n",
       "    </tr>\n",
       "    <tr>\n",
       "      <th>ENSG00000280094</th>\n",
       "      <td>protein_coding</td>\n",
       "      <td>OR1B1</td>\n",
       "      <td>1.0</td>\n",
       "      <td>1.0</td>\n",
       "      <td>0.998629</td>\n",
       "      <td>1.000000</td>\n",
       "      <td>1.0</td>\n",
       "      <td>1.0</td>\n",
       "    </tr>\n",
       "    <tr>\n",
       "      <th>ENSG00000221996</th>\n",
       "      <td>protein_coding</td>\n",
       "      <td>OR52B4</td>\n",
       "      <td>1.0</td>\n",
       "      <td>1.0</td>\n",
       "      <td>1.000000</td>\n",
       "      <td>1.000000</td>\n",
       "      <td>1.0</td>\n",
       "      <td>1.0</td>\n",
       "    </tr>\n",
       "    <tr>\n",
       "      <th>ENSG00000129862</th>\n",
       "      <td>protein_coding</td>\n",
       "      <td>VCY1B</td>\n",
       "      <td>1.0</td>\n",
       "      <td>1.0</td>\n",
       "      <td>1.000000</td>\n",
       "      <td>1.000000</td>\n",
       "      <td>1.0</td>\n",
       "      <td>1.0</td>\n",
       "    </tr>\n",
       "    <tr>\n",
       "      <th>ENSG00000237247</th>\n",
       "      <td>protein_coding</td>\n",
       "      <td>MBD3L5</td>\n",
       "      <td>1.0</td>\n",
       "      <td>1.0</td>\n",
       "      <td>1.000000</td>\n",
       "      <td>1.000000</td>\n",
       "      <td>1.0</td>\n",
       "      <td>1.0</td>\n",
       "    </tr>\n",
       "    <tr>\n",
       "      <th>ENSG00000172457</th>\n",
       "      <td>protein_coding</td>\n",
       "      <td>OR9G4</td>\n",
       "      <td>1.0</td>\n",
       "      <td>1.0</td>\n",
       "      <td>1.000000</td>\n",
       "      <td>1.000000</td>\n",
       "      <td>1.0</td>\n",
       "      <td>1.0</td>\n",
       "    </tr>\n",
       "    <tr>\n",
       "      <th>ENSG00000180919</th>\n",
       "      <td>protein_coding</td>\n",
       "      <td>OR56B4</td>\n",
       "      <td>1.0</td>\n",
       "      <td>1.0</td>\n",
       "      <td>1.000000</td>\n",
       "      <td>1.000000</td>\n",
       "      <td>1.0</td>\n",
       "      <td>1.0</td>\n",
       "    </tr>\n",
       "    <tr>\n",
       "      <th>ENSG00000183753</th>\n",
       "      <td>protein_coding</td>\n",
       "      <td>BPY2</td>\n",
       "      <td>1.0</td>\n",
       "      <td>1.0</td>\n",
       "      <td>1.000000</td>\n",
       "      <td>1.000000</td>\n",
       "      <td>1.0</td>\n",
       "      <td>1.0</td>\n",
       "    </tr>\n",
       "    <tr>\n",
       "      <th>ENSG00000283809</th>\n",
       "      <td>protein_coding</td>\n",
       "      <td>AC007326.13</td>\n",
       "      <td>1.0</td>\n",
       "      <td>1.0</td>\n",
       "      <td>1.000000</td>\n",
       "      <td>1.000000</td>\n",
       "      <td>1.0</td>\n",
       "      <td>1.0</td>\n",
       "    </tr>\n",
       "    <tr>\n",
       "      <th>ENSG00000255251</th>\n",
       "      <td>protein_coding</td>\n",
       "      <td>PRR23D1</td>\n",
       "      <td>1.0</td>\n",
       "      <td>1.0</td>\n",
       "      <td>1.000000</td>\n",
       "      <td>1.000000</td>\n",
       "      <td>1.0</td>\n",
       "      <td>1.0</td>\n",
       "    </tr>\n",
       "    <tr>\n",
       "      <th>ENSG00000183313</th>\n",
       "      <td>protein_coding</td>\n",
       "      <td>OR52L1</td>\n",
       "      <td>1.0</td>\n",
       "      <td>1.0</td>\n",
       "      <td>1.000000</td>\n",
       "      <td>1.000000</td>\n",
       "      <td>1.0</td>\n",
       "      <td>1.0</td>\n",
       "    </tr>\n",
       "    <tr>\n",
       "      <th>ENSG00000284306</th>\n",
       "      <td>protein_coding</td>\n",
       "      <td>SSU72P2</td>\n",
       "      <td>1.0</td>\n",
       "      <td>1.0</td>\n",
       "      <td>1.000000</td>\n",
       "      <td>1.000000</td>\n",
       "      <td>1.0</td>\n",
       "      <td>1.0</td>\n",
       "    </tr>\n",
       "    <tr>\n",
       "      <th>ENSG00000284546</th>\n",
       "      <td>protein_coding</td>\n",
       "      <td>SSU72P3</td>\n",
       "      <td>1.0</td>\n",
       "      <td>1.0</td>\n",
       "      <td>1.000000</td>\n",
       "      <td>1.000000</td>\n",
       "      <td>1.0</td>\n",
       "      <td>1.0</td>\n",
       "    </tr>\n",
       "    <tr>\n",
       "      <th>ENSG00000260272</th>\n",
       "      <td>protein_coding</td>\n",
       "      <td>RP11-20I23.1</td>\n",
       "      <td>1.0</td>\n",
       "      <td>1.0</td>\n",
       "      <td>1.000000</td>\n",
       "      <td>1.000000</td>\n",
       "      <td>1.0</td>\n",
       "      <td>1.0</td>\n",
       "    </tr>\n",
       "    <tr>\n",
       "      <th>ENSG00000136939</th>\n",
       "      <td>protein_coding</td>\n",
       "      <td>OR1L4</td>\n",
       "      <td>1.0</td>\n",
       "      <td>1.0</td>\n",
       "      <td>1.000000</td>\n",
       "      <td>1.000000</td>\n",
       "      <td>1.0</td>\n",
       "      <td>1.0</td>\n",
       "    </tr>\n",
       "    <tr>\n",
       "      <th>ENSG00000233917</th>\n",
       "      <td>protein_coding</td>\n",
       "      <td>POTEB</td>\n",
       "      <td>1.0</td>\n",
       "      <td>1.0</td>\n",
       "      <td>1.000000</td>\n",
       "      <td>1.000000</td>\n",
       "      <td>1.0</td>\n",
       "      <td>1.0</td>\n",
       "    </tr>\n",
       "    <tr>\n",
       "      <th>ENSG00000187005</th>\n",
       "      <td>protein_coding</td>\n",
       "      <td>KRTAP21-1</td>\n",
       "      <td>1.0</td>\n",
       "      <td>1.0</td>\n",
       "      <td>1.000000</td>\n",
       "      <td>1.000000</td>\n",
       "      <td>1.0</td>\n",
       "      <td>1.0</td>\n",
       "    </tr>\n",
       "  </tbody>\n",
       "</table>\n",
       "</div>"
      ],
      "text/plain": [
       "                      gene_type       gene_name  tau__tissue  tau__cell_type  \\\n",
       "gene                                                                           \n",
       "ENSG00000176219  protein_coding          OR11H6          1.0             1.0   \n",
       "ENSG00000184394  protein_coding           OR4N5          1.0             1.0   \n",
       "ENSG00000280778  protein_coding    CH17-270A2.2          1.0             1.0   \n",
       "ENSG00000177489  protein_coding           OR2G2          1.0             1.0   \n",
       "ENSG00000129965  protein_coding        INS-IGF2          1.0             1.0   \n",
       "ENSG00000187612  protein_coding           OR5W2          1.0             1.0   \n",
       "ENSG00000281887  protein_coding   GIMAP1-GIMAP5          1.0             1.0   \n",
       "ENSG00000223417  protein_coding        TRIM49D1          1.0             1.0   \n",
       "ENSG00000264668  protein_coding    RP13-582O9.6          1.0             1.0   \n",
       "ENSG00000237388  protein_coding          OR4A47          1.0             1.0   \n",
       "ENSG00000283039  protein_coding           KLF18          1.0             1.0   \n",
       "ENSG00000237378  protein_coding   RP11-473M10.3          1.0             1.0   \n",
       "ENSG00000130283  protein_coding            GDF1          1.0             1.0   \n",
       "ENSG00000161850  protein_coding           KRT82          1.0             1.0   \n",
       "ENSG00000262660  protein_coding  RP13-1032I1.10          1.0             1.0   \n",
       "ENSG00000172464  protein_coding          OR5AP2          1.0             1.0   \n",
       "ENSG00000186136  protein_coding         TAS2R42          1.0             1.0   \n",
       "ENSG00000262628  protein_coding           OR1D5          1.0             1.0   \n",
       "ENSG00000129873  protein_coding           CDY2B          1.0             1.0   \n",
       "ENSG00000211781       TR_V_gene           TRAV7          1.0             1.0   \n",
       "ENSG00000211783       TR_V_gene         TRAV9-1          1.0             1.0   \n",
       "ENSG00000222018  protein_coding         FAM243A          1.0             1.0   \n",
       "ENSG00000205497  protein_coding          OR51A4          1.0             1.0   \n",
       "ENSG00000177023  protein_coding        DEFB104B          1.0             1.0   \n",
       "ENSG00000221937  protein_coding         TAS2R40          1.0             1.0   \n",
       "ENSG00000177151  protein_coding          OR2T35          1.0             1.0   \n",
       "ENSG00000267335  protein_coding     CTB-60B18.6          1.0             1.0   \n",
       "ENSG00000267261  protein_coding   CTD-2132N18.3          1.0             1.0   \n",
       "ENSG00000181767  protein_coding           OR8H2          1.0             1.0   \n",
       "ENSG00000278889  protein_coding           OR2S2          1.0             1.0   \n",
       "ENSG00000144010  protein_coding         TRIM43B          1.0             1.0   \n",
       "ENSG00000181698  protein_coding           OR5T1          1.0             1.0   \n",
       "ENSG00000279804  protein_coding        PRAMEF18          1.0             1.0   \n",
       "ENSG00000280090  protein_coding           OR8B4          1.0             1.0   \n",
       "ENSG00000280094  protein_coding           OR1B1          1.0             1.0   \n",
       "ENSG00000221996  protein_coding          OR52B4          1.0             1.0   \n",
       "ENSG00000129862  protein_coding           VCY1B          1.0             1.0   \n",
       "ENSG00000237247  protein_coding          MBD3L5          1.0             1.0   \n",
       "ENSG00000172457  protein_coding           OR9G4          1.0             1.0   \n",
       "ENSG00000180919  protein_coding          OR56B4          1.0             1.0   \n",
       "ENSG00000183753  protein_coding            BPY2          1.0             1.0   \n",
       "ENSG00000283809  protein_coding     AC007326.13          1.0             1.0   \n",
       "ENSG00000255251  protein_coding         PRR23D1          1.0             1.0   \n",
       "ENSG00000183313  protein_coding          OR52L1          1.0             1.0   \n",
       "ENSG00000284306  protein_coding         SSU72P2          1.0             1.0   \n",
       "ENSG00000284546  protein_coding         SSU72P3          1.0             1.0   \n",
       "ENSG00000260272  protein_coding    RP11-20I23.1          1.0             1.0   \n",
       "ENSG00000136939  protein_coding           OR1L4          1.0             1.0   \n",
       "ENSG00000233917  protein_coding           POTEB          1.0             1.0   \n",
       "ENSG00000187005  protein_coding       KRTAP21-1          1.0             1.0   \n",
       "\n",
       "                 tau__cluster  tau__louvain  tau__tissue_cell_type  \\\n",
       "gene                                                                 \n",
       "ENSG00000176219      1.000000      1.000000                    1.0   \n",
       "ENSG00000184394      1.000000      1.000000                    1.0   \n",
       "ENSG00000280778      1.000000      1.000000                    1.0   \n",
       "ENSG00000177489      1.000000      1.000000                    1.0   \n",
       "ENSG00000129965      1.000000      1.000000                    1.0   \n",
       "ENSG00000187612      1.000000      1.000000                    1.0   \n",
       "ENSG00000281887      0.996848      1.000000                    1.0   \n",
       "ENSG00000223417      1.000000      1.000000                    1.0   \n",
       "ENSG00000264668      1.000000      1.000000                    1.0   \n",
       "ENSG00000237388      1.000000      1.000000                    1.0   \n",
       "ENSG00000283039      1.000000      1.000000                    1.0   \n",
       "ENSG00000237378      1.000000      1.000000                    1.0   \n",
       "ENSG00000130283      1.000000      1.000000                    1.0   \n",
       "ENSG00000161850      1.000000      1.000000                    1.0   \n",
       "ENSG00000262660      1.000000      1.000000                    1.0   \n",
       "ENSG00000172464      1.000000      1.000000                    1.0   \n",
       "ENSG00000186136      1.000000      1.000000                    1.0   \n",
       "ENSG00000262628      1.000000      1.000000                    1.0   \n",
       "ENSG00000129873      1.000000      1.000000                    1.0   \n",
       "ENSG00000211781      1.000000      1.000000                    1.0   \n",
       "ENSG00000211783      1.000000      1.000000                    1.0   \n",
       "ENSG00000222018      1.000000      1.000000                    1.0   \n",
       "ENSG00000205497      1.000000      1.000000                    1.0   \n",
       "ENSG00000177023      1.000000      1.000000                    1.0   \n",
       "ENSG00000221937      1.000000      1.000000                    1.0   \n",
       "ENSG00000177151      1.000000      1.000000                    1.0   \n",
       "ENSG00000267335      1.000000      1.000000                    1.0   \n",
       "ENSG00000267261      1.000000      1.000000                    1.0   \n",
       "ENSG00000181767      1.000000      1.000000                    1.0   \n",
       "ENSG00000278889      1.000000      1.000000                    1.0   \n",
       "ENSG00000144010      1.000000      1.000000                    1.0   \n",
       "ENSG00000181698      1.000000      0.987141                    1.0   \n",
       "ENSG00000279804      1.000000      1.000000                    1.0   \n",
       "ENSG00000280090      1.000000      1.000000                    1.0   \n",
       "ENSG00000280094      0.998629      1.000000                    1.0   \n",
       "ENSG00000221996      1.000000      1.000000                    1.0   \n",
       "ENSG00000129862      1.000000      1.000000                    1.0   \n",
       "ENSG00000237247      1.000000      1.000000                    1.0   \n",
       "ENSG00000172457      1.000000      1.000000                    1.0   \n",
       "ENSG00000180919      1.000000      1.000000                    1.0   \n",
       "ENSG00000183753      1.000000      1.000000                    1.0   \n",
       "ENSG00000283809      1.000000      1.000000                    1.0   \n",
       "ENSG00000255251      1.000000      1.000000                    1.0   \n",
       "ENSG00000183313      1.000000      1.000000                    1.0   \n",
       "ENSG00000284306      1.000000      1.000000                    1.0   \n",
       "ENSG00000284546      1.000000      1.000000                    1.0   \n",
       "ENSG00000260272      1.000000      1.000000                    1.0   \n",
       "ENSG00000136939      1.000000      1.000000                    1.0   \n",
       "ENSG00000233917      1.000000      1.000000                    1.0   \n",
       "ENSG00000187005      1.000000      1.000000                    1.0   \n",
       "\n",
       "                 tau__pseudobulk  \n",
       "gene                              \n",
       "ENSG00000176219              1.0  \n",
       "ENSG00000184394              1.0  \n",
       "ENSG00000280778              1.0  \n",
       "ENSG00000177489              1.0  \n",
       "ENSG00000129965              1.0  \n",
       "ENSG00000187612              1.0  \n",
       "ENSG00000281887              1.0  \n",
       "ENSG00000223417              1.0  \n",
       "ENSG00000264668              1.0  \n",
       "ENSG00000237388              1.0  \n",
       "ENSG00000283039              1.0  \n",
       "ENSG00000237378              1.0  \n",
       "ENSG00000130283              1.0  \n",
       "ENSG00000161850              1.0  \n",
       "ENSG00000262660              1.0  \n",
       "ENSG00000172464              1.0  \n",
       "ENSG00000186136              1.0  \n",
       "ENSG00000262628              1.0  \n",
       "ENSG00000129873              1.0  \n",
       "ENSG00000211781              1.0  \n",
       "ENSG00000211783              1.0  \n",
       "ENSG00000222018              1.0  \n",
       "ENSG00000205497              1.0  \n",
       "ENSG00000177023              1.0  \n",
       "ENSG00000221937              1.0  \n",
       "ENSG00000177151              1.0  \n",
       "ENSG00000267335              1.0  \n",
       "ENSG00000267261              1.0  \n",
       "ENSG00000181767              1.0  \n",
       "ENSG00000278889              1.0  \n",
       "ENSG00000144010              1.0  \n",
       "ENSG00000181698              1.0  \n",
       "ENSG00000279804              1.0  \n",
       "ENSG00000280090              1.0  \n",
       "ENSG00000280094              1.0  \n",
       "ENSG00000221996              1.0  \n",
       "ENSG00000129862              1.0  \n",
       "ENSG00000237247              1.0  \n",
       "ENSG00000172457              1.0  \n",
       "ENSG00000180919              1.0  \n",
       "ENSG00000183753              1.0  \n",
       "ENSG00000283809              1.0  \n",
       "ENSG00000255251              1.0  \n",
       "ENSG00000183313              1.0  \n",
       "ENSG00000284306              1.0  \n",
       "ENSG00000284546              1.0  \n",
       "ENSG00000260272              1.0  \n",
       "ENSG00000136939              1.0  \n",
       "ENSG00000233917              1.0  \n",
       "ENSG00000187005              1.0  "
      ]
     },
     "execution_count": 17,
     "metadata": {},
     "output_type": "execute_result"
    }
   ],
   "source": [
    "padata.var.sort_values('tau__pseudobulk', ascending=False).head(50)"
   ]
  },
  {
   "cell_type": "code",
   "execution_count": 10,
   "metadata": {},
   "outputs": [
    {
     "name": "stdout",
     "output_type": "stream",
     "text": [
      "/home/ec2-user/scrna/data/hpa/rectum/adata_pseuodobulk.h5ad\n",
      "/home/ec2-user/scrna/data/hpa/salivary_gland/adata_pseuodobulk.h5ad\n",
      "/home/ec2-user/scrna/data/hpa/placenta/adata_pseuodobulk.h5ad\n",
      "/home/ec2-user/scrna/data/hpa/kidney/adata_pseuodobulk.h5ad\n",
      "/home/ec2-user/scrna/data/hpa/bronchus/adata_pseuodobulk.h5ad\n",
      "/home/ec2-user/scrna/data/hpa/heart_muscle/adata_pseuodobulk.h5ad\n",
      "/home/ec2-user/scrna/data/hpa/brain/adata_pseuodobulk.h5ad\n",
      "/home/ec2-user/scrna/data/hpa/testis/adata_pseuodobulk.h5ad\n",
      "/home/ec2-user/scrna/data/hpa/prostate/adata_pseuodobulk.h5ad\n",
      "/home/ec2-user/scrna/data/hpa/tongue/adata_pseuodobulk.h5ad\n",
      "/home/ec2-user/scrna/data/hpa/liver/adata_pseuodobulk.h5ad\n",
      "/home/ec2-user/scrna/data/hpa/pbmc/adata_pseuodobulk.h5ad\n",
      "/home/ec2-user/scrna/data/hpa/thymus/adata_pseuodobulk.h5ad\n",
      "/home/ec2-user/scrna/data/hpa/lung/adata_pseuodobulk.h5ad\n",
      "/home/ec2-user/scrna/data/hpa/adipose_tissue/adata_pseuodobulk.h5ad\n",
      "/home/ec2-user/scrna/data/hpa/breast/adata_pseuodobulk.h5ad\n",
      "/home/ec2-user/scrna/data/hpa/vascular/adata_pseuodobulk.h5ad\n",
      "/home/ec2-user/scrna/data/hpa/ovary/adata_pseuodobulk.h5ad\n",
      "/home/ec2-user/scrna/data/hpa/endometrium/adata_pseuodobulk.h5ad\n",
      "/home/ec2-user/scrna/data/hpa/fallopian_tube/adata_pseuodobulk.h5ad\n",
      "/home/ec2-user/scrna/data/hpa/skin/adata_pseuodobulk.h5ad\n",
      "/home/ec2-user/scrna/data/hpa/skeletal_muscle/adata_pseuodobulk.h5ad\n",
      "/home/ec2-user/scrna/data/hpa/pancreas/adata_pseuodobulk.h5ad\n",
      "/home/ec2-user/scrna/data/hpa/eye/adata_pseuodobulk.h5ad\n",
      "/home/ec2-user/scrna/data/hpa/colon/adata_pseuodobulk.h5ad\n",
      "/home/ec2-user/scrna/data/hpa/small_intestine/adata_pseuodobulk.h5ad\n",
      "/home/ec2-user/scrna/data/hpa/bone_marrow/adata_pseuodobulk.h5ad\n",
      "/home/ec2-user/scrna/data/hpa/spleen/adata_pseuodobulk.h5ad\n",
      "/home/ec2-user/scrna/data/hpa/stomach/adata_pseuodobulk.h5ad\n",
      "/home/ec2-user/scrna/data/hpa/lymph_node/adata_pseuodobulk.h5ad\n",
      "/home/ec2-user/scrna/data/hpa/esophagus/adata_pseuodobulk.h5ad\n",
      "/home/ec2-user/scrna/data/hpa/all/adata_pseuodobulk.h5ad\n"
     ]
    }
   ],
   "source": [
    "for p in list((settings.DATA_LOC / 'hpa' / 'tmp').glob('*/adata_pseuodobulk.h5ad')):\n",
    "    print(Path(*[_p for i,_p in enumerate(p.parts) if i != 6]))\n",
    "    shutil.copy(\n",
    "        p,\n",
    "        Path(*[_p for i,_p in enumerate(p.parts) if i != 6])\n",
    "    )"
   ]
  },
  {
   "cell_type": "code",
   "execution_count": 19,
   "metadata": {},
   "outputs": [],
   "source": [
    "s_tissue = utils.label_expression_similarity(\n",
    "    padata_tissue.layers['ntpm'],\n",
    "    padata_tissue.obs,\n",
    "    padata_tissue.var,\n",
    "    specificity_column = 'tissue',\n",
    ")\n",
    "s_celltype = utils.label_expression_similarity(\n",
    "    padata_celltype.layers['ntpm'],\n",
    "    padata_celltype.obs,\n",
    "    padata_celltype.var,\n",
    "    specificity_column = 'cell_type',\n",
    ")\n",
    "s_tissuecelltype = utils.label_expression_similarity(\n",
    "    padata_tissuecelltype.layers['ntpm'],\n",
    "    padata_tissuecelltype.obs,\n",
    "    padata_tissuecelltype.var,\n",
    "    specificity_column = 'tissue_cell_type',\n",
    ")\n",
    "s_cluster = utils.label_expression_similarity(\n",
    "    padata_cluster.layers['ntpm'],\n",
    "    padata_cluster.obs,\n",
    "    padata_cluster.var,\n",
    "    specificity_column = 'cluster',\n",
    ")\n",
    "s_louvain = utils.label_expression_similarity(\n",
    "    padata_louvain.layers['ntpm'],\n",
    "    padata_louvain.obs,\n",
    "    padata_louvain.var,\n",
    "    specificity_column = 'louvain',\n",
    ")\n",
    "s_pseudobulk = utils.label_expression_similarity(\n",
    "    padata.layers['ntpm'],\n",
    "    padata.obs,\n",
    "    padata.var,\n",
    ")\n",
    "padata.uns['specificity'] = {}\n",
    "padata.uns['specificity']['tissue'] = s_tissue\n",
    "padata.uns['specificity']['cell_type'] = s_celltype\n",
    "padata.uns['specificity']['tissue_cell_type'] = s_tissuecelltype\n",
    "padata.uns['specificity']['cluster'] = s_cluster\n",
    "padata.uns['specificity']['louvain'] = s_louvain\n",
    "padata.uns['specificity']['pseudobulk'] = s_pseudobulk"
   ]
  },
  {
   "cell_type": "code",
   "execution_count": 451,
   "metadata": {},
   "outputs": [
    {
     "data": {
      "text/plain": [
       "prostate__prostatic_glandular_cells     0.547961\n",
       "placenta__fibroblasts                   0.460558\n",
       "ovary__granulosa_cells                  0.353095\n",
       "brain__inhibitory_neurons               0.255190\n",
       "pancreas__pancreatic_endocrine_cells    0.211728\n",
       "                                          ...   \n",
       "liver__b-cells                          0.000000\n",
       "liver__endothelial_cells                0.000000\n",
       "liver__fibroblasts                      0.000000\n",
       "liver__hepatocytes                      0.000000\n",
       "vascular__t-cells                       0.000000\n",
       "Name: ENSG00000122585, Length: 199, dtype: float64"
      ]
     },
     "execution_count": 451,
     "metadata": {},
     "output_type": "execute_result"
    }
   ],
   "source": [
    "s_tissuecelltype.loc[\n",
    "        padata_tissuecelltype.var['gene_name'] == 'NPY'\n",
    "].T.iloc[:,0].sort_values(ascending=False)"
   ]
  },
  {
   "cell_type": "code",
   "execution_count": 452,
   "metadata": {},
   "outputs": [
    {
     "data": {
      "text/html": [
       "<div>\n",
       "<style scoped>\n",
       "    .dataframe tbody tr th:only-of-type {\n",
       "        vertical-align: middle;\n",
       "    }\n",
       "\n",
       "    .dataframe tbody tr th {\n",
       "        vertical-align: top;\n",
       "    }\n",
       "\n",
       "    .dataframe thead th {\n",
       "        text-align: right;\n",
       "    }\n",
       "</style>\n",
       "<table border=\"1\" class=\"dataframe\">\n",
       "  <thead>\n",
       "    <tr style=\"text-align: right;\">\n",
       "      <th></th>\n",
       "      <th>gene_type</th>\n",
       "      <th>gene_name</th>\n",
       "      <th>tau__tissue</th>\n",
       "      <th>tau__cell_type</th>\n",
       "      <th>tau__cluster</th>\n",
       "      <th>tau__louvain</th>\n",
       "      <th>tau__tissue_cell_type</th>\n",
       "      <th>tau__pseudobulk</th>\n",
       "    </tr>\n",
       "    <tr>\n",
       "      <th>gene</th>\n",
       "      <th></th>\n",
       "      <th></th>\n",
       "      <th></th>\n",
       "      <th></th>\n",
       "      <th></th>\n",
       "      <th></th>\n",
       "      <th></th>\n",
       "      <th></th>\n",
       "    </tr>\n",
       "  </thead>\n",
       "  <tbody>\n",
       "    <tr>\n",
       "      <th>ENSG00000187094</th>\n",
       "      <td>protein_coding</td>\n",
       "      <td>CCK</td>\n",
       "      <td>0.906369</td>\n",
       "      <td>0.895822</td>\n",
       "      <td>0.922965</td>\n",
       "      <td>0.864953</td>\n",
       "      <td>0.932136</td>\n",
       "      <td>0.961192</td>\n",
       "    </tr>\n",
       "  </tbody>\n",
       "</table>\n",
       "</div>"
      ],
      "text/plain": [
       "                      gene_type gene_name  tau__tissue  tau__cell_type  \\\n",
       "gene                                                                     \n",
       "ENSG00000187094  protein_coding       CCK     0.906369        0.895822   \n",
       "\n",
       "                 tau__cluster  tau__louvain  tau__tissue_cell_type  \\\n",
       "gene                                                                 \n",
       "ENSG00000187094      0.922965      0.864953               0.932136   \n",
       "\n",
       "                 tau__pseudobulk  \n",
       "gene                              \n",
       "ENSG00000187094         0.961192  "
      ]
     },
     "execution_count": 452,
     "metadata": {},
     "output_type": "execute_result"
    }
   ],
   "source": [
    "padata.var.loc[\n",
    "    padata.var['gene_name'] == 'CCK'\n",
    "]"
   ]
  },
  {
   "cell_type": "code",
   "execution_count": 490,
   "metadata": {},
   "outputs": [
    {
     "data": {
      "text/plain": [
       "<matplotlib.collections.PathCollection at 0x7f5a27b508b0>"
      ]
     },
     "execution_count": 490,
     "metadata": {},
     "output_type": "execute_result"
    },
    {
     "data": {
      "image/png": "[encoded data removed]",
      "text/plain": [
       "<Figure size 640x480 with 1 Axes>"
      ]
     },
     "metadata": {},
     "output_type": "display_data"
    }
   ],
   "source": [
    "plt.scatter(\n",
    "    padata.var['tau__tissue_cell_type'],\n",
    "    st_tissuecelltype.max(axis=1),\n",
    "    alpha=0.01,\n",
    ")"
   ]
  },
  {
   "cell_type": "code",
   "execution_count": 491,
   "metadata": {},
   "outputs": [
    {
     "data": {
      "text/plain": [
       "[<matplotlib.lines.Line2D at 0x7f5a525b2eb0>]"
      ]
     },
     "execution_count": 491,
     "metadata": {},
     "output_type": "execute_result"
    },
    {
     "data": {
      "image/png": "[encoded data removed]",
      "text/plain": [
       "<Figure size 640x480 with 1 Axes>"
      ]
     },
     "metadata": {},
     "output_type": "display_data"
    }
   ],
   "source": [
    "plt.plot(\n",
    "    padata_cluster.layers['ntpm'][\n",
    "        :,padata_cluster.var['gene_name'] == 'CCK'\n",
    "    ],\n",
    ")"
   ]
  },
  {
   "cell_type": "code",
   "execution_count": 492,
   "metadata": {},
   "outputs": [
    {
     "data": {
      "text/html": [
       "<div>\n",
       "<style scoped>\n",
       "    .dataframe tbody tr th:only-of-type {\n",
       "        vertical-align: middle;\n",
       "    }\n",
       "\n",
       "    .dataframe tbody tr th {\n",
       "        vertical-align: top;\n",
       "    }\n",
       "\n",
       "    .dataframe thead th {\n",
       "        text-align: right;\n",
       "    }\n",
       "</style>\n",
       "<table border=\"1\" class=\"dataframe\">\n",
       "  <thead>\n",
       "    <tr style=\"text-align: right;\">\n",
       "      <th></th>\n",
       "      <th>gene_type</th>\n",
       "      <th>gene_name</th>\n",
       "      <th>tau__tissue</th>\n",
       "      <th>tau__cell_type</th>\n",
       "      <th>tau__cluster</th>\n",
       "      <th>tau__louvain</th>\n",
       "      <th>tau__tissue_cell_type</th>\n",
       "      <th>tau__pseudobulk</th>\n",
       "    </tr>\n",
       "    <tr>\n",
       "      <th>gene</th>\n",
       "      <th></th>\n",
       "      <th></th>\n",
       "      <th></th>\n",
       "      <th></th>\n",
       "      <th></th>\n",
       "      <th></th>\n",
       "      <th></th>\n",
       "      <th></th>\n",
       "    </tr>\n",
       "  </thead>\n",
       "  <tbody>\n",
       "    <tr>\n",
       "      <th>ENSG00000146469</th>\n",
       "      <td>protein_coding</td>\n",
       "      <td>VIP</td>\n",
       "      <td>0.920117</td>\n",
       "      <td>0.95841</td>\n",
       "      <td>0.964639</td>\n",
       "      <td>0.899862</td>\n",
       "      <td>0.95806</td>\n",
       "      <td>0.971748</td>\n",
       "    </tr>\n",
       "  </tbody>\n",
       "</table>\n",
       "</div>"
      ],
      "text/plain": [
       "                      gene_type gene_name  tau__tissue  tau__cell_type  \\\n",
       "gene                                                                     \n",
       "ENSG00000146469  protein_coding       VIP     0.920117         0.95841   \n",
       "\n",
       "                 tau__cluster  tau__louvain  tau__tissue_cell_type  \\\n",
       "gene                                                                 \n",
       "ENSG00000146469      0.964639      0.899862                0.95806   \n",
       "\n",
       "                 tau__pseudobulk  \n",
       "gene                              \n",
       "ENSG00000146469         0.971748  "
      ]
     },
     "execution_count": 492,
     "metadata": {},
     "output_type": "execute_result"
    }
   ],
   "source": [
    "padata.var.loc[\n",
    "    padata.var['gene_name'] == 'VIP'\n",
    "]"
   ]
  },
  {
   "cell_type": "code",
   "execution_count": 460,
   "metadata": {},
   "outputs": [
    {
     "data": {
      "text/plain": [
       "excitatory_neurons                 0.460368\n",
       "inhibitory_neurons                 0.449580\n",
       "prostatic_glandular_cells          0.311927\n",
       "syncytiotrophoblasts               0.307795\n",
       "oligodendrocytes                   0.299337\n",
       "muller_glia_cells                  0.288085\n",
       "bipolar_cells                      0.245521\n",
       "enteroendocrine_cells              0.158717\n",
       "mucus_glandular_cells              0.156990\n",
       "spermatogonia                      0.140478\n",
       "gastric_mucus-secreting_cells      0.140084\n",
       "rod_photoreceptor_cells            0.107019\n",
       "alveolar_cells_type_1              0.104565\n",
       "club_cells                         0.094825\n",
       "basal_keratinocytes                0.094213\n",
       "salivary_duct_cells                0.092520\n",
       "smooth_muscle_cells                0.065298\n",
       "suprabasal_keratinocytes           0.060834\n",
       "breast_glandular_cells             0.060226\n",
       "fibroblasts                        0.045088\n",
       "alveolar_cells_type_2              0.044391\n",
       "mixed_cell_types                   0.039135\n",
       "macrophages                        0.036297\n",
       "late_spermatids                    0.030603\n",
       "adipocytes                         0.030052\n",
       "exocrine_glandular_cells           0.023252\n",
       "glandular_and_luminal_cells        0.022496\n",
       "early_spermatids                   0.019535\n",
       "undifferentiated_cells             0.017826\n",
       "cytotrophoblasts                   0.017277\n",
       "ductal_cells                       0.016809\n",
       "spermatocytes                      0.015796\n",
       "intestinal_goblet_cells            0.012487\n",
       "granulocytes                       0.000000\n",
       "schwann_cells                      0.000000\n",
       "plasma_cells                       0.000000\n",
       "platelets                          0.000000\n",
       "cone_photoreceptor_cells           0.000000\n",
       "proximal_enterocytes               0.000000\n",
       "proximal_tubular_cells             0.000000\n",
       "ciliated_cells                     0.000000\n",
       "cardiomyocytes                     0.000000\n",
       "secretory_cells                    0.000000\n",
       "paneth_cells                       0.000000\n",
       "serous_glandular_cells             0.000000\n",
       "skeletal_myocytes                  0.000000\n",
       "basal_squamous_epithelial_cells    0.000000\n",
       "basal_respiratory_cells            0.000000\n",
       "squamous_epithelial_cells          0.000000\n",
       "basal_prostatic_cells              0.000000\n",
       "Name: ENSG00000187094, dtype: float64"
      ]
     },
     "execution_count": 460,
     "metadata": {},
     "output_type": "execute_result"
    }
   ],
   "source": [
    "st_celltype.loc[\n",
    "    padata.var['gene_name'] == 'CCK'\n",
    "].T.iloc[:,0].sort_values(ascending=False).head(50)"
   ]
  },
  {
   "cell_type": "code",
   "execution_count": 462,
   "metadata": {},
   "outputs": [
    {
     "data": {
      "text/plain": [
       "brain              0.785910\n",
       "eye                0.397541\n",
       "prostate           0.189070\n",
       "small_intestine    0.159372\n",
       "liver              0.159024\n",
       "skin               0.141860\n",
       "breast             0.140224\n",
       "tongue             0.137614\n",
       "esophagus          0.123304\n",
       "placenta           0.123200\n",
       "salivary_gland     0.116997\n",
       "lung               0.109614\n",
       "testis             0.094223\n",
       "skeletal_muscle    0.073170\n",
       "fallopian_tube     0.054281\n",
       "stomach            0.046001\n",
       "pancreas           0.041073\n",
       "bronchus           0.023798\n",
       "vascular           0.021317\n",
       "endometrium        0.021072\n",
       "Name: ENSG00000187094, dtype: float64"
      ]
     },
     "execution_count": 462,
     "metadata": {},
     "output_type": "execute_result"
    }
   ],
   "source": [
    "st_tissue.loc[\n",
    "        padata_cluster.var['gene_name'] == 'CCK'\n",
    "].T.iloc[:,0].sort_values(ascending=False).head(20)"
   ]
  },
  {
   "cell_type": "code",
   "execution_count": 20,
   "metadata": {},
   "outputs": [],
   "source": [
    "padata.uns['meta'] = {}\n",
    "padata.uns['meta']['comments'] = [\n",
    "    'Cluster ids manually assigned with marker genes at HPA. Louvain assigned while pre-processing internally.'\n",
    "]"
   ]
  },
  {
   "cell_type": "code",
   "execution_count": 21,
   "metadata": {},
   "outputs": [],
   "source": [
    "padata.write_h5ad(\n",
    "    settings.DATA_LOC / 'hpa' / 'all' / 'adata_pseuodobulk2.h5ad'\n",
    ")"
   ]
  },
  {
   "cell_type": "code",
   "execution_count": 472,
   "metadata": {},
   "outputs": [
    {
     "data": {
      "text/html": [
       "<div>\n",
       "<style scoped>\n",
       "    .dataframe tbody tr th:only-of-type {\n",
       "        vertical-align: middle;\n",
       "    }\n",
       "\n",
       "    .dataframe tbody tr th {\n",
       "        vertical-align: top;\n",
       "    }\n",
       "\n",
       "    .dataframe thead th {\n",
       "        text-align: right;\n",
       "    }\n",
       "</style>\n",
       "<table border=\"1\" class=\"dataframe\">\n",
       "  <thead>\n",
       "    <tr style=\"text-align: right;\">\n",
       "      <th></th>\n",
       "      <th>cluster</th>\n",
       "      <th>tissue</th>\n",
       "      <th>cell_type</th>\n",
       "      <th>louvain</th>\n",
       "      <th>tissue_cell_type</th>\n",
       "      <th>bulk_n_cells</th>\n",
       "      <th>bulk_total_cells</th>\n",
       "      <th>tpm_tmm_norm_factor</th>\n",
       "    </tr>\n",
       "    <tr>\n",
       "      <th>_sample_key</th>\n",
       "      <th></th>\n",
       "      <th></th>\n",
       "      <th></th>\n",
       "      <th></th>\n",
       "      <th></th>\n",
       "      <th></th>\n",
       "      <th></th>\n",
       "      <th></th>\n",
       "    </tr>\n",
       "  </thead>\n",
       "  <tbody>\n",
       "    <tr>\n",
       "      <th>prostate__basal_prostatic_cells__15</th>\n",
       "      <td>prostate_c-3</td>\n",
       "      <td>prostate</td>\n",
       "      <td>basal_prostatic_cells</td>\n",
       "      <td>15</td>\n",
       "      <td>prostate__basal_prostatic_cells</td>\n",
       "      <td>55.0</td>\n",
       "      <td>178995.0</td>\n",
       "      <td>1.066100</td>\n",
       "    </tr>\n",
       "    <tr>\n",
       "      <th>prostate__basal_prostatic_cells__19</th>\n",
       "      <td>prostate_c-2</td>\n",
       "      <td>prostate</td>\n",
       "      <td>basal_prostatic_cells</td>\n",
       "      <td>19</td>\n",
       "      <td>prostate__basal_prostatic_cells</td>\n",
       "      <td>329.0</td>\n",
       "      <td>1417364.0</td>\n",
       "      <td>0.841048</td>\n",
       "    </tr>\n",
       "    <tr>\n",
       "      <th>prostate__basal_prostatic_cells__21</th>\n",
       "      <td>prostate_c-3</td>\n",
       "      <td>prostate</td>\n",
       "      <td>basal_prostatic_cells</td>\n",
       "      <td>21</td>\n",
       "      <td>prostate__basal_prostatic_cells</td>\n",
       "      <td>68.0</td>\n",
       "      <td>589628.0</td>\n",
       "      <td>0.994984</td>\n",
       "    </tr>\n",
       "    <tr>\n",
       "      <th>prostate__endothelial_cells__19</th>\n",
       "      <td>prostate_c-7</td>\n",
       "      <td>prostate</td>\n",
       "      <td>endothelial_cells</td>\n",
       "      <td>19</td>\n",
       "      <td>prostate__endothelial_cells</td>\n",
       "      <td>65.0</td>\n",
       "      <td>156843.0</td>\n",
       "      <td>0.961059</td>\n",
       "    </tr>\n",
       "    <tr>\n",
       "      <th>prostate__endothelial_cells__8</th>\n",
       "      <td>prostate_c-7</td>\n",
       "      <td>prostate</td>\n",
       "      <td>endothelial_cells</td>\n",
       "      <td>8</td>\n",
       "      <td>prostate__endothelial_cells</td>\n",
       "      <td>26.0</td>\n",
       "      <td>54811.0</td>\n",
       "      <td>1.305024</td>\n",
       "    </tr>\n",
       "    <tr>\n",
       "      <th>prostate__macrophages__19</th>\n",
       "      <td>prostate_c-6</td>\n",
       "      <td>prostate</td>\n",
       "      <td>macrophages</td>\n",
       "      <td>19</td>\n",
       "      <td>prostate__macrophages</td>\n",
       "      <td>37.0</td>\n",
       "      <td>99205.0</td>\n",
       "      <td>1.092229</td>\n",
       "    </tr>\n",
       "    <tr>\n",
       "      <th>prostate__macrophages__9</th>\n",
       "      <td>prostate_c-6</td>\n",
       "      <td>prostate</td>\n",
       "      <td>macrophages</td>\n",
       "      <td>9</td>\n",
       "      <td>prostate__macrophages</td>\n",
       "      <td>36.0</td>\n",
       "      <td>304505.0</td>\n",
       "      <td>0.898455</td>\n",
       "    </tr>\n",
       "    <tr>\n",
       "      <th>prostate__mixed_cell_types__19</th>\n",
       "      <td>prostate_c-1</td>\n",
       "      <td>prostate</td>\n",
       "      <td>mixed_cell_types</td>\n",
       "      <td>19</td>\n",
       "      <td>prostate__mixed_cell_types</td>\n",
       "      <td>852.0</td>\n",
       "      <td>3559005.0</td>\n",
       "      <td>0.651777</td>\n",
       "    </tr>\n",
       "    <tr>\n",
       "      <th>prostate__smooth_muscle_cells__19</th>\n",
       "      <td>prostate_c-10</td>\n",
       "      <td>prostate</td>\n",
       "      <td>smooth_muscle_cells</td>\n",
       "      <td>19</td>\n",
       "      <td>prostate__smooth_muscle_cells</td>\n",
       "      <td>32.0</td>\n",
       "      <td>48066.0</td>\n",
       "      <td>1.323998</td>\n",
       "    </tr>\n",
       "    <tr>\n",
       "      <th>prostate__t-cells__15</th>\n",
       "      <td>prostate_c-4</td>\n",
       "      <td>prostate</td>\n",
       "      <td>t-cells</td>\n",
       "      <td>15</td>\n",
       "      <td>prostate__t-cells</td>\n",
       "      <td>42.0</td>\n",
       "      <td>135259.0</td>\n",
       "      <td>0.983561</td>\n",
       "    </tr>\n",
       "    <tr>\n",
       "      <th>prostate__t-cells__19</th>\n",
       "      <td>prostate_c-13</td>\n",
       "      <td>prostate</td>\n",
       "      <td>t-cells</td>\n",
       "      <td>19</td>\n",
       "      <td>prostate__t-cells</td>\n",
       "      <td>38.0</td>\n",
       "      <td>142694.0</td>\n",
       "      <td>0.907687</td>\n",
       "    </tr>\n",
       "    <tr>\n",
       "      <th>prostate__t-cells__8</th>\n",
       "      <td>prostate_c-4</td>\n",
       "      <td>prostate</td>\n",
       "      <td>t-cells</td>\n",
       "      <td>8</td>\n",
       "      <td>prostate__t-cells</td>\n",
       "      <td>108.0</td>\n",
       "      <td>175103.0</td>\n",
       "      <td>1.039938</td>\n",
       "    </tr>\n",
       "  </tbody>\n",
       "</table>\n",
       "</div>"
      ],
      "text/plain": [
       "                                           cluster    tissue  \\\n",
       "_sample_key                                                    \n",
       "prostate__basal_prostatic_cells__15   prostate_c-3  prostate   \n",
       "prostate__basal_prostatic_cells__19   prostate_c-2  prostate   \n",
       "prostate__basal_prostatic_cells__21   prostate_c-3  prostate   \n",
       "prostate__endothelial_cells__19       prostate_c-7  prostate   \n",
       "prostate__endothelial_cells__8        prostate_c-7  prostate   \n",
       "prostate__macrophages__19             prostate_c-6  prostate   \n",
       "prostate__macrophages__9              prostate_c-6  prostate   \n",
       "prostate__mixed_cell_types__19        prostate_c-1  prostate   \n",
       "prostate__smooth_muscle_cells__19    prostate_c-10  prostate   \n",
       "prostate__t-cells__15                 prostate_c-4  prostate   \n",
       "prostate__t-cells__19                prostate_c-13  prostate   \n",
       "prostate__t-cells__8                  prostate_c-4  prostate   \n",
       "\n",
       "                                                 cell_type louvain  \\\n",
       "_sample_key                                                          \n",
       "prostate__basal_prostatic_cells__15  basal_prostatic_cells      15   \n",
       "prostate__basal_prostatic_cells__19  basal_prostatic_cells      19   \n",
       "prostate__basal_prostatic_cells__21  basal_prostatic_cells      21   \n",
       "prostate__endothelial_cells__19          endothelial_cells      19   \n",
       "prostate__endothelial_cells__8           endothelial_cells       8   \n",
       "prostate__macrophages__19                      macrophages      19   \n",
       "prostate__macrophages__9                       macrophages       9   \n",
       "prostate__mixed_cell_types__19            mixed_cell_types      19   \n",
       "prostate__smooth_muscle_cells__19      smooth_muscle_cells      19   \n",
       "prostate__t-cells__15                              t-cells      15   \n",
       "prostate__t-cells__19                              t-cells      19   \n",
       "prostate__t-cells__8                               t-cells       8   \n",
       "\n",
       "                                                    tissue_cell_type  \\\n",
       "_sample_key                                                            \n",
       "prostate__basal_prostatic_cells__15  prostate__basal_prostatic_cells   \n",
       "prostate__basal_prostatic_cells__19  prostate__basal_prostatic_cells   \n",
       "prostate__basal_prostatic_cells__21  prostate__basal_prostatic_cells   \n",
       "prostate__endothelial_cells__19          prostate__endothelial_cells   \n",
       "prostate__endothelial_cells__8           prostate__endothelial_cells   \n",
       "prostate__macrophages__19                      prostate__macrophages   \n",
       "prostate__macrophages__9                       prostate__macrophages   \n",
       "prostate__mixed_cell_types__19            prostate__mixed_cell_types   \n",
       "prostate__smooth_muscle_cells__19      prostate__smooth_muscle_cells   \n",
       "prostate__t-cells__15                              prostate__t-cells   \n",
       "prostate__t-cells__19                              prostate__t-cells   \n",
       "prostate__t-cells__8                               prostate__t-cells   \n",
       "\n",
       "                                     bulk_n_cells  bulk_total_cells  \\\n",
       "_sample_key                                                           \n",
       "prostate__basal_prostatic_cells__15          55.0          178995.0   \n",
       "prostate__basal_prostatic_cells__19         329.0         1417364.0   \n",
       "prostate__basal_prostatic_cells__21          68.0          589628.0   \n",
       "prostate__endothelial_cells__19              65.0          156843.0   \n",
       "prostate__endothelial_cells__8               26.0           54811.0   \n",
       "prostate__macrophages__19                    37.0           99205.0   \n",
       "prostate__macrophages__9                     36.0          304505.0   \n",
       "prostate__mixed_cell_types__19              852.0         3559005.0   \n",
       "prostate__smooth_muscle_cells__19            32.0           48066.0   \n",
       "prostate__t-cells__15                        42.0          135259.0   \n",
       "prostate__t-cells__19                        38.0          142694.0   \n",
       "prostate__t-cells__8                        108.0          175103.0   \n",
       "\n",
       "                                     tpm_tmm_norm_factor  \n",
       "_sample_key                                               \n",
       "prostate__basal_prostatic_cells__15             1.066100  \n",
       "prostate__basal_prostatic_cells__19             0.841048  \n",
       "prostate__basal_prostatic_cells__21             0.994984  \n",
       "prostate__endothelial_cells__19                 0.961059  \n",
       "prostate__endothelial_cells__8                  1.305024  \n",
       "prostate__macrophages__19                       1.092229  \n",
       "prostate__macrophages__9                        0.898455  \n",
       "prostate__mixed_cell_types__19                  0.651777  \n",
       "prostate__smooth_muscle_cells__19               1.323998  \n",
       "prostate__t-cells__15                           0.983561  \n",
       "prostate__t-cells__19                           0.907687  \n",
       "prostate__t-cells__8                            1.039938  "
      ]
     },
     "execution_count": 472,
     "metadata": {},
     "output_type": "execute_result"
    }
   ],
   "source": [
    "padata.obs[\n",
    "    padata.obs['tissue'] == 'prostate'\n",
    "]"
   ]
  },
  {
   "cell_type": "code",
   "execution_count": 473,
   "metadata": {},
   "outputs": [
    {
     "data": {
      "text/plain": [
       "cell_type                  louvain\n",
       "mixed_cell_types           19         852\n",
       "basal_prostatic_cells      19         329\n",
       "t-cells                    8          108\n",
       "basal_prostatic_cells      21          68\n",
       "endothelial_cells          19          65\n",
       "basal_prostatic_cells      15          55\n",
       "t-cells                    15          42\n",
       "                           19          38\n",
       "macrophages                19          37\n",
       "                           9           36\n",
       "smooth_muscle_cells        19          32\n",
       "endothelial_cells          8           26\n",
       "basal_prostatic_cells      11          18\n",
       "prostatic_glandular_cells  21          18\n",
       "endothelial_cells          15          16\n",
       "macrophages                3           16\n",
       "club_cells                 21          13\n",
       "                           11          11\n",
       "basal_prostatic_cells      8           11\n",
       "prostatic_glandular_cells  15          11\n",
       "endothelial_cells          21          10\n",
       "smooth_muscle_cells        6            9\n",
       "prostatic_glandular_cells  8            9\n",
       "macrophages                15           8\n",
       "t-cells                    1            8\n",
       "fibroblasts                19           7\n",
       "t-cells                    5            6\n",
       "mixed_cell_types           2            5\n",
       "                           1            5\n",
       "fibroblasts                15           5\n",
       "smooth_muscle_cells        15           5\n",
       "t-cells                    4            5\n",
       "macrophages                2            5\n",
       "basal_prostatic_cells      4            5\n",
       "endothelial_cells          10           5\n",
       "club_cells                 15           5\n",
       "endothelial_cells          4            4\n",
       "prostatic_glandular_cells  4            4\n",
       "                           19           4\n",
       "club_cells                 19           4\n",
       "t-cells                    0            3\n",
       "mixed_cell_types           5            3\n",
       "endothelial_cells          5            3\n",
       "macrophages                21           3\n",
       "prostatic_glandular_cells  1            3\n",
       "club_cells                 4            3\n",
       "fibroblasts                21           3\n",
       "                           6            3\n",
       "                           8            3\n",
       "prostatic_glandular_cells  10           2\n",
       "dtype: int64"
      ]
     },
     "execution_count": 473,
     "metadata": {},
     "output_type": "execute_result"
    }
   ],
   "source": [
    "atlas_adata.obs.loc[\n",
    "    atlas_adata.obs['tissue'] == 'prostate',\n",
    "    ['cell_type', 'louvain']\n",
    "].value_counts().head(50)"
   ]
  }
 ],
 "metadata": {
  "kernelspec": {
   "display_name": "singlecell",
   "language": "python",
   "name": "python3"
  },
  "language_info": {
   "codemirror_mode": {
    "name": "ipython",
    "version": 3
   },
   "file_extension": ".py",
   "mimetype": "text/x-python",
   "name": "python",
   "nbconvert_exporter": "python",
   "pygments_lexer": "ipython3",
   "version": "3.9.7"
  }
 },
 "nbformat": 4,
 "nbformat_minor": 2
}
